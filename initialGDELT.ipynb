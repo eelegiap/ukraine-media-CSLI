{
 "cells": [
  {
   "cell_type": "code",
   "execution_count": 79,
   "id": "07563f57-b94a-4e43-b0f4-0f9a9de8669a",
   "metadata": {},
   "outputs": [],
   "source": [
    "import requests\n",
    "import random\n",
    "import numpy as np\n",
    "import pandas as pd\n",
    "from bs4 import BeautifulSoup\n",
    "import ast\n",
    "import json\n",
    "import time\n",
    "import datetime\n",
    "from gdeltdoc import GdeltDoc, Filters\n",
    "import re\n",
    "import datetime"
   ]
  },
  {
   "cell_type": "code",
   "execution_count": 2,
   "id": "7853461b-7945-4477-8d2b-39f02bd57550",
   "metadata": {
    "tags": []
   },
   "outputs": [],
   "source": [
    "# pip install gdeltdoc"
   ]
  },
  {
   "cell_type": "markdown",
   "id": "4278734b-1111-4139-9555-e10f2d916291",
   "metadata": {
    "jp-MarkdownHeadingCollapsed": true,
    "tags": []
   },
   "source": [
    "## NYTimes API"
   ]
  },
  {
   "cell_type": "code",
   "execution_count": 71,
   "id": "f7c3f19c-d0f2-454e-8a8e-71c9ebd8832b",
   "metadata": {},
   "outputs": [],
   "source": [
    "# pip install --upgrade pynytimes"
   ]
  },
  {
   "cell_type": "code",
   "execution_count": 87,
   "id": "aa197688-b588-4965-93ff-5ea59811329f",
   "metadata": {},
   "outputs": [],
   "source": [
    "# !pip3 install requests-html"
   ]
  },
  {
   "cell_type": "code",
   "execution_count": 106,
   "id": "a4503e66-8b99-4312-8e65-166380ed3673",
   "metadata": {},
   "outputs": [],
   "source": [
    "from pynytimes import NYTAPI\n",
    "nyt = NYTAPI(\"rrHIfoqwqciGjJ4C5OGeE9p79VdvzOfp\", parse_dates=True)"
   ]
  },
  {
   "cell_type": "code",
   "execution_count": 74,
   "id": "b0ddc56c-97c8-4b50-bb17-7998af412688",
   "metadata": {},
   "outputs": [],
   "source": [
    "import datetime\n",
    "\n",
    "articles = nyt.article_search(\n",
    "    query = \"Ukraine\",\n",
    "    results = 30,\n",
    "    dates = {\n",
    "        \"begin\": datetime.datetime(2022, 2, 24),\n",
    "        \"end\": datetime.datetime(2022, 3, 24)\n",
    "    },\n",
    "    options = {\n",
    "        \"sort\": \"oldest\",\n",
    "        \"sources\": [\n",
    "            \"New York Times\",\n",
    "            # \"AP\",\n",
    "            # \"Reuters\",\n",
    "            # \"International Herald Tribune\"\n",
    "        ],\n",
    "        # \"news_desk\": [\n",
    "        #     \"Politics\"\n",
    "        # ],\n",
    "        # \"type_of_material\": [\n",
    "        #     \"News Analysis\"\n",
    "        # ]\n",
    "    }\n",
    ")"
   ]
  },
  {
   "cell_type": "markdown",
   "id": "6c3f7b96-6be0-4998-b9a9-7ba9b3bb9bfa",
   "metadata": {
    "tags": []
   },
   "source": [
    "# Article scrape"
   ]
  },
  {
   "cell_type": "markdown",
   "id": "b37fe359-3ae9-4d6b-92d0-7f93b52af5c6",
   "metadata": {},
   "source": [
    "## Handle scraped text"
   ]
  },
  {
   "cell_type": "code",
   "execution_count": 150,
   "id": "756bfb6c-45d1-4d1d-80e8-03224958598f",
   "metadata": {},
   "outputs": [],
   "source": [
    "def get_article_text(soup, newsOutlet):\n",
    "    # Prensa Latina (Cuba)\n",
    "    if newsOutlet == 'plenglish.com':\n",
    "        elts = soup.find_all('div', attrs={'class' : 'elementor-widget-container'})\n",
    "        first_sent = ''\n",
    "        for e in elts:\n",
    "            if '(Prensa Latina)' in e.text:\n",
    "                first_sent = e.text.strip()\n",
    "        ps = soup.find_all('p')\n",
    "        p_text = [first_sent]\n",
    "        for p in ps:\n",
    "            if p.text.count('/') >= 2:\n",
    "                break\n",
    "            if 'class' in p.attrs:\n",
    "                break\n",
    "            p_text.append(p.text)\n",
    "    # Al Jazeera (Qatar)\n",
    "    if newsOutlet == 'aljazeera.com':\n",
    "        ps = soup.find_all('p')\n",
    "        p_text = []\n",
    "        if len(ps) > 4:\n",
    "            for p in ps:\n",
    "                if 'Follow Al Jazeera English' not in p.text:\n",
    "                    p_text.append(p.text.strip())\n",
    "        else:\n",
    "            uls = soup.find_all('ul')\n",
    "            for ul in uls:\n",
    "                lis = ul.find_all('li')\n",
    "                for li in lis:\n",
    "                    if '.' in li.text:\n",
    "                        p_text.append(li.text.strip())\n",
    "    # People's Daily (China)\n",
    "    if newsOutlet == 'en.people.cn':\n",
    "        ps = soup.find_all('p')\n",
    "        p_text = [p.text.strip().replace(\"\\'\", \"'\") for p in ps]\n",
    "    # BBC (UK)\n",
    "    if newsOutlet == 'bbc.co.uk':\n",
    "        p_text = []\n",
    "        lastfour = False\n",
    "        ps = soup.find_all('p')\n",
    "        endat = len(ps)\n",
    "        for i, p in enumerate(ps):\n",
    "            if 'class' in p.attrs and 'Paragraph' in p.attrs['class'][0]:\n",
    "                if 'You may also be interested in' in p.text:\n",
    "                    endat = i\n",
    "                    break\n",
    "                else:\n",
    "                    lastfour = True\n",
    "        if lastfour:\n",
    "            for p in ps[:-6]:\n",
    "                if 'class' in p.attrs and 'Paragraph' in p.attrs['class'][0]:\n",
    "                    p_text.append(p.text.strip().replace(\"\\'\", \"'\"))\n",
    "        else:\n",
    "            for p in ps[:i]:\n",
    "                if 'class' in p.attrs and 'Paragraph' in p.attrs['class'][0]:\n",
    "                    p_text.append(p.text.strip().replace(\"\\'\", \"'\"))\n",
    "    # The Punch (Nigeria)\n",
    "    if newsOutlet == 'punchng.com': \n",
    "        postContent = soup.find_all(attrs={'class','post-content'})[0]\n",
    "        # ps = postContent.find_all('p')\n",
    "        ad = \"(adsbygoogle = window.adsbygoogle || []).push({});\"\n",
    "        postText = postContent.text.replace(ad, '').strip()\n",
    "        # take out related News\n",
    "        x = re.search(r\"Related News.*?\\n\", postText) \n",
    "        if x:\n",
    "            relatedNews = x.group(0)\n",
    "            postText = postText.replace(relatedNews.strip(), '')\n",
    "        copyrightPunch1 = \"Copyright PUNCH\"\n",
    "        copyrightPunch2 = \"All rights reserved. This material, and other digital content on this website, may not be reproduced, published, broadcast, rewritten or redistributed in whole or in part without prior express written permission from PUNCH.\"\n",
    "        postText = postText.replace(copyrightPunch1,'')\n",
    "        postText = postText.replace(copyrightPunch2,'')\n",
    "        p_text = [postText]\n",
    "\n",
    "    # CNN (US)\n",
    "    if newsOutlet == 'cnn.com':\n",
    "        ps = soup.find_all(attrs={'class' : 'zn-body__paragraph'})\n",
    "        if ps == []:\n",
    "            ps = soup.find_all(attrs={'class' : 'BasicArticle__paragraph'})\n",
    "            \n",
    "        p_text = [p.text.strip() for p in ps if p != '(CNN)']\n",
    "    # Breitbart (US)\n",
    "    if newsOutlet == 'breitbart.com':\n",
    "        ps = soup.find_all('p')\n",
    "        p_text = [p.text.replace(u'\\xa0', u' ') for p in ps[:-5] if 'on Facebook and Twitter.' not in p.text]\n",
    "        \n",
    "    # Sputnik (Russia)\n",
    "    if newsOutlet == 'sputniknews.com':\n",
    "        articleAnnounceText = soup.find_all('div', {'class' : 'article__announce-text'})[0].text\n",
    "        if articleAnnounceText == None:\n",
    "            articleAnnounceText = ''\n",
    "        article_blocks = soup.find_all(\"div\", {\"class\": \"article__block\"})\n",
    "        p_text = [articleAnnounceText]\n",
    "        for ab in article_blocks:\n",
    "            if \"Sputnik's live feed and Telegram channels\" in ab.text:\n",
    "                break\n",
    "            if '@context' in ab.text:\n",
    "                continue\n",
    "            p_text.append(ab.text.strip())\n",
    "            \n",
    "    if newsOutlet == 'english.pravda.ru':\n",
    "        ps = soup.find_all('p')\n",
    "        p_text = []\n",
    "        for p in ps:\n",
    "            if 'Subscribe to Pravda.Ru Telegram channel, Facebook, Twitter, YouTube, RSS!' in p.text:\n",
    "                break\n",
    "            p_text.append(p.text)\n",
    "        \n",
    "    if newsOutlet == 'foxnews.com':\n",
    "        json_object = json.loads(soup.find_all('script')[3].text, strict=False)\n",
    "        text = json_object['articleBody'].replace('&nbsp;  ','\\n\\n').replace('&nbsp;',' ')\n",
    "                                      \n",
    "    text = ' '.join([p.strip() for p in p_text])\n",
    "\n",
    "    return text"
   ]
  },
  {
   "cell_type": "markdown",
   "id": "a16d4d4c-06f1-4819-8052-2d1aedfa4b3c",
   "metadata": {},
   "source": [
    "## Web Scrape Function"
   ]
  },
  {
   "cell_type": "code",
   "execution_count": 151,
   "id": "77e70ec4-e95d-4c08-bdcf-c77e07c35da6",
   "metadata": {},
   "outputs": [],
   "source": [
    "newsDict = dict()"
   ]
  },
  {
   "cell_type": "code",
   "execution_count": 152,
   "id": "48618f20-2516-4659-b670-674f95aacab1",
   "metadata": {
    "tags": []
   },
   "outputs": [
    {
     "name": "stdout",
     "output_type": "stream",
     "text": [
      "english.pravda.ru\n",
      "\t0/92 articles in english.pravda.ru parsed from 2022-03-01 to 2022-03-31.\n",
      "\n",
      "\t5 article in english.pravda.ru parsed in 5.462619066238403 seconds.\n",
      "\n",
      "All outlets parsed in 5.464184045791626 seconds.\n"
     ]
    }
   ],
   "source": [
    "newsOutletList = ['plenglish.com','aljazeera.com','en.people.cn','bbc.co.uk',\n",
    "                  'punchng.com','cnn.com','breitbart.com','sputniknews.com','english.pravda.ru','foxnews.com']\n",
    "rangeList = [\n",
    "    (\"2022-01-01\", \"2022-01-31\"),\n",
    "    (\"2022-02-01\", \"2022-02-29\"),\n",
    "    (\"2022-03-01\", \"2022-03-31\"),\n",
    "    (\"2022-04-01\", \"2022-04-30\"),\n",
    "    (\"2022-05-01\", \"2022-05-31\"),\n",
    "    (\"2022-06-01\", \"2022-06-30\"),\n",
    "]\n",
    "startStart = time.time()\n",
    "for newsOutlet in newsOutletList[8:9]:\n",
    "    startOutlet = time.time()\n",
    "    newsDict.setdefault(newsOutlet, [])\n",
    "    print(newsOutlet)\n",
    "    for start_date, end_date in random.sample(rangeList,1):\n",
    "        parsed = 0\n",
    "        f = Filters(\n",
    "            keyword = \"ukraine\",\n",
    "            start_date = start_date,\n",
    "            end_date = end_date,\n",
    "            domain_exact = newsOutlet,\n",
    "            num_records = 250\n",
    "        )\n",
    "\n",
    "        gd = GdeltDoc()\n",
    "\n",
    "        # Search for articles matching the filters\n",
    "        articles = gd.article_search(f)\n",
    "        articleDictList = articles.to_dict('records')\n",
    "\n",
    "        start = time.time()\n",
    "        for i, artRec in enumerate(articleDictList[:5]):\n",
    "            if i % 10 == 0:\n",
    "                print(f'\\t{i}/{len(articleDictList)} articles in {newsOutlet} parsed from {start_date} to {end_date}.')\n",
    "\n",
    "            url = artRec['url']\n",
    "\n",
    "            # skip over unscrapable articles\n",
    "            if newsOutlet == 'cnn.com' and 'live-news' in url:\n",
    "                continue\n",
    "            if newsOutlet == 'aj' and 'live-news' in url:\n",
    "                continue\n",
    "            if newsOutlet == 'sputniknews.com' and 'live-updates' in url:\n",
    "                continue\n",
    "\n",
    "            # get article text\n",
    "            soup = BeautifulSoup(requests.get(artRec['url']).content, \"html.parser\")\n",
    "            text = get_article_text(soup,newsOutlet)\n",
    "    \n",
    "            # get date seen\n",
    "            date = artRec['seendate']\n",
    "            yr = int(date[:4])\n",
    "            month = int(date[4:6])\n",
    "            day = int(date[6:8])\n",
    "            d = datetime.date(yr, month, day)\n",
    "            utc = d.strftime(\"%s\")  # <-- THIS IS THE CODE YOU WANT\n",
    "\n",
    "            newsDict[newsOutlet].append(\n",
    "            {'newsOutlet' : newsOutlet,\n",
    "             'dateSeen' : utc,\n",
    "             'url' : url,\n",
    "             'title' : artRec['title'],\n",
    "             'language' : artRec['language'],\n",
    "             'sourceCountry' : artRec['sourcecountry'],\n",
    "             'text' : text\n",
    "            })\n",
    "            parsed += 1\n",
    "    endOutlet = time.time()\n",
    "    print(f'\\n\\t{parsed} article in {newsOutlet} parsed in {endOutlet-startOutlet} seconds.')\n",
    "endEnd = time.time()\n",
    "print(f'\\nAll outlets parsed in {endEnd-startStart} seconds.')"
   ]
  },
  {
   "cell_type": "code",
   "execution_count": 156,
   "id": "c5c41420-4911-4a58-bc04-d3247a341403",
   "metadata": {},
   "outputs": [],
   "source": [
    "# random.choice(newsDict[newsOutlet])"
   ]
  },
  {
   "cell_type": "code",
   "execution_count": 155,
   "id": "032157f6-2e24-4c46-867a-6e2ec5a9e713",
   "metadata": {},
   "outputs": [
    {
     "data": {
      "text/html": [
       "<div>\n",
       "<style scoped>\n",
       "    .dataframe tbody tr th:only-of-type {\n",
       "        vertical-align: middle;\n",
       "    }\n",
       "\n",
       "    .dataframe tbody tr th {\n",
       "        vertical-align: top;\n",
       "    }\n",
       "\n",
       "    .dataframe thead th {\n",
       "        text-align: right;\n",
       "    }\n",
       "</style>\n",
       "<table border=\"1\" class=\"dataframe\">\n",
       "  <thead>\n",
       "    <tr style=\"text-align: right;\">\n",
       "      <th></th>\n",
       "      <th>newsOutlet</th>\n",
       "      <th>dateSeen</th>\n",
       "      <th>url</th>\n",
       "      <th>title</th>\n",
       "      <th>language</th>\n",
       "      <th>sourceCountry</th>\n",
       "      <th>text</th>\n",
       "    </tr>\n",
       "  </thead>\n",
       "  <tbody>\n",
       "    <tr>\n",
       "      <th>0</th>\n",
       "      <td>english.pravda.ru</td>\n",
       "      <td>1647846000</td>\n",
       "      <td>https://english.pravda.ru/news/world/150769-fo...</td>\n",
       "      <td>Russian forces destroy training centre for for...</td>\n",
       "      <td>English</td>\n",
       "      <td>Russia</td>\n",
       "      <td>The Russian military, using high-precision air...</td>\n",
       "    </tr>\n",
       "    <tr>\n",
       "      <th>1</th>\n",
       "      <td>english.pravda.ru</td>\n",
       "      <td>1647846000</td>\n",
       "      <td>https://english.pravda.ru/news/world/150734-pu...</td>\n",
       "      <td>If Zelensky does not sign peace agreement with...</td>\n",
       "      <td>English</td>\n",
       "      <td>Russia</td>\n",
       "      <td>Ukrainian President Volodymyr Zelensky assesse...</td>\n",
       "    </tr>\n",
       "    <tr>\n",
       "      <th>2</th>\n",
       "      <td>english.pravda.ru</td>\n",
       "      <td>1647846000</td>\n",
       "      <td>https://english.pravda.ru/news/world/150756-uk...</td>\n",
       "      <td>Ukraine air defenses helpless against Russia I...</td>\n",
       "      <td>English</td>\n",
       "      <td>Russia</td>\n",
       "      <td>The special operation in Ukraine has shown tha...</td>\n",
       "    </tr>\n",
       "    <tr>\n",
       "      <th>3</th>\n",
       "      <td>english.pravda.ru</td>\n",
       "      <td>1647846000</td>\n",
       "      <td>https://english.pravda.ru/opinion/150762-peace...</td>\n",
       "      <td>Who will win the conflict in Ukraine ? One cou...</td>\n",
       "      <td>English</td>\n",
       "      <td>Russia</td>\n",
       "      <td>I will lay my cards on the table for the Pravd...</td>\n",
       "    </tr>\n",
       "    <tr>\n",
       "      <th>4</th>\n",
       "      <td>english.pravda.ru</td>\n",
       "      <td>1648018800</td>\n",
       "      <td>https://english.pravda.ru/news/world/150817-po...</td>\n",
       "      <td>As Ukraine collapses , Poland intends to snatc...</td>\n",
       "      <td>English</td>\n",
       "      <td>Russia</td>\n",
       "      <td>The United States is moving its troops in Pola...</td>\n",
       "    </tr>\n",
       "  </tbody>\n",
       "</table>\n",
       "</div>"
      ],
      "text/plain": [
       "          newsOutlet    dateSeen  \\\n",
       "0  english.pravda.ru  1647846000   \n",
       "1  english.pravda.ru  1647846000   \n",
       "2  english.pravda.ru  1647846000   \n",
       "3  english.pravda.ru  1647846000   \n",
       "4  english.pravda.ru  1648018800   \n",
       "\n",
       "                                                 url  \\\n",
       "0  https://english.pravda.ru/news/world/150769-fo...   \n",
       "1  https://english.pravda.ru/news/world/150734-pu...   \n",
       "2  https://english.pravda.ru/news/world/150756-uk...   \n",
       "3  https://english.pravda.ru/opinion/150762-peace...   \n",
       "4  https://english.pravda.ru/news/world/150817-po...   \n",
       "\n",
       "                                               title language sourceCountry  \\\n",
       "0  Russian forces destroy training centre for for...  English        Russia   \n",
       "1  If Zelensky does not sign peace agreement with...  English        Russia   \n",
       "2  Ukraine air defenses helpless against Russia I...  English        Russia   \n",
       "3  Who will win the conflict in Ukraine ? One cou...  English        Russia   \n",
       "4  As Ukraine collapses , Poland intends to snatc...  English        Russia   \n",
       "\n",
       "                                                text  \n",
       "0  The Russian military, using high-precision air...  \n",
       "1  Ukrainian President Volodymyr Zelensky assesse...  \n",
       "2  The special operation in Ukraine has shown tha...  \n",
       "3  I will lay my cards on the table for the Pravd...  \n",
       "4  The United States is moving its troops in Pola...  "
      ]
     },
     "execution_count": 155,
     "metadata": {},
     "output_type": "execute_result"
    }
   ],
   "source": [
    "df = pd.DataFrame.from_records(newsDict[newsOutlet])\n",
    "df.head()"
   ]
  },
  {
   "cell_type": "code",
   "execution_count": 171,
   "id": "61beb15f-621c-4113-a371-d7a5ef410b73",
   "metadata": {},
   "outputs": [],
   "source": [
    "\n",
    "todaysdate = datetime.datetime.fromtimestamp(time.time()).strftime('%m-%d-%Y')\n",
    "df.to_excel(f\"{newsOutlet}_{todaysdate}.xlsx\")"
   ]
  },
  {
   "cell_type": "code",
   "execution_count": null,
   "id": "f72ca2fd-03c8-4c20-a859-cdce574d5add",
   "metadata": {},
   "outputs": [],
   "source": []
  },
  {
   "cell_type": "markdown",
   "id": "4beedcfa-8579-435a-bf12-a20354f2e85f",
   "metadata": {},
   "source": [
    "# Volume timeline"
   ]
  },
  {
   "cell_type": "code",
   "execution_count": 67,
   "id": "dfcf624a-5287-4054-bacf-387d11d89f07",
   "metadata": {},
   "outputs": [
    {
     "data": {
      "text/plain": [
       "<AxesSubplot:xlabel='datetime'>"
      ]
     },
     "execution_count": 67,
     "metadata": {},
     "output_type": "execute_result"
    },
    {
     "data": {
      "image/png": "[encoded data removed]",
      "text/plain": [
       "<Figure size 432x288 with 1 Axes>"
      ]
     },
     "metadata": {
      "needs_background": "light"
     },
     "output_type": "display_data"
    }
   ],
   "source": [
    "timeline.plot.line(x='datetime', y='Article Count')"
   ]
  },
  {
   "cell_type": "code",
   "execution_count": null,
   "id": "52969bc1-778e-4621-8dca-392b6eecf59f",
   "metadata": {},
   "outputs": [],
   "source": []
  }
 ],
 "metadata": {
  "kernelspec": {
   "display_name": "Python 3 (ipykernel)",
   "language": "python",
   "name": "python3"
  },
  "language_info": {
   "codemirror_mode": {
    "name": "ipython",
    "version": 3
   },
   "file_extension": ".py",
   "mimetype": "text/x-python",
   "name": "python",
   "nbconvert_exporter": "python",
   "pygments_lexer": "ipython3",
   "version": "3.9.7"
  }
 },
 "nbformat": 4,
 "nbformat_minor": 5
}
