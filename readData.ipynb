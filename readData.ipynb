{
 "cells": [
  {
   "cell_type": "code",
   "execution_count": 149,
   "id": "9694db03-4b44-408f-80ce-5c694ffc6dd6",
   "metadata": {},
   "outputs": [],
   "source": [
    "import random\n",
    "import numpy as np\n",
    "import pandas as pd\n",
    "import time\n",
    "import re\n",
    "import datetime\n",
    "import os\n",
    "import matplotlib.pyplot as plt"
   ]
  },
  {
   "cell_type": "code",
   "execution_count": 150,
   "id": "a5cd6961-4eb6-484f-853e-43bb57c86926",
   "metadata": {},
   "outputs": [
    {
     "name": "stdout",
     "output_type": "stream",
     "text": [
      "rt.com_07-12-2022.xlsx\n"
     ]
    }
   ],
   "source": [
    "dfDict = dict()\n",
    "for file in os.listdir('outletSpecificData/upToDateData/'):\n",
    "    if file[0] != '.':\n",
    "        df = pd.read_excel(f'outletSpecificData/upToDateData/{file}', index_col=0)  \n",
    "        try:\n",
    "            df['dateSeen'] = pd.to_datetime(df['dateSeen'], unit='s', utc=True).dt.tz_convert('America/New_York')\n",
    "            dfDict[file] = df\n",
    "        except:\n",
    "            print(file)"
   ]
  },
  {
   "cell_type": "code",
   "execution_count": 151,
   "id": "044812d1-d7a7-47e4-bb89-37a0e96c74e1",
   "metadata": {},
   "outputs": [
    {
     "data": {
      "text/plain": [
       "dict_keys(['foxnews.com_07-12-2022.xlsx', 'aljazeera.com_07-11-2022.xlsx', 'sputniknews.com_07-12-2022.xlsx', 'cnn.com_07-12-2022.xlsx', 'plenglish.com_07-12-2022.xlsx', 'english.pravda.ru_07-12-2022.xlsx', 'tass.com_07-13-2022.xlsx', 'punchng.com_07-12-2022.xlsx', 'en.people.cn_07-11-2022.xlsx', 'bbc.co.uk_07-12-2022.xlsx'])"
      ]
     },
     "execution_count": 151,
     "metadata": {},
     "output_type": "execute_result"
    }
   ],
   "source": [
    "dfDict.keys()"
   ]
  },
  {
   "cell_type": "code",
   "execution_count": 152,
   "id": "9a537867-f1fc-4e1e-ba71-667c27bf5892",
   "metadata": {},
   "outputs": [
    {
     "data": {
      "text/plain": [
       "'MOSCOW, January 12. /TASS/. Russian Foreign Minister Sergey Lavrov discussed the Geneva and Brussels meetings on guarantees of security during a phone call with his Greek counterpart Nikos Dendias on Wednesday, the Russian Foreign Ministry said in a statement. \"The sides reviewed the perspectives of cooperation between the Foreign Ministries of Russia and Greece, as well as international and regional issues. The focus was on the meetings in Geneva and Brussels on the guarantees of security in Europe. The Russian side provided a detailed assessment of the situation in Ukraine, and the ways to normalize it based on the unconditional implementation of the Minsk Package of Measures,\" the Russian Foreign Ministry said. According to the Russian Foreign Ministry, the sides discussed the topical issues of the bilateral agenda as a follow up to the December 8, 2021,\\xa0talks between Russian President Vladimir Putin and Prime Minister of Greece Kyriakos Mitsotakis in Sochi, as well as the December 22, 2021, phone call between Mitsotakis and Russian Prime Minister Mikhail Mishustin. \"The sides confirmed their intent to strengthen the cultural and humanitarian ties within the context of the joint 2021-2022 Year of History,\" the Ministry said. \"Under his counterpart’s request, Lavrov spoke about the process of the CSTO peacekeeping operation in Kazakhstan, carried out under request of Kazakh President Kassym-Jomart Tokayev,\" the Ministry said. The two ministers also exchanged their opinions about the settlement in Syria and Libya, the Ministry said, adding that the phone call happened under the Greek initiative. The Russian-US consultations on security took place on January 10 in Geneva. On Wednesday, the Russia-NATO Council meeting takes place in Geneva. On January 13, Russia’s proposal on security guarantees will be discussed at the OSCE Permanent Council meeting in Vienna.'"
      ]
     },
     "execution_count": 152,
     "metadata": {},
     "output_type": "execute_result"
    }
   ],
   "source": [
    "random.choice(dfDict['tass.com_07-13-2022.xlsx']['text'])"
   ]
  },
  {
   "cell_type": "code",
   "execution_count": 154,
   "id": "cd6808a9-9e80-4ca8-b5a4-9fc2a42b816c",
   "metadata": {},
   "outputs": [
    {
     "name": "stdout",
     "output_type": "stream",
     "text": [
      "foxnews.com_07-12-2022.xlsx: 1,470 total records.\n",
      "\tThere are 5,911,626 total characters from foxnews.com_07-12-2022.xlsx.\n",
      "\tThere are 983,574 estimated total words from foxnews.com_07-12-2022.xlsx.\n",
      "\n",
      "aljazeera.com_07-11-2022.xlsx: 1,350 total records.\n",
      "\tThere are 8,167,096 total characters from aljazeera.com_07-11-2022.xlsx.\n",
      "\tThere are 1,320,501 estimated total words from aljazeera.com_07-11-2022.xlsx.\n",
      "\n",
      "sputniknews.com_07-12-2022.xlsx: 1,397 total records.\n",
      "\tThere are 4,204,072 total characters from sputniknews.com_07-12-2022.xlsx.\n",
      "\tThere are 665,883 estimated total words from sputniknews.com_07-12-2022.xlsx.\n",
      "\n",
      "cnn.com_07-12-2022.xlsx: 1,097 total records.\n",
      "\tThere are 4,748,990 total characters from cnn.com_07-12-2022.xlsx.\n",
      "\tThere are 778,818 estimated total words from cnn.com_07-12-2022.xlsx.\n",
      "\n",
      "plenglish.com_07-12-2022.xlsx: 865 total records.\n",
      "\tThere are 1,343,279 total characters from plenglish.com_07-12-2022.xlsx.\n",
      "\tThere are 211,040 estimated total words from plenglish.com_07-12-2022.xlsx.\n",
      "\n",
      "english.pravda.ru_07-12-2022.xlsx: 248 total records.\n",
      "\tThere are 775,641 total characters from english.pravda.ru_07-12-2022.xlsx.\n",
      "\tThere are 125,913 estimated total words from english.pravda.ru_07-12-2022.xlsx.\n",
      "\n",
      "tass.com_07-13-2022.xlsx: 1,047 total records.\n",
      "\tThere are 1,619,826 total characters from tass.com_07-13-2022.xlsx.\n",
      "\tThere are 254,279 estimated total words from tass.com_07-13-2022.xlsx.\n",
      "\n",
      "punchng.com_07-12-2022.xlsx: 1,448 total records.\n",
      "\tThere are 4,645,263 total characters from punchng.com_07-12-2022.xlsx.\n",
      "\tThere are 757,083 estimated total words from punchng.com_07-12-2022.xlsx.\n",
      "\n",
      "en.people.cn_07-11-2022.xlsx: 928 total records.\n",
      "\tThere are 3,074,296 total characters from en.people.cn_07-11-2022.xlsx.\n",
      "\tThere are 482,704 estimated total words from en.people.cn_07-11-2022.xlsx.\n",
      "\n",
      "bbc.co.uk_07-12-2022.xlsx: 1,228 total records.\n",
      "\tThere are 4,315,483 total characters from bbc.co.uk_07-12-2022.xlsx.\n",
      "\tThere are 722,221 estimated total words from bbc.co.uk_07-12-2022.xlsx.\n",
      "\n"
     ]
    }
   ],
   "source": [
    "for outlet in dfDict:\n",
    "    records = dfDict[outlet].to_dict('records')\n",
    "    char_total = 0\n",
    "    word_total_estimate = 0\n",
    "    for rec in records:\n",
    "        if type(rec['text']) == str:\n",
    "            char_total += len(rec['text'])\n",
    "            word_total_estimate += len(rec['text'].split(' '))\n",
    "    print(f'{outlet}: {\"{:,}\".format(len(records))} total records.')\n",
    "    print(f'\\tThere are {\"{:,}\".format(char_total)} total characters from {outlet}.')\n",
    "    print(f'\\tThere are {\"{:,}\".format(word_total_estimate)} estimated total words from {outlet}.')\n",
    "    print()"
   ]
  },
  {
   "cell_type": "code",
   "execution_count": 147,
   "id": "89bf6084-8b56-440e-b210-8cc526ac38bf",
   "metadata": {},
   "outputs": [
    {
     "data": {
      "image/png": "[encoded data removed]",
      "text/plain": [
       "<Figure size 1080x288 with 1 Axes>"
      ]
     },
     "metadata": {
      "needs_background": "light"
     },
     "output_type": "display_data"
    }
   ],
   "source": [
    "fig = plt.figure(figsize = (15,4))\n",
    "ax = fig.gca()\n",
    "hist = dfDict['tass.com_07-13-2022.xlsx'].hist(column='dateSeen', bins=40,edgecolor='white',linewidth=.7,ax=ax)"
   ]
  },
  {
   "cell_type": "code",
   "execution_count": 128,
   "id": "3cc56644-0938-4afa-a6a3-51d50361b291",
   "metadata": {},
   "outputs": [
    {
     "data": {
      "image/png": "[encoded data removed]",
      "text/plain": [
       "<Figure size 720x360 with 1 Axes>"
      ]
     },
     "metadata": {
      "needs_background": "light"
     },
     "output_type": "display_data"
    }
   ],
   "source": [
    "# Count words\n",
    "def getWordCount(text):\n",
    "    if type(text) == str:\n",
    "        return len(text.split(' '))\n",
    "    else:\n",
    "        return 0\n",
    "\n",
    "df = dfDict['foxnews.com_07-12-2022.xlsx']\n",
    "df['estWordCount'] = df['text'].apply(getWordCount)\n",
    "\n",
    "fig = plt.figure(figsize = (10,5))\n",
    "ax = fig.gca()\n",
    "ax.xaxis.set_ticks(list(range(0,6000,300)))  \n",
    "hist = df.hist(column='estWordCount',bins=30,ax=ax,edgecolor='white',linewidth=.7)"
   ]
  }
 ],
 "metadata": {
  "kernelspec": {
   "display_name": "Python 3 (ipykernel)",
   "language": "python",
   "name": "python3"
  },
  "language_info": {
   "codemirror_mode": {
    "name": "ipython",
    "version": 3
   },
   "file_extension": ".py",
   "mimetype": "text/x-python",
   "name": "python",
   "nbconvert_exporter": "python",
   "pygments_lexer": "ipython3",
   "version": "3.9.7"
  }
 },
 "nbformat": 4,
 "nbformat_minor": 5
}
