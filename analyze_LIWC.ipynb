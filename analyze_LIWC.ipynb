{
 "cells": [
  {
   "cell_type": "code",
   "execution_count": 1,
   "id": "6fd2d711-68cb-4723-a6fb-5afdca13bb7d",
   "metadata": {},
   "outputs": [],
   "source": [
    "import random\n",
    "import numpy as np\n",
    "import pandas as pd\n",
    "import time\n",
    "import re\n",
    "import datetime\n",
    "import os\n",
    "import matplotlib.pyplot as plt\n",
    "import scipy\n",
    "from scipy import stats"
   ]
  },
  {
   "cell_type": "markdown",
   "id": "1410f418-ff07-4ad3-b6da-3c143c721f70",
   "metadata": {},
   "source": [
    "## Read data"
   ]
  },
  {
   "cell_type": "code",
   "execution_count": 2,
   "id": "a7001d9b-6fbd-4357-bf2d-f4082022f942",
   "metadata": {},
   "outputs": [
    {
     "name": "stdout",
     "output_type": "stream",
     "text": [
      "3486\n"
     ]
    },
    {
     "data": {
      "text/html": [
       "<div>\n",
       "<style scoped>\n",
       "    .dataframe tbody tr th:only-of-type {\n",
       "        vertical-align: middle;\n",
       "    }\n",
       "\n",
       "    .dataframe tbody tr th {\n",
       "        vertical-align: top;\n",
       "    }\n",
       "\n",
       "    .dataframe thead th {\n",
       "        text-align: right;\n",
       "    }\n",
       "</style>\n",
       "<table border=\"1\" class=\"dataframe\">\n",
       "  <thead>\n",
       "    <tr style=\"text-align: right;\">\n",
       "      <th></th>\n",
       "      <th>newsOutlet</th>\n",
       "      <th>dateSeen</th>\n",
       "      <th>url</th>\n",
       "      <th>title</th>\n",
       "      <th>language</th>\n",
       "      <th>sourceCountry</th>\n",
       "      <th>text</th>\n",
       "      <th>category</th>\n",
       "      <th>textCharCt</th>\n",
       "      <th>majorityTopic</th>\n",
       "      <th>...</th>\n",
       "      <th>assent</th>\n",
       "      <th>nonflu</th>\n",
       "      <th>filler</th>\n",
       "      <th>AllPunc</th>\n",
       "      <th>Period</th>\n",
       "      <th>Comma</th>\n",
       "      <th>QMark</th>\n",
       "      <th>Exclam</th>\n",
       "      <th>Apostro</th>\n",
       "      <th>OtherP</th>\n",
       "    </tr>\n",
       "  </thead>\n",
       "  <tbody>\n",
       "    <tr>\n",
       "      <th>3535</th>\n",
       "      <td>themoscowtimes.com</td>\n",
       "      <td>1641888000</td>\n",
       "      <td>https://www.themoscowtimes.com/2022/01/11/russ...</td>\n",
       "      <td>Russia and West Continue to Talk , But Not Nec...</td>\n",
       "      <td>English</td>\n",
       "      <td>Russia</td>\n",
       "      <td>No one should have expected any concrete resul...</td>\n",
       "      <td>moscowtimes</td>\n",
       "      <td>NaN</td>\n",
       "      <td>-1</td>\n",
       "      <td>...</td>\n",
       "      <td>0.0</td>\n",
       "      <td>0.0</td>\n",
       "      <td>0.0</td>\n",
       "      <td>14.88</td>\n",
       "      <td>3.58</td>\n",
       "      <td>6.34</td>\n",
       "      <td>0.08</td>\n",
       "      <td>0.0</td>\n",
       "      <td>1.06</td>\n",
       "      <td>3.82</td>\n",
       "    </tr>\n",
       "    <tr>\n",
       "      <th>3536</th>\n",
       "      <td>themoscowtimes.com</td>\n",
       "      <td>1642060800</td>\n",
       "      <td>https://www.themoscowtimes.com/2022/01/13/sanc...</td>\n",
       "      <td>Sanctions on Putin Would be Step Too Far , Kre...</td>\n",
       "      <td>English</td>\n",
       "      <td>Russia</td>\n",
       "      <td>The United States’ plans to levy sanctions aga...</td>\n",
       "      <td>moscowtimes</td>\n",
       "      <td>NaN</td>\n",
       "      <td>4</td>\n",
       "      <td>...</td>\n",
       "      <td>0.0</td>\n",
       "      <td>0.0</td>\n",
       "      <td>0.0</td>\n",
       "      <td>16.97</td>\n",
       "      <td>6.43</td>\n",
       "      <td>4.11</td>\n",
       "      <td>0.26</td>\n",
       "      <td>0.0</td>\n",
       "      <td>1.03</td>\n",
       "      <td>5.14</td>\n",
       "    </tr>\n",
       "    <tr>\n",
       "      <th>3537</th>\n",
       "      <td>themoscowtimes.com</td>\n",
       "      <td>1641801600</td>\n",
       "      <td>https://www.themoscowtimes.com/2022/01/10/news...</td>\n",
       "      <td>News From Russia : What You Missed Over the We...</td>\n",
       "      <td>English</td>\n",
       "      <td>Russia</td>\n",
       "      <td>Security talks A top Russian official said he ...</td>\n",
       "      <td>moscowtimes</td>\n",
       "      <td>NaN</td>\n",
       "      <td>-1</td>\n",
       "      <td>...</td>\n",
       "      <td>0.0</td>\n",
       "      <td>0.0</td>\n",
       "      <td>0.0</td>\n",
       "      <td>17.19</td>\n",
       "      <td>6.54</td>\n",
       "      <td>3.63</td>\n",
       "      <td>0.00</td>\n",
       "      <td>0.0</td>\n",
       "      <td>1.94</td>\n",
       "      <td>5.08</td>\n",
       "    </tr>\n",
       "    <tr>\n",
       "      <th>3538</th>\n",
       "      <td>themoscowtimes.com</td>\n",
       "      <td>1642147200</td>\n",
       "      <td>https://www.themoscowtimes.com/2022/01/14/russ...</td>\n",
       "      <td>Russian Diplomat Praises Rappers Ye , Oxxxymir...</td>\n",
       "      <td>English</td>\n",
       "      <td>Russia</td>\n",
       "      <td>Will hip-hop actually save the world? A senior...</td>\n",
       "      <td>moscowtimes</td>\n",
       "      <td>NaN</td>\n",
       "      <td>-1</td>\n",
       "      <td>...</td>\n",
       "      <td>0.0</td>\n",
       "      <td>0.0</td>\n",
       "      <td>0.0</td>\n",
       "      <td>19.68</td>\n",
       "      <td>6.18</td>\n",
       "      <td>5.49</td>\n",
       "      <td>0.23</td>\n",
       "      <td>0.0</td>\n",
       "      <td>2.29</td>\n",
       "      <td>5.49</td>\n",
       "    </tr>\n",
       "    <tr>\n",
       "      <th>3539</th>\n",
       "      <td>themoscowtimes.com</td>\n",
       "      <td>1641801600</td>\n",
       "      <td>https://www.themoscowtimes.com/2022/01/10/kaza...</td>\n",
       "      <td>Kazakhstan Largest City Back Online After Clas...</td>\n",
       "      <td>English</td>\n",
       "      <td>Russia</td>\n",
       "      <td>Kazakhstan's largest city was back online and ...</td>\n",
       "      <td>moscowtimes</td>\n",
       "      <td>NaN</td>\n",
       "      <td>-1</td>\n",
       "      <td>...</td>\n",
       "      <td>0.0</td>\n",
       "      <td>0.0</td>\n",
       "      <td>0.0</td>\n",
       "      <td>15.43</td>\n",
       "      <td>5.09</td>\n",
       "      <td>4.22</td>\n",
       "      <td>0.00</td>\n",
       "      <td>0.0</td>\n",
       "      <td>1.16</td>\n",
       "      <td>4.95</td>\n",
       "    </tr>\n",
       "  </tbody>\n",
       "</table>\n",
       "<p>5 rows × 155 columns</p>\n",
       "</div>"
      ],
      "text/plain": [
       "              newsOutlet    dateSeen  \\\n",
       "3535  themoscowtimes.com  1641888000   \n",
       "3536  themoscowtimes.com  1642060800   \n",
       "3537  themoscowtimes.com  1641801600   \n",
       "3538  themoscowtimes.com  1642147200   \n",
       "3539  themoscowtimes.com  1641801600   \n",
       "\n",
       "                                                    url  \\\n",
       "3535  https://www.themoscowtimes.com/2022/01/11/russ...   \n",
       "3536  https://www.themoscowtimes.com/2022/01/13/sanc...   \n",
       "3537  https://www.themoscowtimes.com/2022/01/10/news...   \n",
       "3538  https://www.themoscowtimes.com/2022/01/14/russ...   \n",
       "3539  https://www.themoscowtimes.com/2022/01/10/kaza...   \n",
       "\n",
       "                                                  title language  \\\n",
       "3535  Russia and West Continue to Talk , But Not Nec...  English   \n",
       "3536  Sanctions on Putin Would be Step Too Far , Kre...  English   \n",
       "3537  News From Russia : What You Missed Over the We...  English   \n",
       "3538  Russian Diplomat Praises Rappers Ye , Oxxxymir...  English   \n",
       "3539  Kazakhstan Largest City Back Online After Clas...  English   \n",
       "\n",
       "     sourceCountry                                               text  \\\n",
       "3535        Russia  No one should have expected any concrete resul...   \n",
       "3536        Russia  The United States’ plans to levy sanctions aga...   \n",
       "3537        Russia  Security talks A top Russian official said he ...   \n",
       "3538        Russia  Will hip-hop actually save the world? A senior...   \n",
       "3539        Russia  Kazakhstan's largest city was back online and ...   \n",
       "\n",
       "         category  textCharCt  majorityTopic  ...  assent  nonflu  filler  \\\n",
       "3535  moscowtimes         NaN             -1  ...     0.0     0.0     0.0   \n",
       "3536  moscowtimes         NaN              4  ...     0.0     0.0     0.0   \n",
       "3537  moscowtimes         NaN             -1  ...     0.0     0.0     0.0   \n",
       "3538  moscowtimes         NaN             -1  ...     0.0     0.0     0.0   \n",
       "3539  moscowtimes         NaN             -1  ...     0.0     0.0     0.0   \n",
       "\n",
       "      AllPunc  Period  Comma  QMark  Exclam  Apostro  OtherP  \n",
       "3535    14.88    3.58   6.34   0.08     0.0     1.06    3.82  \n",
       "3536    16.97    6.43   4.11   0.26     0.0     1.03    5.14  \n",
       "3537    17.19    6.54   3.63   0.00     0.0     1.94    5.08  \n",
       "3538    19.68    6.18   5.49   0.23     0.0     2.29    5.49  \n",
       "3539    15.43    5.09   4.22   0.00     0.0     1.16    4.95  \n",
       "\n",
       "[5 rows x 155 columns]"
      ]
     },
     "execution_count": 2,
     "metadata": {},
     "output_type": "execute_result"
    }
   ],
   "source": [
    "df = pd.read_csv('LIWC/LIWC-22 Results - topicArticleFrame8-1 - LIWC Analysis.csv',index_col=0)\n",
    "df = df.drop_duplicates(subset=['text'])\n",
    "print(len(df))\n",
    "df.tail()"
   ]
  },
  {
   "cell_type": "markdown",
   "id": "2e4cffc1-f91d-4963-9a60-10b759cc9dfe",
   "metadata": {},
   "source": [
    "### LIWC Columns"
   ]
  },
  {
   "cell_type": "code",
   "execution_count": 3,
   "id": "b9cd4812-e001-4d96-9c22-9bc0843a0aec",
   "metadata": {},
   "outputs": [
    {
     "data": {
      "text/plain": [
       "['WC', 'Analytic', 'Clout', 'Authentic']"
      ]
     },
     "execution_count": 3,
     "metadata": {},
     "output_type": "execute_result"
    }
   ],
   "source": [
    "LIWCcolumns = df.columns[38:].tolist()\n",
    "LIWCcolumns[:4]"
   ]
  },
  {
   "cell_type": "markdown",
   "id": "de5f48fe-6972-4d50-a4ff-0149796d1aaf",
   "metadata": {},
   "source": [
    "## Lasso regression over LIWC categories"
   ]
  },
  {
   "cell_type": "code",
   "execution_count": 4,
   "id": "77264220-6280-4ea3-a187-5f7352a280bb",
   "metadata": {},
   "outputs": [],
   "source": [
    "from sklearn import linear_model"
   ]
  },
  {
   "cell_type": "code",
   "execution_count": 7,
   "id": "79e04379-c8e0-4407-a27c-2bc03c330f8e",
   "metadata": {},
   "outputs": [],
   "source": [
    "# sigGlobalCats = ['function', 'WPS', 'BigWords', 'det', 'article', 'Linguistic', 'Culture', 'politic', 'prep', 'pronoun', 'ipron', 'cogproc', \n",
    "#                  'Cognition', 'Comma', 'we', 'socbehav', 'comm', 'Social', 'ethnicity', 'certitude', 'risk', 'focusfuture', 'negate', 'adverb', \n",
    "#                  'insight', 'tentat', 'auxverb', 'cause', 'affiliation', 'attention', 'ppron', 'lack', 'they', 'moral', 'emo_anx', 'curiosity', \n",
    "#                  'memory', 'assent', 'sexual', 'wellness', 'friend', 'want', 'need', 'fulfill', 'relig', 'food', 'Conversation', 'allnone', 'female', \n",
    "#                  'family', 'you', 'netspeak', 'reward', 'home', 'death', 'Apostro', 'prosocial', 'discrep', 'male', 'tone_pos', 'leisure', 'OtherP', \n",
    "#                  'shehe', 'achieve', 'visual', 'illness', 'time', 'health', 'focuspast', 'tech', 'motion', 'allure', 'space', 'verb', 'Physical', \n",
    "#                  'work', 'conj', 'number', 'adj', 'Perception', 'AllPunc', 'money', 'Period', 'Tone', 'quantity', 'Lifestyle', 'Authentic', 'WC']"
   ]
  },
  {
   "cell_type": "code",
   "execution_count": 8,
   "id": "a7717ecd-fc3b-4cbb-85de-4eade7922ccd",
   "metadata": {},
   "outputs": [],
   "source": [
    "# %%time\n",
    "# # create dataframe normalized across features\n",
    "# normalized_df=(df-df.mean())/df.std()\n",
    "# normalized_df.tail()"
   ]
  },
  {
   "cell_type": "code",
   "execution_count": 20,
   "id": "90b98fdb-5a78-422e-9241-3c59a0075b4b",
   "metadata": {
    "tags": []
   },
   "outputs": [
    {
     "name": "stdout",
     "output_type": "stream",
     "text": [
      "3486\n",
      "1136\n"
     ]
    }
   ],
   "source": [
    "# create data arrays acc to sig global cats\n",
    "\n",
    "# cut df so article contains certain topic\n",
    "\n",
    "# newdf = df[df['majorityTopic'].isin([12,7,19,2,6])]\n",
    "print(len(df))\n",
    "newdf = df[df['category'] != 'russian']\n",
    "print(len(newdf))\n",
    "Y = np.array(newdf['category'])\n",
    "Y = np.where(Y == 'moscowtimes', 1, Y)\n",
    "Y = np.where(Y == 'western', 0, Y)\n",
    "\n",
    "allColumns = []\n",
    "# whichDf = normalized_df\n",
    "whichDf = newdf\n",
    "# catsOfInterest = sigGlobalCats\n",
    "catsOfInterest = LIWCcolumns\n",
    "for liwcCat in catsOfInterest:\n",
    "    catColumn = np.array(whichDf[liwcCat]).reshape((len(whichDf),1))\n",
    "    if liwcCat == 'WC':\n",
    "        catColumn = np.log(catColumn)\n",
    "    allColumns.append(catColumn)\n",
    "X = np.concatenate(allColumns,axis=1)"
   ]
  },
  {
   "cell_type": "code",
   "execution_count": 21,
   "id": "aabedc7f-e10b-47d9-9fd2-40f2b38fa58e",
   "metadata": {},
   "outputs": [
    {
     "name": "stdout",
     "output_type": "stream",
     "text": [
      "alpha: 0.03\n",
      "\tnumber of non-zero coeffs: 12\n",
      "\t ['Clout', 'Authentic', 'Tone', 'WPS', 'BigWords', 'Dic', 'prep', 'Drives', 'Social', 'politic', 'money', 'Comma']\n",
      "\n",
      "alpha: 0.04\n",
      "\tnumber of non-zero coeffs: 10\n",
      "\t ['Clout', 'Authentic', 'Tone', 'WPS', 'BigWords', 'Dic', 'prep', 'Social', 'money', 'Comma']\n",
      "\n",
      "alpha: 0.05\n",
      "\tnumber of non-zero coeffs: 11\n",
      "\t ['Clout', 'Authentic', 'Tone', 'WPS', 'BigWords', 'Dic', 'prep', 'Social', 'Lifestyle', 'money', 'Comma']\n",
      "\n",
      "alpha: 0.06\n",
      "\tnumber of non-zero coeffs: 7\n",
      "\t ['Clout', 'Authentic', 'Tone', 'WPS', 'BigWords', 'Dic', 'Comma']\n",
      "\n",
      "alpha: 0.07\n",
      "\tnumber of non-zero coeffs: 7\n",
      "\t ['Analytic', 'Clout', 'Authentic', 'Tone', 'WPS', 'BigWords', 'Dic']\n",
      "\n",
      "alpha: 0.08\n",
      "\tnumber of non-zero coeffs: 7\n",
      "\t ['Analytic', 'Clout', 'Authentic', 'Tone', 'WPS', 'BigWords', 'Dic']\n",
      "\n",
      "alpha: 0.09\n",
      "\tnumber of non-zero coeffs: 6\n",
      "\t ['Analytic', 'Clout', 'Authentic', 'Tone', 'WPS', 'BigWords']\n",
      "\n",
      "alpha: 0.1\n",
      "\tnumber of non-zero coeffs: 6\n",
      "\t ['Analytic', 'Clout', 'Authentic', 'Tone', 'WPS', 'BigWords']\n",
      "\n"
     ]
    }
   ],
   "source": [
    "# alpha testing\n",
    "for alpha in [.03,.04,.05, 0.06, 0.07, 0.08, 0.09, 0.1]:\n",
    "    lassoModel = linear_model.Lasso(alpha=alpha)\n",
    "    lM = lassoModel.fit(X, Y)\n",
    "\n",
    "    nonZeroCoeffs = []\n",
    "    for idx, i in enumerate(lassoModel.coef_):\n",
    "        if i != 0:\n",
    "            cat = catsOfInterest[idx]\n",
    "            nonZeroCoeffs.append({\n",
    "                'LIWCcat' : cat,\n",
    "                'coeff' : i\n",
    "            })\n",
    "    print('alpha:',alpha)\n",
    "    print('\\tnumber of non-zero coeffs:',len(nonZeroCoeffs))\n",
    "    print('\\t',[d['LIWCcat'] for d in nonZeroCoeffs])\n",
    "    print()"
   ]
  },
  {
   "cell_type": "code",
   "execution_count": 23,
   "id": "18d7b409-c70f-46ad-a8d7-ff5dcbd1997b",
   "metadata": {},
   "outputs": [
    {
     "name": "stdout",
     "output_type": "stream",
     "text": [
      "positive change\n",
      "WPS 0.014827715718540541\n",
      "Authentic 0.0021945072628637425\n",
      "BigWords 0.0020700224453778773\n",
      "Analytic 0.00034733551611227514\n",
      "\n",
      "negative change\n",
      "Tone -0.0029809107146017383\n",
      "Clout -0.002265656350431346\n",
      "Dic -0.000655499663079489\n"
     ]
    },
    {
     "data": {
      "text/plain": [
       "[None, None, None]"
      ]
     },
     "execution_count": 23,
     "metadata": {},
     "output_type": "execute_result"
    }
   ],
   "source": [
    "alpha = 0.08\n",
    "lassoModel = linear_model.Lasso(alpha=alpha)\n",
    "lassoModel.fit(X, Y)\n",
    "\n",
    "otherCoeffs = set()\n",
    "nonZeroCoeffs = []\n",
    "for idx, i in enumerate(lassoModel.coef_):\n",
    "    if i != 0:\n",
    "        cat = catsOfInterest[idx]\n",
    "        nonZeroCoeffs.append({\n",
    "            'LIWCcat' : cat,\n",
    "            'coeff' : i\n",
    "        })\n",
    "    else:\n",
    "        otherCoeffs.add(catsOfInterest[idx])\n",
    "        \n",
    "print('positive change')\n",
    "[print(d['LIWCcat'], d['coeff']) for d in sorted(nonZeroCoeffs, key=lambda x : x['coeff'],reverse=True) if d['coeff'] > 0]\n",
    "print('\\nnegative change')\n",
    "[print(d['LIWCcat'], d['coeff']) for d in sorted(nonZeroCoeffs, key=lambda x : x['coeff'],reverse=False) if d['coeff'] < 0]"
   ]
  },
  {
   "cell_type": "code",
   "execution_count": 15,
   "id": "3c5b259c-b883-4a4d-b003-33040b032ea5",
   "metadata": {},
   "outputs": [
    {
     "data": {
      "text/plain": [
       "[{'LIWCcat': 'WC', 'coeff': -0.05002741877969027},\n",
       " {'LIWCcat': 'Clout', 'coeff': 0.00018300473217679268},\n",
       " {'LIWCcat': 'Tone', 'coeff': 0.0005049502743789842}]"
      ]
     },
     "execution_count": 15,
     "metadata": {},
     "output_type": "execute_result"
    }
   ],
   "source": [
    "nonZeroCoeffs[:3]"
   ]
  },
  {
   "cell_type": "code",
   "execution_count": 14,
   "id": "e32623ef-6c9f-4d58-a91a-ad867f9ed960",
   "metadata": {},
   "outputs": [
    {
     "name": "stdout",
     "output_type": "stream",
     "text": [
      "-0.29084027964511283\n"
     ]
    }
   ],
   "source": [
    "print(lassoModel.intercept_)"
   ]
  },
  {
   "cell_type": "markdown",
   "id": "b8732e3a-b6c0-4bcb-8927-57fea8f4a0b0",
   "metadata": {},
   "source": [
    "### Reading scores"
   ]
  },
  {
   "cell_type": "code",
   "execution_count": 84,
   "id": "56758813-0096-4d35-9341-cdc1584da420",
   "metadata": {},
   "outputs": [
    {
     "data": {
      "text/plain": [
       "975"
      ]
     },
     "execution_count": 84,
     "metadata": {},
     "output_type": "execute_result"
    }
   ],
   "source": [
    "len(df[df['category']=='western'].to_dict('records'))"
   ]
  },
  {
   "cell_type": "code",
   "execution_count": 8,
   "id": "d352c98f-41cf-4b07-b3eb-c46d126982b6",
   "metadata": {},
   "outputs": [
    {
     "name": "stdout",
     "output_type": "stream",
     "text": [
      "0/3325 completed\n",
      "500/3325 completed\n",
      "1000/3325 completed\n",
      "1500/3325 completed\n",
      "2000/3325 completed\n",
      "2500/3325 completed\n",
      "3000/3325 completed\n",
      "CPU times: user 1min 22s, sys: 1.05 s, total: 1min 23s\n",
      "Wall time: 1min 25s\n"
     ]
    },
    {
     "data": {
      "text/html": [
       "<div>\n",
       "<style scoped>\n",
       "    .dataframe tbody tr th:only-of-type {\n",
       "        vertical-align: middle;\n",
       "    }\n",
       "\n",
       "    .dataframe tbody tr th {\n",
       "        vertical-align: top;\n",
       "    }\n",
       "\n",
       "    .dataframe thead th {\n",
       "        text-align: right;\n",
       "    }\n",
       "</style>\n",
       "<table border=\"1\" class=\"dataframe\">\n",
       "  <thead>\n",
       "    <tr style=\"text-align: right;\">\n",
       "      <th></th>\n",
       "      <th>text</th>\n",
       "      <th>category</th>\n",
       "      <th>fkscore</th>\n",
       "      <th>majorityTopic</th>\n",
       "    </tr>\n",
       "  </thead>\n",
       "  <tbody>\n",
       "    <tr>\n",
       "      <th>1170</th>\n",
       "      <td>MOSCOW, November 7. /TASS/. There is no respon...</td>\n",
       "      <td>russian</td>\n",
       "      <td>9.155490</td>\n",
       "      <td>-1</td>\n",
       "    </tr>\n",
       "    <tr>\n",
       "      <th>1923</th>\n",
       "      <td>WASHINGTON (Sputnik) - The United States and t...</td>\n",
       "      <td>russian</td>\n",
       "      <td>15.102088</td>\n",
       "      <td>12</td>\n",
       "    </tr>\n",
       "  </tbody>\n",
       "</table>\n",
       "</div>"
      ],
      "text/plain": [
       "                                                   text category    fkscore  \\\n",
       "1170  MOSCOW, November 7. /TASS/. There is no respon...  russian   9.155490   \n",
       "1923  WASHINGTON (Sputnik) - The United States and t...  russian  15.102088   \n",
       "\n",
       "      majorityTopic  \n",
       "1170             -1  \n",
       "1923             12  "
      ]
     },
     "execution_count": 8,
     "metadata": {},
     "output_type": "execute_result"
    }
   ],
   "source": [
    "%%time\n",
    "from readability import Readability\n",
    "import json\n",
    "\n",
    "df = df.drop_duplicates(subset=['text'])\n",
    "reading_recs = []\n",
    "russianrecs = random.sample(df[df['category']=='russian'].to_dict('records'),975)\n",
    "westernrecs = random.sample(df[df['category']=='western'].to_dict('records'),975)\n",
    "\n",
    "russianrecs = df[df['category']=='russian'].to_dict('records')\n",
    "westernrecs = df[df['category']=='western'].to_dict('records')\n",
    "\n",
    "for i, rec in enumerate(russianrecs+westernrecs):\n",
    "    if i % 500 == 0:\n",
    "        print(f'{i}/{len(russianrecs+westernrecs)} completed')\n",
    "    try:\n",
    "        readability = Readability(rec['text']).flesch_kincaid().score\n",
    "        rec['fkscore'] = readability\n",
    "        reading_recs.append(rec)\n",
    "    except:\n",
    "        continue\n",
    "fkDf = pd.DataFrame.from_records(reading_recs)\n",
    "fkDf = fkDf[['text','category','fkscore','majorityTopic']]\n",
    "fkDf.sample(2)"
   ]
  },
  {
   "cell_type": "code",
   "execution_count": 9,
   "id": "8994ee77-8ce6-449d-9a89-e0749638405f",
   "metadata": {},
   "outputs": [],
   "source": [
    "with open('visualizations/histograms/reading_scores_8-4.json', 'w', encoding='utf-8') as f:\n",
    "    json.dump(fkDf.to_dict('records'), f, ensure_ascii=False, indent=4)"
   ]
  },
  {
   "cell_type": "code",
   "execution_count": null,
   "id": "a4f0d6b8-88ba-4489-be75-38d7199cbe60",
   "metadata": {},
   "outputs": [],
   "source": []
  },
  {
   "cell_type": "code",
   "execution_count": 97,
   "id": "3582c1ce-6ea0-47cc-9ebc-fd15bad24007",
   "metadata": {},
   "outputs": [
    {
     "data": {
      "text/plain": [
       "Ttest_indResult(statistic=-1.4723855063312872, pvalue=0.14101360418539688)"
      ]
     },
     "execution_count": 97,
     "metadata": {},
     "output_type": "execute_result"
    }
   ],
   "source": [
    "# readability t-test\n",
    "wArray = np.array(fkDf[fkDf['category'] == 'western']['fkscore'])\n",
    "rArray = np.array(fkDf[fkDf['category'] == 'russian']['fkscore'])\n",
    "coeff = scipy.stats.ttest_ind(wArray, rArray, axis=0)\n",
    "coeff"
   ]
  },
  {
   "cell_type": "code",
   "execution_count": 98,
   "id": "80c58604-e567-4942-9c2f-4fa220ef3f4b",
   "metadata": {},
   "outputs": [
    {
     "data": {
      "text/plain": [
       "(13.654534774124029, 13.797873675880926)"
      ]
     },
     "execution_count": 98,
     "metadata": {},
     "output_type": "execute_result"
    }
   ],
   "source": [
    "fkDf[fkDf['category'] == 'western']['fkscore'].mean(),fkDf[fkDf['category'] == 'russian']['fkscore'].mean()"
   ]
  },
  {
   "cell_type": "code",
   "execution_count": 99,
   "id": "c85ce2e0-e629-4e3c-b510-230415cf345d",
   "metadata": {},
   "outputs": [
    {
     "data": {
      "text/plain": [
       "(13.320257685929327, 13.665999861337403)"
      ]
     },
     "execution_count": 99,
     "metadata": {},
     "output_type": "execute_result"
    }
   ],
   "source": [
    "fkDf[fkDf['category'] == 'western']['fkscore'].median(),fkDf[fkDf['category'] == 'russian']['fkscore'].median()"
   ]
  },
  {
   "cell_type": "markdown",
   "id": "2668f301-5659-4d4d-a613-e11e4cd4ccd4",
   "metadata": {
    "tags": []
   },
   "source": [
    "# Preliminary data exploration"
   ]
  },
  {
   "cell_type": "code",
   "execution_count": 147,
   "id": "c9cd74a0-af69-4155-a12d-adbb0953b9e2",
   "metadata": {},
   "outputs": [],
   "source": [
    "originalDf = pd.read_csv('LIWC/LIWC-22 Results - Jul21_3379_articles - LIWC Analysis.csv',index_col=0)\n",
    "originalDf = originalDf.drop_duplicates(subset=['text'])"
   ]
  },
  {
   "cell_type": "code",
   "execution_count": 148,
   "id": "b5348dfa-790d-4409-87bb-617e6e0eb54d",
   "metadata": {},
   "outputs": [],
   "source": [
    "# compare averages\n",
    "averages = []\n",
    "for category in sorted(sigGlobalCats):\n",
    "    russianDf = originalDf[originalDf['category'].apply(lambda x: x == 'russian')]\n",
    "    westernDf = originalDf[originalDf['category'].apply(lambda x: x == 'western')]\n",
    "    averages.append({\n",
    "        'LIWC category': category,\n",
    "        'Western media average' : westernDf[category].mean(),\n",
    "        'Russian state media average' : russianDf[category].mean(),\n",
    "        'MoscowTimes average': df[category].mean(),\n",
    "    })"
   ]
  },
  {
   "cell_type": "code",
   "execution_count": 149,
   "id": "fd446a0e-2b51-4931-aeed-246c85b746e6",
   "metadata": {
    "collapsed": true,
    "jupyter": {
     "outputs_hidden": true
    },
    "tags": []
   },
   "outputs": [
    {
     "name": "stdout",
     "output_type": "stream",
     "text": [
      "AllPunc\n",
      "\tWestern media: 17.150379487179475\n",
      "\tMoscowTimes: 16.454411764705874\n",
      "\tRussian state media: 17.061685823754747\n",
      "Apostro\n",
      "\tWestern media: 1.621897435897435\n",
      "\tMoscowTimes: 1.7784803921568633\n",
      "\tRussian state media: 1.5107790549169875\n",
      "Authentic\n",
      "\tWestern media: 29.525620512820534\n",
      "\tMoscowTimes: 36.74598039215686\n",
      "\tRussian state media: 26.210025542784095\n",
      "BigWords\n",
      "\tWestern media: 31.044676923076892\n",
      "\tMoscowTimes: 31.379264705882356\n",
      "\tRussian state media: 32.764495530012816\n",
      "Cognition\n",
      "\tWestern media: 8.422748717948714\n",
      "\tMoscowTimes: 8.084117647058827\n",
      "\tRussian state media: 8.678765432098773\n",
      "Comma\n",
      "\tWestern media: 4.914964102564102\n",
      "\tMoscowTimes: 4.363480392156864\n",
      "\tRussian state media: 5.506802894848876\n",
      "Conversation\n",
      "\tWestern media: 0.10246153846153849\n",
      "\tMoscowTimes: 0.1107352941176471\n",
      "\tRussian state media: 0.06900808854831848\n",
      "Culture\n",
      "\tWestern media: 5.504984615384616\n",
      "\tMoscowTimes: 5.8347549019607845\n",
      "\tRussian state media: 6.4228267347807515\n",
      "Lifestyle\n",
      "\tWestern media: 4.519979487179479\n",
      "\tMoscowTimes: 3.653578431372548\n",
      "\tRussian state media: 3.3623584504044204\n",
      "Linguistic\n",
      "\tWestern media: 55.026451282051234\n",
      "\tMoscowTimes: 55.27181372549022\n",
      "\tRussian state media: 55.431268624946895\n",
      "OtherP\n",
      "\tWestern media: 5.022933333333332\n",
      "\tMoscowTimes: 4.96421568627451\n",
      "\tRussian state media: 5.255495955725839\n",
      "Perception\n",
      "\tWestern media: 9.893148717948733\n",
      "\tMoscowTimes: 10.346176470588233\n",
      "\tRussian state media: 8.90538527032782\n",
      "Period\n",
      "\tWestern media: 5.5351589743589775\n",
      "\tMoscowTimes: 5.293970588235292\n",
      "\tRussian state media: 4.732805449127285\n",
      "Physical\n",
      "\tWestern media: 0.8397128205128214\n",
      "\tMoscowTimes: 0.7883333333333334\n",
      "\tRussian state media: 0.4425287356321834\n",
      "Social\n",
      "\tWestern media: 10.989579487179494\n",
      "\tMoscowTimes: 10.558382352941173\n",
      "\tRussian state media: 11.154325244785017\n",
      "Tone\n",
      "\tWestern media: 14.757148717948706\n",
      "\tMoscowTimes: 11.285588235294117\n",
      "\tRussian state media: 15.471111111111105\n",
      "WC\n",
      "\tWestern media: 699.72\n",
      "\tMoscowTimes: 548.7696078431372\n",
      "\tRussian state media: 350.28735632183907\n",
      "WPS\n",
      "\tWestern media: 21.704564102564106\n",
      "\tMoscowTimes: 23.954999999999984\n",
      "\tRussian state media: 23.00850574712633\n",
      "achieve\n",
      "\tWestern media: 1.0988205128205122\n",
      "\tMoscowTimes: 0.8861274509803918\n",
      "\tRussian state media: 0.8949340144742447\n",
      "adj\n",
      "\tWestern media: 5.935220512820512\n",
      "\tMoscowTimes: 5.878872549019613\n",
      "\tRussian state media: 5.007501064282667\n",
      "adverb\n",
      "\tWestern media: 2.304594871794874\n",
      "\tMoscowTimes: 2.27578431372549\n",
      "\tRussian state media: 2.4187952320136197\n",
      "affiliation\n",
      "\tWestern media: 1.9916923076923088\n",
      "\tMoscowTimes: 1.597598039215686\n",
      "\tRussian state media: 1.9170923797360606\n",
      "allnone\n",
      "\tWestern media: 0.592030769230769\n",
      "\tMoscowTimes: 0.40333333333333315\n",
      "\tRussian state media: 0.5226096211153676\n",
      "allure\n",
      "\tWestern media: 2.9212410256410246\n",
      "\tMoscowTimes: 2.6570588235294093\n",
      "\tRussian state media: 2.5370966368667514\n",
      "article\n",
      "\tWestern media: 8.05777435897436\n",
      "\tMoscowTimes: 8.474264705882355\n",
      "\tRussian state media: 9.272626649638168\n",
      "assent\n",
      "\tWestern media: 0.027158974358974363\n",
      "\tMoscowTimes: 0.041568627450980375\n",
      "\tRussian state media: 0.038454661558109816\n",
      "attention\n",
      "\tWestern media: 0.4276820512820519\n",
      "\tMoscowTimes: 0.48965686274509806\n",
      "\tRussian state media: 0.5327586206896545\n",
      "auxverb\n",
      "\tWestern media: 5.396010256410262\n",
      "\tMoscowTimes: 5.292696078431377\n",
      "\tRussian state media: 5.362754363558953\n",
      "cause\n",
      "\tWestern media: 1.402666666666667\n",
      "\tMoscowTimes: 1.3258333333333336\n",
      "\tRussian state media: 1.5360621541081285\n",
      "certitude\n",
      "\tWestern media: 0.26438974358974365\n",
      "\tMoscowTimes: 0.389950980392157\n",
      "\tRussian state media: 0.45710515112813915\n",
      "cogproc\n",
      "\tWestern media: 7.737476923076932\n",
      "\tMoscowTimes: 7.593039215686277\n",
      "\tRussian state media: 8.111715623669651\n",
      "comm\n",
      "\tWestern media: 2.981928205128206\n",
      "\tMoscowTimes: 3.1145098039215697\n",
      "\tRussian state media: 3.42371221796509\n",
      "conj\n",
      "\tWestern media: 5.447405128205133\n",
      "\tMoscowTimes: 5.088774509803923\n",
      "\tRussian state media: 4.590021285653472\n",
      "curiosity\n",
      "\tWestern media: 0.11424615384615391\n",
      "\tMoscowTimes: 0.13323529411764706\n",
      "\tRussian state media: 0.12902085994040013\n",
      "death\n",
      "\tWestern media: 0.16661538461538453\n",
      "\tMoscowTimes: 0.19803921568627453\n",
      "\tRussian state media: 0.07029799914857382\n",
      "det\n",
      "\tWestern media: 13.16624615384616\n",
      "\tMoscowTimes: 13.383578431372536\n",
      "\tRussian state media: 14.382230736483638\n",
      "discrep\n",
      "\tWestern media: 1.1250461538461543\n",
      "\tMoscowTimes: 0.8888235294117652\n",
      "\tRussian state media: 0.9215964240102177\n",
      "emo_anx\n",
      "\tWestern media: 0.1519076923076924\n",
      "\tMoscowTimes: 0.13088235294117645\n",
      "\tRussian state media: 0.1614857386121754\n",
      "ethnicity\n",
      "\tWestern media: 1.4065641025641022\n",
      "\tMoscowTimes: 1.6775490196078435\n",
      "\tRussian state media: 1.6932907620263904\n",
      "family\n",
      "\tWestern media: 0.09753846153846156\n",
      "\tMoscowTimes: 0.041960784313725484\n",
      "\tRussian state media: 0.028177948063005533\n",
      "female\n",
      "\tWestern media: 0.21773333333333333\n",
      "\tMoscowTimes: 0.13470588235294118\n",
      "\tRussian state media: 0.15712217965091527\n",
      "focusfuture\n",
      "\tWestern media: 1.1875897435897447\n",
      "\tMoscowTimes: 1.2081372549019613\n",
      "\tRussian state media: 1.3925415070242657\n",
      "focuspast\n",
      "\tWestern media: 4.3228102564102535\n",
      "\tMoscowTimes: 4.676960784313727\n",
      "\tRussian state media: 4.1555853554704045\n",
      "food\n",
      "\tWestern media: 0.06551794871794869\n",
      "\tMoscowTimes: 0.09392156862745098\n",
      "\tRussian state media: 0.035691783737760746\n",
      "friend\n",
      "\tWestern media: 0.03373333333333335\n",
      "\tMoscowTimes: 0.03931372549019608\n",
      "\tRussian state media: 0.018578118348233284\n",
      "fulfill\n",
      "\tWestern media: 0.13784615384615384\n",
      "\tMoscowTimes: 0.1081862745098039\n",
      "\tRussian state media: 0.09090251170710935\n",
      "function\n",
      "\tWestern media: 42.57955897435901\n",
      "\tMoscowTimes: 42.87308823529411\n",
      "\tRussian state media: 44.64646658152405\n",
      "health\n",
      "\tWestern media: 0.37642051282051303\n",
      "\tMoscowTimes: 0.256470588235294\n",
      "\tRussian state media: 0.14467858663260966\n",
      "home\n",
      "\tWestern media: 0.19110769230769226\n",
      "\tMoscowTimes: 0.14852941176470585\n",
      "\tRussian state media: 0.11272456364410395\n",
      "illness\n",
      "\tWestern media: 0.25000000000000017\n",
      "\tMoscowTimes: 0.18000000000000002\n",
      "\tRussian state media: 0.065921668795232\n",
      "insight\n",
      "\tWestern media: 1.432461538461538\n",
      "\tMoscowTimes: 1.2332352941176468\n",
      "\tRussian state media: 1.5601915708812235\n",
      "ipron\n",
      "\tWestern media: 3.1935692307692296\n",
      "\tMoscowTimes: 3.558088235294118\n",
      "\tRussian state media: 3.7936441038739828\n",
      "lack\n",
      "\tWestern media: 0.07003076923076922\n",
      "\tMoscowTimes: 0.07740196078431374\n",
      "\tRussian state media: 0.14950191570881216\n",
      "leisure\n",
      "\tWestern media: 0.28643076923076916\n",
      "\tMoscowTimes: 0.2345098039215686\n",
      "\tRussian state media: 0.1846785866326097\n",
      "male\n",
      "\tWestern media: 1.0451179487179487\n",
      "\tMoscowTimes: 0.822696078431372\n",
      "\tRussian state media: 0.913724989357176\n",
      "memory\n",
      "\tWestern media: 0.01842051282051282\n",
      "\tMoscowTimes: 0.010735294117647058\n",
      "\tRussian state media: 0.034048531289910595\n",
      "money\n",
      "\tWestern media: 1.358533333333335\n",
      "\tMoscowTimes: 0.7552941176470591\n",
      "\tRussian state media: 0.4297573435504461\n",
      "moral\n",
      "\tWestern media: 0.28051282051282056\n",
      "\tMoscowTimes: 0.4798039215686275\n",
      "\tRussian state media: 0.30378884631758235\n",
      "motion\n",
      "\tWestern media: 1.2830974358974356\n",
      "\tMoscowTimes: 1.3184803921568646\n",
      "\tRussian state media: 0.9042997020008527\n",
      "need\n",
      "\tWestern media: 0.38569230769230806\n",
      "\tMoscowTimes: 0.3486274509803921\n",
      "\tRussian state media: 0.35044274159216715\n",
      "negate\n",
      "\tWestern media: 0.6836000000000001\n",
      "\tMoscowTimes: 0.7347058823529413\n",
      "\tRussian state media: 0.9054363558961271\n",
      "netspeak\n",
      "\tWestern media: 0.07812307692307689\n",
      "\tMoscowTimes: 0.07387254901960784\n",
      "\tRussian state media: 0.028177948063005546\n",
      "number\n",
      "\tWestern media: 2.1673435897435893\n",
      "\tMoscowTimes: 2.0180392156862745\n",
      "\tRussian state media: 1.7248999574286898\n",
      "politic\n",
      "\tWestern media: 3.5527487179487167\n",
      "\tMoscowTimes: 3.914607843137254\n",
      "\tRussian state media: 4.472200936568743\n",
      "ppron\n",
      "\tWestern media: 2.4893128205128177\n",
      "\tMoscowTimes: 2.074362745098039\n",
      "\tRussian state media: 2.554750957854406\n",
      "prep\n",
      "\tWestern media: 14.949282051282045\n",
      "\tMoscowTimes: 15.84715686274509\n",
      "\tRussian state media: 15.996602809706257\n",
      "pronoun\n",
      "\tWestern media: 5.682779487179482\n",
      "\tMoscowTimes: 5.633088235294118\n",
      "\tRussian state media: 6.348395061728386\n",
      "prosocial\n",
      "\tWestern media: 0.7973025641025645\n",
      "\tMoscowTimes: 0.6807843137254902\n",
      "\tRussian state media: 0.6494976585781188\n",
      "quantity\n",
      "\tWestern media: 3.726410256410258\n",
      "\tMoscowTimes: 3.4035294117647057\n",
      "\tRussian state media: 2.46843337590464\n",
      "relig\n",
      "\tWestern media: 0.06106666666666664\n",
      "\tMoscowTimes: 0.09612745098039216\n",
      "\tRussian state media: 0.0417198808003406\n",
      "reward\n",
      "\tWestern media: 0.12171282051282054\n",
      "\tMoscowTimes: 0.11931372549019606\n",
      "\tRussian state media: 0.07916134525329926\n",
      "risk\n",
      "\tWestern media: 0.9040512820512825\n",
      "\tMoscowTimes: 0.9471568627450984\n",
      "\tRussian state media: 1.102430821626226\n",
      "sexual\n",
      "\tWestern media: 0.004482051282051283\n",
      "\tMoscowTimes: 0.010784313725490198\n",
      "\tRussian state media: 0.0028820774797786285\n",
      "shehe\n",
      "\tWestern media: 0.9664205128205131\n",
      "\tMoscowTimes: 0.8138725490196077\n",
      "\tRussian state media: 0.8240102171136682\n",
      "socbehav\n",
      "\tWestern media: 6.098871794871794\n",
      "\tMoscowTimes: 6.267941176470588\n",
      "\tRussian state media: 6.324853128991056\n",
      "space\n",
      "\tWestern media: 7.550902564102563\n",
      "\tMoscowTimes: 7.957598039215693\n",
      "\tRussian state media: 6.931924223073667\n",
      "tech\n",
      "\tWestern media: 0.54625641025641\n",
      "\tMoscowTimes: 0.24338235294117647\n",
      "\tRussian state media: 0.2587994891443167\n",
      "tentat\n",
      "\tWestern media: 1.2150666666666696\n",
      "\tMoscowTimes: 1.195735294117647\n",
      "\tRussian state media: 1.3921157939548725\n",
      "they\n",
      "\tWestern media: 0.49077948717948777\n",
      "\tMoscowTimes: 0.427892156862745\n",
      "\tRussian state media: 0.5147807577692635\n",
      "time\n",
      "\tWestern media: 4.005128205128207\n",
      "\tMoscowTimes: 4.4526470588235325\n",
      "\tRussian state media: 3.964180502341418\n",
      "tone_pos\n",
      "\tWestern media: 1.4351384615384626\n",
      "\tMoscowTimes: 1.364509803921569\n",
      "\tRussian state media: 1.2644444444444454\n",
      "verb\n",
      "\tWestern media: 11.241046153846158\n",
      "\tMoscowTimes: 11.033529411764707\n",
      "\tRussian state media: 10.632890591741175\n",
      "visual\n",
      "\tWestern media: 0.6230256410256418\n",
      "\tMoscowTimes: 0.48750000000000016\n",
      "\tRussian state media: 0.3736228182205183\n",
      "want\n",
      "\tWestern media: 0.14315897435897443\n",
      "\tMoscowTimes: 0.1257843137254902\n",
      "\tRussian state media: 0.11436355896126008\n",
      "we\n",
      "\tWestern media: 0.5379487179487189\n",
      "\tMoscowTimes: 0.4489705882352942\n",
      "\tRussian state media: 0.8875223499361452\n",
      "wellness\n",
      "\tWestern media: 0.01841025641025641\n",
      "\tMoscowTimes: 0.010245098039215687\n",
      "\tRussian state media: 0.010715197956577263\n",
      "work\n",
      "\tWestern media: 3.0952000000000006\n",
      "\tMoscowTimes: 2.573774509803922\n",
      "\tRussian state media: 2.678871860366115\n",
      "you\n",
      "\tWestern media: 0.14443076923076917\n",
      "\tMoscowTimes: 0.06387254901960784\n",
      "\tRussian state media: 0.05784589186888039\n"
     ]
    }
   ],
   "source": [
    "for a in averages:\n",
    "    print(a['LIWC category'])\n",
    "    print('\\tWestern media:',a['Western media average'])\n",
    "    print('\\tMoscowTimes:',a['MoscowTimes average'])\n",
    "    print('\\tRussian state media:',a['Russian state media average'])"
   ]
  },
  {
   "cell_type": "code",
   "execution_count": 156,
   "id": "cb6d0e81-2b40-4abb-b94a-bb748c6daec0",
   "metadata": {},
   "outputs": [],
   "source": [
    "# 2 t-test\n",
    "allCoeffs = []\n",
    "for category in sorted(LIWCcolumns):\n",
    "    thisDf = originalDf[originalDf['category'].apply(lambda x: x == 'western')]\n",
    "    originalArray = np.array(thisDf[category])\n",
    "    moscowArray = np.array(df[category])\n",
    "    coeff = scipy.stats.ttest_ind(originalArray, moscowArray, axis=0)\n",
    "    allCoeffs.append({\n",
    "        'LIWC category': category,\n",
    "        'Western media average' : thisDf[category].mean(),\n",
    "        'MoscowTimes news average': df[category].mean(),\n",
    "        'p-value' : coeff.pvalue,\n",
    "        't-statistic': coeff.statistic,\n",
    "    })"
   ]
  },
  {
   "cell_type": "code",
   "execution_count": 157,
   "id": "9c582d73-568b-496f-86dd-fd7b73096660",
   "metadata": {},
   "outputs": [
    {
     "data": {
      "text/plain": [
       "{'LIWC category': 'cause',\n",
       " 'Western media average': 1.402666666666667,\n",
       " 'MoscowTimes news average': 1.3258333333333336,\n",
       " 'p-value': 0.1323912312691817,\n",
       " 't-statistic': 1.50578287576379}"
      ]
     },
     "execution_count": 157,
     "metadata": {},
     "output_type": "execute_result"
    }
   ],
   "source": [
    "random.choice(allCoeffs)"
   ]
  },
  {
   "cell_type": "code",
   "execution_count": 158,
   "id": "76b37234-9936-496c-a225-61cc60ffdf8d",
   "metadata": {},
   "outputs": [],
   "source": [
    "cdf = pd.DataFrame.from_records(allCoeffs)\n",
    "cdf.to_excel('LIWC/t-test-moscowtimes-western.xlsx')"
   ]
  },
  {
   "cell_type": "markdown",
   "id": "377aec45-67bc-4a1c-a994-3f91567d4382",
   "metadata": {
    "jp-MarkdownHeadingCollapsed": true,
    "tags": []
   },
   "source": [
    "## Comparing sample to global"
   ]
  },
  {
   "cell_type": "code",
   "execution_count": 90,
   "id": "cda8da4b-02c6-44e3-b9d1-9ae19f14e044",
   "metadata": {},
   "outputs": [],
   "source": [
    "globalCats = [w.strip() for w in \n",
    "\"\"\"sexual\n",
    "wellness\n",
    "friend\n",
    "want\n",
    "need\n",
    "fulfill\n",
    "relig\n",
    "food\n",
    "Conversation\n",
    "allnone\n",
    "female\n",
    "family\n",
    "you\n",
    "netspeak\n",
    "reward\n",
    "home\n",
    "death\n",
    "Apostro\n",
    "prosocial\n",
    "discrep\n",
    "male\n",
    "tone_pos\n",
    "leisure\n",
    "OtherP\n",
    "shehe\n",
    "achieve\n",
    "visual\n",
    "illness\n",
    "time\n",
    "health\n",
    "focuspast\n",
    "tech\n",
    "motion\n",
    "allure\n",
    "space\n",
    "verb\n",
    "Physical\n",
    "work\n",
    "conj\n",
    "number\n",
    "adj\n",
    "Perception\n",
    "AllPunc\n",
    "money\n",
    "Period\n",
    "Tone\n",
    "quantity\n",
    "Lifestyle\n",
    "Authentic\n",
    "WC\"\"\".split('\\n')]"
   ]
  },
  {
   "cell_type": "code",
   "execution_count": 91,
   "id": "c3d40cc9-6835-40f6-a94c-a57efc35d05f",
   "metadata": {},
   "outputs": [],
   "source": [
    "sampleCats = [w.strip() for w in \n",
    "\"\"\"emo_sad\n",
    "friend\n",
    "Conversation\n",
    "want\n",
    "netspeak\n",
    "feeling\n",
    "death\n",
    "female\n",
    "emotion\n",
    "emo_neg\n",
    "illness\n",
    "home\n",
    "prosocial\n",
    "tone_pos\n",
    "visual\n",
    "discrep\n",
    "tech\n",
    "differ\n",
    "Physical\n",
    "conflict\n",
    "tone_neg\n",
    "motion\n",
    "Apostro\n",
    "power\n",
    "space\n",
    "socbehav\n",
    "Affect\n",
    "Period\n",
    "conj\n",
    "verb\n",
    "money\n",
    "Lifestyle\n",
    "Perception\n",
    "adj\n",
    "quantity\n",
    "WC\"\"\".split('\\n')]"
   ]
  },
  {
   "cell_type": "code",
   "execution_count": 92,
   "id": "273677d0-b2ca-4292-ba3e-a4f0980ed78e",
   "metadata": {},
   "outputs": [],
   "source": [
    "sampleCats = set(sampleCats)\n",
    "globalCats = set(globalCats)"
   ]
  },
  {
   "cell_type": "code",
   "execution_count": 93,
   "id": "69ad373c-dd4a-40c8-9c41-2238ad1ad71d",
   "metadata": {},
   "outputs": [
    {
     "name": "stdout",
     "output_type": "stream",
     "text": [
      "intersection 26\n",
      "global but not sample 24\n",
      "sample but not global 10\n"
     ]
    }
   ],
   "source": [
    "print('intersection', len(sampleCats.intersection(globalCats)))\n",
    "print('global but not sample', len(globalCats.difference(sampleCats)))\n",
    "print('sample but not global', len(sampleCats.difference(globalCats)))"
   ]
  },
  {
   "cell_type": "code",
   "execution_count": 94,
   "id": "733b29bf-a234-4774-aa0b-1b02f8312b17",
   "metadata": {},
   "outputs": [],
   "source": [
    "# pip install matplotlib_venn"
   ]
  },
  {
   "cell_type": "code",
   "execution_count": 95,
   "id": "bda1cd16-ae66-43af-b594-1b7f23c8cf19",
   "metadata": {},
   "outputs": [
    {
     "data": {
      "image/png": "[encoded data removed]",
      "text/plain": [
       "<Figure size 720x720 with 1 Axes>"
      ]
     },
     "metadata": {},
     "output_type": "display_data"
    },
    {
     "data": {
      "text/plain": [
       "<Figure size 720x720 with 0 Axes>"
      ]
     },
     "metadata": {},
     "output_type": "display_data"
    }
   ],
   "source": [
    "import matplotlib.pyplot as plt\n",
    "from matplotlib_venn import venn2_unweighted\n",
    "\n",
    "# Define 2 sets\n",
    "A = globalCats\n",
    "B = sampleCats\n",
    "\n",
    "# Create and instance of a venn diagram with 2 areas\n",
    "diagram = venn2_unweighted([A, B], (\"Global Set\", \"Sample (Belarus) Set\"))\n",
    "\n",
    "# Set text content of areas\n",
    "diagram.get_label_by_id(\"10\").set_text(\"\\n\".join(sorted(A - B)))\n",
    "diagram.get_label_by_id(\"11\").set_text(\"\\n\".join(sorted(A & B)))\n",
    "diagram.get_label_by_id(\"01\").set_text(\"\\n\".join(sorted(B - A)))\n",
    "\n",
    "# Modify font sizes\n",
    "for text in diagram.set_labels:\n",
    "    text.set_fontsize(12)\n",
    "for text in diagram.subset_labels:\n",
    "    text.set_fontsize(12)\n",
    "\n",
    "plt.rcParams[\"figure.figsize\"] = [10,10]\n",
    "plt.show()\n",
    "plt.savefig('test.png')"
   ]
  },
  {
   "cell_type": "code",
   "execution_count": null,
   "id": "e66e2e9c-ed14-4125-b9c1-547dc29eb3c3",
   "metadata": {},
   "outputs": [],
   "source": []
  }
 ],
 "metadata": {
  "kernelspec": {
   "display_name": "Python 3 (ipykernel)",
   "language": "python",
   "name": "python3"
  },
  "language_info": {
   "codemirror_mode": {
    "name": "ipython",
    "version": 3
   },
   "file_extension": ".py",
   "mimetype": "text/x-python",
   "name": "python",
   "nbconvert_exporter": "python",
   "pygments_lexer": "ipython3",
   "version": "3.9.7"
  }
 },
 "nbformat": 4,
 "nbformat_minor": 5
}
