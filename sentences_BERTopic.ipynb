{
 "cells": [
  {
   "cell_type": "code",
   "execution_count": null,
   "id": "0acb828c-9eb2-4ff6-b4aa-8a3c470b5ff2",
   "metadata": {
    "id": "0acb828c-9eb2-4ff6-b4aa-8a3c470b5ff2"
   },
   "outputs": [],
   "source": [
    "# pip install pandas"
   ]
  },
  {
   "cell_type": "code",
   "execution_count": null,
   "id": "f1e7a630-9033-49d6-aa24-f5a39c59ddca",
   "metadata": {
    "id": "f1e7a630-9033-49d6-aa24-f5a39c59ddca"
   },
   "outputs": [],
   "source": [
    "# pip install matplotlib"
   ]
  },
  {
   "cell_type": "code",
   "execution_count": null,
   "id": "fb15195a-6fd2-4307-922d-d92c60e1cf4a",
   "metadata": {
    "id": "fb15195a-6fd2-4307-922d-d92c60e1cf4a"
   },
   "outputs": [],
   "source": [
    "# pip install gensim"
   ]
  },
  {
   "cell_type": "code",
   "execution_count": null,
   "id": "80d662fe-33ee-41d4-911a-99aed59ba5d1",
   "metadata": {
    "id": "80d662fe-33ee-41d4-911a-99aed59ba5d1"
   },
   "outputs": [],
   "source": [
    "# pip install openpyxl"
   ]
  },
  {
   "cell_type": "code",
   "execution_count": 1,
   "id": "7d3776c3-b362-430d-b36d-d1fcb6eb6980",
   "metadata": {
    "id": "7d3776c3-b362-430d-b36d-d1fcb6eb6980"
   },
   "outputs": [],
   "source": [
    "import random\n",
    "import numpy as np\n",
    "import pandas as pd\n",
    "import time\n",
    "import re\n",
    "import datetime\n",
    "import os\n",
    "import matplotlib.pyplot as plt\n",
    "import gensim\n",
    "# import spacy"
   ]
  },
  {
   "cell_type": "code",
   "execution_count": 2,
   "id": "9bc7350e-29bc-487e-a6ef-ae0d2270111f",
   "metadata": {
    "id": "9bc7350e-29bc-487e-a6ef-ae0d2270111f",
    "tags": []
   },
   "outputs": [],
   "source": [
    "# pip install bertopic"
   ]
  },
  {
   "cell_type": "code",
   "execution_count": 3,
   "id": "184f5c79-e217-419c-b737-202043473d95",
   "metadata": {
    "id": "184f5c79-e217-419c-b737-202043473d95",
    "tags": []
   },
   "outputs": [],
   "source": [
    "# conda install -c conda-forge ipywidgets"
   ]
  },
  {
   "cell_type": "code",
   "execution_count": 4,
   "id": "cc2633aa-8a4d-4acd-aaa6-4034759ebbae",
   "metadata": {
    "id": "cc2633aa-8a4d-4acd-aaa6-4034759ebbae"
   },
   "outputs": [],
   "source": [
    "# from ipywidgets import FloatProgress"
   ]
  },
  {
   "cell_type": "code",
   "execution_count": 5,
   "id": "0d977ca5-afa0-46a9-aa33-d8b557e78acc",
   "metadata": {
    "id": "0d977ca5-afa0-46a9-aa33-d8b557e78acc"
   },
   "outputs": [],
   "source": [
    "from bertopic import BERTopic"
   ]
  },
  {
   "cell_type": "markdown",
   "id": "72932a5c-2f5d-4375-9056-45d831dcdb34",
   "metadata": {
    "id": "72932a5c-2f5d-4375-9056-45d831dcdb34",
    "tags": []
   },
   "source": [
    "## Read data"
   ]
  },
  {
   "cell_type": "code",
   "execution_count": 6,
   "id": "ad7b265f-2d48-480f-b715-9918b44cdbf7",
   "metadata": {
    "id": "ad7b265f-2d48-480f-b715-9918b44cdbf7",
    "tags": []
   },
   "outputs": [],
   "source": [
    "# conda install -c anaconda openpyxl "
   ]
  },
  {
   "cell_type": "code",
   "execution_count": 143,
   "id": "94ff927c-412b-4416-9fde-bcfcf02a6483",
   "metadata": {
    "colab": {
     "base_uri": "https://localhost:8080/",
     "height": 670
    },
    "id": "94ff927c-412b-4416-9fde-bcfcf02a6483",
    "outputId": "449f3212-2d59-49d8-b9ea-7167b26b0f58"
   },
   "outputs": [
    {
     "data": {
      "text/html": [
       "<div>\n",
       "<style scoped>\n",
       "    .dataframe tbody tr th:only-of-type {\n",
       "        vertical-align: middle;\n",
       "    }\n",
       "\n",
       "    .dataframe tbody tr th {\n",
       "        vertical-align: top;\n",
       "    }\n",
       "\n",
       "    .dataframe thead th {\n",
       "        text-align: right;\n",
       "    }\n",
       "</style>\n",
       "<table border=\"1\" class=\"dataframe\">\n",
       "  <thead>\n",
       "    <tr style=\"text-align: right;\">\n",
       "      <th></th>\n",
       "      <th>newsOutlet</th>\n",
       "      <th>dateSeen</th>\n",
       "      <th>url</th>\n",
       "      <th>title</th>\n",
       "      <th>language</th>\n",
       "      <th>sourceCountry</th>\n",
       "      <th>text</th>\n",
       "      <th>category</th>\n",
       "      <th>textCharCt</th>\n",
       "    </tr>\n",
       "  </thead>\n",
       "  <tbody>\n",
       "    <tr>\n",
       "      <th>0</th>\n",
       "      <td>apnews.com</td>\n",
       "      <td>2021-10-12 07:00:00</td>\n",
       "      <td>https://apnews.com/article/technology-business...</td>\n",
       "      <td>EU , Ukraine to discuss military training and ...</td>\n",
       "      <td>English</td>\n",
       "      <td>United States</td>\n",
       "      <td>BRUSSELS (AP) — The European Union is consider...</td>\n",
       "      <td>western</td>\n",
       "      <td>3318</td>\n",
       "    </tr>\n",
       "    <tr>\n",
       "      <th>1</th>\n",
       "      <td>apnews.com</td>\n",
       "      <td>2021-10-12 07:00:00</td>\n",
       "      <td>https://apnews.com/cdfd9b277f6bade5697e0427429...</td>\n",
       "      <td>Blinken reaffirms US support for Ukraine amid ...</td>\n",
       "      <td>English</td>\n",
       "      <td>United States</td>\n",
       "      <td>KYIV, Ukraine (AP) — U.S. Secretary of State A...</td>\n",
       "      <td>western</td>\n",
       "      <td>6032</td>\n",
       "    </tr>\n",
       "    <tr>\n",
       "      <th>2</th>\n",
       "      <td>apnews.com</td>\n",
       "      <td>2021-10-11 07:00:00</td>\n",
       "      <td>https://apnews.com/90b50e622cefcbaeba96cb5e716...</td>\n",
       "      <td>EU , Ukraine to discuss military training and ...</td>\n",
       "      <td>English</td>\n",
       "      <td>United States</td>\n",
       "      <td>BRUSSELS (AP) — The European Union is consider...</td>\n",
       "      <td>western</td>\n",
       "      <td>3318</td>\n",
       "    </tr>\n",
       "    <tr>\n",
       "      <th>3</th>\n",
       "      <td>apnews.com</td>\n",
       "      <td>2021-10-06 07:00:00</td>\n",
       "      <td>https://apnews.com/0b689a7baaac58603e4d7453aa5...</td>\n",
       "      <td>Ukraine Holocaust center names Nazi Babi Yar k...</td>\n",
       "      <td>English</td>\n",
       "      <td>United States</td>\n",
       "      <td>KYIV, Ukraine (AP) — The presidents of Ukraine...</td>\n",
       "      <td>western</td>\n",
       "      <td>3646</td>\n",
       "    </tr>\n",
       "    <tr>\n",
       "      <th>4</th>\n",
       "      <td>apnews.com</td>\n",
       "      <td>2021-10-13 07:00:00</td>\n",
       "      <td>https://apnews.com/89d2455274aad5fe166445a5f82...</td>\n",
       "      <td>Ukraine separatist areas overwhelmed by soarin...</td>\n",
       "      <td>English</td>\n",
       "      <td>United States</td>\n",
       "      <td>KYIV, Ukraine (AP) — The Russia-backed separat...</td>\n",
       "      <td>western</td>\n",
       "      <td>2184</td>\n",
       "    </tr>\n",
       "  </tbody>\n",
       "</table>\n",
       "</div>"
      ],
      "text/plain": [
       "   newsOutlet            dateSeen  \\\n",
       "0  apnews.com 2021-10-12 07:00:00   \n",
       "1  apnews.com 2021-10-12 07:00:00   \n",
       "2  apnews.com 2021-10-11 07:00:00   \n",
       "3  apnews.com 2021-10-06 07:00:00   \n",
       "4  apnews.com 2021-10-13 07:00:00   \n",
       "\n",
       "                                                 url  \\\n",
       "0  https://apnews.com/article/technology-business...   \n",
       "1  https://apnews.com/cdfd9b277f6bade5697e0427429...   \n",
       "2  https://apnews.com/90b50e622cefcbaeba96cb5e716...   \n",
       "3  https://apnews.com/0b689a7baaac58603e4d7453aa5...   \n",
       "4  https://apnews.com/89d2455274aad5fe166445a5f82...   \n",
       "\n",
       "                                               title language  sourceCountry  \\\n",
       "0  EU , Ukraine to discuss military training and ...  English  United States   \n",
       "1  Blinken reaffirms US support for Ukraine amid ...  English  United States   \n",
       "2  EU , Ukraine to discuss military training and ...  English  United States   \n",
       "3  Ukraine Holocaust center names Nazi Babi Yar k...  English  United States   \n",
       "4  Ukraine separatist areas overwhelmed by soarin...  English  United States   \n",
       "\n",
       "                                                text category  textCharCt  \n",
       "0  BRUSSELS (AP) — The European Union is consider...  western        3318  \n",
       "1  KYIV, Ukraine (AP) — U.S. Secretary of State A...  western        6032  \n",
       "2  BRUSSELS (AP) — The European Union is consider...  western        3318  \n",
       "3  KYIV, Ukraine (AP) — The presidents of Ukraine...  western        3646  \n",
       "4  KYIV, Ukraine (AP) — The Russia-backed separat...  western        2184  "
      ]
     },
     "execution_count": 143,
     "metadata": {},
     "output_type": "execute_result"
    }
   ],
   "source": [
    "df0 = pd.read_excel('data/Jul21_3379_articles.xlsx',index_col=0)\n",
    "df0 = df0.reset_index()\n",
    "df0 = df0.drop(columns=['index'])\n",
    "df0.head()"
   ]
  },
  {
   "cell_type": "code",
   "execution_count": 42,
   "id": "e6c0c867-1f9d-43ab-a980-0369f18043fd",
   "metadata": {},
   "outputs": [],
   "source": [
    "del mtdf"
   ]
  },
  {
   "cell_type": "code",
   "execution_count": 256,
   "id": "58abe382-5bba-45f4-99ec-57135f7daf96",
   "metadata": {},
   "outputs": [
    {
     "data": {
      "text/html": [
       "<div>\n",
       "<style scoped>\n",
       "    .dataframe tbody tr th:only-of-type {\n",
       "        vertical-align: middle;\n",
       "    }\n",
       "\n",
       "    .dataframe tbody tr th {\n",
       "        vertical-align: top;\n",
       "    }\n",
       "\n",
       "    .dataframe thead th {\n",
       "        text-align: right;\n",
       "    }\n",
       "</style>\n",
       "<table border=\"1\" class=\"dataframe\">\n",
       "  <thead>\n",
       "    <tr style=\"text-align: right;\">\n",
       "      <th></th>\n",
       "      <th>newsOutlet</th>\n",
       "      <th>dateSeen</th>\n",
       "      <th>url</th>\n",
       "      <th>title</th>\n",
       "      <th>language</th>\n",
       "      <th>sourceCountry</th>\n",
       "      <th>text</th>\n",
       "      <th>category</th>\n",
       "    </tr>\n",
       "  </thead>\n",
       "  <tbody>\n",
       "    <tr>\n",
       "      <th>0</th>\n",
       "      <td>themoscowtimes.com</td>\n",
       "      <td>1633071600</td>\n",
       "      <td>https://www.themoscowtimes.com/2021/10/01/ukra...</td>\n",
       "      <td>Ukraine Calls for Russia Sanctions Over Hungar...</td>\n",
       "      <td>English</td>\n",
       "      <td>Russia</td>\n",
       "      <td>Ukraine said Friday it wants Germany and the U...</td>\n",
       "      <td>moscowtimes</td>\n",
       "    </tr>\n",
       "    <tr>\n",
       "      <th>1</th>\n",
       "      <td>themoscowtimes.com</td>\n",
       "      <td>1634194800</td>\n",
       "      <td>https://www.themoscowtimes.com/2021/10/14/form...</td>\n",
       "      <td>Former Head of Chernobyl Nuclear Plant Dies - ...</td>\n",
       "      <td>English</td>\n",
       "      <td>Russia</td>\n",
       "      <td>The director of the Chernobyl nuclear plant wh...</td>\n",
       "      <td>moscowtimes</td>\n",
       "    </tr>\n",
       "    <tr>\n",
       "      <th>2</th>\n",
       "      <td>themoscowtimes.com</td>\n",
       "      <td>1633935600</td>\n",
       "      <td>https://www.themoscowtimes.com/2021/10/11/russ...</td>\n",
       "      <td>Russia Shouldnt Negotiate With  Vassal  Ukrain...</td>\n",
       "      <td>English</td>\n",
       "      <td>Russia</td>\n",
       "      <td>Russia cannot negotiate with the “vassal” lead...</td>\n",
       "      <td>moscowtimes</td>\n",
       "    </tr>\n",
       "    <tr>\n",
       "      <th>3</th>\n",
       "      <td>themoscowtimes.com</td>\n",
       "      <td>1634022000</td>\n",
       "      <td>https://www.themoscowtimes.com/2021/10/12/russ...</td>\n",
       "      <td>Russia , France , Germany May Meet on Ukraine ...</td>\n",
       "      <td>English</td>\n",
       "      <td>Russia</td>\n",
       "      <td>Russia, France and Germany said Monday that th...</td>\n",
       "      <td>moscowtimes</td>\n",
       "    </tr>\n",
       "    <tr>\n",
       "      <th>4</th>\n",
       "      <td>themoscowtimes.com</td>\n",
       "      <td>1634281200</td>\n",
       "      <td>https://www.themoscowtimes.com/2021/04/12/2-uk...</td>\n",
       "      <td>2 Ukrainian Soldiers Killed in War - Torn Sepa...</td>\n",
       "      <td>English</td>\n",
       "      <td>Russia</td>\n",
       "      <td>Two Ukrainian soldiers have been killed in cla...</td>\n",
       "      <td>moscowtimes</td>\n",
       "    </tr>\n",
       "  </tbody>\n",
       "</table>\n",
       "</div>"
      ],
      "text/plain": [
       "           newsOutlet    dateSeen  \\\n",
       "0  themoscowtimes.com  1633071600   \n",
       "1  themoscowtimes.com  1634194800   \n",
       "2  themoscowtimes.com  1633935600   \n",
       "3  themoscowtimes.com  1634022000   \n",
       "4  themoscowtimes.com  1634281200   \n",
       "\n",
       "                                                 url  \\\n",
       "0  https://www.themoscowtimes.com/2021/10/01/ukra...   \n",
       "1  https://www.themoscowtimes.com/2021/10/14/form...   \n",
       "2  https://www.themoscowtimes.com/2021/10/11/russ...   \n",
       "3  https://www.themoscowtimes.com/2021/10/12/russ...   \n",
       "4  https://www.themoscowtimes.com/2021/04/12/2-uk...   \n",
       "\n",
       "                                               title language sourceCountry  \\\n",
       "0  Ukraine Calls for Russia Sanctions Over Hungar...  English        Russia   \n",
       "1  Former Head of Chernobyl Nuclear Plant Dies - ...  English        Russia   \n",
       "2  Russia Shouldnt Negotiate With  Vassal  Ukrain...  English        Russia   \n",
       "3  Russia , France , Germany May Meet on Ukraine ...  English        Russia   \n",
       "4  2 Ukrainian Soldiers Killed in War - Torn Sepa...  English        Russia   \n",
       "\n",
       "                                                text     category  \n",
       "0  Ukraine said Friday it wants Germany and the U...  moscowtimes  \n",
       "1  The director of the Chernobyl nuclear plant wh...  moscowtimes  \n",
       "2  Russia cannot negotiate with the “vassal” lead...  moscowtimes  \n",
       "3  Russia, France and Germany said Monday that th...  moscowtimes  \n",
       "4  Two Ukrainian soldiers have been killed in cla...  moscowtimes  "
      ]
     },
     "execution_count": 256,
     "metadata": {},
     "output_type": "execute_result"
    }
   ],
   "source": [
    "# Moscow times\n",
    "mtdf = pd.read_excel('data/themoscowtimes.com_07-21-2022.xlsx',index_col=0)\n",
    "mtdf = mtdf.drop_duplicates(subset=['text'])\n",
    "mtdf = mtdf[mtdf['text'].apply(lambda t : t.lower().count('ukrain') >= 2)]\n",
    "mtdf['category'] = 'moscowtimes'\n",
    "mtdf.head()"
   ]
  },
  {
   "cell_type": "code",
   "execution_count": 258,
   "id": "e9b7e75c-2ff7-484c-b9cb-687f3d208a25",
   "metadata": {},
   "outputs": [],
   "source": [
    "del df"
   ]
  },
  {
   "cell_type": "code",
   "execution_count": 259,
   "id": "0aa609ea-265e-48f9-913d-4db904d0ce8d",
   "metadata": {},
   "outputs": [
    {
     "data": {
      "text/plain": [
       "3541"
      ]
     },
     "execution_count": 259,
     "metadata": {},
     "output_type": "execute_result"
    }
   ],
   "source": [
    "df = pd.concat([df0, mtdf],axis=0)\n",
    "df = df.reset_index()\n",
    "del df['index']\n",
    "len(df)"
   ]
  },
  {
   "cell_type": "code",
   "execution_count": 260,
   "id": "b700a7ec-afd1-49ea-8caf-e58722ab6118",
   "metadata": {
    "colab": {
     "base_uri": "https://localhost:8080/"
    },
    "id": "b700a7ec-afd1-49ea-8caf-e58722ab6118",
    "outputId": "263b0457-6658-4978-e554-5e1bd4f922c0"
   },
   "outputs": [
    {
     "data": {
      "text/html": [
       "<div>\n",
       "<style scoped>\n",
       "    .dataframe tbody tr th:only-of-type {\n",
       "        vertical-align: middle;\n",
       "    }\n",
       "\n",
       "    .dataframe tbody tr th {\n",
       "        vertical-align: top;\n",
       "    }\n",
       "\n",
       "    .dataframe thead th {\n",
       "        text-align: right;\n",
       "    }\n",
       "</style>\n",
       "<table border=\"1\" class=\"dataframe\">\n",
       "  <thead>\n",
       "    <tr style=\"text-align: right;\">\n",
       "      <th></th>\n",
       "      <th>newsOutlet</th>\n",
       "      <th>dateSeen</th>\n",
       "      <th>url</th>\n",
       "      <th>title</th>\n",
       "      <th>language</th>\n",
       "      <th>sourceCountry</th>\n",
       "      <th>text</th>\n",
       "      <th>category</th>\n",
       "      <th>textCharCt</th>\n",
       "    </tr>\n",
       "  </thead>\n",
       "  <tbody>\n",
       "    <tr>\n",
       "      <th>3536</th>\n",
       "      <td>themoscowtimes.com</td>\n",
       "      <td>1642060800</td>\n",
       "      <td>https://www.themoscowtimes.com/2022/01/13/sanc...</td>\n",
       "      <td>Sanctions on Putin Would be Step Too Far , Kre...</td>\n",
       "      <td>English</td>\n",
       "      <td>Russia</td>\n",
       "      <td>The United States’ plans to levy sanctions aga...</td>\n",
       "      <td>moscowtimes</td>\n",
       "      <td>NaN</td>\n",
       "    </tr>\n",
       "    <tr>\n",
       "      <th>3537</th>\n",
       "      <td>themoscowtimes.com</td>\n",
       "      <td>1641801600</td>\n",
       "      <td>https://www.themoscowtimes.com/2022/01/10/news...</td>\n",
       "      <td>News From Russia : What You Missed Over the We...</td>\n",
       "      <td>English</td>\n",
       "      <td>Russia</td>\n",
       "      <td>Security talks A top Russian official said he ...</td>\n",
       "      <td>moscowtimes</td>\n",
       "      <td>NaN</td>\n",
       "    </tr>\n",
       "    <tr>\n",
       "      <th>3538</th>\n",
       "      <td>themoscowtimes.com</td>\n",
       "      <td>1642147200</td>\n",
       "      <td>https://www.themoscowtimes.com/2022/01/14/russ...</td>\n",
       "      <td>Russian Diplomat Praises Rappers Ye , Oxxxymir...</td>\n",
       "      <td>English</td>\n",
       "      <td>Russia</td>\n",
       "      <td>Will hip-hop actually save the world? A senior...</td>\n",
       "      <td>moscowtimes</td>\n",
       "      <td>NaN</td>\n",
       "    </tr>\n",
       "    <tr>\n",
       "      <th>3539</th>\n",
       "      <td>themoscowtimes.com</td>\n",
       "      <td>1641801600</td>\n",
       "      <td>https://www.themoscowtimes.com/2022/01/10/kaza...</td>\n",
       "      <td>Kazakhstan Largest City Back Online After Clas...</td>\n",
       "      <td>English</td>\n",
       "      <td>Russia</td>\n",
       "      <td>Kazakhstan's largest city was back online and ...</td>\n",
       "      <td>moscowtimes</td>\n",
       "      <td>NaN</td>\n",
       "    </tr>\n",
       "    <tr>\n",
       "      <th>3540</th>\n",
       "      <td>themoscowtimes.com</td>\n",
       "      <td>1641456000</td>\n",
       "      <td>https://www.themoscowtimes.com/2022/01/06/russ...</td>\n",
       "      <td>Russia Involvement in Kazakhstan Crisis Could ...</td>\n",
       "      <td>English</td>\n",
       "      <td>Russia</td>\n",
       "      <td>Russia’s deployment of troops as part of a mil...</td>\n",
       "      <td>moscowtimes</td>\n",
       "      <td>NaN</td>\n",
       "    </tr>\n",
       "  </tbody>\n",
       "</table>\n",
       "</div>"
      ],
      "text/plain": [
       "              newsOutlet    dateSeen  \\\n",
       "3536  themoscowtimes.com  1642060800   \n",
       "3537  themoscowtimes.com  1641801600   \n",
       "3538  themoscowtimes.com  1642147200   \n",
       "3539  themoscowtimes.com  1641801600   \n",
       "3540  themoscowtimes.com  1641456000   \n",
       "\n",
       "                                                    url  \\\n",
       "3536  https://www.themoscowtimes.com/2022/01/13/sanc...   \n",
       "3537  https://www.themoscowtimes.com/2022/01/10/news...   \n",
       "3538  https://www.themoscowtimes.com/2022/01/14/russ...   \n",
       "3539  https://www.themoscowtimes.com/2022/01/10/kaza...   \n",
       "3540  https://www.themoscowtimes.com/2022/01/06/russ...   \n",
       "\n",
       "                                                  title language  \\\n",
       "3536  Sanctions on Putin Would be Step Too Far , Kre...  English   \n",
       "3537  News From Russia : What You Missed Over the We...  English   \n",
       "3538  Russian Diplomat Praises Rappers Ye , Oxxxymir...  English   \n",
       "3539  Kazakhstan Largest City Back Online After Clas...  English   \n",
       "3540  Russia Involvement in Kazakhstan Crisis Could ...  English   \n",
       "\n",
       "     sourceCountry                                               text  \\\n",
       "3536        Russia  The United States’ plans to levy sanctions aga...   \n",
       "3537        Russia  Security talks A top Russian official said he ...   \n",
       "3538        Russia  Will hip-hop actually save the world? A senior...   \n",
       "3539        Russia  Kazakhstan's largest city was back online and ...   \n",
       "3540        Russia  Russia’s deployment of troops as part of a mil...   \n",
       "\n",
       "         category  textCharCt  \n",
       "3536  moscowtimes         NaN  \n",
       "3537  moscowtimes         NaN  \n",
       "3538  moscowtimes         NaN  \n",
       "3539  moscowtimes         NaN  \n",
       "3540  moscowtimes         NaN  "
      ]
     },
     "execution_count": 260,
     "metadata": {},
     "output_type": "execute_result"
    }
   ],
   "source": [
    "df.tail()"
   ]
  },
  {
   "cell_type": "code",
   "execution_count": 261,
   "id": "b78c9c5e-9b28-4c7f-9382-b4cf7de9fa79",
   "metadata": {
    "colab": {
     "base_uri": "https://localhost:8080/"
    },
    "id": "b78c9c5e-9b28-4c7f-9382-b4cf7de9fa79",
    "outputId": "920e281f-5ab2-420e-8402-09b8c658bfcf"
   },
   "outputs": [
    {
     "name": "stdout",
     "output_type": "stream",
     "text": [
      "bbc: 259\n",
      "apnews: 495\n",
      "reuters: 274\n",
      "sputnik: 921\n",
      "tass: 1430\n",
      "\n",
      "western: 1028\n",
      "russian state media: 2351\n",
      "moscowtimes: 162\n"
     ]
    }
   ],
   "source": [
    "bbcdf = df[df['newsOutlet'].apply(lambda x: x == 'bbc.co.uk')]\n",
    "print('bbc:', len(bbcdf))\n",
    "apdf = df[df['newsOutlet'].apply(lambda x: x == 'apnews.com')]\n",
    "print('apnews:', len(apdf))\n",
    "reutersdf = df[df['newsOutlet'].apply(lambda x: x == 'reuters.com')]\n",
    "print('reuters:', len(reutersdf))\n",
    "spdf = df[df['newsOutlet'].apply(lambda x: x == 'sputniknews.com')]\n",
    "print('sputnik:', len(spdf))\n",
    "tassdf = df[df['newsOutlet'].apply(lambda x: x == 'tass.com')]\n",
    "print('tass:', len(tassdf))\n",
    "print()\n",
    "westerndf = df[df['category'].apply(lambda x: x == 'western')]\n",
    "print('western:', len(westerndf))\n",
    "russiandf = df[df['category'].apply(lambda x: x == 'russian')]\n",
    "print('russian state media:', len(russiandf))\n",
    "\n",
    "mt = df[df['category'].apply(lambda x: x == 'moscowtimes')]\n",
    "print('moscowtimes:', len(mt))"
   ]
  },
  {
   "cell_type": "markdown",
   "id": "faa82800-35bd-4e10-ae94-11efac8d7c8a",
   "metadata": {
    "id": "faa82800-35bd-4e10-ae94-11efac8d7c8a",
    "tags": []
   },
   "source": [
    "## Pre-process documents"
   ]
  },
  {
   "cell_type": "code",
   "execution_count": 159,
   "id": "9e749bc8-b3e7-4ac2-b2b7-61b147ca8272",
   "metadata": {
    "id": "9e749bc8-b3e7-4ac2-b2b7-61b147ca8272"
   },
   "outputs": [],
   "source": [
    "import nltk\n",
    "from nltk.tokenize import sent_tokenize"
   ]
  },
  {
   "cell_type": "code",
   "execution_count": 160,
   "id": "f94f8055-449e-4617-b1f1-f4421703b031",
   "metadata": {
    "colab": {
     "base_uri": "https://localhost:8080/"
    },
    "id": "f94f8055-449e-4617-b1f1-f4421703b031",
    "outputId": "d746da87-bf85-4a35-9503-abca0b56ab9b"
   },
   "outputs": [
    {
     "name": "stderr",
     "output_type": "stream",
     "text": [
      "[nltk_data] Downloading package punkt to /Users/paigelee/nltk_data...\n",
      "[nltk_data]   Package punkt is already up-to-date!\n"
     ]
    },
    {
     "data": {
      "text/plain": [
       "True"
      ]
     },
     "execution_count": 160,
     "metadata": {},
     "output_type": "execute_result"
    }
   ],
   "source": [
    "nltk.download('punkt')"
   ]
  },
  {
   "cell_type": "code",
   "execution_count": 262,
   "id": "c82dbec6-b331-4d64-b683-671f184f36ca",
   "metadata": {
    "id": "c82dbec6-b331-4d64-b683-671f184f36ca"
   },
   "outputs": [],
   "source": [
    "# process texts\n",
    "def tm_tokenize(txt):\n",
    "    word_corrections = [\n",
    "    ('said',''),\n",
    "    ('Reuters',''),\n",
    "    ('REUTERS',''),\n",
    "    ('Thomson',''),\n",
    "    ('AP', ''),\n",
    "    ('Sputnik',''),\n",
    "    ('TASS',''),\n",
    "    ('BBC',''),\n",
    "    ('Kiev ','Kyiv '),\n",
    "    ('Lugansk','Luhansk'),\n",
    "    ('Donbas','Donbass'),\n",
    "    ('U.S.','US'),\n",
    "    ('United States','US'),\n",
    "    (''' We'd love to get your feedback at radio@sputniknews.com''',''),\n",
    "    ('radio@sputniknews.com',''),\n",
    "    ('Aleksandr', 'Alexander')\n",
    "    ]\n",
    "    takeoutif = [\n",
    "        'This story has been corrected to show',\n",
    "        'contributed to this report',\n",
    "        'All rights reserved',\n",
    "        'not responsible for the material quoted in these press',\n",
    "        'Follow all AP stories',\n",
    "        'https',\n",
    "        'dedicated page',\n",
    "        'Follow AP’s coverage',\n",
    "        '©',\n",
    "        'This video can not be played',\n",
    "        '© 2022 Reuters.'\n",
    "        'contributed reporting',\n",
    "        'Please include your name, age and location with any submission.',\n",
    "        'See here for',\n",
    "        'contributed.',\n",
    "        'reported from',\n",
    "        'reaching billions of people worldwide every day',\n",
    "        'quotes delayed a minimum',\n",
    "        'contributed to this story.',\n",
    "        'pic.twitter.com',\n",
    "        'Screen for heightened risk individual and entities globally to help uncover hidden risks in business relationships and human networks.',\n",
    "        'Browse an unrivalled portfolio of',\n",
    "        'Access unmatched financial',\n",
    "        'Reuters',\n",
    "        'Build the strongest argument relying on',\n",
    "        'The most comprehensive solution to manage all',\n",
    "        'Access unmatched financial data',\n",
    "        'The industry leader for online information for tax'\n",
    "        ]\n",
    "    for a, b in word_corrections:\n",
    "        txt = txt.replace(a, b)\n",
    "    for string in takeoutif:\n",
    "        if string in txt:\n",
    "            return None\n",
    "    if not txt[0].isalpha() and txt[0] not in ['\"',\"'\",'“']:\n",
    "        return None\n",
    "    if len(txt) <= 50:\n",
    "        return None\n",
    "    return txt"
   ]
  },
  {
   "cell_type": "code",
   "execution_count": 263,
   "id": "6e3dbc46-cf04-4eb2-aa81-99293e10b666",
   "metadata": {
    "colab": {
     "base_uri": "https://localhost:8080/"
    },
    "id": "6e3dbc46-cf04-4eb2-aa81-99293e10b666",
    "outputId": "1a4eb5bb-cf5e-4067-cec5-5106ea358778",
    "tags": []
   },
   "outputs": [
    {
     "name": "stdout",
     "output_type": "stream",
     "text": [
      "0/3541 articles processed\n",
      "500/3541 articles processed\n",
      "1000/3541 articles processed\n",
      "1500/3541 articles processed\n",
      "2000/3541 articles processed\n",
      "2500/3541 articles processed\n",
      "3000/3541 articles processed\n",
      "3500/3541 articles processed\n",
      "58336/69868 sentences valid.\n",
      "\n",
      "58336 docs processed successfully!\n"
     ]
    }
   ],
   "source": [
    "docs = []\n",
    "texts = []\n",
    "\n",
    "article2sents = dict()\n",
    "\n",
    "listBySent = []\n",
    "records = df.to_dict('records')\n",
    "totalSents = 0\n",
    "validSents = 0\n",
    "for i, rec in enumerate(records):\n",
    "    if i % 500 == 0:\n",
    "        print(f'{i}/{len(records)} articles processed')\n",
    "    rec_text = rec['text']\n",
    "    # if rec_text.lower().count('ukrain') < 2:\n",
    "        # continue\n",
    "    if isinstance(rec_text, str):\n",
    "        sents = sent_tokenize(rec_text)\n",
    "        validSentsinDoc = []\n",
    "        sentIdx = 0\n",
    "    \n",
    "        for text in sents:\n",
    "            sentRec = dict()\n",
    "            sentRec['index'] = i\n",
    "            sentRec['newsOutlet'] = rec['newsOutlet']\n",
    "            sentRec['category'] = rec['category']\n",
    "            sentRec['dateSeen'] = rec['dateSeen']\n",
    "            sentRec['url'] = rec['url']\n",
    "            sentRec['title'] = rec['title']\n",
    "            sentRec['language'] = rec['language']\n",
    "            sentRec['sourceCountry'] = rec['sourceCountry']\n",
    "            \n",
    "            cleaned_text = tm_tokenize(text)\n",
    "            totalSents += 1\n",
    "            if cleaned_text == None:\n",
    "                continue\n",
    "            else:\n",
    "                docs.append(cleaned_text)\n",
    "                texts.append(text)\n",
    "                sentRec['sentText'] = text\n",
    "                sentRec['sentIndexInText'] = sentIdx\n",
    "                listBySent.append(sentRec)\n",
    "                validSentsinDoc.append({\n",
    "                    'sentText' : text,\n",
    "                    'topic' : -2\n",
    "                })\n",
    "                validSents += 1\n",
    "                sentIdx += 1\n",
    "                \n",
    "        article2sents[i] = validSentsinDoc\n",
    "        \n",
    "print(f'{validSents}/{totalSents} sentences valid.\\n')\n",
    "print(len(docs),'docs processed successfully!')"
   ]
  },
  {
   "cell_type": "markdown",
   "id": "47a35a99-ae11-4244-a18b-7145ff6f8fe3",
   "metadata": {
    "id": "47a35a99-ae11-4244-a18b-7145ff6f8fe3",
    "jp-MarkdownHeadingCollapsed": true,
    "tags": []
   },
   "source": [
    "## Function for model coherence"
   ]
  },
  {
   "cell_type": "code",
   "execution_count": 201,
   "id": "48de50a1-8f84-43a9-9339-bf5e54e04540",
   "metadata": {
    "id": "48de50a1-8f84-43a9-9339-bf5e54e04540"
   },
   "outputs": [],
   "source": [
    "os.environ[\"TOKENIZERS_PARALLELISM\"] = \"false\""
   ]
  },
  {
   "cell_type": "code",
   "execution_count": 202,
   "id": "a86a00bd-7a79-41fb-8684-10224471ceed",
   "metadata": {
    "id": "a86a00bd-7a79-41fb-8684-10224471ceed"
   },
   "outputs": [],
   "source": [
    "# COHERENCE VALUES\n",
    "\n",
    "import gensim.corpora as corpora\n",
    "from gensim.models.coherencemodel import CoherenceModel\n",
    "\n",
    "def get_coherence(topic_model, topics, probs):\n",
    "\n",
    "    # Preprocess Documents\n",
    "    documents = pd.DataFrame({\"Document\": docs,\n",
    "                              \"ID\": range(len(docs)),\n",
    "                              \"Topic\": topics})\n",
    "    documents_per_topic = documents.groupby(['Topic'], as_index=False).agg({'Document': ' '.join})\n",
    "    cleaned_docs = topic_model._preprocess_text(documents_per_topic.Document.values)\n",
    "    print('cleaned docs')\n",
    "\n",
    "    # Extract vectorizer and analyzer from BERTopic\n",
    "    vectorizer = topic_model.vectorizer_model\n",
    "    analyzer = vectorizer.build_analyzer()\n",
    "    print('vectorizer/analyser')\n",
    "    # Extract features for Topic Coherence evaluation\n",
    "    words = vectorizer.get_feature_names()\n",
    "    tokens = [analyzer(doc) for doc in cleaned_docs]\n",
    "    dictionary = corpora.Dictionary(tokens)\n",
    "    corpus = [dictionary.doc2bow(token) for token in tokens]\n",
    "    topic_words = [[words for words, _ in topic_model.get_topic(topic)] \n",
    "                   for topic in range(len(set(topics))-1)]\n",
    "    print('extract features for evaluation')\n",
    "    # Evaluate\n",
    "    coherence_model = CoherenceModel(topics=topic_words, \n",
    "                                     texts=tokens, \n",
    "                                     corpus=corpus,\n",
    "                                     dictionary=dictionary, \n",
    "                                     coherence='c_v',)\n",
    "    \n",
    "    coherence = coherence_model.get_coherence()\n",
    "    print('coherence calculation complete:\\n')\n",
    "    print('coherence:', coherence)\n",
    "    return coherence"
   ]
  },
  {
   "cell_type": "markdown",
   "id": "5a6eeb0d-3b77-46c3-ac16-916c26c0dfe1",
   "metadata": {
    "id": "5a6eeb0d-3b77-46c3-ac16-916c26c0dfe1"
   },
   "source": [
    "## Initialize BERT model"
   ]
  },
  {
   "cell_type": "code",
   "execution_count": 203,
   "id": "2e715725-001d-402f-b780-e00b8f6a01d0",
   "metadata": {
    "id": "2e715725-001d-402f-b780-e00b8f6a01d0"
   },
   "outputs": [],
   "source": [
    "from sklearn.feature_extraction.text import CountVectorizer\n",
    "\n",
    "vectorizer_model = CountVectorizer(ngram_range=(1, 2), stop_words=\"english\")"
   ]
  },
  {
   "cell_type": "code",
   "execution_count": 204,
   "id": "fca576d8-d43f-4840-8abd-7a7a5d6190d0",
   "metadata": {
    "id": "fca576d8-d43f-4840-8abd-7a7a5d6190d0"
   },
   "outputs": [],
   "source": [
    "# best so far: "
   ]
  },
  {
   "cell_type": "code",
   "execution_count": null,
   "id": "4d88c3a0-6986-4996-8699-d5b2c930f6f1",
   "metadata": {
    "colab": {
     "base_uri": "https://localhost:8080/",
     "height": 86,
     "referenced_widgets": [
      "5b3001dd40a44c0db0259b8a938ca4d4",
      "4cf22fbc2f9d4c878bf6b8ded51c9ee2",
      "a126d8c382124598a54930dc4fbfa0d5",
      "b771c3b2de574f7c808e1fd14f973b5e",
      "133b6ece4ad443e3b04218393ea2b0c4",
      "81b4b5e59d854693952074fad0f73a40",
      "1bdde83ee2b04fc6abcdf45680852a18",
      "358ae758930c4635b9db49d8ef44e741",
      "f9b3ff36d371457f8b6b56096039188f",
      "78c3b0f7582d40de8cb9ee8142cc0bbd",
      "6e1ee5746bc84c35ad221c20c59409d2"
     ]
    },
    "id": "4d88c3a0-6986-4996-8699-d5b2c930f6f1",
    "outputId": "2dfca407-f3d9-47c0-badb-9c1870cb0e12"
   },
   "outputs": [
    {
     "data": {
      "application/vnd.jupyter.widget-view+json": {
       "model_id": "bd06562ccc7c48bdb5a4e21c216c22d3",
       "version_major": 2,
       "version_minor": 0
      },
      "text/plain": [
       "Batches:   0%|          | 0/1823 [00:00<?, ?it/s]"
      ]
     },
     "metadata": {},
     "output_type": "display_data"
    }
   ],
   "source": [
    "%%time\n",
    "topic_model = BERTopic(vectorizer_model=vectorizer_model,verbose=True,calculate_probabilities=True,nr_topics=50,diversity=.7)\n",
    "topics, probs = topic_model.fit_transform(docs)"
   ]
  },
  {
   "cell_type": "code",
   "execution_count": 206,
   "id": "a3df42f3-c7da-4f6d-9442-d7194cb2d466",
   "metadata": {},
   "outputs": [
    {
     "data": {
      "text/plain": [
       "{'calculate_probabilities': True,\n",
       " 'diversity': 0.85,\n",
       " 'embedding_model': <bertopic.backend._sentencetransformers.SentenceTransformerBackend at 0x7f90ea5be100>,\n",
       " 'hdbscan_model': HDBSCAN(min_cluster_size=10, prediction_data=True),\n",
       " 'language': 'english',\n",
       " 'low_memory': False,\n",
       " 'min_topic_size': 10,\n",
       " 'n_gram_range': (1, 1),\n",
       " 'nr_topics': 40,\n",
       " 'seed_topic_list': None,\n",
       " 'top_n_words': 10,\n",
       " 'umap_model': UMAP(angular_rp_forest=True, low_memory=False, metric='cosine', min_dist=0.0, n_components=5, tqdm_kwds={'bar_format': '{desc}: {percentage:3.0f}%| {bar} {n_fmt}/{total_fmt} [{elapsed}]', 'desc': 'Epochs completed', 'disable': True}),\n",
       " 'vectorizer_model': CountVectorizer(ngram_range=(1, 2), stop_words='english'),\n",
       " 'verbose': True}"
      ]
     },
     "execution_count": 206,
     "metadata": {},
     "output_type": "execute_result"
    }
   ],
   "source": [
    "topic_model.get_params()"
   ]
  },
  {
   "cell_type": "code",
   "execution_count": null,
   "id": "6d93797f-f40e-4967-a242-30906cd83dc3",
   "metadata": {},
   "outputs": [],
   "source": [
    "# best .475 (40 topics, .5 diversity)\n",
    "# 50 topics, .75 diversity"
   ]
  },
  {
   "cell_type": "code",
   "execution_count": 207,
   "id": "afa6a2c1-9869-4731-a144-0fef3421f076",
   "metadata": {},
   "outputs": [
    {
     "name": "stdout",
     "output_type": "stream",
     "text": [
      "cleaned docs\n",
      "vectorizer/analyser\n",
      "extract features for evaluation\n",
      "coherence calculation complete:\n",
      "\n",
      "coherence: 0.46397609675385476\n",
      "CPU times: user 7.32 s, sys: 2.85 s, total: 10.2 s\n",
      "Wall time: 54 s\n"
     ]
    }
   ],
   "source": [
    "%%time\n",
    "original_coh = get_coherence(topic_model, topics, probs)"
   ]
  },
  {
   "cell_type": "markdown",
   "id": "df6f3ec4-0058-4091-a7e7-2c52d088b48f",
   "metadata": {
    "tags": []
   },
   "source": [
    "### Save model"
   ]
  },
  {
   "cell_type": "code",
   "execution_count": 208,
   "id": "2a524ef2-69fa-4c46-b632-a2c2cc1bcce5",
   "metadata": {},
   "outputs": [],
   "source": [
    "# %%time\n",
    "# topic_model.save(\"100topics_diversity-8_docs_BERT_sentence_model_7-21\")"
   ]
  },
  {
   "cell_type": "markdown",
   "id": "4754d345-04ef-4ce0-a239-ab7bf0a00c57",
   "metadata": {},
   "source": [
    "#### Which topic model?"
   ]
  },
  {
   "cell_type": "code",
   "execution_count": 209,
   "id": "b6efe6ae-6b07-4748-a8cc-8af839f87c3b",
   "metadata": {},
   "outputs": [],
   "source": [
    "# topic_model_div_8 = BERTopic.load('100topics_diversity-8_docs_BERT_sentence_model_7-21')"
   ]
  },
  {
   "cell_type": "code",
   "execution_count": 210,
   "id": "be07af53-1ce9-4b3d-b301-2ca022a0b004",
   "metadata": {},
   "outputs": [],
   "source": [
    "# topics, probs = topic_model_div_8.fit_transform(docs)"
   ]
  },
  {
   "cell_type": "code",
   "execution_count": 211,
   "id": "41299450-0e09-48ef-ab2c-53add68aaa16",
   "metadata": {},
   "outputs": [],
   "source": [
    "# topic_model = topic_model_100"
   ]
  },
  {
   "cell_type": "code",
   "execution_count": 212,
   "id": "ccd0b8f7-0296-46fd-9eb9-b743089ddbce",
   "metadata": {
    "id": "ccd0b8f7-0296-46fd-9eb9-b743089ddbce"
   },
   "outputs": [
    {
     "data": {
      "text/html": [
       "<div>\n",
       "<style scoped>\n",
       "    .dataframe tbody tr th:only-of-type {\n",
       "        vertical-align: middle;\n",
       "    }\n",
       "\n",
       "    .dataframe tbody tr th {\n",
       "        vertical-align: top;\n",
       "    }\n",
       "\n",
       "    .dataframe thead th {\n",
       "        text-align: right;\n",
       "    }\n",
       "</style>\n",
       "<table border=\"1\" class=\"dataframe\">\n",
       "  <thead>\n",
       "    <tr style=\"text-align: right;\">\n",
       "      <th></th>\n",
       "      <th>Topic</th>\n",
       "      <th>Count</th>\n",
       "      <th>Name</th>\n",
       "    </tr>\n",
       "  </thead>\n",
       "  <tbody>\n",
       "    <tr>\n",
       "      <th>0</th>\n",
       "      <td>-1</td>\n",
       "      <td>34435</td>\n",
       "      <td>-1_ukraine_nato_security_forces</td>\n",
       "    </tr>\n",
       "    <tr>\n",
       "      <th>1</th>\n",
       "      <td>0</td>\n",
       "      <td>2338</td>\n",
       "      <td>0_sides_dialogue_diplomacy_security</td>\n",
       "    </tr>\n",
       "    <tr>\n",
       "      <th>2</th>\n",
       "      <td>1</td>\n",
       "      <td>1482</td>\n",
       "      <td>1_sanctions russia_economic_swift_new</td>\n",
       "    </tr>\n",
       "    <tr>\n",
       "      <th>3</th>\n",
       "      <td>2</td>\n",
       "      <td>1231</td>\n",
       "      <td>2_nord_stream_project_certification</td>\n",
       "    </tr>\n",
       "    <tr>\n",
       "      <th>4</th>\n",
       "      <td>3</td>\n",
       "      <td>1133</td>\n",
       "      <td>3_security_added_dialogue_know</td>\n",
       "    </tr>\n",
       "    <tr>\n",
       "      <th>5</th>\n",
       "      <td>4</td>\n",
       "      <td>1123</td>\n",
       "      <td>4_putin_severe_video_consequences</td>\n",
       "    </tr>\n",
       "    <tr>\n",
       "      <th>6</th>\n",
       "      <td>5</td>\n",
       "      <td>1009</td>\n",
       "      <td>5_volodymyr_vladimir zelensky_turkey_erdogan</td>\n",
       "    </tr>\n",
       "    <tr>\n",
       "      <th>7</th>\n",
       "      <td>6</td>\n",
       "      <td>941</td>\n",
       "      <td>6_antony blinken_secretary_lavrov_borrell</td>\n",
       "    </tr>\n",
       "    <tr>\n",
       "      <th>8</th>\n",
       "      <td>7</td>\n",
       "      <td>795</td>\n",
       "      <td>7_truss_minister sergey_sergei lavrov_liz</td>\n",
       "    </tr>\n",
       "    <tr>\n",
       "      <th>9</th>\n",
       "      <td>8</td>\n",
       "      <td>783</td>\n",
       "      <td>8_gazprom_natural_prices_moldova</td>\n",
       "    </tr>\n",
       "    <tr>\n",
       "      <th>10</th>\n",
       "      <td>9</td>\n",
       "      <td>654</td>\n",
       "      <td>9_repeatedly_dismissed_accusations_right</td>\n",
       "    </tr>\n",
       "    <tr>\n",
       "      <th>11</th>\n",
       "      <td>10</td>\n",
       "      <td>619</td>\n",
       "      <td>10_border_troop_accused_weeks</td>\n",
       "    </tr>\n",
       "    <tr>\n",
       "      <th>12</th>\n",
       "      <td>11</td>\n",
       "      <td>616</td>\n",
       "      <td>11_covid19_deaths_people_fully vaccinated</td>\n",
       "    </tr>\n",
       "    <tr>\n",
       "      <th>13</th>\n",
       "      <td>12</td>\n",
       "      <td>547</td>\n",
       "      <td>12_leave_diplomats_department_families</td>\n",
       "    </tr>\n",
       "    <tr>\n",
       "      <th>14</th>\n",
       "      <td>13</td>\n",
       "      <td>506</td>\n",
       "      <td>13_agreements_accords_implementation minsk_kyiv</td>\n",
       "    </tr>\n",
       "    <tr>\n",
       "      <th>15</th>\n",
       "      <td>14</td>\n",
       "      <td>504</td>\n",
       "      <td>14_million_summoned russian_british aid_report...</td>\n",
       "    </tr>\n",
       "    <tr>\n",
       "      <th>16</th>\n",
       "      <td>15</td>\n",
       "      <td>495</td>\n",
       "      <td>15_peskov_kremlin spokesman_groundless_castigated</td>\n",
       "    </tr>\n",
       "    <tr>\n",
       "      <th>17</th>\n",
       "      <td>16</td>\n",
       "      <td>491</td>\n",
       "      <td>16_near_russian troops_massed_amassed</td>\n",
       "    </tr>\n",
       "    <tr>\n",
       "      <th>18</th>\n",
       "      <td>17</td>\n",
       "      <td>475</td>\n",
       "      <td>17_peoples_lpr_shelling_selfproclaimed</td>\n",
       "    </tr>\n",
       "    <tr>\n",
       "      <th>19</th>\n",
       "      <td>18</td>\n",
       "      <td>455</td>\n",
       "      <td>18_people_situation ukraine_noted_going</td>\n",
       "    </tr>\n",
       "    <tr>\n",
       "      <th>20</th>\n",
       "      <td>19</td>\n",
       "      <td>451</td>\n",
       "      <td>19_ransomware_government websites_ministry_revil</td>\n",
       "    </tr>\n",
       "    <tr>\n",
       "      <th>21</th>\n",
       "      <td>20</td>\n",
       "      <td>446</td>\n",
       "      <td>20_cubic meters_energy_gas prices_year</td>\n",
       "    </tr>\n",
       "    <tr>\n",
       "      <th>22</th>\n",
       "      <td>21</td>\n",
       "      <td>443</td>\n",
       "      <td>21_west kyiv_recently_invasion ukraine_potential</td>\n",
       "    </tr>\n",
       "    <tr>\n",
       "      <th>23</th>\n",
       "      <td>22</td>\n",
       "      <td>414</td>\n",
       "      <td>22_eastern_flank_countries_expansion</td>\n",
       "    </tr>\n",
       "    <tr>\n",
       "      <th>24</th>\n",
       "      <td>23</td>\n",
       "      <td>388</td>\n",
       "      <td>23_ukrainian_direct dialogue_military_special ...</td>\n",
       "    </tr>\n",
       "    <tr>\n",
       "      <th>25</th>\n",
       "      <td>24</td>\n",
       "      <td>387</td>\n",
       "      <td>24_southeastern ukraine_rule_claims warned_for...</td>\n",
       "    </tr>\n",
       "    <tr>\n",
       "      <th>26</th>\n",
       "      <td>25</td>\n",
       "      <td>384</td>\n",
       "      <td>25_talks_stoltenberg_security_russianato</td>\n",
       "    </tr>\n",
       "    <tr>\n",
       "      <th>27</th>\n",
       "      <td>26</td>\n",
       "      <td>370</td>\n",
       "      <td>26_group_world cup_play_points</td>\n",
       "    </tr>\n",
       "    <tr>\n",
       "      <th>28</th>\n",
       "      <td>27</td>\n",
       "      <td>368</td>\n",
       "      <td>27_exercises_ministry_joint_defense</td>\n",
       "    </tr>\n",
       "    <tr>\n",
       "      <th>29</th>\n",
       "      <td>28</td>\n",
       "      <td>359</td>\n",
       "      <td>28_normandy format_conflict_minsk agreements_p...</td>\n",
       "    </tr>\n",
       "    <tr>\n",
       "      <th>30</th>\n",
       "      <td>29</td>\n",
       "      <td>356</td>\n",
       "      <td>29_guarantees_draft agreements_17_eastward</td>\n",
       "    </tr>\n",
       "    <tr>\n",
       "      <th>31</th>\n",
       "      <td>30</td>\n",
       "      <td>352</td>\n",
       "      <td>30_mikheil_absentia_city_georgian dream</td>\n",
       "    </tr>\n",
       "    <tr>\n",
       "      <th>32</th>\n",
       "      <td>31</td>\n",
       "      <td>348</td>\n",
       "      <td>31_emmanuel_french_phone_mr</td>\n",
       "    </tr>\n",
       "    <tr>\n",
       "      <th>33</th>\n",
       "      <td>32</td>\n",
       "      <td>347</td>\n",
       "      <td>32_2014_russia annexed_ukraines_separatist</td>\n",
       "    </tr>\n",
       "    <tr>\n",
       "      <th>34</th>\n",
       "      <td>33</td>\n",
       "      <td>346</td>\n",
       "      <td>33_mount whitney_fighter_warships_jets</td>\n",
       "    </tr>\n",
       "    <tr>\n",
       "      <th>35</th>\n",
       "      <td>34</td>\n",
       "      <td>345</td>\n",
       "      <td>34_lukashenko_eu_president alexander_cross</td>\n",
       "    </tr>\n",
       "    <tr>\n",
       "      <th>36</th>\n",
       "      <td>35</td>\n",
       "      <td>329</td>\n",
       "      <td>35_rates_points_500_fell</td>\n",
       "    </tr>\n",
       "    <tr>\n",
       "      <th>37</th>\n",
       "      <td>36</td>\n",
       "      <td>326</td>\n",
       "      <td>36_xi_strategic_global_washington</td>\n",
       "    </tr>\n",
       "    <tr>\n",
       "      <th>38</th>\n",
       "      <td>37</td>\n",
       "      <td>319</td>\n",
       "      <td>37_14000_people killed_conflict_civilian</td>\n",
       "    </tr>\n",
       "    <tr>\n",
       "      <th>39</th>\n",
       "      <td>38</td>\n",
       "      <td>318</td>\n",
       "      <td>38_prime_minister boris_mr_downing</td>\n",
       "    </tr>\n",
       "    <tr>\n",
       "      <th>40</th>\n",
       "      <td>39</td>\n",
       "      <td>308</td>\n",
       "      <td>39_romania_troops poland_eastern_additional</td>\n",
       "    </tr>\n",
       "  </tbody>\n",
       "</table>\n",
       "</div>"
      ],
      "text/plain": [
       "    Topic  Count                                               Name\n",
       "0      -1  34435                    -1_ukraine_nato_security_forces\n",
       "1       0   2338                0_sides_dialogue_diplomacy_security\n",
       "2       1   1482              1_sanctions russia_economic_swift_new\n",
       "3       2   1231                2_nord_stream_project_certification\n",
       "4       3   1133                     3_security_added_dialogue_know\n",
       "5       4   1123                  4_putin_severe_video_consequences\n",
       "6       5   1009       5_volodymyr_vladimir zelensky_turkey_erdogan\n",
       "7       6    941          6_antony blinken_secretary_lavrov_borrell\n",
       "8       7    795          7_truss_minister sergey_sergei lavrov_liz\n",
       "9       8    783                   8_gazprom_natural_prices_moldova\n",
       "10      9    654           9_repeatedly_dismissed_accusations_right\n",
       "11     10    619                      10_border_troop_accused_weeks\n",
       "12     11    616          11_covid19_deaths_people_fully vaccinated\n",
       "13     12    547             12_leave_diplomats_department_families\n",
       "14     13    506    13_agreements_accords_implementation minsk_kyiv\n",
       "15     14    504  14_million_summoned russian_british aid_report...\n",
       "16     15    495  15_peskov_kremlin spokesman_groundless_castigated\n",
       "17     16    491              16_near_russian troops_massed_amassed\n",
       "18     17    475             17_peoples_lpr_shelling_selfproclaimed\n",
       "19     18    455            18_people_situation ukraine_noted_going\n",
       "20     19    451   19_ransomware_government websites_ministry_revil\n",
       "21     20    446             20_cubic meters_energy_gas prices_year\n",
       "22     21    443   21_west kyiv_recently_invasion ukraine_potential\n",
       "23     22    414               22_eastern_flank_countries_expansion\n",
       "24     23    388  23_ukrainian_direct dialogue_military_special ...\n",
       "25     24    387  24_southeastern ukraine_rule_claims warned_for...\n",
       "26     25    384           25_talks_stoltenberg_security_russianato\n",
       "27     26    370                     26_group_world cup_play_points\n",
       "28     27    368                27_exercises_ministry_joint_defense\n",
       "29     28    359  28_normandy format_conflict_minsk agreements_p...\n",
       "30     29    356         29_guarantees_draft agreements_17_eastward\n",
       "31     30    352            30_mikheil_absentia_city_georgian dream\n",
       "32     31    348                        31_emmanuel_french_phone_mr\n",
       "33     32    347         32_2014_russia annexed_ukraines_separatist\n",
       "34     33    346             33_mount whitney_fighter_warships_jets\n",
       "35     34    345         34_lukashenko_eu_president alexander_cross\n",
       "36     35    329                           35_rates_points_500_fell\n",
       "37     36    326                  36_xi_strategic_global_washington\n",
       "38     37    319           37_14000_people killed_conflict_civilian\n",
       "39     38    318                 38_prime_minister boris_mr_downing\n",
       "40     39    308        39_romania_troops poland_eastern_additional"
      ]
     },
     "execution_count": 212,
     "metadata": {},
     "output_type": "execute_result"
    }
   ],
   "source": [
    "topic_model.get_topic_info()"
   ]
  },
  {
   "cell_type": "markdown",
   "id": "785a123a-cfbe-4e25-a5b2-8067e0001a87",
   "metadata": {
    "id": "785a123a-cfbe-4e25-a5b2-8067e0001a87",
    "tags": []
   },
   "source": [
    "### Print topics and keywords"
   ]
  },
  {
   "cell_type": "code",
   "execution_count": 214,
   "id": "ec10116a-e94a-40de-862d-fc372991147a",
   "metadata": {
    "id": "ec10116a-e94a-40de-862d-fc372991147a",
    "outputId": "0c10dde0-8933-4131-ca63-fbbefe7d636e",
    "tags": []
   },
   "outputs": [
    {
     "name": "stdout",
     "output_type": "stream",
     "text": [
      "0 2338 1407 sides dialogue diplomacy security time believe ready possible going says\n",
      "1 1482 1625 sanctions russia economic swift new european individuals bank restrictions allies measures\n",
      "2 1231 866 nord stream project certification sanctions completed baltic sea regulator natural pipeline russia\n",
      "3 1133 537 security added dialogue know president putin diplomatic mr west war path\n",
      "4 1123 14345 putin severe video consequences invasion bidens tuesday warned white house\n",
      "5 1009 1035 volodymyr vladimir zelensky turkey erdogan spoke kyiv ukraines president russian biden meeting\n",
      "6 941 904 antony blinken secretary lavrov borrell meeting ukraine minister sergey chief josep eu foreign policy\n",
      "7 795 926 truss minister sergey sergei lavrov liz security talks russias deputy foreign guarantees west\n",
      "8 783 2330 gazprom natural prices moldova transit lng company gas supplies winter capacity\n",
      "9 654 5916 repeatedly dismissed accusations right natos military plans activity near borders moscow denied threat national\n",
      "10 619 4537 border troop accused weeks past western tensions ukraine buildup near preparation russian\n",
      "11 616 962 covid19 deaths people fully vaccinated cariprazine vraylar hospital reported certificates 41 million\n",
      "12 547 776 leave diplomats department families ordered american travel nonessential evacuate embassy ukraine\n",
      "13 506 765 agreements accords implementation minsk kyiv package measures donbasss 2015 basis process political\n",
      "14 504 505 million summoned russian british aid reports death kelin express office friday worker andrei ambassador deep\n",
      "15 495 636 peskov kremlin spokesman groundless castigated did pose serving ploy threat whatsoever claims unfounded escalate tensions russia did\n",
      "16 491 371 near russian troops massed amassed ukraines border invasion intelligence 150000 forces officials\n",
      "17 475 2026 peoples lpr shelling selfproclaimed denis pushilin forces announced evacuation friday luhansk donetsk donbasss\n",
      "18 455 359 people situation ukraine noted going threat like problem added force democracy\n",
      "19 451 524 ransomware government websites ministry revil data national critical infrastructure hacking offline russian\n",
      "20 446 543 cubic meters energy gas prices year supplies benchmark european bln brent transit ukraine\n",
      "21 443 466 west kyiv recently invasion ukraine potential allegations russias spreading statements west echoing claims flurry statements\n",
      "22 414 281 eastern flank countries expansion member 1949 nato alliance protect clear wants\n",
      "23 388 887 ukrainian direct dialogue military special status conflict donbasss luhansk situation region offensive settlement\n",
      "24 387 386 southeastern ukraine rule claims warned force resolve possibility provocations did crisis consequences peskov aimed justifying use military\n",
      "25 384 628 talks stoltenberg security russianato january 12 natorussia council 10 jens consultations osce permanent\n",
      "26 370 563 group world cup play points second wales champions nations league qualification home\n",
      "27 368 2923 exercises ministry joint defense border belarus bases helicopter southern miles war games\n",
      "28 359 564 normandy format conflict minsk agreements paris political advisers donbasss talks summit germany russia quartet\n",
      "29 356 1873 guarantees draft agreements 17 eastward expansion ensuring security published ministry released member states 2021 russian\n",
      "30 352 2146 mikheil absentia city georgian dream saakashvili detained rustavi irakli president south ossetia court sentenced\n",
      "31 348 297 emmanuel french phone mr monday meeting spoke putin macron palace ukraine\n",
      "32 347 1137 2014 russia annexed ukraines separatist seized crimea peninsula east locked backed rebellion\n",
      "33 346 936 mount whitney fighter warships jets nato ministry danish command porter air\n",
      "34 345 727 lukashenko eu president alexander cross migration sanctions accused middle hybrid border poland\n",
      "35 329 912 rates points 500 fell dow jones industrial average central reserve forecast pandemic\n",
      "36 326 392 xi strategic global washington relations china security island russias closer trade\n",
      "37 319 298 14000 people killed conflict civilian damaged industrial heartland ukrainian seven years facilities eastern\n",
      "38 318 523 prime minister boris mr downing johnsons street europe office conservative russian\n",
      "39 308 502 romania troops poland eastern additional fort units biden bragg pentagon 3000\n"
     ]
    }
   ],
   "source": [
    "# estimates for top\n",
    "topicEstimates = []\n",
    "topicDocCts = dict()\n",
    "for i, doc in enumerate(docs):\n",
    "    topicNum = np.argmax(probs[i,:])\n",
    "    topicDocCts.setdefault(topicNum, 0)\n",
    "    topicDocCts[topicNum] += 1\n",
    "\n",
    "id2keywords = dict()\n",
    "for i in range(len(topic_model.get_topic_info())-1):\n",
    "    keys = ' '.join([key for key, prob in topic_model.get_topic(i)])\n",
    "    id2keywords[i] = keys\n",
    "    print(i, topic_model.get_topic_freq(i), topicDocCts[i],keys)"
   ]
  },
  {
   "cell_type": "markdown",
   "id": "e5024331-9a8a-4fde-818a-9136cb1f8cf6",
   "metadata": {},
   "source": [
    "#### Outliers with different prob threshold"
   ]
  },
  {
   "cell_type": "code",
   "execution_count": 217,
   "id": "501e1541-6216-48b1-bdf2-9f428e34572f",
   "metadata": {
    "tags": []
   },
   "outputs": [
    {
     "name": "stdout",
     "output_type": "stream",
     "text": [
      "10593 outliers with threshold of 0.01\n",
      "this is 0.18158598464070214\n",
      "CPU times: user 277 ms, sys: 31 ms, total: 308 ms\n",
      "Wall time: 477 ms\n"
     ]
    }
   ],
   "source": [
    "%%time\n",
    "probability_threshold = .01\n",
    "new_topics = [np.argmax(prob) if max(prob) >= probability_threshold else -1 for prob in probs]\n",
    "\n",
    "print(new_topics.count(-1), 'outliers with threshold of', probability_threshold)\n",
    "print('this is', new_topics.count(-1)/58336)"
   ]
  },
  {
   "cell_type": "markdown",
   "id": "3a2Dbdckqsrd",
   "metadata": {
    "id": "3a2Dbdckqsrd",
    "jp-MarkdownHeadingCollapsed": true,
    "tags": []
   },
   "source": [
    "## Topic evaluation"
   ]
  },
  {
   "cell_type": "markdown",
   "id": "n4qvuSS6qvOM",
   "metadata": {
    "id": "n4qvuSS6qvOM"
   },
   "source": [
    "### Topic Coherence"
   ]
  },
  {
   "cell_type": "code",
   "execution_count": 206,
   "id": "ee6845ba-a6db-4a64-85e8-c7c10b923be2",
   "metadata": {
    "collapsed": true,
    "id": "ee6845ba-a6db-4a64-85e8-c7c10b923be2",
    "jupyter": {
     "outputs_hidden": true
    },
    "outputId": "227dfe6b-9df7-4b5e-ca72-877361fcbec7",
    "tags": []
   },
   "outputs": [
    {
     "name": "stdout",
     "output_type": "stream",
     "text": [
      "cleaned docs\n",
      "vectorizer/analyser\n"
     ]
    },
    {
     "ename": "TypeError",
     "evalue": "'bool' object is not iterable",
     "output_type": "error",
     "traceback": [
      "\u001b[0;31m---------------------------------------------------------------------------\u001b[0m",
      "\u001b[0;31mTypeError\u001b[0m                                 Traceback (most recent call last)",
      "\u001b[0;32m<timed exec>\u001b[0m in \u001b[0;36m<module>\u001b[0;34m\u001b[0m\n",
      "\u001b[0;32m/var/folders/jj/_szc94p56q91q_7c209d1d9w0000gn/T/ipykernel_91411/2538703304.py\u001b[0m in \u001b[0;36mget_coherence\u001b[0;34m(topic_model, topics, probs)\u001b[0m\n\u001b[1;32m     23\u001b[0m     \u001b[0mdictionary\u001b[0m \u001b[0;34m=\u001b[0m \u001b[0mcorpora\u001b[0m\u001b[0;34m.\u001b[0m\u001b[0mDictionary\u001b[0m\u001b[0;34m(\u001b[0m\u001b[0mtokens\u001b[0m\u001b[0;34m)\u001b[0m\u001b[0;34m\u001b[0m\u001b[0;34m\u001b[0m\u001b[0m\n\u001b[1;32m     24\u001b[0m     \u001b[0mcorpus\u001b[0m \u001b[0;34m=\u001b[0m \u001b[0;34m[\u001b[0m\u001b[0mdictionary\u001b[0m\u001b[0;34m.\u001b[0m\u001b[0mdoc2bow\u001b[0m\u001b[0;34m(\u001b[0m\u001b[0mtoken\u001b[0m\u001b[0;34m)\u001b[0m \u001b[0;32mfor\u001b[0m \u001b[0mtoken\u001b[0m \u001b[0;32min\u001b[0m \u001b[0mtokens\u001b[0m\u001b[0;34m]\u001b[0m\u001b[0;34m\u001b[0m\u001b[0;34m\u001b[0m\u001b[0m\n\u001b[0;32m---> 25\u001b[0;31m     topic_words = [[words for words, _ in topic_model.get_topic(topic)] \n\u001b[0m\u001b[1;32m     26\u001b[0m                    for topic in range(len(set(topics))-1)]\n\u001b[1;32m     27\u001b[0m     \u001b[0mprint\u001b[0m\u001b[0;34m(\u001b[0m\u001b[0;34m'extract features for evaluation'\u001b[0m\u001b[0;34m)\u001b[0m\u001b[0;34m\u001b[0m\u001b[0;34m\u001b[0m\u001b[0m\n",
      "\u001b[0;32m/var/folders/jj/_szc94p56q91q_7c209d1d9w0000gn/T/ipykernel_91411/2538703304.py\u001b[0m in \u001b[0;36m<listcomp>\u001b[0;34m(.0)\u001b[0m\n\u001b[1;32m     23\u001b[0m     \u001b[0mdictionary\u001b[0m \u001b[0;34m=\u001b[0m \u001b[0mcorpora\u001b[0m\u001b[0;34m.\u001b[0m\u001b[0mDictionary\u001b[0m\u001b[0;34m(\u001b[0m\u001b[0mtokens\u001b[0m\u001b[0;34m)\u001b[0m\u001b[0;34m\u001b[0m\u001b[0;34m\u001b[0m\u001b[0m\n\u001b[1;32m     24\u001b[0m     \u001b[0mcorpus\u001b[0m \u001b[0;34m=\u001b[0m \u001b[0;34m[\u001b[0m\u001b[0mdictionary\u001b[0m\u001b[0;34m.\u001b[0m\u001b[0mdoc2bow\u001b[0m\u001b[0;34m(\u001b[0m\u001b[0mtoken\u001b[0m\u001b[0;34m)\u001b[0m \u001b[0;32mfor\u001b[0m \u001b[0mtoken\u001b[0m \u001b[0;32min\u001b[0m \u001b[0mtokens\u001b[0m\u001b[0;34m]\u001b[0m\u001b[0;34m\u001b[0m\u001b[0;34m\u001b[0m\u001b[0m\n\u001b[0;32m---> 25\u001b[0;31m     topic_words = [[words for words, _ in topic_model.get_topic(topic)] \n\u001b[0m\u001b[1;32m     26\u001b[0m                    for topic in range(len(set(topics))-1)]\n\u001b[1;32m     27\u001b[0m     \u001b[0mprint\u001b[0m\u001b[0;34m(\u001b[0m\u001b[0;34m'extract features for evaluation'\u001b[0m\u001b[0;34m)\u001b[0m\u001b[0;34m\u001b[0m\u001b[0;34m\u001b[0m\u001b[0m\n",
      "\u001b[0;31mTypeError\u001b[0m: 'bool' object is not iterable"
     ]
    }
   ],
   "source": [
    "%%time\n",
    "original_coh = get_coherence(topic_model, topics, probs)"
   ]
  },
  {
   "cell_type": "markdown",
   "id": "Rfc8Pm56qydh",
   "metadata": {
    "id": "Rfc8Pm56qydh"
   },
   "source": [
    "### Inter-cluster similarity"
   ]
  },
  {
   "cell_type": "code",
   "execution_count": 63,
   "id": "tc-d8B1oq2LD",
   "metadata": {
    "id": "tc-d8B1oq2LD"
   },
   "outputs": [
    {
     "name": "stdout",
     "output_type": "stream",
     "text": [
      "11396 outliers with threshold of 0.01\n",
      "now calculating cosine similarities\n",
      "intercluster average is 0.8685085737059461\n",
      "CPU times: user 9.3 s, sys: 3.88 s, total: 13.2 s\n",
      "Wall time: 4.08 s\n"
     ]
    }
   ],
   "source": [
    "%%time\n",
    "from sklearn.metrics.pairwise import cosine_similarity\n",
    "\n",
    "probability_threshold = .01\n",
    "new_topics = [np.argmax(prob) if max(prob) >= probability_threshold else -1 for prob in probs]\n",
    "\n",
    "print(new_topics.count(-1), 'outliers with threshold of', probability_threshold)\n",
    "\n",
    "topicVectorDict = dict()\n",
    "for i, topic in enumerate(new_topics):\n",
    "    topicVectorDict.setdefault(topic, [])\n",
    "    topicVectorDict[topic].append(probs[i])\n",
    "\n",
    "# for i in topicVectorDict:\n",
    "    # print(len(topicVectorDict[i]))\n",
    "print('now calculating cosine similarities')\n",
    "clusterAvgs = []\n",
    "for topicIdx in topicVectorDict:\n",
    "    similarities = cosine_similarity(topicVectorDict[topicIdx])\n",
    "    simList = []\n",
    "    for i in range(similarities.shape[0]):\n",
    "        simList.append(np.average(similarities[i,i:]))\n",
    "    interclusteravg = np.average(simList)\n",
    "    clusterAvgs.append(interclusteravg)\n",
    "print('intercluster average is', np.average(clusterAvgs))"
   ]
  },
  {
   "cell_type": "markdown",
   "id": "7I3Dvnx2uqsF",
   "metadata": {
    "id": "7I3Dvnx2uqsF",
    "tags": []
   },
   "source": [
    "## Article topic probabilities"
   ]
  },
  {
   "cell_type": "markdown",
   "id": "d2796274-b1cd-4464-b75b-0bf27bc94059",
   "metadata": {
    "id": "IZAOppzBu9Lr"
   },
   "source": [
    "### Add document probability to original dataframe"
   ]
  },
  {
   "cell_type": "code",
   "execution_count": 169,
   "id": "f99f13d0-0916-47e1-b292-9b474e7dd888",
   "metadata": {},
   "outputs": [],
   "source": [
    "# create sentence df\n",
    "# originalSentDf = pd.DataFrame.from_records(listBySent)\n",
    "# originalSentDf.head()"
   ]
  },
  {
   "cell_type": "code",
   "execution_count": 264,
   "id": "ba5a63a2-0c9a-442d-8c4d-c28e88f40271",
   "metadata": {},
   "outputs": [],
   "source": [
    "# copy sentence df in case things go wrong\n",
    "# sentDf = originalSentDf.copy(deep=True)\n",
    "articleDf = df.copy(deep=True)\n",
    "articleDf = articleDf.reset_index()"
   ]
  },
  {
   "cell_type": "code",
   "execution_count": 265,
   "id": "54280d40-821b-4dcd-9f7b-a6c1f728d1ba",
   "metadata": {},
   "outputs": [
    {
     "data": {
      "text/html": [
       "<div>\n",
       "<style scoped>\n",
       "    .dataframe tbody tr th:only-of-type {\n",
       "        vertical-align: middle;\n",
       "    }\n",
       "\n",
       "    .dataframe tbody tr th {\n",
       "        vertical-align: top;\n",
       "    }\n",
       "\n",
       "    .dataframe thead th {\n",
       "        text-align: right;\n",
       "    }\n",
       "</style>\n",
       "<table border=\"1\" class=\"dataframe\">\n",
       "  <thead>\n",
       "    <tr style=\"text-align: right;\">\n",
       "      <th></th>\n",
       "      <th>newsOutlet</th>\n",
       "      <th>dateSeen</th>\n",
       "      <th>url</th>\n",
       "      <th>title</th>\n",
       "      <th>language</th>\n",
       "      <th>sourceCountry</th>\n",
       "      <th>text</th>\n",
       "      <th>category</th>\n",
       "      <th>textCharCt</th>\n",
       "    </tr>\n",
       "  </thead>\n",
       "  <tbody>\n",
       "    <tr>\n",
       "      <th>0</th>\n",
       "      <td>apnews.com</td>\n",
       "      <td>2021-10-12 07:00:00</td>\n",
       "      <td>https://apnews.com/article/technology-business...</td>\n",
       "      <td>EU , Ukraine to discuss military training and ...</td>\n",
       "      <td>English</td>\n",
       "      <td>United States</td>\n",
       "      <td>BRUSSELS (AP) — The European Union is consider...</td>\n",
       "      <td>western</td>\n",
       "      <td>3318.0</td>\n",
       "    </tr>\n",
       "    <tr>\n",
       "      <th>1</th>\n",
       "      <td>apnews.com</td>\n",
       "      <td>2021-10-12 07:00:00</td>\n",
       "      <td>https://apnews.com/cdfd9b277f6bade5697e0427429...</td>\n",
       "      <td>Blinken reaffirms US support for Ukraine amid ...</td>\n",
       "      <td>English</td>\n",
       "      <td>United States</td>\n",
       "      <td>KYIV, Ukraine (AP) — U.S. Secretary of State A...</td>\n",
       "      <td>western</td>\n",
       "      <td>6032.0</td>\n",
       "    </tr>\n",
       "    <tr>\n",
       "      <th>2</th>\n",
       "      <td>apnews.com</td>\n",
       "      <td>2021-10-11 07:00:00</td>\n",
       "      <td>https://apnews.com/90b50e622cefcbaeba96cb5e716...</td>\n",
       "      <td>EU , Ukraine to discuss military training and ...</td>\n",
       "      <td>English</td>\n",
       "      <td>United States</td>\n",
       "      <td>BRUSSELS (AP) — The European Union is consider...</td>\n",
       "      <td>western</td>\n",
       "      <td>3318.0</td>\n",
       "    </tr>\n",
       "    <tr>\n",
       "      <th>3</th>\n",
       "      <td>apnews.com</td>\n",
       "      <td>2021-10-06 07:00:00</td>\n",
       "      <td>https://apnews.com/0b689a7baaac58603e4d7453aa5...</td>\n",
       "      <td>Ukraine Holocaust center names Nazi Babi Yar k...</td>\n",
       "      <td>English</td>\n",
       "      <td>United States</td>\n",
       "      <td>KYIV, Ukraine (AP) — The presidents of Ukraine...</td>\n",
       "      <td>western</td>\n",
       "      <td>3646.0</td>\n",
       "    </tr>\n",
       "    <tr>\n",
       "      <th>4</th>\n",
       "      <td>apnews.com</td>\n",
       "      <td>2021-10-13 07:00:00</td>\n",
       "      <td>https://apnews.com/89d2455274aad5fe166445a5f82...</td>\n",
       "      <td>Ukraine separatist areas overwhelmed by soarin...</td>\n",
       "      <td>English</td>\n",
       "      <td>United States</td>\n",
       "      <td>KYIV, Ukraine (AP) — The Russia-backed separat...</td>\n",
       "      <td>western</td>\n",
       "      <td>2184.0</td>\n",
       "    </tr>\n",
       "  </tbody>\n",
       "</table>\n",
       "</div>"
      ],
      "text/plain": [
       "   newsOutlet             dateSeen  \\\n",
       "0  apnews.com  2021-10-12 07:00:00   \n",
       "1  apnews.com  2021-10-12 07:00:00   \n",
       "2  apnews.com  2021-10-11 07:00:00   \n",
       "3  apnews.com  2021-10-06 07:00:00   \n",
       "4  apnews.com  2021-10-13 07:00:00   \n",
       "\n",
       "                                                 url  \\\n",
       "0  https://apnews.com/article/technology-business...   \n",
       "1  https://apnews.com/cdfd9b277f6bade5697e0427429...   \n",
       "2  https://apnews.com/90b50e622cefcbaeba96cb5e716...   \n",
       "3  https://apnews.com/0b689a7baaac58603e4d7453aa5...   \n",
       "4  https://apnews.com/89d2455274aad5fe166445a5f82...   \n",
       "\n",
       "                                               title language  sourceCountry  \\\n",
       "0  EU , Ukraine to discuss military training and ...  English  United States   \n",
       "1  Blinken reaffirms US support for Ukraine amid ...  English  United States   \n",
       "2  EU , Ukraine to discuss military training and ...  English  United States   \n",
       "3  Ukraine Holocaust center names Nazi Babi Yar k...  English  United States   \n",
       "4  Ukraine separatist areas overwhelmed by soarin...  English  United States   \n",
       "\n",
       "                                                text category  textCharCt  \n",
       "0  BRUSSELS (AP) — The European Union is consider...  western      3318.0  \n",
       "1  KYIV, Ukraine (AP) — U.S. Secretary of State A...  western      6032.0  \n",
       "2  BRUSSELS (AP) — The European Union is consider...  western      3318.0  \n",
       "3  KYIV, Ukraine (AP) — The presidents of Ukraine...  western      3646.0  \n",
       "4  KYIV, Ukraine (AP) — The Russia-backed separat...  western      2184.0  "
      ]
     },
     "execution_count": 265,
     "metadata": {},
     "output_type": "execute_result"
    }
   ],
   "source": [
    "del articleDf['index']\n",
    "articleDf.head()"
   ]
  },
  {
   "cell_type": "code",
   "execution_count": 266,
   "id": "dbee7344-bd0c-437d-8c1c-907557cda9ae",
   "metadata": {},
   "outputs": [
    {
     "data": {
      "text/html": [
       "<div>\n",
       "<style scoped>\n",
       "    .dataframe tbody tr th:only-of-type {\n",
       "        vertical-align: middle;\n",
       "    }\n",
       "\n",
       "    .dataframe tbody tr th {\n",
       "        vertical-align: top;\n",
       "    }\n",
       "\n",
       "    .dataframe thead th {\n",
       "        text-align: right;\n",
       "    }\n",
       "</style>\n",
       "<table border=\"1\" class=\"dataframe\">\n",
       "  <thead>\n",
       "    <tr style=\"text-align: right;\">\n",
       "      <th></th>\n",
       "      <th>newsOutlet</th>\n",
       "      <th>dateSeen</th>\n",
       "      <th>url</th>\n",
       "      <th>title</th>\n",
       "      <th>language</th>\n",
       "      <th>sourceCountry</th>\n",
       "      <th>text</th>\n",
       "      <th>category</th>\n",
       "      <th>textCharCt</th>\n",
       "    </tr>\n",
       "  </thead>\n",
       "  <tbody>\n",
       "    <tr>\n",
       "      <th>3536</th>\n",
       "      <td>themoscowtimes.com</td>\n",
       "      <td>1642060800</td>\n",
       "      <td>https://www.themoscowtimes.com/2022/01/13/sanc...</td>\n",
       "      <td>Sanctions on Putin Would be Step Too Far , Kre...</td>\n",
       "      <td>English</td>\n",
       "      <td>Russia</td>\n",
       "      <td>The United States’ plans to levy sanctions aga...</td>\n",
       "      <td>moscowtimes</td>\n",
       "      <td>NaN</td>\n",
       "    </tr>\n",
       "    <tr>\n",
       "      <th>3537</th>\n",
       "      <td>themoscowtimes.com</td>\n",
       "      <td>1641801600</td>\n",
       "      <td>https://www.themoscowtimes.com/2022/01/10/news...</td>\n",
       "      <td>News From Russia : What You Missed Over the We...</td>\n",
       "      <td>English</td>\n",
       "      <td>Russia</td>\n",
       "      <td>Security talks A top Russian official said he ...</td>\n",
       "      <td>moscowtimes</td>\n",
       "      <td>NaN</td>\n",
       "    </tr>\n",
       "    <tr>\n",
       "      <th>3538</th>\n",
       "      <td>themoscowtimes.com</td>\n",
       "      <td>1642147200</td>\n",
       "      <td>https://www.themoscowtimes.com/2022/01/14/russ...</td>\n",
       "      <td>Russian Diplomat Praises Rappers Ye , Oxxxymir...</td>\n",
       "      <td>English</td>\n",
       "      <td>Russia</td>\n",
       "      <td>Will hip-hop actually save the world? A senior...</td>\n",
       "      <td>moscowtimes</td>\n",
       "      <td>NaN</td>\n",
       "    </tr>\n",
       "    <tr>\n",
       "      <th>3539</th>\n",
       "      <td>themoscowtimes.com</td>\n",
       "      <td>1641801600</td>\n",
       "      <td>https://www.themoscowtimes.com/2022/01/10/kaza...</td>\n",
       "      <td>Kazakhstan Largest City Back Online After Clas...</td>\n",
       "      <td>English</td>\n",
       "      <td>Russia</td>\n",
       "      <td>Kazakhstan's largest city was back online and ...</td>\n",
       "      <td>moscowtimes</td>\n",
       "      <td>NaN</td>\n",
       "    </tr>\n",
       "    <tr>\n",
       "      <th>3540</th>\n",
       "      <td>themoscowtimes.com</td>\n",
       "      <td>1641456000</td>\n",
       "      <td>https://www.themoscowtimes.com/2022/01/06/russ...</td>\n",
       "      <td>Russia Involvement in Kazakhstan Crisis Could ...</td>\n",
       "      <td>English</td>\n",
       "      <td>Russia</td>\n",
       "      <td>Russia’s deployment of troops as part of a mil...</td>\n",
       "      <td>moscowtimes</td>\n",
       "      <td>NaN</td>\n",
       "    </tr>\n",
       "  </tbody>\n",
       "</table>\n",
       "</div>"
      ],
      "text/plain": [
       "              newsOutlet    dateSeen  \\\n",
       "3536  themoscowtimes.com  1642060800   \n",
       "3537  themoscowtimes.com  1641801600   \n",
       "3538  themoscowtimes.com  1642147200   \n",
       "3539  themoscowtimes.com  1641801600   \n",
       "3540  themoscowtimes.com  1641456000   \n",
       "\n",
       "                                                    url  \\\n",
       "3536  https://www.themoscowtimes.com/2022/01/13/sanc...   \n",
       "3537  https://www.themoscowtimes.com/2022/01/10/news...   \n",
       "3538  https://www.themoscowtimes.com/2022/01/14/russ...   \n",
       "3539  https://www.themoscowtimes.com/2022/01/10/kaza...   \n",
       "3540  https://www.themoscowtimes.com/2022/01/06/russ...   \n",
       "\n",
       "                                                  title language  \\\n",
       "3536  Sanctions on Putin Would be Step Too Far , Kre...  English   \n",
       "3537  News From Russia : What You Missed Over the We...  English   \n",
       "3538  Russian Diplomat Praises Rappers Ye , Oxxxymir...  English   \n",
       "3539  Kazakhstan Largest City Back Online After Clas...  English   \n",
       "3540  Russia Involvement in Kazakhstan Crisis Could ...  English   \n",
       "\n",
       "     sourceCountry                                               text  \\\n",
       "3536        Russia  The United States’ plans to levy sanctions aga...   \n",
       "3537        Russia  Security talks A top Russian official said he ...   \n",
       "3538        Russia  Will hip-hop actually save the world? A senior...   \n",
       "3539        Russia  Kazakhstan's largest city was back online and ...   \n",
       "3540        Russia  Russia’s deployment of troops as part of a mil...   \n",
       "\n",
       "         category  textCharCt  \n",
       "3536  moscowtimes         NaN  \n",
       "3537  moscowtimes         NaN  \n",
       "3538  moscowtimes         NaN  \n",
       "3539  moscowtimes         NaN  \n",
       "3540  moscowtimes         NaN  "
      ]
     },
     "execution_count": 266,
     "metadata": {},
     "output_type": "execute_result"
    }
   ],
   "source": [
    "articleDf.tail()"
   ]
  },
  {
   "cell_type": "code",
   "execution_count": 267,
   "id": "0212cec9-860c-41bf-9812-96847c2413f5",
   "metadata": {},
   "outputs": [],
   "source": [
    "# get topic keywords based on ID number\n",
    "topicID2keys = dict()\n",
    "for idx in range(len(topic_model.get_topic_info())-1):\n",
    "    keys = ' '.join([key for key, prob in topic_model.get_topic(idx)])\n",
    "    topicID2keys[idx] = keys"
   ]
  },
  {
   "cell_type": "code",
   "execution_count": 268,
   "id": "ZVHghI5VuuD9",
   "metadata": {
    "id": "ZVHghI5VuuD9"
   },
   "outputs": [
    {
     "name": "stdout",
     "output_type": "stream",
     "text": [
      "10593 outliers with threshold of 0.01 \n",
      "\n",
      "populated article2sents with topicIDs\n",
      "collecting article topic records\n",
      "articleTopicRecords written\n"
     ]
    }
   ],
   "source": [
    "# set probability threshold and add sentences according to their max prob\n",
    "probability_threshold = .01\n",
    "new_topics = [np.argmax(prob) if max(prob) >= probability_threshold else -1 for prob in probs]\n",
    "\n",
    "print(new_topics.count(-1), 'outliers with threshold of', probability_threshold,'\\n')\n",
    "\n",
    "# topicID -> list of indices (the indices correspond to indices of sents in listBySent which are in that topic)\n",
    "topicVectorDict = dict()\n",
    "for i, topicID in enumerate(new_topics):\n",
    "    topicVectorDict.setdefault(topicID, [])\n",
    "    topicVectorDict[topicID].append(i)\n",
    "\n",
    "# for each specific topicID\n",
    "for topicID in topicVectorDict:\n",
    "    # for each sent in topic group\n",
    "    for sentIdx in topicVectorDict[topicID]:\n",
    "        articleIdx = listBySent[sentIdx]['index']\n",
    "        articleSentIdx = listBySent[sentIdx]['sentIndexInText']\n",
    "        # set topicID in article list\n",
    "        article2sents[articleIdx][articleSentIdx]['topic'] = topicID\n",
    "    \n",
    "print('populated article2sents with topicIDs')\n",
    "\n",
    "print('collecting article topic records')\n",
    "articleTopicRecords = []\n",
    "\n",
    "# get max topic per article\n",
    "for articleIdx in article2sents.keys():\n",
    "    articleTopicRec = dict()\n",
    "    articleTopicRec['majorityTopic'] = -2\n",
    "    topicIDcts = dict()\n",
    "    topicIDcts.setdefault(-1,0)\n",
    "    for topicID in topicID2keys:\n",
    "        topicIDcts.setdefault(topicID,0)\n",
    "    for sent in article2sents[articleIdx]:\n",
    "        topicID = sent['topic']\n",
    "        topicIDcts[topicID] += 1\n",
    "    # set topic counts in rows in article df \n",
    "    for topicID in topicIDcts:\n",
    "        articleTopicRec.setdefault(f'topic_{topicID}', 0)\n",
    "        articleTopicRec[f'topic_{topicID}'] = str(topicIDcts[topicID])\n",
    "    # set majority topic label\n",
    "    articleTopicRec['majorityTopic'] = str(max(topicIDcts, key=topicIDcts.get))\n",
    "    articleTopicRecords.append(articleTopicRec)\n",
    "print('articleTopicRecords written')\n",
    "\n",
    "topicDf = pd.DataFrame.from_records(articleTopicRecords)\n",
    "topicArticleDf = pd.concat([articleDf, topicDf],axis=1)\n"
   ]
  },
  {
   "cell_type": "code",
   "execution_count": 269,
   "id": "18d6df8b-f4b3-422b-8feb-da978bd50875",
   "metadata": {},
   "outputs": [
    {
     "data": {
      "text/html": [
       "<div>\n",
       "<style scoped>\n",
       "    .dataframe tbody tr th:only-of-type {\n",
       "        vertical-align: middle;\n",
       "    }\n",
       "\n",
       "    .dataframe tbody tr th {\n",
       "        vertical-align: top;\n",
       "    }\n",
       "\n",
       "    .dataframe thead th {\n",
       "        text-align: right;\n",
       "    }\n",
       "</style>\n",
       "<table border=\"1\" class=\"dataframe\">\n",
       "  <thead>\n",
       "    <tr style=\"text-align: right;\">\n",
       "      <th></th>\n",
       "      <th>newsOutlet</th>\n",
       "      <th>dateSeen</th>\n",
       "      <th>url</th>\n",
       "      <th>title</th>\n",
       "      <th>language</th>\n",
       "      <th>sourceCountry</th>\n",
       "      <th>text</th>\n",
       "      <th>category</th>\n",
       "      <th>textCharCt</th>\n",
       "      <th>majorityTopic</th>\n",
       "      <th>...</th>\n",
       "      <th>topic_30</th>\n",
       "      <th>topic_31</th>\n",
       "      <th>topic_32</th>\n",
       "      <th>topic_33</th>\n",
       "      <th>topic_34</th>\n",
       "      <th>topic_35</th>\n",
       "      <th>topic_36</th>\n",
       "      <th>topic_37</th>\n",
       "      <th>topic_38</th>\n",
       "      <th>topic_39</th>\n",
       "    </tr>\n",
       "  </thead>\n",
       "  <tbody>\n",
       "    <tr>\n",
       "      <th>3536</th>\n",
       "      <td>themoscowtimes.com</td>\n",
       "      <td>1642060800</td>\n",
       "      <td>https://www.themoscowtimes.com/2022/01/13/sanc...</td>\n",
       "      <td>Sanctions on Putin Would be Step Too Far , Kre...</td>\n",
       "      <td>English</td>\n",
       "      <td>Russia</td>\n",
       "      <td>The United States’ plans to levy sanctions aga...</td>\n",
       "      <td>moscowtimes</td>\n",
       "      <td>NaN</td>\n",
       "      <td>1</td>\n",
       "      <td>...</td>\n",
       "      <td>0</td>\n",
       "      <td>0</td>\n",
       "      <td>0</td>\n",
       "      <td>0</td>\n",
       "      <td>0</td>\n",
       "      <td>0</td>\n",
       "      <td>0</td>\n",
       "      <td>0</td>\n",
       "      <td>0</td>\n",
       "      <td>0</td>\n",
       "    </tr>\n",
       "    <tr>\n",
       "      <th>3537</th>\n",
       "      <td>themoscowtimes.com</td>\n",
       "      <td>1641801600</td>\n",
       "      <td>https://www.themoscowtimes.com/2022/01/10/news...</td>\n",
       "      <td>News From Russia : What You Missed Over the We...</td>\n",
       "      <td>English</td>\n",
       "      <td>Russia</td>\n",
       "      <td>Security talks A top Russian official said he ...</td>\n",
       "      <td>moscowtimes</td>\n",
       "      <td>NaN</td>\n",
       "      <td>4</td>\n",
       "      <td>...</td>\n",
       "      <td>1</td>\n",
       "      <td>0</td>\n",
       "      <td>0</td>\n",
       "      <td>0</td>\n",
       "      <td>0</td>\n",
       "      <td>0</td>\n",
       "      <td>0</td>\n",
       "      <td>1</td>\n",
       "      <td>0</td>\n",
       "      <td>0</td>\n",
       "    </tr>\n",
       "    <tr>\n",
       "      <th>3538</th>\n",
       "      <td>themoscowtimes.com</td>\n",
       "      <td>1642147200</td>\n",
       "      <td>https://www.themoscowtimes.com/2022/01/14/russ...</td>\n",
       "      <td>Russian Diplomat Praises Rappers Ye , Oxxxymir...</td>\n",
       "      <td>English</td>\n",
       "      <td>Russia</td>\n",
       "      <td>Will hip-hop actually save the world? A senior...</td>\n",
       "      <td>moscowtimes</td>\n",
       "      <td>NaN</td>\n",
       "      <td>4</td>\n",
       "      <td>...</td>\n",
       "      <td>0</td>\n",
       "      <td>0</td>\n",
       "      <td>0</td>\n",
       "      <td>0</td>\n",
       "      <td>0</td>\n",
       "      <td>0</td>\n",
       "      <td>0</td>\n",
       "      <td>0</td>\n",
       "      <td>0</td>\n",
       "      <td>0</td>\n",
       "    </tr>\n",
       "    <tr>\n",
       "      <th>3539</th>\n",
       "      <td>themoscowtimes.com</td>\n",
       "      <td>1641801600</td>\n",
       "      <td>https://www.themoscowtimes.com/2022/01/10/kaza...</td>\n",
       "      <td>Kazakhstan Largest City Back Online After Clas...</td>\n",
       "      <td>English</td>\n",
       "      <td>Russia</td>\n",
       "      <td>Kazakhstan's largest city was back online and ...</td>\n",
       "      <td>moscowtimes</td>\n",
       "      <td>NaN</td>\n",
       "      <td>-1</td>\n",
       "      <td>...</td>\n",
       "      <td>0</td>\n",
       "      <td>0</td>\n",
       "      <td>0</td>\n",
       "      <td>0</td>\n",
       "      <td>0</td>\n",
       "      <td>0</td>\n",
       "      <td>0</td>\n",
       "      <td>3</td>\n",
       "      <td>0</td>\n",
       "      <td>0</td>\n",
       "    </tr>\n",
       "    <tr>\n",
       "      <th>3540</th>\n",
       "      <td>themoscowtimes.com</td>\n",
       "      <td>1641456000</td>\n",
       "      <td>https://www.themoscowtimes.com/2022/01/06/russ...</td>\n",
       "      <td>Russia Involvement in Kazakhstan Crisis Could ...</td>\n",
       "      <td>English</td>\n",
       "      <td>Russia</td>\n",
       "      <td>Russia’s deployment of troops as part of a mil...</td>\n",
       "      <td>moscowtimes</td>\n",
       "      <td>NaN</td>\n",
       "      <td>-1</td>\n",
       "      <td>...</td>\n",
       "      <td>0</td>\n",
       "      <td>0</td>\n",
       "      <td>1</td>\n",
       "      <td>0</td>\n",
       "      <td>0</td>\n",
       "      <td>0</td>\n",
       "      <td>0</td>\n",
       "      <td>1</td>\n",
       "      <td>0</td>\n",
       "      <td>0</td>\n",
       "    </tr>\n",
       "  </tbody>\n",
       "</table>\n",
       "<p>5 rows × 51 columns</p>\n",
       "</div>"
      ],
      "text/plain": [
       "              newsOutlet    dateSeen  \\\n",
       "3536  themoscowtimes.com  1642060800   \n",
       "3537  themoscowtimes.com  1641801600   \n",
       "3538  themoscowtimes.com  1642147200   \n",
       "3539  themoscowtimes.com  1641801600   \n",
       "3540  themoscowtimes.com  1641456000   \n",
       "\n",
       "                                                    url  \\\n",
       "3536  https://www.themoscowtimes.com/2022/01/13/sanc...   \n",
       "3537  https://www.themoscowtimes.com/2022/01/10/news...   \n",
       "3538  https://www.themoscowtimes.com/2022/01/14/russ...   \n",
       "3539  https://www.themoscowtimes.com/2022/01/10/kaza...   \n",
       "3540  https://www.themoscowtimes.com/2022/01/06/russ...   \n",
       "\n",
       "                                                  title language  \\\n",
       "3536  Sanctions on Putin Would be Step Too Far , Kre...  English   \n",
       "3537  News From Russia : What You Missed Over the We...  English   \n",
       "3538  Russian Diplomat Praises Rappers Ye , Oxxxymir...  English   \n",
       "3539  Kazakhstan Largest City Back Online After Clas...  English   \n",
       "3540  Russia Involvement in Kazakhstan Crisis Could ...  English   \n",
       "\n",
       "     sourceCountry                                               text  \\\n",
       "3536        Russia  The United States’ plans to levy sanctions aga...   \n",
       "3537        Russia  Security talks A top Russian official said he ...   \n",
       "3538        Russia  Will hip-hop actually save the world? A senior...   \n",
       "3539        Russia  Kazakhstan's largest city was back online and ...   \n",
       "3540        Russia  Russia’s deployment of troops as part of a mil...   \n",
       "\n",
       "         category  textCharCt majorityTopic  ... topic_30 topic_31 topic_32  \\\n",
       "3536  moscowtimes         NaN             1  ...        0        0        0   \n",
       "3537  moscowtimes         NaN             4  ...        1        0        0   \n",
       "3538  moscowtimes         NaN             4  ...        0        0        0   \n",
       "3539  moscowtimes         NaN            -1  ...        0        0        0   \n",
       "3540  moscowtimes         NaN            -1  ...        0        0        1   \n",
       "\n",
       "     topic_33 topic_34 topic_35 topic_36 topic_37 topic_38 topic_39  \n",
       "3536        0        0        0        0        0        0        0  \n",
       "3537        0        0        0        0        1        0        0  \n",
       "3538        0        0        0        0        0        0        0  \n",
       "3539        0        0        0        0        3        0        0  \n",
       "3540        0        0        0        0        1        0        0  \n",
       "\n",
       "[5 rows x 51 columns]"
      ]
     },
     "execution_count": 269,
     "metadata": {},
     "output_type": "execute_result"
    }
   ],
   "source": [
    "topicArticleDf.tail()"
   ]
  },
  {
   "cell_type": "code",
   "execution_count": 277,
   "id": "CTuPp_-hu768",
   "metadata": {
    "id": "CTuPp_-hu768"
   },
   "outputs": [
    {
     "data": {
      "text/plain": [
       "'KYIV, Dec 1 (Reuters) - Ukraine needs direct talks with Moscow in order to end the war against Russian-backed forces in its eastern Donbass region, Ukrainian President Volodymyr Zelenskiy said on Wednesday. Zelenskiy was addressing parliament after Ukraine urged NATO to prepare economic sanctions on Russia and boost military cooperation with Kyiv as a way of deterring the Kremlin from launching a new attack after massing troops. Ukraine and its NATO allies have sounded the alarm about Russian troop movements near Ukraine\\'s borders this year, sparking worries that a simmering conflict in eastern Ukraine could erupt into open war between the two neighbours. Russia accuses Ukraine and the United States of destabilising behaviour and dismissed talk of a new Russian assault as false and inflammatory. It began a new round of military exercises near Ukraine\\'s border on Wednesday. \"We must tell the truth that we will not be able to stop the war without direct negotiations with Russia, and today this has already been recognised by all, all external partners,\" Zelenskiy said. Ukrainian President Volodymyr Zelenskiy addresses lawmakers during a parliamentary session in Kyiv, Ukraine December 1, 2021. REUTERS/Valentyn Ogirenko Zelenskiy\\'s administration says it has tried to arrange in-person talks between the president and Russian leader Vladimir Putin but that its requests were ignored. The Kremlin has said President Putin is not against the idea of talks with Zelenskiy, but that talks for the sake of talks are pointless and that Moscow would want to see a proper agenda prepared for a meeting. \"I am not afraid of a direct conversation with them, we are not afraid of a direct dialogue, we know which of the European countries support Ukraine,\" Zelenskiy said. Zelenskiy was speaking in parliament that was surrounded by heavy security of police and national guard officers. Zelenskiy last week said Ukraine had uncovered a plot to overthrow his government that was meant to launch on Wednesday. Russia has denied any involvement. Russia annexed Ukraine\\'s Crimea peninsula in 2014 and backed separatist forces in eastern Ukraine in a war that Kyiv says has killed 14,000 people. Our Standards: The Thomson Reuters Trust Principles. Britain\\'s foreign office on Friday summoned Russian Ambassador Andrei Kelin to express \"deep concern\" over reports of the death of a British aid worker. Reuters, the news and media division of Thomson Reuters, is the world’s largest multimedia news provider, reaching billions of people worldwide every day. Reuters provides business, financial, national and international news to professionals via desktop terminals, the world\\'s media organizations, industry events and directly to consumers. Build the strongest argument relying on authoritative content, attorney-editor expertise, and industry defining technology. The most comprehensive solution to manage all your complex and ever-expanding tax and compliance needs. The industry leader for online information for tax, accounting and finance professionals. Access unmatched financial data, news and content in a highly-customised workflow experience on desktop, web and mobile. Browse an unrivalled portfolio of real-time and historical market data and insights from worldwide sources and experts. Screen for heightened risk individual and entities globally to help uncover hidden risks in business relationships and human networks. All quotes delayed a minimum of 15 minutes. See here for a complete list of exchanges and delays. © 2022 Reuters. All rights reserved'"
      ]
     },
     "execution_count": 277,
     "metadata": {},
     "output_type": "execute_result"
    }
   ],
   "source": [
    "# get articles which are majority X topic\n",
    "topicX = 24\n",
    "topicXarticles = topicArticleDf[topicArticleDf['majorityTopic'] == '5']\n",
    "random.choice(topicXarticles['text'].to_list())"
   ]
  },
  {
   "cell_type": "markdown",
   "id": "70cff1eb-8142-42b7-b302-bcbbfcf30778",
   "metadata": {},
   "source": [
    "### Write to topicArticleDf to Excel"
   ]
  },
  {
   "cell_type": "code",
   "execution_count": 296,
   "id": "47bf8e65-a3bd-4e2b-8ab9-0d37bdb6d72b",
   "metadata": {},
   "outputs": [],
   "source": [
    "topicArticleDf.to_excel('data/topicArticleFrame7-26_1.xlsx')"
   ]
  },
  {
   "cell_type": "markdown",
   "id": "97d338ce-3caf-4e1f-b7da-26858c519080",
   "metadata": {},
   "source": [
    "### Exploring topicArticleDf"
   ]
  },
  {
   "cell_type": "code",
   "execution_count": 287,
   "id": "f6daef00-f42e-4139-8b52-6f7e869d1fe3",
   "metadata": {},
   "outputs": [
    {
     "data": {
      "text/plain": [
       "'ransomware government websites ministry revil data national critical infrastructure hacking offline russian'"
      ]
     },
     "execution_count": 287,
     "metadata": {},
     "output_type": "execute_result"
    }
   ],
   "source": [
    "topicID2keys[19]"
   ]
  },
  {
   "cell_type": "code",
   "execution_count": 289,
   "id": "fb2baa6c-d060-477b-be5c-5db04d7a54a3",
   "metadata": {},
   "outputs": [
    {
     "name": "stdout",
     "output_type": "stream",
     "text": [
      "3395\n"
     ]
    },
    {
     "data": {
      "text/plain": [
       "{'newsOutlet': 'themoscowtimes.com',\n",
       " 'dateSeen': 1635318000,\n",
       " 'url': 'https://www.themoscowtimes.com/2021/10/27/russia-to-probe-dutch-decision-on-crimean-gold-a75422',\n",
       " 'title': 'Russia to Probe Dutch Decision on Crimean Gold',\n",
       " 'language': 'English',\n",
       " 'sourceCountry': 'Russia',\n",
       " 'text': 'Russia said Wednesday a Dutch court decision to transfer a collection of Crimean gold to Ukraine was politically motivated and \"set a dangerous precedent,\" as Moscow opened a criminal probe into the case. An Amsterdam court ruled this week that the pieces, dubbed \"Scythian Gold\" and loaned to the city\\'s Allard Pierson Museum just before Moscow annexed Crimea in 2014, should be handed over to Ukraine. The ruling was hailed in Kiev as a victory. In a statement, Foreign Ministry spokeswoman Maria Zakharova accused the Dutch judges of being \"guided exclusively by political motives.\" She said the artefacts were part of the \"cultural and historical heritage of the peoples of the Crimean peninsula.\" Zakharova said Moscow had hoped that \"at least the culture sphere would stay out of politics.\" Earlier Russia\\'s Investigative Committee said it had instructed investigators in the Russian-controlled peninsula to probe \"the non-return of cultural items belonging to the Republic of Crimea.\" The head of the committee, Alexander Bastrykin, had also asked for investigators to work with Moscow\\'s Foreign Ministry to \"thoroughly study\" the case. Ukraine\\'s President Volodymyr Zelenskiy this week said the \"long-awaited victory\" to return the treasure, was a \"fair decision.\" \"We always regain what\\'s ours. After the \\'Scythian gold\\', we\\'ll return Crimea,\" he said on Twitter after the ruling. The Kremlin warned Wednesday that the comments \"could have negative consequences.\" The rich collection spans the second century BC to the late medieval era, when Crimea was at the crossroads of ancient trade routes through an area dominated by the Scythian people. The fate of the gold has been subject to legal wrangling since four museums on the peninsula launched a joint challenge seven years ago to have them returned. In 2016, a lower Dutch court ruled that the treasures were part of Ukraine\\'s cultural heritage and must be returned to Kiev — not to the museums that launched the petition — on the grounds that Crimea was not considered a sovereign state. The Crimean museums appealed the judgement. But on Tuesday, the Dutch court of appeal ruled that the gold should be held by Ukraine \"pending stabilization in the Crimea.\"',\n",
       " 'category': 'moscowtimes',\n",
       " 'textCharCt': nan,\n",
       " 'majorityTopic': '30',\n",
       " 'topic_-1': '0',\n",
       " 'topic_0': '0',\n",
       " 'topic_1': '0',\n",
       " 'topic_2': '0',\n",
       " 'topic_3': '0',\n",
       " 'topic_4': '1',\n",
       " 'topic_5': '1',\n",
       " 'topic_6': '0',\n",
       " 'topic_7': '0',\n",
       " 'topic_8': '0',\n",
       " 'topic_9': '1',\n",
       " 'topic_10': '0',\n",
       " 'topic_11': '0',\n",
       " 'topic_12': '0',\n",
       " 'topic_13': '0',\n",
       " 'topic_14': '0',\n",
       " 'topic_15': '0',\n",
       " 'topic_16': '0',\n",
       " 'topic_17': '0',\n",
       " 'topic_18': '0',\n",
       " 'topic_19': '0',\n",
       " 'topic_20': '0',\n",
       " 'topic_21': '0',\n",
       " 'topic_22': '0',\n",
       " 'topic_23': '0',\n",
       " 'topic_24': '0',\n",
       " 'topic_25': '0',\n",
       " 'topic_26': '0',\n",
       " 'topic_27': '0',\n",
       " 'topic_28': '0',\n",
       " 'topic_29': '0',\n",
       " 'topic_30': '10',\n",
       " 'topic_31': '0',\n",
       " 'topic_32': '1',\n",
       " 'topic_33': '0',\n",
       " 'topic_34': '0',\n",
       " 'topic_35': '0',\n",
       " 'topic_36': '0',\n",
       " 'topic_37': '0',\n",
       " 'topic_38': '0',\n",
       " 'topic_39': '0'}"
      ]
     },
     "execution_count": 289,
     "metadata": {},
     "output_type": "execute_result"
    }
   ],
   "source": [
    "i = random.choice(range(len(topicArticleDf)))\n",
    "print(i)\n",
    "topicArticleDf.to_dict('records')[i]"
   ]
  },
  {
   "cell_type": "code",
   "execution_count": 295,
   "id": "f299cfa4-fa23-48b6-83bf-d5a76c1e0890",
   "metadata": {},
   "outputs": [
    {
     "name": "stdout",
     "output_type": "stream",
     "text": [
      "mikheil absentia city georgian dream saakashvili detained rustavi irakli president south ossetia court sentenced\n"
     ]
    }
   ],
   "source": [
    "print(topicID2keys[int(topicArticleDf.to_dict('records')[i]['majorityTopic'])])"
   ]
  },
  {
   "cell_type": "code",
   "execution_count": 292,
   "id": "75c92c8f-98b8-47b6-a6aa-d90e0e99d272",
   "metadata": {},
   "outputs": [
    {
     "name": "stdout",
     "output_type": "stream",
     "text": [
      "mikheil absentia city georgian dream saakashvili detained rustavi irakli president south ossetia court sentenced\n",
      "\t Russia said Wednesday a Dutch court decision to transfer a collection of Crimean gold to Ukraine was politically motivated and \"set a dangerous precedent,\" as Moscow opened a criminal probe into the case.\n",
      "\n",
      "mikheil absentia city georgian dream saakashvili detained rustavi irakli president south ossetia court sentenced\n",
      "\t An Amsterdam court ruled this week that the pieces, dubbed \"Scythian Gold\" and loaned to the city's Allard Pierson Museum just before Moscow annexed Crimea in 2014, should be handed over to Ukraine.\n",
      "\n",
      "mikheil absentia city georgian dream saakashvili detained rustavi irakli president south ossetia court sentenced\n",
      "\t In a statement, Foreign Ministry spokeswoman Maria Zakharova accused the Dutch judges of being \"guided exclusively by political motives.\"\n",
      "\n",
      "mikheil absentia city georgian dream saakashvili detained rustavi irakli president south ossetia court sentenced\n",
      "\t She said the artefacts were part of the \"cultural and historical heritage of the peoples of the Crimean peninsula.\"\n",
      "\n",
      "putin severe video consequences invasion bidens tuesday warned white house\n",
      "\t Zakharova said Moscow had hoped that \"at least the culture sphere would stay out of politics.\"\n",
      "\n",
      "2014 russia annexed ukraines separatist seized crimea peninsula east locked backed rebellion\n",
      "\t Earlier Russia's Investigative Committee said it had instructed investigators in the Russian-controlled peninsula to probe \"the non-return of cultural items belonging to the Republic of Crimea.\"\n",
      "\n",
      "mikheil absentia city georgian dream saakashvili detained rustavi irakli president south ossetia court sentenced\n",
      "\t The head of the committee, Alexander Bastrykin, had also asked for investigators to work with Moscow's Foreign Ministry to \"thoroughly study\" the case.\n",
      "\n",
      "volodymyr vladimir zelensky turkey erdogan spoke kyiv ukraines president russian biden meeting\n",
      "\t Ukraine's President Volodymyr Zelenskiy this week said the \"long-awaited victory\" to return the treasure, was a \"fair decision.\"\n",
      "\n",
      "mikheil absentia city georgian dream saakashvili detained rustavi irakli president south ossetia court sentenced\n",
      "\t After the 'Scythian gold', we'll return Crimea,\" he said on Twitter after the ruling.\n",
      "\n",
      "repeatedly dismissed accusations right natos military plans activity near borders moscow denied threat national\n",
      "\t The Kremlin warned Wednesday that the comments \"could have negative consequences.\"\n",
      "\n",
      "mikheil absentia city georgian dream saakashvili detained rustavi irakli president south ossetia court sentenced\n",
      "\t The rich collection spans the second century BC to the late medieval era, when Crimea was at the crossroads of ancient trade routes through an area dominated by the Scythian people.\n",
      "\n",
      "mikheil absentia city georgian dream saakashvili detained rustavi irakli president south ossetia court sentenced\n",
      "\t The fate of the gold has been subject to legal wrangling since four museums on the peninsula launched a joint challenge seven years ago to have them returned.\n",
      "\n",
      "mikheil absentia city georgian dream saakashvili detained rustavi irakli president south ossetia court sentenced\n",
      "\t In 2016, a lower Dutch court ruled that the treasures were part of Ukraine's cultural heritage and must be returned to Kiev — not to the museums that launched the petition — on the grounds that Crimea was not considered a sovereign state.\n",
      "\n",
      "mikheil absentia city georgian dream saakashvili detained rustavi irakli president south ossetia court sentenced\n",
      "\t But on Tuesday, the Dutch court of appeal ruled that the gold should be held by Ukraine \"pending stabilization in the Crimea.\"\n",
      "\n"
     ]
    }
   ],
   "source": [
    "for s in article2sents[3395]:\n",
    "    print(topicID2keys[s['topic']])\n",
    "    print('\\t',s['sentText'])\n",
    "    print()"
   ]
  },
  {
   "cell_type": "markdown",
   "id": "9eb84023-868f-43c7-bfd0-1b0b17edc476",
   "metadata": {
    "id": "9eb84023-868f-43c7-bfd0-1b0b17edc476",
    "tags": []
   },
   "source": [
    "## Reduce topic size (optional)"
   ]
  },
  {
   "cell_type": "code",
   "execution_count": null,
   "id": "2940f64b-ad69-43db-8ffa-77eb6e510d2c",
   "metadata": {},
   "outputs": [],
   "source": [
    "# topic_model = BERTopic.load(\"my_model\")"
   ]
  },
  {
   "cell_type": "code",
   "execution_count": 301,
   "id": "571bdb1c-2c10-4bee-94b6-a8e9f27298ed",
   "metadata": {},
   "outputs": [],
   "source": [
    "# n = 40\n",
    "# new_topics, new_probs = topic_model_div_8.reduce_topics(docs, topics, probs, nr_topics=n)\n",
    "# # calculate new coherence\n",
    "# print(f'\\tcalculating coherence for n={n}')\n",
    "# new_coherence = get_coherence(topic_model, new_topics, new_probs)"
   ]
  },
  {
   "cell_type": "code",
   "execution_count": 17,
   "id": "bdbed01a-2300-481f-adab-2f840b61ad2b",
   "metadata": {
    "colab": {
     "referenced_widgets": [
      "423260cdfb8e4563b5b04800f6a13d58",
      "1cf801166da94be78912cc46d1113af2",
      "eed2604ea34a4da1a33408ddaad2110e",
      "28f261a6576148cc906189488ae90076",
      "cfb24159ffe94d5089b25b66333eab68",
      "5bcab6040b3b4e12b0ea36224f07d3c6",
      "e728c890bc074ee889b614d3f5626bed"
     ]
    },
    "collapsed": true,
    "id": "bdbed01a-2300-481f-adab-2f840b61ad2b",
    "jupyter": {
     "outputs_hidden": true
    },
    "outputId": "160607f5-686b-43b6-d910-222d4dd88836",
    "tags": []
   },
   "outputs": [
    {
     "name": "stdout",
     "output_type": "stream",
     "text": [
      "loading original topic model on round 40\n"
     ]
    },
    {
     "data": {
      "application/vnd.jupyter.widget-view+json": {
       "model_id": "79726980967a4411ab854a138e292dfd",
       "version_major": 2,
       "version_minor": 0
      },
      "text/plain": [
       "Batches:   0%|          | 0/1721 [00:00<?, ?it/s]"
      ]
     },
     "metadata": {},
     "output_type": "display_data"
    },
    {
     "name": "stderr",
     "output_type": "stream",
     "text": [
      "2022-07-25 10:23:00,207 - BERTopic - Transformed documents to Embeddings\n",
      "OMP: Info #271: omp_set_nested routine deprecated, please use omp_set_max_active_levels instead.\n",
      "2022-07-25 10:23:31,201 - BERTopic - Reduced dimensionality\n",
      "2022-07-25 10:41:19,226 - BERTopic - Clustered reduced embeddings\n"
     ]
    },
    {
     "name": "stdout",
     "output_type": "stream",
     "text": [
      "\tcurrently reducing n=40\n"
     ]
    },
    {
     "name": "stderr",
     "output_type": "stream",
     "text": [
      "2022-07-25 10:43:40,390 - BERTopic - Reduced number of topics from 613 to 41\n"
     ]
    },
    {
     "name": "stdout",
     "output_type": "stream",
     "text": [
      "\tcalculating coherence for n=40\n",
      "cleaned docs\n",
      "vectorizer/analyser\n",
      "extract features for evaluation\n",
      "coherence calculation complete:\n",
      "\n",
      "coherence: 0.5138634370246604\n",
      "\n",
      "loading original topic model on round 30\n"
     ]
    },
    {
     "data": {
      "application/vnd.jupyter.widget-view+json": {
       "model_id": "271186adea9f4f23ba80fb1b1a469ead",
       "version_major": 2,
       "version_minor": 0
      },
      "text/plain": [
       "Batches:   0%|          | 0/1721 [00:00<?, ?it/s]"
      ]
     },
     "metadata": {},
     "output_type": "display_data"
    },
    {
     "name": "stderr",
     "output_type": "stream",
     "text": [
      "2022-07-25 11:08:51,463 - BERTopic - Transformed documents to Embeddings\n",
      "2022-07-25 11:09:14,447 - BERTopic - Reduced dimensionality\n",
      "2022-07-25 11:25:51,765 - BERTopic - Clustered reduced embeddings\n"
     ]
    },
    {
     "name": "stdout",
     "output_type": "stream",
     "text": [
      "\tcurrently reducing n=30\n"
     ]
    },
    {
     "name": "stderr",
     "output_type": "stream",
     "text": [
      "2022-07-25 11:28:10,024 - BERTopic - Reduced number of topics from 622 to 31\n"
     ]
    },
    {
     "name": "stdout",
     "output_type": "stream",
     "text": [
      "\tcalculating coherence for n=30\n",
      "cleaned docs\n",
      "vectorizer/analyser\n",
      "extract features for evaluation\n",
      "coherence calculation complete:\n",
      "\n",
      "coherence: 0.4538520117161175\n",
      "\n",
      "CPU times: user 1h 36min 49s, sys: 51.2 s, total: 1h 37min 41s\n",
      "Wall time: 1h 35min 17s\n"
     ]
    }
   ],
   "source": [
    "%%time\n",
    "# reduce topic size to n and evaluate coherence\n",
    "\n",
    "reducedNcoherences = []\n",
    "for diversity in [.5,.7,.85][2:]:\n",
    "    for n in [200,100,75,50,40,30][-2:]:\n",
    "        print(f'loading original topic model on round', n)\n",
    "        topicModel = BERTopic(vectorizer_model=vectorizer_model,verbose=True,diversity=diversity,calculate_probabilities=True)\n",
    "        topics, probs = topicModel.fit_transform(docs)\n",
    "        print(f'\\tcurrently reducing n={n}')\n",
    "        new_topics, new_probs = topicModel.reduce_topics(docs, topics, probs, nr_topics=n)\n",
    "        # calculate new coherence\n",
    "        print(f'\\tcalculating coherence for n={n}')\n",
    "        new_coherence = get_coherence(topicModel, new_topics, new_probs)\n",
    "        # print(f'coherence = {new_coherence}')\n",
    "        topicInfo = topicModel.get_topic_info()\n",
    "        reducedNcoherences.append({\n",
    "            'diversity': diversity,\n",
    "            'n' : n,\n",
    "            'new_coherence' : new_coherence,\n",
    "            'topicDf' : topicInfo\n",
    "        })\n",
    "        # estimates for top\n",
    "        topicDocCts = dict()\n",
    "        for i, doc in enumerate(docs):\n",
    "            topicNum = np.argmax(new_probs[i,:])\n",
    "            topicDocCts.setdefault(topicNum, 0)\n",
    "            topicDocCts[topicNum] += 1\n",
    "\n",
    "        # id2keywords = dict()\n",
    "        # for i in range(len(topicModel.get_topic_info())-1):\n",
    "        #     keys = ' '.join([key for key, prob in topicModel.get_topic(i)])\n",
    "        #     id2keywords[i] = keys\n",
    "        #     print(i, topicModel.get_topic_freq(i), topicDocCts[i], keys)\n",
    "        print()"
   ]
  },
  {
   "cell_type": "code",
   "execution_count": 18,
   "id": "82530037-b48f-4233-9580-e74cc0e50a40",
   "metadata": {
    "id": "82530037-b48f-4233-9580-e74cc0e50a40",
    "outputId": "5e776df0-a229-4952-cae4-0764668f9cc2"
   },
   "outputs": [
    {
     "name": "stdout",
     "output_type": "stream",
     "text": [
      "0.85 40 0.5138634370246604\n",
      "0.85 30 0.4538520117161175\n"
     ]
    }
   ],
   "source": [
    "for d in reducedNcoherences:\n",
    "    print(d['diversity'],d['n'], d['new_coherence'])"
   ]
  },
  {
   "cell_type": "code",
   "execution_count": null,
   "id": "340f9580-3a5d-47c3-89f2-d54f7a74eee8",
   "metadata": {},
   "outputs": [],
   "source": [
    "# 0.5 200 0.4213933865780573\n",
    "# 0.5 100 0.3467642168087393\n",
    "# 0.5 75 0.32400056912781405\n",
    "# 0.5 50 0.326000741240338\n",
    "# 0.5 40 0.36484552564275585\n",
    "# 0.5 30 0.36080618464985664\n",
    "# 0.7 200 0.33935905983938874\n",
    "# 0.7 100 0.36051869913358253\n",
    "# 0.7 75 0.39631974312332435\n",
    "# 0.7 50 0.43312246618027317\n",
    "# 0.7 40 0.4171326299028483\n",
    "# 0.7 30 0.4429882811372493\n",
    "# 0.85 200 0.32330814112819\n",
    "# 0.85 100 0.3430794548306345\n",
    "# 0.85 75 0.3891747942048262\n",
    "# 0.85 50 0.42869023332934214\n",
    "# 0.85 40 0.5138634370246604\n",
    "# 0.85 30 0.4538520117161175"
   ]
  },
  {
   "cell_type": "code",
   "execution_count": null,
   "id": "953528a2-778e-4aa3-96b4-d4563cc4fb37",
   "metadata": {},
   "outputs": [],
   "source": [
    "top_coh = 0\n",
    "for d in reducedNcoherences:\n",
    "    if d['new_coherence'] > top_coh:\n",
    "        top_coh = d['new_coherence']\n",
    "        top_params = {\n",
    "            'diversity' : d['diversity'],\n",
    "            'n' : d['n']\n",
    "        }"
   ]
  },
  {
   "cell_type": "markdown",
   "id": "3f2b5442-1760-4d1e-9670-04358a358d50",
   "metadata": {
    "tags": []
   },
   "source": [
    "## Visualizations"
   ]
  },
  {
   "cell_type": "markdown",
   "id": "a0a2a860-f69a-49e2-80a9-380b4e6481a3",
   "metadata": {
    "id": "a0a2a860-f69a-49e2-80a9-380b4e6481a3",
    "tags": []
   },
   "source": [
    "### Hierarchical topic tree"
   ]
  },
  {
   "cell_type": "code",
   "execution_count": 84,
   "id": "72f11bc5-ca4b-430a-915c-eb5a9c95ef77",
   "metadata": {
    "id": "72f11bc5-ca4b-430a-915c-eb5a9c95ef77",
    "outputId": "0a0ab4b1-4da5-4265-ff99-7d16a637c379"
   },
   "outputs": [
    {
     "name": "stderr",
     "output_type": "stream",
     "text": [
      "100%|███████████████████████████████████████████| 39/39 [00:10<00:00,  3.80it/s]"
     ]
    },
    {
     "name": "stdout",
     "output_type": "stream",
     "text": [
      "CPU times: user 10.5 s, sys: 827 ms, total: 11.3 s\n",
      "Wall time: 13.1 s\n"
     ]
    },
    {
     "name": "stderr",
     "output_type": "stream",
     "text": [
      "\n"
     ]
    }
   ],
   "source": [
    "%%time\n",
    "hierarchical_topics = topic_model.hierarchical_topics(docs, topics)"
   ]
  },
  {
   "cell_type": "code",
   "execution_count": 85,
   "id": "05f0ea5c-9509-49e5-a58d-6c67818aa7bf",
   "metadata": {
    "id": "05f0ea5c-9509-49e5-a58d-6c67818aa7bf",
    "outputId": "81907ebb-7f98-46e5-9fe9-ca14a6e5f691"
   },
   "outputs": [
    {
     "name": "stdout",
     "output_type": "stream",
     "text": [
      ".\n",
      "├─nord stream_pipeline_spokesman_energy_russia\n",
      "│ ├─stream_nord_gazprom_gas pipeline_natural\n",
      "│ │ ├─■──nord_stream_project_certification_sanctions ── Topic: 0\n",
      "│ │ └─gazprom_transit_natural_prices_moldova\n",
      "│ │   ├─■──gazprom_transit_cubic_meters_russian gas ── Topic: 13\n",
      "│ │   └─■──energy_supplies_lng_russia_market ── Topic: 29\n",
      "│ └─kremlin spokesman_southeastern ukraine_consequences_attempts_did rule\n",
      "│   ├─covid19_prices_health_georgian_cases\n",
      "│   │ ├─covid19_rates_patients_oil_vaccines\n",
      "│   │ │ ├─■──benchmark_rates_barrel_rose_gas prices ── Topic: 10\n",
      "│   │ │ └─■──covid19_health_cases_vaccines_fully ── Topic: 2\n",
      "│   │ └─saakashvili_group_georgias_win_years\n",
      "│   │   ├─group_world cup_play_win_points\n",
      "│   │   │ ├─■──added_going_say_thats_thing ── Topic: 37\n",
      "│   │   │ └─■──group_world cup_play_points_wales ── Topic: 27\n",
      "│   │   └─■──citizenship_saakashvili detained_years_elections_absentia ── Topic: 35\n",
      "│   └─kremlin spokesman_southeastern ukraine_consequences_attempts_did rule\n",
      "│     ├─■──southeastern ukraine_rule_claims warned_did_force resolve ── Topic: 24\n",
      "│     └─■──dmitry peskov_kremlin_groundless_pose threat_castigated claims ── Topic: 8\n",
      "└─ukraine_nato_security_blinken_lavrov\n",
      "  ├─ukraine_nato_security_blinken_lavrov\n",
      "  │ ├─russian_security_sanctions_tensions_natos\n",
      "  │ │ ├─lukashenko_2014_leave_aid_eastern\n",
      "  │ │ │ ├─migrants_eu_alexander lukashenko_joint_crisis\n",
      "  │ │ │ │ ├─■──belarus_president alexander_sanctions_cross_protests ── Topic: 23\n",
      "  │ │ │ │ └─■──ministry_forces_bases_near_defense ── Topic: 21\n",
      "  │ │ │ └─embassy_2014_aid_leave_eastern\n",
      "  │ │ │   ├─aid_leave_cyber_million_summoned\n",
      "  │ │ │   │ ├─leave_department_ransomware_cyberattacks_diplomats\n",
      "  │ │ │   │ │ ├─■──ransomware_attacks_government websites_data_ministry ── Topic: 12\n",
      "  │ │ │   │ │ └─■──leave_department_families_diplomats_embassy kyiv ── Topic: 11\n",
      "  │ │ │   │ └─■──million_summoned russian_reports death_british aid_kelin express ── Topic: 7\n",
      "  │ │ │   └─2014_peninsula_black_eastern_annexed ukraines\n",
      "  │ │ │     ├─black sea_romania_eastern_8500_alert\n",
      "  │ │ │     │ ├─■──8500_pentagon_eastern_alert_additional ── Topic: 39\n",
      "  │ │ │     │ └─■──black_mount whitney_ships_fighter_jets ── Topic: 30\n",
      "  │ │ │     └─■──2014_russia annexed_ukraines_separatists_insurgency ── Topic: 22\n",
      "  │ │ └─west_security_invasion ukraine_alliance_tensions\n",
      "  │ │   ├─guarantees_member_draft_proposals_eastward expansion\n",
      "  │ │   │ ├─■──alliance_join_member_ukraine nato_military ── Topic: 3\n",
      "  │ │   │ └─■──eastward_guarantees_proposals_december 17_draft agreements ── Topic: 5\n",
      "  │ │   └─sanctions_invasion ukraine_tensions_western_recently\n",
      "  │ │     ├─sanctions_near_tensions_western_ukrainian border\n",
      "  │ │     │ ├─sanctions russia_economic_new_imposed_export\n",
      "  │ │     │ │ ├─■──sanctions russia_european_economic_imposed_export ── Topic: 18\n",
      "  │ │     │ │ └─■──dialogue_russian federation_path_security_added ── Topic: 34\n",
      "  │ │     │ └─tensions_ukrainian border_western_accusations_repeatedly denied\n",
      "  │ │     │   ├─tensions_invasion_ukrainian border_accused_troop buildup\n",
      "  │ │     │   │ ├─■──people_concerned_border_west_noted ── Topic: 19\n",
      "  │ │     │   │ └─■──border_troop_accused_tensions ukraine_western ── Topic: 6\n",
      "  │ │     │   └─■──repeatedly_accusations_right_activity near_natos military ── Topic: 16\n",
      "  │ │     └─■──west kyiv_recently_invasion ukraine_potential_allegations ── Topic: 17\n",
      "  │ └─lavrov_donbasss_antony blinken_secretary state_minsk agreements\n",
      "  │   ├─lavrov_antony blinken_secretary state_meeting_minsk agreements\n",
      "  │   │ ├─lavrov_secretary_antony blinken_meeting_security\n",
      "  │   │ │ ├─ceasefire_stoltenberg_january 12_mission_natorussia council\n",
      "  │   │ │ │ ├─■──osce_monitoring mission_special_measures_contact line ── Topic: 36\n",
      "  │   │ │ │ └─■──geneva_security_talks_stoltenberg_january 12 ── Topic: 15\n",
      "  │   │ │ └─blinken_state antony_minister_sergey lavrov_truss\n",
      "  │   │ │   ├─■──antony blinken_lavrov_foreign_meeting_sergey ── Topic: 4\n",
      "  │   │ │   └─■──truss_sergey lavrov_liz_secretary_security ── Topic: 9\n",
      "  │   │ └─minsk agreements_normandy format_2015_accords_kyiv\n",
      "  │   │   ├─■──normandy format_2015_conflict_minsk agreements_talks ── Topic: 20\n",
      "  │   │   └─■──minsk agreements_accords_kyiv_package measures_implementing ── Topic: 25\n",
      "  │   └─donbasss_luhansk_lpr_selfproclaimed_donetsk peoples\n",
      "  │     ├─■──donbasss_2014_coup_military_special ── Topic: 14\n",
      "  │     └─peoples_lpr_shelling_selfproclaimed_forces\n",
      "  │       ├─■──republics_peoples_denis pushilin_selfproclaimed_announced evacuation ── Topic: 33\n",
      "  │       └─■──luhansk_jccc_selfproclaimed_reported_control coordination ── Topic: 38\n",
      "  └─macron_johnson_volodymyr_zelenskyy_joe biden\n",
      "    ├─macron_johnson_volodymyr_french_prime\n",
      "    │ ├─■──prime_minister boris_downing_mr_johnsons ── Topic: 28\n",
      "    │ └─president_macron_volodymyr_emmanuel_french\n",
      "    │   ├─■──president_volodymyr_vladimir zelensky_poroshenko_ukraines ── Topic: 1\n",
      "    │   └─■──emmanuel_french_president_phone_mr ── Topic: 32\n",
      "    └─joe_russian president_tuesday_sanctions_counterpart\n",
      "      ├─■──video_talks_tuesday_summit_hours ── Topic: 31\n",
      "      └─■──joe biden_warned_severe_consequences_troops ── Topic: 26\n",
      "\n"
     ]
    }
   ],
   "source": [
    "topicTree = topic_model.get_topic_tree(hierarchical_topics,tight_layout=True)\n",
    "print(topicTree)"
   ]
  },
  {
   "cell_type": "markdown",
   "id": "8a2845d0-5c41-4bd9-b7cf-e07b6b48a2a0",
   "metadata": {},
   "source": [
    "### Topic word proability bar chart"
   ]
  },
  {
   "cell_type": "code",
   "execution_count": 89,
   "id": "7db4b99f-6c2a-4417-a8b6-8d99dd3e0869",
   "metadata": {
    "id": "7db4b99f-6c2a-4417-a8b6-8d99dd3e0869",
    "outputId": "49dcbb5f-9657-4b6f-e328-05537fc4ceb1"
   },
   "outputs": [
    {
     "data": {
      "application/vnd.plotly.v1+json": {
       "config": {
        "plotlyServerURL": "https://plot.ly"
       },
       "data": [
        {
         "marker": {
          "color": "#D55E00"
         },
         "orientation": "h",
         "type": "bar",
         "x": [
          0.013436933857292655,
          0.017096092646695975,
          0.01997857165916912,
          0.07343181414791919,
          0.07384942298864561
         ],
         "xaxis": "x",
         "y": [
          "sanctions  ",
          "certification  ",
          "project  ",
          "stream  ",
          "nord  "
         ],
         "yaxis": "y"
        },
        {
         "marker": {
          "color": "#0072B2"
         },
         "orientation": "h",
         "type": "bar",
         "x": [
          0.012881633137174895,
          0.017429511315173757,
          0.0187283836486225,
          0.03286477626947125,
          0.03501705079698406
         ],
         "xaxis": "x2",
         "y": [
          "ukraines  ",
          "poroshenko  ",
          "vladimir zelensky  ",
          "volodymyr  ",
          "president  "
         ],
         "yaxis": "y2"
        },
        {
         "marker": {
          "color": "#CC79A7"
         },
         "orientation": "h",
         "type": "bar",
         "x": [
          0.010923621526258061,
          0.014696662581375449,
          0.020398264928281857,
          0.021998262950377143,
          0.03198115266105036
         ],
         "xaxis": "x3",
         "y": [
          "fully  ",
          "vaccines  ",
          "cases  ",
          "health  ",
          "covid19  "
         ],
         "yaxis": "y3"
        },
        {
         "marker": {
          "color": "#E69F00"
         },
         "orientation": "h",
         "type": "bar",
         "x": [
          0.011645002686986723,
          0.013545137290191923,
          0.023603018587242564,
          0.03004192790136079,
          0.03383946582711659
         ],
         "xaxis": "x4",
         "y": [
          "military  ",
          "ukraine nato  ",
          "member  ",
          "join  ",
          "alliance  "
         ],
         "yaxis": "y4"
        },
        {
         "marker": {
          "color": "#56B4E9"
         },
         "orientation": "h",
         "type": "bar",
         "x": [
          0.010965936594239015,
          0.01270448449708081,
          0.019189453545959325,
          0.020925574032859873,
          0.05215245336381308
         ],
         "xaxis": "x5",
         "y": [
          "sergey  ",
          "meeting  ",
          "foreign  ",
          "lavrov  ",
          "antony blinken  "
         ],
         "yaxis": "y5"
        },
        {
         "marker": {
          "color": "#009E73"
         },
         "orientation": "h",
         "type": "bar",
         "x": [
          0.013543467157863328,
          0.014249191910454529,
          0.019786186744861208,
          0.027515441913577608,
          0.03071785705610122
         ],
         "xaxis": "x6",
         "y": [
          "draft agreements  ",
          "december 17  ",
          "proposals  ",
          "guarantees  ",
          "eastward  "
         ],
         "yaxis": "y6"
        },
        {
         "marker": {
          "color": "#F0E442"
         },
         "orientation": "h",
         "type": "bar",
         "x": [
          0.020721675907014722,
          0.02155762491008988,
          0.02573642975460244,
          0.02635684583790061,
          0.035374634450569445
         ],
         "xaxis": "x7",
         "y": [
          "western  ",
          "tensions ukraine  ",
          "accused  ",
          "troop  ",
          "border  "
         ],
         "yaxis": "y7"
        },
        {
         "marker": {
          "color": "#D55E00"
         },
         "orientation": "h",
         "type": "bar",
         "x": [
          0.02377939061758654,
          0.02377939061758654,
          0.02377939061758654,
          0.024772917770464798,
          0.030501855760641232
         ],
         "xaxis": "x8",
         "y": [
          "kelin express  ",
          "british aid  ",
          "reports death  ",
          "summoned russian  ",
          "million  "
         ],
         "yaxis": "y8"
        }
       ],
       "layout": {
        "annotations": [
         {
          "font": {
           "size": 16
          },
          "showarrow": false,
          "text": "Topic 0",
          "x": 0.0875,
          "xanchor": "center",
          "xref": "paper",
          "y": 1,
          "yanchor": "bottom",
          "yref": "paper"
         },
         {
          "font": {
           "size": 16
          },
          "showarrow": false,
          "text": "Topic 1",
          "x": 0.36250000000000004,
          "xanchor": "center",
          "xref": "paper",
          "y": 1,
          "yanchor": "bottom",
          "yref": "paper"
         },
         {
          "font": {
           "size": 16
          },
          "showarrow": false,
          "text": "Topic 2",
          "x": 0.6375000000000001,
          "xanchor": "center",
          "xref": "paper",
          "y": 1,
          "yanchor": "bottom",
          "yref": "paper"
         },
         {
          "font": {
           "size": 16
          },
          "showarrow": false,
          "text": "Topic 3",
          "x": 0.9125,
          "xanchor": "center",
          "xref": "paper",
          "y": 1,
          "yanchor": "bottom",
          "yref": "paper"
         },
         {
          "font": {
           "size": 16
          },
          "showarrow": false,
          "text": "Topic 4",
          "x": 0.0875,
          "xanchor": "center",
          "xref": "paper",
          "y": 0.4,
          "yanchor": "bottom",
          "yref": "paper"
         },
         {
          "font": {
           "size": 16
          },
          "showarrow": false,
          "text": "Topic 5",
          "x": 0.36250000000000004,
          "xanchor": "center",
          "xref": "paper",
          "y": 0.4,
          "yanchor": "bottom",
          "yref": "paper"
         },
         {
          "font": {
           "size": 16
          },
          "showarrow": false,
          "text": "Topic 6",
          "x": 0.6375000000000001,
          "xanchor": "center",
          "xref": "paper",
          "y": 0.4,
          "yanchor": "bottom",
          "yref": "paper"
         },
         {
          "font": {
           "size": 16
          },
          "showarrow": false,
          "text": "Topic 7",
          "x": 0.9125,
          "xanchor": "center",
          "xref": "paper",
          "y": 0.4,
          "yanchor": "bottom",
          "yref": "paper"
         }
        ],
        "height": 500,
        "hoverlabel": {
         "bgcolor": "white",
         "font": {
          "family": "Rockwell",
          "size": 16
         }
        },
        "showlegend": false,
        "template": {
         "data": {
          "bar": [
           {
            "error_x": {
             "color": "#2a3f5f"
            },
            "error_y": {
             "color": "#2a3f5f"
            },
            "marker": {
             "line": {
              "color": "white",
              "width": 0.5
             },
             "pattern": {
              "fillmode": "overlay",
              "size": 10,
              "solidity": 0.2
             }
            },
            "type": "bar"
           }
          ],
          "barpolar": [
           {
            "marker": {
             "line": {
              "color": "white",
              "width": 0.5
             },
             "pattern": {
              "fillmode": "overlay",
              "size": 10,
              "solidity": 0.2
             }
            },
            "type": "barpolar"
           }
          ],
          "carpet": [
           {
            "aaxis": {
             "endlinecolor": "#2a3f5f",
             "gridcolor": "#C8D4E3",
             "linecolor": "#C8D4E3",
             "minorgridcolor": "#C8D4E3",
             "startlinecolor": "#2a3f5f"
            },
            "baxis": {
             "endlinecolor": "#2a3f5f",
             "gridcolor": "#C8D4E3",
             "linecolor": "#C8D4E3",
             "minorgridcolor": "#C8D4E3",
             "startlinecolor": "#2a3f5f"
            },
            "type": "carpet"
           }
          ],
          "choropleth": [
           {
            "colorbar": {
             "outlinewidth": 0,
             "ticks": ""
            },
            "type": "choropleth"
           }
          ],
          "contour": [
           {
            "colorbar": {
             "outlinewidth": 0,
             "ticks": ""
            },
            "colorscale": [
             [
              0,
              "#0d0887"
             ],
             [
              0.1111111111111111,
              "#46039f"
             ],
             [
              0.2222222222222222,
              "#7201a8"
             ],
             [
              0.3333333333333333,
              "#9c179e"
             ],
             [
              0.4444444444444444,
              "#bd3786"
             ],
             [
              0.5555555555555556,
              "#d8576b"
             ],
             [
              0.6666666666666666,
              "#ed7953"
             ],
             [
              0.7777777777777778,
              "#fb9f3a"
             ],
             [
              0.8888888888888888,
              "#fdca26"
             ],
             [
              1,
              "#f0f921"
             ]
            ],
            "type": "contour"
           }
          ],
          "contourcarpet": [
           {
            "colorbar": {
             "outlinewidth": 0,
             "ticks": ""
            },
            "type": "contourcarpet"
           }
          ],
          "heatmap": [
           {
            "colorbar": {
             "outlinewidth": 0,
             "ticks": ""
            },
            "colorscale": [
             [
              0,
              "#0d0887"
             ],
             [
              0.1111111111111111,
              "#46039f"
             ],
             [
              0.2222222222222222,
              "#7201a8"
             ],
             [
              0.3333333333333333,
              "#9c179e"
             ],
             [
              0.4444444444444444,
              "#bd3786"
             ],
             [
              0.5555555555555556,
              "#d8576b"
             ],
             [
              0.6666666666666666,
              "#ed7953"
             ],
             [
              0.7777777777777778,
              "#fb9f3a"
             ],
             [
              0.8888888888888888,
              "#fdca26"
             ],
             [
              1,
              "#f0f921"
             ]
            ],
            "type": "heatmap"
           }
          ],
          "heatmapgl": [
           {
            "colorbar": {
             "outlinewidth": 0,
             "ticks": ""
            },
            "colorscale": [
             [
              0,
              "#0d0887"
             ],
             [
              0.1111111111111111,
              "#46039f"
             ],
             [
              0.2222222222222222,
              "#7201a8"
             ],
             [
              0.3333333333333333,
              "#9c179e"
             ],
             [
              0.4444444444444444,
              "#bd3786"
             ],
             [
              0.5555555555555556,
              "#d8576b"
             ],
             [
              0.6666666666666666,
              "#ed7953"
             ],
             [
              0.7777777777777778,
              "#fb9f3a"
             ],
             [
              0.8888888888888888,
              "#fdca26"
             ],
             [
              1,
              "#f0f921"
             ]
            ],
            "type": "heatmapgl"
           }
          ],
          "histogram": [
           {
            "marker": {
             "pattern": {
              "fillmode": "overlay",
              "size": 10,
              "solidity": 0.2
             }
            },
            "type": "histogram"
           }
          ],
          "histogram2d": [
           {
            "colorbar": {
             "outlinewidth": 0,
             "ticks": ""
            },
            "colorscale": [
             [
              0,
              "#0d0887"
             ],
             [
              0.1111111111111111,
              "#46039f"
             ],
             [
              0.2222222222222222,
              "#7201a8"
             ],
             [
              0.3333333333333333,
              "#9c179e"
             ],
             [
              0.4444444444444444,
              "#bd3786"
             ],
             [
              0.5555555555555556,
              "#d8576b"
             ],
             [
              0.6666666666666666,
              "#ed7953"
             ],
             [
              0.7777777777777778,
              "#fb9f3a"
             ],
             [
              0.8888888888888888,
              "#fdca26"
             ],
             [
              1,
              "#f0f921"
             ]
            ],
            "type": "histogram2d"
           }
          ],
          "histogram2dcontour": [
           {
            "colorbar": {
             "outlinewidth": 0,
             "ticks": ""
            },
            "colorscale": [
             [
              0,
              "#0d0887"
             ],
             [
              0.1111111111111111,
              "#46039f"
             ],
             [
              0.2222222222222222,
              "#7201a8"
             ],
             [
              0.3333333333333333,
              "#9c179e"
             ],
             [
              0.4444444444444444,
              "#bd3786"
             ],
             [
              0.5555555555555556,
              "#d8576b"
             ],
             [
              0.6666666666666666,
              "#ed7953"
             ],
             [
              0.7777777777777778,
              "#fb9f3a"
             ],
             [
              0.8888888888888888,
              "#fdca26"
             ],
             [
              1,
              "#f0f921"
             ]
            ],
            "type": "histogram2dcontour"
           }
          ],
          "mesh3d": [
           {
            "colorbar": {
             "outlinewidth": 0,
             "ticks": ""
            },
            "type": "mesh3d"
           }
          ],
          "parcoords": [
           {
            "line": {
             "colorbar": {
              "outlinewidth": 0,
              "ticks": ""
             }
            },
            "type": "parcoords"
           }
          ],
          "pie": [
           {
            "automargin": true,
            "type": "pie"
           }
          ],
          "scatter": [
           {
            "fillpattern": {
             "fillmode": "overlay",
             "size": 10,
             "solidity": 0.2
            },
            "type": "scatter"
           }
          ],
          "scatter3d": [
           {
            "line": {
             "colorbar": {
              "outlinewidth": 0,
              "ticks": ""
             }
            },
            "marker": {
             "colorbar": {
              "outlinewidth": 0,
              "ticks": ""
             }
            },
            "type": "scatter3d"
           }
          ],
          "scattercarpet": [
           {
            "marker": {
             "colorbar": {
              "outlinewidth": 0,
              "ticks": ""
             }
            },
            "type": "scattercarpet"
           }
          ],
          "scattergeo": [
           {
            "marker": {
             "colorbar": {
              "outlinewidth": 0,
              "ticks": ""
             }
            },
            "type": "scattergeo"
           }
          ],
          "scattergl": [
           {
            "marker": {
             "colorbar": {
              "outlinewidth": 0,
              "ticks": ""
             }
            },
            "type": "scattergl"
           }
          ],
          "scattermapbox": [
           {
            "marker": {
             "colorbar": {
              "outlinewidth": 0,
              "ticks": ""
             }
            },
            "type": "scattermapbox"
           }
          ],
          "scatterpolar": [
           {
            "marker": {
             "colorbar": {
              "outlinewidth": 0,
              "ticks": ""
             }
            },
            "type": "scatterpolar"
           }
          ],
          "scatterpolargl": [
           {
            "marker": {
             "colorbar": {
              "outlinewidth": 0,
              "ticks": ""
             }
            },
            "type": "scatterpolargl"
           }
          ],
          "scatterternary": [
           {
            "marker": {
             "colorbar": {
              "outlinewidth": 0,
              "ticks": ""
             }
            },
            "type": "scatterternary"
           }
          ],
          "surface": [
           {
            "colorbar": {
             "outlinewidth": 0,
             "ticks": ""
            },
            "colorscale": [
             [
              0,
              "#0d0887"
             ],
             [
              0.1111111111111111,
              "#46039f"
             ],
             [
              0.2222222222222222,
              "#7201a8"
             ],
             [
              0.3333333333333333,
              "#9c179e"
             ],
             [
              0.4444444444444444,
              "#bd3786"
             ],
             [
              0.5555555555555556,
              "#d8576b"
             ],
             [
              0.6666666666666666,
              "#ed7953"
             ],
             [
              0.7777777777777778,
              "#fb9f3a"
             ],
             [
              0.8888888888888888,
              "#fdca26"
             ],
             [
              1,
              "#f0f921"
             ]
            ],
            "type": "surface"
           }
          ],
          "table": [
           {
            "cells": {
             "fill": {
              "color": "#EBF0F8"
             },
             "line": {
              "color": "white"
             }
            },
            "header": {
             "fill": {
              "color": "#C8D4E3"
             },
             "line": {
              "color": "white"
             }
            },
            "type": "table"
           }
          ]
         },
         "layout": {
          "annotationdefaults": {
           "arrowcolor": "#2a3f5f",
           "arrowhead": 0,
           "arrowwidth": 1
          },
          "autotypenumbers": "strict",
          "coloraxis": {
           "colorbar": {
            "outlinewidth": 0,
            "ticks": ""
           }
          },
          "colorscale": {
           "diverging": [
            [
             0,
             "#8e0152"
            ],
            [
             0.1,
             "#c51b7d"
            ],
            [
             0.2,
             "#de77ae"
            ],
            [
             0.3,
             "#f1b6da"
            ],
            [
             0.4,
             "#fde0ef"
            ],
            [
             0.5,
             "#f7f7f7"
            ],
            [
             0.6,
             "#e6f5d0"
            ],
            [
             0.7,
             "#b8e186"
            ],
            [
             0.8,
             "#7fbc41"
            ],
            [
             0.9,
             "#4d9221"
            ],
            [
             1,
             "#276419"
            ]
           ],
           "sequential": [
            [
             0,
             "#0d0887"
            ],
            [
             0.1111111111111111,
             "#46039f"
            ],
            [
             0.2222222222222222,
             "#7201a8"
            ],
            [
             0.3333333333333333,
             "#9c179e"
            ],
            [
             0.4444444444444444,
             "#bd3786"
            ],
            [
             0.5555555555555556,
             "#d8576b"
            ],
            [
             0.6666666666666666,
             "#ed7953"
            ],
            [
             0.7777777777777778,
             "#fb9f3a"
            ],
            [
             0.8888888888888888,
             "#fdca26"
            ],
            [
             1,
             "#f0f921"
            ]
           ],
           "sequentialminus": [
            [
             0,
             "#0d0887"
            ],
            [
             0.1111111111111111,
             "#46039f"
            ],
            [
             0.2222222222222222,
             "#7201a8"
            ],
            [
             0.3333333333333333,
             "#9c179e"
            ],
            [
             0.4444444444444444,
             "#bd3786"
            ],
            [
             0.5555555555555556,
             "#d8576b"
            ],
            [
             0.6666666666666666,
             "#ed7953"
            ],
            [
             0.7777777777777778,
             "#fb9f3a"
            ],
            [
             0.8888888888888888,
             "#fdca26"
            ],
            [
             1,
             "#f0f921"
            ]
           ]
          },
          "colorway": [
           "#636efa",
           "#EF553B",
           "#00cc96",
           "#ab63fa",
           "#FFA15A",
           "#19d3f3",
           "#FF6692",
           "#B6E880",
           "#FF97FF",
           "#FECB52"
          ],
          "font": {
           "color": "#2a3f5f"
          },
          "geo": {
           "bgcolor": "white",
           "lakecolor": "white",
           "landcolor": "white",
           "showlakes": true,
           "showland": true,
           "subunitcolor": "#C8D4E3"
          },
          "hoverlabel": {
           "align": "left"
          },
          "hovermode": "closest",
          "mapbox": {
           "style": "light"
          },
          "paper_bgcolor": "white",
          "plot_bgcolor": "white",
          "polar": {
           "angularaxis": {
            "gridcolor": "#EBF0F8",
            "linecolor": "#EBF0F8",
            "ticks": ""
           },
           "bgcolor": "white",
           "radialaxis": {
            "gridcolor": "#EBF0F8",
            "linecolor": "#EBF0F8",
            "ticks": ""
           }
          },
          "scene": {
           "xaxis": {
            "backgroundcolor": "white",
            "gridcolor": "#DFE8F3",
            "gridwidth": 2,
            "linecolor": "#EBF0F8",
            "showbackground": true,
            "ticks": "",
            "zerolinecolor": "#EBF0F8"
           },
           "yaxis": {
            "backgroundcolor": "white",
            "gridcolor": "#DFE8F3",
            "gridwidth": 2,
            "linecolor": "#EBF0F8",
            "showbackground": true,
            "ticks": "",
            "zerolinecolor": "#EBF0F8"
           },
           "zaxis": {
            "backgroundcolor": "white",
            "gridcolor": "#DFE8F3",
            "gridwidth": 2,
            "linecolor": "#EBF0F8",
            "showbackground": true,
            "ticks": "",
            "zerolinecolor": "#EBF0F8"
           }
          },
          "shapedefaults": {
           "line": {
            "color": "#2a3f5f"
           }
          },
          "ternary": {
           "aaxis": {
            "gridcolor": "#DFE8F3",
            "linecolor": "#A2B1C6",
            "ticks": ""
           },
           "baxis": {
            "gridcolor": "#DFE8F3",
            "linecolor": "#A2B1C6",
            "ticks": ""
           },
           "bgcolor": "white",
           "caxis": {
            "gridcolor": "#DFE8F3",
            "linecolor": "#A2B1C6",
            "ticks": ""
           }
          },
          "title": {
           "x": 0.05
          },
          "xaxis": {
           "automargin": true,
           "gridcolor": "#EBF0F8",
           "linecolor": "#EBF0F8",
           "ticks": "",
           "title": {
            "standoff": 15
           },
           "zerolinecolor": "#EBF0F8",
           "zerolinewidth": 2
          },
          "yaxis": {
           "automargin": true,
           "gridcolor": "#EBF0F8",
           "linecolor": "#EBF0F8",
           "ticks": "",
           "title": {
            "standoff": 15
           },
           "zerolinecolor": "#EBF0F8",
           "zerolinewidth": 2
          }
         }
        },
        "title": {
         "font": {
          "color": "Black",
          "size": 22
         },
         "text": "<b>Topic Word Scores",
         "x": 0.5,
         "xanchor": "center",
         "yanchor": "top"
        },
        "width": 1000,
        "xaxis": {
         "anchor": "y",
         "autorange": true,
         "domain": [
          0,
          0.175
         ],
         "range": [
          0,
          0.07773623472489011
         ],
         "showgrid": true,
         "type": "linear"
        },
        "xaxis2": {
         "anchor": "y2",
         "autorange": true,
         "domain": [
          0.275,
          0.45
         ],
         "range": [
          0,
          0.03686005347050954
         ],
         "showgrid": true,
         "type": "linear"
        },
        "xaxis3": {
         "anchor": "y3",
         "autorange": true,
         "domain": [
          0.55,
          0.7250000000000001
         ],
         "range": [
          0,
          0.033664371222158276
         ],
         "showgrid": true,
         "type": "linear"
        },
        "xaxis4": {
         "anchor": "y4",
         "autorange": true,
         "domain": [
          0.825,
          1
         ],
         "range": [
          0,
          0.035620490344333254
         ],
         "showgrid": true,
         "type": "linear"
        },
        "xaxis5": {
         "anchor": "y5",
         "autorange": true,
         "domain": [
          0,
          0.175
         ],
         "range": [
          0,
          0.054897319330329555
         ],
         "showgrid": true,
         "type": "linear"
        },
        "xaxis6": {
         "anchor": "y6",
         "autorange": true,
         "domain": [
          0.275,
          0.45
         ],
         "range": [
          0,
          0.03233458637484339
         ],
         "showgrid": true,
         "type": "linear"
        },
        "xaxis7": {
         "anchor": "y7",
         "autorange": true,
         "domain": [
          0.55,
          0.7250000000000001
         ],
         "range": [
          0,
          0.03723645731638889
         ],
         "showgrid": true,
         "type": "linear"
        },
        "xaxis8": {
         "anchor": "y8",
         "autorange": true,
         "domain": [
          0.825,
          1
         ],
         "range": [
          0,
          0.03210721659014867
         ],
         "showgrid": true,
         "type": "linear"
        },
        "yaxis": {
         "anchor": "x",
         "autorange": true,
         "domain": [
          0.6000000000000001,
          1
         ],
         "range": [
          -0.5,
          4.5
         ],
         "showgrid": true,
         "type": "category"
        },
        "yaxis2": {
         "anchor": "x2",
         "autorange": true,
         "domain": [
          0.6000000000000001,
          1
         ],
         "range": [
          -0.5,
          4.5
         ],
         "showgrid": true,
         "type": "category"
        },
        "yaxis3": {
         "anchor": "x3",
         "autorange": true,
         "domain": [
          0.6000000000000001,
          1
         ],
         "range": [
          -0.5,
          4.5
         ],
         "showgrid": true,
         "type": "category"
        },
        "yaxis4": {
         "anchor": "x4",
         "autorange": true,
         "domain": [
          0.6000000000000001,
          1
         ],
         "range": [
          -0.5,
          4.5
         ],
         "showgrid": true,
         "type": "category"
        },
        "yaxis5": {
         "anchor": "x5",
         "autorange": true,
         "domain": [
          0,
          0.4
         ],
         "range": [
          -0.5,
          4.5
         ],
         "showgrid": true,
         "type": "category"
        },
        "yaxis6": {
         "anchor": "x6",
         "autorange": true,
         "domain": [
          0,
          0.4
         ],
         "range": [
          -0.5,
          4.5
         ],
         "showgrid": true,
         "type": "category"
        },
        "yaxis7": {
         "anchor": "x7",
         "autorange": true,
         "domain": [
          0,
          0.4
         ],
         "range": [
          -0.5,
          4.5
         ],
         "showgrid": true,
         "type": "category"
        },
        "yaxis8": {
         "anchor": "x8",
         "autorange": true,
         "domain": [
          0,
          0.4
         ],
         "range": [
          -0.5,
          4.5
         ],
         "showgrid": true,
         "type": "category"
        }
       }
      },
      "image/png": "[encoded data removed]",
      "text/html": [
       "<div>                            <div id=\"68d9a80a-5082-4645-ac97-ea63ad96bdbe\" class=\"plotly-graph-div\" style=\"height:500px; width:1000px;\"></div>            <script type=\"text/javascript\">                require([\"plotly\"], function(Plotly) {                    window.PLOTLYENV=window.PLOTLYENV || {};                                    if (document.getElementById(\"68d9a80a-5082-4645-ac97-ea63ad96bdbe\")) {                    Plotly.newPlot(                        \"68d9a80a-5082-4645-ac97-ea63ad96bdbe\",                        [{\"marker\":{\"color\":\"#D55E00\"},\"orientation\":\"h\",\"x\":[0.013436933857292655,0.017096092646695975,0.01997857165916912,0.07343181414791919,0.07384942298864561],\"y\":[\"sanctions  \",\"certification  \",\"project  \",\"stream  \",\"nord  \"],\"type\":\"bar\",\"xaxis\":\"x\",\"yaxis\":\"y\"},{\"marker\":{\"color\":\"#0072B2\"},\"orientation\":\"h\",\"x\":[0.012881633137174895,0.017429511315173757,0.0187283836486225,0.03286477626947125,0.03501705079698406],\"y\":[\"ukraines  \",\"poroshenko  \",\"vladimir zelensky  \",\"volodymyr  \",\"president  \"],\"type\":\"bar\",\"xaxis\":\"x2\",\"yaxis\":\"y2\"},{\"marker\":{\"color\":\"#CC79A7\"},\"orientation\":\"h\",\"x\":[0.010923621526258061,0.014696662581375449,0.020398264928281857,0.021998262950377143,0.03198115266105036],\"y\":[\"fully  \",\"vaccines  \",\"cases  \",\"health  \",\"covid19  \"],\"type\":\"bar\",\"xaxis\":\"x3\",\"yaxis\":\"y3\"},{\"marker\":{\"color\":\"#E69F00\"},\"orientation\":\"h\",\"x\":[0.011645002686986723,0.013545137290191923,0.023603018587242564,0.03004192790136079,0.03383946582711659],\"y\":[\"military  \",\"ukraine nato  \",\"member  \",\"join  \",\"alliance  \"],\"type\":\"bar\",\"xaxis\":\"x4\",\"yaxis\":\"y4\"},{\"marker\":{\"color\":\"#56B4E9\"},\"orientation\":\"h\",\"x\":[0.010965936594239015,0.01270448449708081,0.019189453545959325,0.020925574032859873,0.05215245336381308],\"y\":[\"sergey  \",\"meeting  \",\"foreign  \",\"lavrov  \",\"antony blinken  \"],\"type\":\"bar\",\"xaxis\":\"x5\",\"yaxis\":\"y5\"},{\"marker\":{\"color\":\"#009E73\"},\"orientation\":\"h\",\"x\":[0.013543467157863328,0.014249191910454529,0.019786186744861208,0.027515441913577608,0.03071785705610122],\"y\":[\"draft agreements  \",\"december 17  \",\"proposals  \",\"guarantees  \",\"eastward  \"],\"type\":\"bar\",\"xaxis\":\"x6\",\"yaxis\":\"y6\"},{\"marker\":{\"color\":\"#F0E442\"},\"orientation\":\"h\",\"x\":[0.020721675907014722,0.02155762491008988,0.02573642975460244,0.02635684583790061,0.035374634450569445],\"y\":[\"western  \",\"tensions ukraine  \",\"accused  \",\"troop  \",\"border  \"],\"type\":\"bar\",\"xaxis\":\"x7\",\"yaxis\":\"y7\"},{\"marker\":{\"color\":\"#D55E00\"},\"orientation\":\"h\",\"x\":[0.02377939061758654,0.02377939061758654,0.02377939061758654,0.024772917770464798,0.030501855760641232],\"y\":[\"kelin express  \",\"british aid  \",\"reports death  \",\"summoned russian  \",\"million  \"],\"type\":\"bar\",\"xaxis\":\"x8\",\"yaxis\":\"y8\"}],                        {\"template\":{\"data\":{\"barpolar\":[{\"marker\":{\"line\":{\"color\":\"white\",\"width\":0.5},\"pattern\":{\"fillmode\":\"overlay\",\"size\":10,\"solidity\":0.2}},\"type\":\"barpolar\"}],\"bar\":[{\"error_x\":{\"color\":\"#2a3f5f\"},\"error_y\":{\"color\":\"#2a3f5f\"},\"marker\":{\"line\":{\"color\":\"white\",\"width\":0.5},\"pattern\":{\"fillmode\":\"overlay\",\"size\":10,\"solidity\":0.2}},\"type\":\"bar\"}],\"carpet\":[{\"aaxis\":{\"endlinecolor\":\"#2a3f5f\",\"gridcolor\":\"#C8D4E3\",\"linecolor\":\"#C8D4E3\",\"minorgridcolor\":\"#C8D4E3\",\"startlinecolor\":\"#2a3f5f\"},\"baxis\":{\"endlinecolor\":\"#2a3f5f\",\"gridcolor\":\"#C8D4E3\",\"linecolor\":\"#C8D4E3\",\"minorgridcolor\":\"#C8D4E3\",\"startlinecolor\":\"#2a3f5f\"},\"type\":\"carpet\"}],\"choropleth\":[{\"colorbar\":{\"outlinewidth\":0,\"ticks\":\"\"},\"type\":\"choropleth\"}],\"contourcarpet\":[{\"colorbar\":{\"outlinewidth\":0,\"ticks\":\"\"},\"type\":\"contourcarpet\"}],\"contour\":[{\"colorbar\":{\"outlinewidth\":0,\"ticks\":\"\"},\"colorscale\":[[0.0,\"#0d0887\"],[0.1111111111111111,\"#46039f\"],[0.2222222222222222,\"#7201a8\"],[0.3333333333333333,\"#9c179e\"],[0.4444444444444444,\"#bd3786\"],[0.5555555555555556,\"#d8576b\"],[0.6666666666666666,\"#ed7953\"],[0.7777777777777778,\"#fb9f3a\"],[0.8888888888888888,\"#fdca26\"],[1.0,\"#f0f921\"]],\"type\":\"contour\"}],\"heatmapgl\":[{\"colorbar\":{\"outlinewidth\":0,\"ticks\":\"\"},\"colorscale\":[[0.0,\"#0d0887\"],[0.1111111111111111,\"#46039f\"],[0.2222222222222222,\"#7201a8\"],[0.3333333333333333,\"#9c179e\"],[0.4444444444444444,\"#bd3786\"],[0.5555555555555556,\"#d8576b\"],[0.6666666666666666,\"#ed7953\"],[0.7777777777777778,\"#fb9f3a\"],[0.8888888888888888,\"#fdca26\"],[1.0,\"#f0f921\"]],\"type\":\"heatmapgl\"}],\"heatmap\":[{\"colorbar\":{\"outlinewidth\":0,\"ticks\":\"\"},\"colorscale\":[[0.0,\"#0d0887\"],[0.1111111111111111,\"#46039f\"],[0.2222222222222222,\"#7201a8\"],[0.3333333333333333,\"#9c179e\"],[0.4444444444444444,\"#bd3786\"],[0.5555555555555556,\"#d8576b\"],[0.6666666666666666,\"#ed7953\"],[0.7777777777777778,\"#fb9f3a\"],[0.8888888888888888,\"#fdca26\"],[1.0,\"#f0f921\"]],\"type\":\"heatmap\"}],\"histogram2dcontour\":[{\"colorbar\":{\"outlinewidth\":0,\"ticks\":\"\"},\"colorscale\":[[0.0,\"#0d0887\"],[0.1111111111111111,\"#46039f\"],[0.2222222222222222,\"#7201a8\"],[0.3333333333333333,\"#9c179e\"],[0.4444444444444444,\"#bd3786\"],[0.5555555555555556,\"#d8576b\"],[0.6666666666666666,\"#ed7953\"],[0.7777777777777778,\"#fb9f3a\"],[0.8888888888888888,\"#fdca26\"],[1.0,\"#f0f921\"]],\"type\":\"histogram2dcontour\"}],\"histogram2d\":[{\"colorbar\":{\"outlinewidth\":0,\"ticks\":\"\"},\"colorscale\":[[0.0,\"#0d0887\"],[0.1111111111111111,\"#46039f\"],[0.2222222222222222,\"#7201a8\"],[0.3333333333333333,\"#9c179e\"],[0.4444444444444444,\"#bd3786\"],[0.5555555555555556,\"#d8576b\"],[0.6666666666666666,\"#ed7953\"],[0.7777777777777778,\"#fb9f3a\"],[0.8888888888888888,\"#fdca26\"],[1.0,\"#f0f921\"]],\"type\":\"histogram2d\"}],\"histogram\":[{\"marker\":{\"pattern\":{\"fillmode\":\"overlay\",\"size\":10,\"solidity\":0.2}},\"type\":\"histogram\"}],\"mesh3d\":[{\"colorbar\":{\"outlinewidth\":0,\"ticks\":\"\"},\"type\":\"mesh3d\"}],\"parcoords\":[{\"line\":{\"colorbar\":{\"outlinewidth\":0,\"ticks\":\"\"}},\"type\":\"parcoords\"}],\"pie\":[{\"automargin\":true,\"type\":\"pie\"}],\"scatter3d\":[{\"line\":{\"colorbar\":{\"outlinewidth\":0,\"ticks\":\"\"}},\"marker\":{\"colorbar\":{\"outlinewidth\":0,\"ticks\":\"\"}},\"type\":\"scatter3d\"}],\"scattercarpet\":[{\"marker\":{\"colorbar\":{\"outlinewidth\":0,\"ticks\":\"\"}},\"type\":\"scattercarpet\"}],\"scattergeo\":[{\"marker\":{\"colorbar\":{\"outlinewidth\":0,\"ticks\":\"\"}},\"type\":\"scattergeo\"}],\"scattergl\":[{\"marker\":{\"colorbar\":{\"outlinewidth\":0,\"ticks\":\"\"}},\"type\":\"scattergl\"}],\"scattermapbox\":[{\"marker\":{\"colorbar\":{\"outlinewidth\":0,\"ticks\":\"\"}},\"type\":\"scattermapbox\"}],\"scatterpolargl\":[{\"marker\":{\"colorbar\":{\"outlinewidth\":0,\"ticks\":\"\"}},\"type\":\"scatterpolargl\"}],\"scatterpolar\":[{\"marker\":{\"colorbar\":{\"outlinewidth\":0,\"ticks\":\"\"}},\"type\":\"scatterpolar\"}],\"scatter\":[{\"fillpattern\":{\"fillmode\":\"overlay\",\"size\":10,\"solidity\":0.2},\"type\":\"scatter\"}],\"scatterternary\":[{\"marker\":{\"colorbar\":{\"outlinewidth\":0,\"ticks\":\"\"}},\"type\":\"scatterternary\"}],\"surface\":[{\"colorbar\":{\"outlinewidth\":0,\"ticks\":\"\"},\"colorscale\":[[0.0,\"#0d0887\"],[0.1111111111111111,\"#46039f\"],[0.2222222222222222,\"#7201a8\"],[0.3333333333333333,\"#9c179e\"],[0.4444444444444444,\"#bd3786\"],[0.5555555555555556,\"#d8576b\"],[0.6666666666666666,\"#ed7953\"],[0.7777777777777778,\"#fb9f3a\"],[0.8888888888888888,\"#fdca26\"],[1.0,\"#f0f921\"]],\"type\":\"surface\"}],\"table\":[{\"cells\":{\"fill\":{\"color\":\"#EBF0F8\"},\"line\":{\"color\":\"white\"}},\"header\":{\"fill\":{\"color\":\"#C8D4E3\"},\"line\":{\"color\":\"white\"}},\"type\":\"table\"}]},\"layout\":{\"annotationdefaults\":{\"arrowcolor\":\"#2a3f5f\",\"arrowhead\":0,\"arrowwidth\":1},\"autotypenumbers\":\"strict\",\"coloraxis\":{\"colorbar\":{\"outlinewidth\":0,\"ticks\":\"\"}},\"colorscale\":{\"diverging\":[[0,\"#8e0152\"],[0.1,\"#c51b7d\"],[0.2,\"#de77ae\"],[0.3,\"#f1b6da\"],[0.4,\"#fde0ef\"],[0.5,\"#f7f7f7\"],[0.6,\"#e6f5d0\"],[0.7,\"#b8e186\"],[0.8,\"#7fbc41\"],[0.9,\"#4d9221\"],[1,\"#276419\"]],\"sequential\":[[0.0,\"#0d0887\"],[0.1111111111111111,\"#46039f\"],[0.2222222222222222,\"#7201a8\"],[0.3333333333333333,\"#9c179e\"],[0.4444444444444444,\"#bd3786\"],[0.5555555555555556,\"#d8576b\"],[0.6666666666666666,\"#ed7953\"],[0.7777777777777778,\"#fb9f3a\"],[0.8888888888888888,\"#fdca26\"],[1.0,\"#f0f921\"]],\"sequentialminus\":[[0.0,\"#0d0887\"],[0.1111111111111111,\"#46039f\"],[0.2222222222222222,\"#7201a8\"],[0.3333333333333333,\"#9c179e\"],[0.4444444444444444,\"#bd3786\"],[0.5555555555555556,\"#d8576b\"],[0.6666666666666666,\"#ed7953\"],[0.7777777777777778,\"#fb9f3a\"],[0.8888888888888888,\"#fdca26\"],[1.0,\"#f0f921\"]]},\"colorway\":[\"#636efa\",\"#EF553B\",\"#00cc96\",\"#ab63fa\",\"#FFA15A\",\"#19d3f3\",\"#FF6692\",\"#B6E880\",\"#FF97FF\",\"#FECB52\"],\"font\":{\"color\":\"#2a3f5f\"},\"geo\":{\"bgcolor\":\"white\",\"lakecolor\":\"white\",\"landcolor\":\"white\",\"showlakes\":true,\"showland\":true,\"subunitcolor\":\"#C8D4E3\"},\"hoverlabel\":{\"align\":\"left\"},\"hovermode\":\"closest\",\"mapbox\":{\"style\":\"light\"},\"paper_bgcolor\":\"white\",\"plot_bgcolor\":\"white\",\"polar\":{\"angularaxis\":{\"gridcolor\":\"#EBF0F8\",\"linecolor\":\"#EBF0F8\",\"ticks\":\"\"},\"bgcolor\":\"white\",\"radialaxis\":{\"gridcolor\":\"#EBF0F8\",\"linecolor\":\"#EBF0F8\",\"ticks\":\"\"}},\"scene\":{\"xaxis\":{\"backgroundcolor\":\"white\",\"gridcolor\":\"#DFE8F3\",\"gridwidth\":2,\"linecolor\":\"#EBF0F8\",\"showbackground\":true,\"ticks\":\"\",\"zerolinecolor\":\"#EBF0F8\"},\"yaxis\":{\"backgroundcolor\":\"white\",\"gridcolor\":\"#DFE8F3\",\"gridwidth\":2,\"linecolor\":\"#EBF0F8\",\"showbackground\":true,\"ticks\":\"\",\"zerolinecolor\":\"#EBF0F8\"},\"zaxis\":{\"backgroundcolor\":\"white\",\"gridcolor\":\"#DFE8F3\",\"gridwidth\":2,\"linecolor\":\"#EBF0F8\",\"showbackground\":true,\"ticks\":\"\",\"zerolinecolor\":\"#EBF0F8\"}},\"shapedefaults\":{\"line\":{\"color\":\"#2a3f5f\"}},\"ternary\":{\"aaxis\":{\"gridcolor\":\"#DFE8F3\",\"linecolor\":\"#A2B1C6\",\"ticks\":\"\"},\"baxis\":{\"gridcolor\":\"#DFE8F3\",\"linecolor\":\"#A2B1C6\",\"ticks\":\"\"},\"bgcolor\":\"white\",\"caxis\":{\"gridcolor\":\"#DFE8F3\",\"linecolor\":\"#A2B1C6\",\"ticks\":\"\"}},\"title\":{\"x\":0.05},\"xaxis\":{\"automargin\":true,\"gridcolor\":\"#EBF0F8\",\"linecolor\":\"#EBF0F8\",\"ticks\":\"\",\"title\":{\"standoff\":15},\"zerolinecolor\":\"#EBF0F8\",\"zerolinewidth\":2},\"yaxis\":{\"automargin\":true,\"gridcolor\":\"#EBF0F8\",\"linecolor\":\"#EBF0F8\",\"ticks\":\"\",\"title\":{\"standoff\":15},\"zerolinecolor\":\"#EBF0F8\",\"zerolinewidth\":2}}},\"xaxis\":{\"anchor\":\"y\",\"domain\":[0.0,0.175],\"showgrid\":true},\"yaxis\":{\"anchor\":\"x\",\"domain\":[0.6000000000000001,1.0],\"showgrid\":true},\"xaxis2\":{\"anchor\":\"y2\",\"domain\":[0.275,0.45],\"showgrid\":true},\"yaxis2\":{\"anchor\":\"x2\",\"domain\":[0.6000000000000001,1.0],\"showgrid\":true},\"xaxis3\":{\"anchor\":\"y3\",\"domain\":[0.55,0.7250000000000001],\"showgrid\":true},\"yaxis3\":{\"anchor\":\"x3\",\"domain\":[0.6000000000000001,1.0],\"showgrid\":true},\"xaxis4\":{\"anchor\":\"y4\",\"domain\":[0.825,1.0],\"showgrid\":true},\"yaxis4\":{\"anchor\":\"x4\",\"domain\":[0.6000000000000001,1.0],\"showgrid\":true},\"xaxis5\":{\"anchor\":\"y5\",\"domain\":[0.0,0.175],\"showgrid\":true},\"yaxis5\":{\"anchor\":\"x5\",\"domain\":[0.0,0.4],\"showgrid\":true},\"xaxis6\":{\"anchor\":\"y6\",\"domain\":[0.275,0.45],\"showgrid\":true},\"yaxis6\":{\"anchor\":\"x6\",\"domain\":[0.0,0.4],\"showgrid\":true},\"xaxis7\":{\"anchor\":\"y7\",\"domain\":[0.55,0.7250000000000001],\"showgrid\":true},\"yaxis7\":{\"anchor\":\"x7\",\"domain\":[0.0,0.4],\"showgrid\":true},\"xaxis8\":{\"anchor\":\"y8\",\"domain\":[0.825,1.0],\"showgrid\":true},\"yaxis8\":{\"anchor\":\"x8\",\"domain\":[0.0,0.4],\"showgrid\":true},\"annotations\":[{\"font\":{\"size\":16},\"showarrow\":false,\"text\":\"Topic 0\",\"x\":0.0875,\"xanchor\":\"center\",\"xref\":\"paper\",\"y\":1.0,\"yanchor\":\"bottom\",\"yref\":\"paper\"},{\"font\":{\"size\":16},\"showarrow\":false,\"text\":\"Topic 1\",\"x\":0.36250000000000004,\"xanchor\":\"center\",\"xref\":\"paper\",\"y\":1.0,\"yanchor\":\"bottom\",\"yref\":\"paper\"},{\"font\":{\"size\":16},\"showarrow\":false,\"text\":\"Topic 2\",\"x\":0.6375000000000001,\"xanchor\":\"center\",\"xref\":\"paper\",\"y\":1.0,\"yanchor\":\"bottom\",\"yref\":\"paper\"},{\"font\":{\"size\":16},\"showarrow\":false,\"text\":\"Topic 3\",\"x\":0.9125,\"xanchor\":\"center\",\"xref\":\"paper\",\"y\":1.0,\"yanchor\":\"bottom\",\"yref\":\"paper\"},{\"font\":{\"size\":16},\"showarrow\":false,\"text\":\"Topic 4\",\"x\":0.0875,\"xanchor\":\"center\",\"xref\":\"paper\",\"y\":0.4,\"yanchor\":\"bottom\",\"yref\":\"paper\"},{\"font\":{\"size\":16},\"showarrow\":false,\"text\":\"Topic 5\",\"x\":0.36250000000000004,\"xanchor\":\"center\",\"xref\":\"paper\",\"y\":0.4,\"yanchor\":\"bottom\",\"yref\":\"paper\"},{\"font\":{\"size\":16},\"showarrow\":false,\"text\":\"Topic 6\",\"x\":0.6375000000000001,\"xanchor\":\"center\",\"xref\":\"paper\",\"y\":0.4,\"yanchor\":\"bottom\",\"yref\":\"paper\"},{\"font\":{\"size\":16},\"showarrow\":false,\"text\":\"Topic 7\",\"x\":0.9125,\"xanchor\":\"center\",\"xref\":\"paper\",\"y\":0.4,\"yanchor\":\"bottom\",\"yref\":\"paper\"}],\"title\":{\"font\":{\"size\":22,\"color\":\"Black\"},\"text\":\"<b>Topic Word Scores\",\"x\":0.5,\"xanchor\":\"center\",\"yanchor\":\"top\"},\"hoverlabel\":{\"font\":{\"size\":16,\"family\":\"Rockwell\"},\"bgcolor\":\"white\"},\"showlegend\":false,\"width\":1000,\"height\":500},                        {\"responsive\": true}                    ).then(function(){\n",
       "                            \n",
       "var gd = document.getElementById('68d9a80a-5082-4645-ac97-ea63ad96bdbe');\n",
       "var x = new MutationObserver(function (mutations, observer) {{\n",
       "        var display = window.getComputedStyle(gd).display;\n",
       "        if (!display || display === 'none') {{\n",
       "            console.log([gd, 'removed!']);\n",
       "            Plotly.purge(gd);\n",
       "            observer.disconnect();\n",
       "        }}\n",
       "}});\n",
       "\n",
       "// Listen for the removal of the full notebook cells\n",
       "var notebookContainer = gd.closest('#notebook-container');\n",
       "if (notebookContainer) {{\n",
       "    x.observe(notebookContainer, {childList: true});\n",
       "}}\n",
       "\n",
       "// Listen for the clearing of the current output cell\n",
       "var outputEl = gd.closest('.output');\n",
       "if (outputEl) {{\n",
       "    x.observe(outputEl, {childList: true});\n",
       "}}\n",
       "\n",
       "                        })                };                });            </script>        </div>"
      ]
     },
     "metadata": {},
     "output_type": "display_data"
    }
   ],
   "source": [
    "# fig = topic_model.visualize_barchart()\n",
    "# fig.write_html(\"path/to/file.html\")\n",
    "topic_model.visualize_barchart()"
   ]
  },
  {
   "cell_type": "code",
   "execution_count": 90,
   "id": "9c3115b3-2483-48df-b07b-e138f0feefb0",
   "metadata": {
    "id": "9c3115b3-2483-48df-b07b-e138f0feefb0",
    "outputId": "c2312375-a2fe-4018-df22-d27a55fd4a42"
   },
   "outputs": [
    {
     "ename": "ValueError",
     "evalue": "This visualization cannot be used if you have set `calculate_probabilities` to False as it uses the topic probabilities of all topics. ",
     "output_type": "error",
     "traceback": [
      "\u001b[0;31m---------------------------------------------------------------------------\u001b[0m",
      "\u001b[0;31mValueError\u001b[0m                                Traceback (most recent call last)",
      "\u001b[0;32m/var/folders/jj/_szc94p56q91q_7c209d1d9w0000gn/T/ipykernel_9346/501095469.py\u001b[0m in \u001b[0;36m<module>\u001b[0;34m\u001b[0m\n\u001b[0;32m----> 1\u001b[0;31m \u001b[0mtopic_model\u001b[0m\u001b[0;34m.\u001b[0m\u001b[0mvisualize_distribution\u001b[0m\u001b[0;34m(\u001b[0m\u001b[0mprobs\u001b[0m\u001b[0;34m)\u001b[0m\u001b[0;34m\u001b[0m\u001b[0;34m\u001b[0m\u001b[0m\n\u001b[0m",
      "\u001b[0;32m~/opt/anaconda3/lib/python3.9/site-packages/bertopic/_bertopic.py\u001b[0m in \u001b[0;36mvisualize_distribution\u001b[0;34m(self, probabilities, min_probability, custom_labels, width, height)\u001b[0m\n\u001b[1;32m   1731\u001b[0m         \"\"\"\n\u001b[1;32m   1732\u001b[0m         \u001b[0mcheck_is_fitted\u001b[0m\u001b[0;34m(\u001b[0m\u001b[0mself\u001b[0m\u001b[0;34m)\u001b[0m\u001b[0;34m\u001b[0m\u001b[0;34m\u001b[0m\u001b[0m\n\u001b[0;32m-> 1733\u001b[0;31m         return plotting.visualize_distribution(self,\n\u001b[0m\u001b[1;32m   1734\u001b[0m                                                \u001b[0mprobabilities\u001b[0m\u001b[0;34m=\u001b[0m\u001b[0mprobabilities\u001b[0m\u001b[0;34m,\u001b[0m\u001b[0;34m\u001b[0m\u001b[0;34m\u001b[0m\u001b[0m\n\u001b[1;32m   1735\u001b[0m                                                \u001b[0mmin_probability\u001b[0m\u001b[0;34m=\u001b[0m\u001b[0mmin_probability\u001b[0m\u001b[0;34m,\u001b[0m\u001b[0;34m\u001b[0m\u001b[0;34m\u001b[0m\u001b[0m\n",
      "\u001b[0;32m~/opt/anaconda3/lib/python3.9/site-packages/bertopic/plotting/_distribution.py\u001b[0m in \u001b[0;36mvisualize_distribution\u001b[0;34m(topic_model, probabilities, min_probability, custom_labels, width, height)\u001b[0m\n\u001b[1;32m     40\u001b[0m     \"\"\"\n\u001b[1;32m     41\u001b[0m     \u001b[0;32mif\u001b[0m \u001b[0mlen\u001b[0m\u001b[0;34m(\u001b[0m\u001b[0mprobabilities\u001b[0m\u001b[0;34m.\u001b[0m\u001b[0mshape\u001b[0m\u001b[0;34m)\u001b[0m \u001b[0;34m!=\u001b[0m \u001b[0;36m1\u001b[0m\u001b[0;34m:\u001b[0m\u001b[0;34m\u001b[0m\u001b[0;34m\u001b[0m\u001b[0m\n\u001b[0;32m---> 42\u001b[0;31m         raise ValueError(\"This visualization cannot be used if you have set `calculate_probabilities` to False \"\n\u001b[0m\u001b[1;32m     43\u001b[0m                          \"as it uses the topic probabilities of all topics. \")\n\u001b[1;32m     44\u001b[0m     \u001b[0;32mif\u001b[0m \u001b[0mlen\u001b[0m\u001b[0;34m(\u001b[0m\u001b[0mprobabilities\u001b[0m\u001b[0;34m[\u001b[0m\u001b[0mprobabilities\u001b[0m \u001b[0;34m>\u001b[0m \u001b[0mmin_probability\u001b[0m\u001b[0;34m]\u001b[0m\u001b[0;34m)\u001b[0m \u001b[0;34m==\u001b[0m \u001b[0;36m0\u001b[0m\u001b[0;34m:\u001b[0m\u001b[0;34m\u001b[0m\u001b[0;34m\u001b[0m\u001b[0m\n",
      "\u001b[0;31mValueError\u001b[0m: This visualization cannot be used if you have set `calculate_probabilities` to False as it uses the topic probabilities of all topics. "
     ]
    }
   ],
   "source": [
    "topic_model.visualize_distribution(probs)"
   ]
  },
  {
   "cell_type": "code",
   "execution_count": 91,
   "id": "dd10f2ba-01a5-48d8-a0f9-8965d614bf97",
   "metadata": {
    "id": "dd10f2ba-01a5-48d8-a0f9-8965d614bf97",
    "outputId": "83321481-b14e-40ec-ab17-fa2abad0b6c8"
   },
   "outputs": [
    {
     "data": {
      "application/vnd.plotly.v1+json": {
       "config": {
        "plotlyServerURL": "https://plot.ly"
       },
       "data": [
        {
         "coloraxis": "coloraxis",
         "hovertemplate": "x: %{x}<br>y: %{y}<br>Similarity Score: %{z}<extra></extra>",
         "name": "0",
         "type": "heatmap",
         "x": [
          "0_nord_stream_project",
          "1_president_volodymyr_vladi...",
          "2_covid19_health_cases",
          "3_alliance_join_member",
          "4_antony blinken_lavrov_for...",
          "5_eastward_guarantees_propo...",
          "6_border_troop_accused",
          "7_million_summoned russian_...",
          "8_dmitry peskov_kremlin_gro...",
          "9_truss_sergey lavrov_liz",
          "10_benchmark_rates_barrel",
          "11_leave_department_families",
          "12_ransomware_attacks_gover...",
          "13_gazprom_transit_cubic",
          "14_donbasss_2014_coup",
          "15_geneva_security_talks",
          "16_repeatedly_accusations_r...",
          "17_west kyiv_recently_invas...",
          "18_sanctions russia_europea...",
          "19_people_concerned_border",
          "20_normandy format_2015_con...",
          "21_ministry_forces_bases",
          "22_2014_russia annexed_ukra...",
          "23_belarus_president alexan...",
          "24_southeastern ukraine_rul...",
          "25_minsk agreements_accords...",
          "26_joe biden_warned_severe",
          "27_group_world cup_play",
          "28_prime_minister boris_dow...",
          "29_energy_supplies_lng",
          "30_black_mount whitney_ships",
          "31_video_talks_tuesday",
          "32_emmanuel_french_president",
          "33_republics_peoples_denis ...",
          "34_dialogue_russian federat...",
          "35_citizenship_saakashvili ...",
          "36_osce_monitoring mission_...",
          "37_added_going_say",
          "38_luhansk_jccc_selfproclai...",
          "39_8500_pentagon_eastern"
         ],
         "xaxis": "x",
         "y": [
          "0_nord_stream_project",
          "1_president_volodymyr_vladi...",
          "2_covid19_health_cases",
          "3_alliance_join_member",
          "4_antony blinken_lavrov_for...",
          "5_eastward_guarantees_propo...",
          "6_border_troop_accused",
          "7_million_summoned russian_...",
          "8_dmitry peskov_kremlin_gro...",
          "9_truss_sergey lavrov_liz",
          "10_benchmark_rates_barrel",
          "11_leave_department_families",
          "12_ransomware_attacks_gover...",
          "13_gazprom_transit_cubic",
          "14_donbasss_2014_coup",
          "15_geneva_security_talks",
          "16_repeatedly_accusations_r...",
          "17_west kyiv_recently_invas...",
          "18_sanctions russia_europea...",
          "19_people_concerned_border",
          "20_normandy format_2015_con...",
          "21_ministry_forces_bases",
          "22_2014_russia annexed_ukra...",
          "23_belarus_president alexan...",
          "24_southeastern ukraine_rul...",
          "25_minsk agreements_accords...",
          "26_joe biden_warned_severe",
          "27_group_world cup_play",
          "28_prime_minister boris_dow...",
          "29_energy_supplies_lng",
          "30_black_mount whitney_ships",
          "31_video_talks_tuesday",
          "32_emmanuel_french_president",
          "33_republics_peoples_denis ...",
          "34_dialogue_russian federat...",
          "35_citizenship_saakashvili ...",
          "36_osce_monitoring mission_...",
          "37_added_going_say",
          "38_luhansk_jccc_selfproclai...",
          "39_8500_pentagon_eastern"
         ],
         "yaxis": "y",
         "z": [
          [
           1.0000000000000007,
           0.6595354385670171,
           0.6674203984591449,
           0.675943428071897,
           0.7911873384595935,
           0.6357979494242034,
           0.7668516855102814,
           0.8497612678061556,
           0.6817121560118811,
           0.6289847663462516,
           0.7611682694518699,
           0.5526498178596682,
           0.7129814768595755,
           0.6875474014039991,
           0.5942237220312461,
           0.6673314298412181,
           0.7559716560925036,
           0.81278080149438,
           0.8301430653961417,
           0.8119725516942161,
           0.816291133952121,
           0.7046069523297945,
           0.7590373219635117,
           0.8072523033807673,
           0.7904931264568138,
           0.7296511566985004,
           0.6709620228105743,
           0.7746882195142288,
           0.7155087177434891,
           0.6756748909338781,
           0.6711668190380866,
           0.731420549589612,
           0.6587928556154484,
           0.6749765152575777,
           0.6787498926662577,
           0.7893366047293469,
           0.6674893032883684,
           0.6350965816482093,
           0.6185273297672548,
           0.6555179735297386
          ],
          [
           0.6595354385670171,
           1.0000000000000002,
           0.564706823784461,
           0.5739997730257528,
           0.6199516064730313,
           0.5647257727929043,
           0.6142921753867847,
           0.6507608872979842,
           0.5955368703160813,
           0.5304770976826099,
           0.588018734140865,
           0.5361510370139302,
           0.5792645879158912,
           0.594209620662818,
           0.5727134349558469,
           0.5500112841153658,
           0.6429071994716241,
           0.6253030803020703,
           0.6233316675052376,
           0.6725460111688839,
           0.6691118126533762,
           0.5862138916064346,
           0.5549044941144798,
           0.6147358910765413,
           0.6547376693467213,
           0.5334501297871852,
           0.5154070774970905,
           0.5577737906304996,
           0.6239553877353629,
           0.5664981595314147,
           0.5592254001120118,
           0.65003330272889,
           0.6543667675166633,
           0.5494853536217269,
           0.592200317605996,
           0.6795661454398815,
           0.5518979323456622,
           0.5836030084461494,
           0.5807119885689638,
           0.6234604389895484
          ],
          [
           0.6674203984591449,
           0.564706823784461,
           1.0000000000000002,
           0.6207032455297331,
           0.6019601035982923,
           0.686461122364511,
           0.5738105075020193,
           0.6294693768041146,
           0.6986027886840166,
           0.6125508095919822,
           0.6950626442016883,
           0.5153391999445971,
           0.655567608186001,
           0.5460099157765315,
           0.5898741138019905,
           0.6127179256914744,
           0.6788202902121446,
           0.630503500285168,
           0.6371034709927854,
           0.6265555407404826,
           0.6286895811717416,
           0.5332971356423651,
           0.5421533206940853,
           0.6500633462455319,
           0.7035225036278643,
           0.530426275515226,
           0.5413574251508655,
           0.7712779516587774,
           0.6277143640173686,
           0.727031554807861,
           0.5943032034759985,
           0.647918404521996,
           0.6974377848966393,
           0.7488436261109952,
           0.6961853805352105,
           0.6641516529121696,
           0.6627734775983636,
           0.5080934636076289,
           0.58547324703401,
           0.6052871650218509
          ],
          [
           0.675943428071897,
           0.5739997730257528,
           0.6207032455297331,
           0.9999999999999997,
           0.62160466825825,
           0.5968002466396973,
           0.6499778937339021,
           0.6616205919079037,
           0.6872552588788536,
           0.558008462027751,
           0.6235161754904751,
           0.5349735029483949,
           0.6435732193592452,
           0.6360022318503216,
           0.6490168280423088,
           0.617017739949348,
           0.662894153192828,
           0.710751071722586,
           0.6253909548977163,
           0.6398685041111888,
           0.7288309718934387,
           0.6104930598958475,
           0.6143537262623945,
           0.626546244118547,
           0.6563215888672265,
           0.6564284799945168,
           0.5543470425521075,
           0.6582039191604039,
           0.6729358218955054,
           0.609130003702324,
           0.6432219277367015,
           0.6353128702988979,
           0.6677627119247029,
           0.624450738335201,
           0.6664876451814008,
           0.6960208900997763,
           0.6212839313330965,
           0.5453274040417816,
           0.6679652611578126,
           0.6288771810687468
          ],
          [
           0.7911873384595935,
           0.6199516064730313,
           0.6019601035982923,
           0.62160466825825,
           1,
           0.6277349956377571,
           0.6907590079706704,
           0.713017029875582,
           0.6421591995717454,
           0.5281916401522009,
           0.714726773307464,
           0.5344620017266861,
           0.6978153842622385,
           0.5935587555817629,
           0.586057267168901,
           0.6256054474218969,
           0.7164806731407781,
           0.7052675862774025,
           0.6396401351368086,
           0.7186751961626574,
           0.7139165767108738,
           0.6743288165832175,
           0.6722680906291439,
           0.7271673589582693,
           0.6772633353681343,
           0.5905978469010258,
           0.5920848278228118,
           0.6488953776105766,
           0.7569263330946778,
           0.5839448686610872,
           0.6085882516217989,
           0.7331355753050335,
           0.6708413434144478,
           0.6112725316793808,
           0.6464673374658142,
           0.7152987613894639,
           0.625273762595737,
           0.5991860959291724,
           0.6225636416137142,
           0.6330229554335125
          ],
          [
           0.6357979494242034,
           0.5647257727929043,
           0.686461122364511,
           0.5968002466396973,
           0.6277349956377571,
           0.9999999999999997,
           0.5968285552371624,
           0.6042756517937106,
           0.6546658824463447,
           0.629914143288816,
           0.7118155691870782,
           0.5041278366684164,
           0.6156078675611952,
           0.587262555771382,
           0.5557020072280239,
           0.5619466257172403,
           0.6828104895762972,
           0.6340129327802747,
           0.5874777375650229,
           0.6261281847963747,
           0.6232811168465957,
           0.5547485020992617,
           0.5400290663591392,
           0.5759767035979673,
           0.63076764699341,
           0.5464609208295408,
           0.5347032961065349,
           0.6779768677505129,
           0.5596986899739829,
           0.6238176003882305,
           0.5323295913726236,
           0.6241744160273961,
           0.635837943055819,
           0.711068463603234,
           0.6486761012557853,
           0.7066025391814835,
           0.577553645873974,
           0.5295909017917574,
           0.5515425699880891,
           0.5904563308557467
          ],
          [
           0.7668516855102814,
           0.6142921753867847,
           0.5738105075020193,
           0.6499778937339021,
           0.6907590079706704,
           0.5968285552371624,
           1.0000000000000004,
           0.748662470329535,
           0.6537342135277917,
           0.6147033554511858,
           0.6901631403033608,
           0.5249497977297766,
           0.6688374999968218,
           0.6211526557202468,
           0.6082346052321055,
           0.6349462280838403,
           0.7186484004692537,
           0.7988635060457423,
           0.7363607428126646,
           0.7093394510493974,
           0.7380774239222464,
           0.6977402747068817,
           0.7082509611730318,
           0.6963002264592708,
           0.6611621887095438,
           0.6951611341850792,
           0.6577659062028609,
           0.6600330227919818,
           0.6647123880450667,
           0.6116227781080316,
           0.614685181649262,
           0.6599446307865479,
           0.6773167038664887,
           0.6081910485788977,
           0.6273891483175409,
           0.7440283925829692,
           0.6340880431697313,
           0.6142357150931768,
           0.6363323539213943,
           0.6509846436980806
          ],
          [
           0.8497612678061556,
           0.6507608872979842,
           0.6294693768041146,
           0.6616205919079037,
           0.713017029875582,
           0.6042756517937106,
           0.748662470329535,
           1,
           0.7226483090245172,
           0.6317754626174417,
           0.7167163830383905,
           0.5669672772926606,
           0.7035898724186713,
           0.6515941130031185,
           0.6424247211591314,
           0.6930900808279237,
           0.7081904810595305,
           0.8127584185868748,
           0.8038111831265556,
           0.7403298564989602,
           0.8261538877260619,
           0.696825404466367,
           0.778085621112168,
           0.7858679553132628,
           0.7510533681564637,
           0.692531602613522,
           0.5754667397789678,
           0.7190138633560001,
           0.7142131001503005,
           0.683464143959535,
           0.6502215470536719,
           0.7310809148255928,
           0.7044959740911982,
           0.6557319178097056,
           0.683455310182359,
           0.7620154249889571,
           0.7136384969797382,
           0.6014577661028179,
           0.6720769075757251,
           0.6820605353057736
          ],
          [
           0.6817121560118811,
           0.5955368703160813,
           0.6986027886840166,
           0.6872552588788536,
           0.6421591995717454,
           0.6546658824463447,
           0.6537342135277917,
           0.7226483090245172,
           1.0000000000000004,
           0.6748262968569395,
           0.7090560223723473,
           0.5782712881951665,
           0.7216580659008386,
           0.6589249351833371,
           0.6972291404376674,
           0.6757212266414333,
           0.7129471451522951,
           0.7051484637874667,
           0.6378103553033185,
           0.7018173879259614,
           0.6918222278978605,
           0.6325974235138286,
           0.6575467723998673,
           0.6701100448785619,
           0.6840302862950465,
           0.6365578694283572,
           0.543382569406542,
           0.7228531195940111,
           0.6520027607736478,
           0.7385335682444953,
           0.6568115553917183,
           0.715103923582744,
           0.7283587966307536,
           0.6885999449584876,
           0.7327649858201942,
           0.710307658843143,
           0.7167200841215754,
           0.6483504118229314,
           0.6527304889630806,
           0.6584031764388841
          ],
          [
           0.6289847663462516,
           0.5304770976826099,
           0.6125508095919822,
           0.558008462027751,
           0.5281916401522009,
           0.629914143288816,
           0.6147033554511858,
           0.6317754626174417,
           0.6748262968569395,
           1,
           0.626854259021263,
           0.4346761586747103,
           0.5839703318988362,
           0.6247364653906156,
           0.5583480409013887,
           0.6090668970651384,
           0.6263376332492233,
           0.6883169691428577,
           0.6524852969843287,
           0.6422694911445749,
           0.622253291673327,
           0.5391167584227906,
           0.5906400874403857,
           0.5851079170493872,
           0.6210873848741542,
           0.7131997415387142,
           0.5535982755042824,
           0.6718549819576249,
           0.529485068593779,
           0.5949629834828164,
           0.5389796617385295,
           0.5547674851259623,
           0.617290529989367,
           0.5645123393682251,
           0.6529875581788203,
           0.6700568567840076,
           0.6332822877726347,
           0.6038747840051316,
           0.5398718799355826,
           0.6443973388564567
          ],
          [
           0.7611682694518699,
           0.588018734140865,
           0.6950626442016883,
           0.6235161754904751,
           0.714726773307464,
           0.7118155691870782,
           0.6901631403033608,
           0.7167163830383905,
           0.7090560223723473,
           0.626854259021263,
           0.9999999999999993,
           0.5672049568765949,
           0.698658212533011,
           0.6533630697671684,
           0.6545075154024701,
           0.6494184891433844,
           0.7631367555996841,
           0.7040391166713934,
           0.677307265966347,
           0.6786864970893486,
           0.7059065162136473,
           0.6379834411367853,
           0.7135324109407721,
           0.6581613540124862,
           0.6915092409479926,
           0.608439197220917,
           0.5916958561184914,
           0.7518927703846057,
           0.6661561516216147,
           0.7003364492794177,
           0.6371535551666121,
           0.724771737827883,
           0.7366433995774724,
           0.724541959235813,
           0.633638872690971,
           0.7572446871218809,
           0.6423984049381521,
           0.5889396978203769,
           0.6283729695282849,
           0.6518505077025923
          ],
          [
           0.5526498178596682,
           0.5361510370139302,
           0.5153391999445971,
           0.5349735029483949,
           0.5344620017266861,
           0.5041278366684164,
           0.5249497977297766,
           0.5669672772926606,
           0.5782712881951665,
           0.4346761586747103,
           0.5672049568765949,
           0.9999999999999998,
           0.5516349829805476,
           0.5478915607669526,
           0.5567566711546781,
           0.5263279474046635,
           0.565006889033922,
           0.5578718869315754,
           0.5100508041595643,
           0.6069367382588026,
           0.5932395283289744,
           0.4962205435691222,
           0.6119650204240512,
           0.4878606436703669,
           0.46841117961739626,
           0.4481366801129565,
           0.44138577675846447,
           0.5634635326316085,
           0.5688729157047384,
           0.6063300507122004,
           0.7261303538442374,
           0.6393761622925991,
           0.6079383125944533,
           0.550213211451819,
           0.5046335648379344,
           0.5812979801253373,
           0.4825600875353937,
           0.5004327310342893,
           0.5732709679417921,
           0.5532829180379841
          ],
          [
           0.7129814768595755,
           0.5792645879158912,
           0.655567608186001,
           0.6435732193592452,
           0.6978153842622385,
           0.6156078675611952,
           0.6688374999968218,
           0.7035898724186713,
           0.7216580659008386,
           0.5839703318988362,
           0.698658212533011,
           0.5516349829805476,
           0.9999999999999993,
           0.5920689125989665,
           0.6002950467370644,
           0.6714722442796079,
           0.7075539733732891,
           0.7408423855208263,
           0.655522025201165,
           0.7161616014653491,
           0.7214857221233824,
           0.6101145009358836,
           0.6547564616917725,
           0.6393134490938664,
           0.6674105928660148,
           0.6406514025803235,
           0.5914682172153821,
           0.6859553637364338,
           0.6985087018974488,
           0.6539823376343818,
           0.6366839664505918,
           0.6932696058271339,
           0.6642095243431925,
           0.6729328611080511,
           0.6612229144881955,
           0.744238945856055,
           0.6709548189546373,
           0.636174653881814,
           0.6876591369192782,
           0.6572153825540564
          ],
          [
           0.6875474014039991,
           0.594209620662818,
           0.5460099157765315,
           0.6360022318503216,
           0.5935587555817629,
           0.587262555771382,
           0.6211526557202468,
           0.6515941130031185,
           0.6589249351833371,
           0.6247364653906156,
           0.6533630697671684,
           0.5478915607669526,
           0.5920689125989665,
           0.9999999999999998,
           0.5962598213293029,
           0.5942161887707165,
           0.6543401366494896,
           0.6698719793632535,
           0.6416083663061043,
           0.6885426969197133,
           0.6632124047593498,
           0.5462181619566336,
           0.6391017360745587,
           0.6087363411084415,
           0.5818144227738326,
           0.619215892089309,
           0.5178850107332631,
           0.6320476504171492,
           0.5939691717694017,
           0.6273358417007073,
           0.6205893776825374,
           0.6293156514283287,
           0.603460897054549,
           0.563289309690153,
           0.611429003776312,
           0.7404334332996774,
           0.5965936881457391,
           0.5665630862315859,
           0.5830368102110174,
           0.6165341157117668
          ],
          [
           0.5942237220312461,
           0.5727134349558469,
           0.5898741138019905,
           0.6490168280423088,
           0.586057267168901,
           0.5557020072280239,
           0.6082346052321055,
           0.6424247211591314,
           0.6972291404376674,
           0.5583480409013887,
           0.6545075154024701,
           0.5567566711546781,
           0.6002950467370644,
           0.5962598213293029,
           0.9999999999999999,
           0.5728871559831483,
           0.6373453485176079,
           0.6220945503453335,
           0.54486507318397,
           0.6289974195486817,
           0.5927848741290251,
           0.5045027817022194,
           0.6311787289891483,
           0.591027806569242,
           0.6462247268489626,
           0.5142953846985723,
           0.5434441129105696,
           0.5846790709434571,
           0.6275013167804002,
           0.6235136038581777,
           0.6614373731816361,
           0.6527075917587138,
           0.6267686771801135,
           0.556005008389262,
           0.586090881638069,
           0.6793404867067893,
           0.6089272111416694,
           0.5527281477337417,
           0.6318566141721729,
           0.6460023295756819
          ],
          [
           0.6673314298412181,
           0.5500112841153658,
           0.6127179256914744,
           0.617017739949348,
           0.6256054474218969,
           0.5619466257172403,
           0.6349462280838403,
           0.6930900808279237,
           0.6757212266414333,
           0.6090668970651384,
           0.6494184891433844,
           0.5263279474046635,
           0.6714722442796079,
           0.5942161887707165,
           0.5728871559831483,
           1,
           0.660012108036943,
           0.6676697683304746,
           0.611834695450438,
           0.6435255062333713,
           0.6600642938855075,
           0.6181647368846243,
           0.606660559653841,
           0.6783567508140931,
           0.6304277553936504,
           0.6058081490764727,
           0.6163191948507709,
           0.6512472167096794,
           0.6204635922678668,
           0.6225229442890275,
           0.569502850918806,
           0.6698739581640718,
           0.6812782654908739,
           0.6518048145056188,
           0.7411936595153694,
           0.6844949368356957,
           0.6556404281560424,
           0.6291767006659148,
           0.6271458233207776,
           0.6426713256465497
          ],
          [
           0.7559716560925036,
           0.6429071994716241,
           0.6788202902121446,
           0.662894153192828,
           0.7164806731407781,
           0.6828104895762972,
           0.7186484004692537,
           0.7081904810595305,
           0.7129471451522951,
           0.6263376332492233,
           0.7631367555996841,
           0.565006889033922,
           0.7075539733732891,
           0.6543401366494896,
           0.6373453485176079,
           0.660012108036943,
           1,
           0.7403537351140802,
           0.6839152790435378,
           0.6847240048697397,
           0.6894687472356893,
           0.6807955010793577,
           0.6504079726435693,
           0.6814166383151042,
           0.6752473864619651,
           0.6078562496270892,
           0.665005055550722,
           0.6841927381535303,
           0.6877355296560455,
           0.6199437934841108,
           0.6237237959505316,
           0.6864509267575698,
           0.7289379696237956,
           0.6810240036401465,
           0.6420666928869638,
           0.7520713045763514,
           0.6421628708655541,
           0.683386902764426,
           0.6412150825756192,
           0.6783792440608162
          ],
          [
           0.81278080149438,
           0.6253030803020703,
           0.630503500285168,
           0.710751071722586,
           0.7052675862774025,
           0.6340129327802747,
           0.7988635060457423,
           0.8127584185868748,
           0.7051484637874667,
           0.6883169691428577,
           0.7040391166713934,
           0.5578718869315754,
           0.7408423855208263,
           0.6698719793632535,
           0.6220945503453335,
           0.6676697683304746,
           0.7403537351140802,
           1.0000000000000007,
           0.7890499388648476,
           0.7658275225665718,
           0.807346356434801,
           0.6811163396923877,
           0.7383812636189441,
           0.7104891718511539,
           0.7244614287826445,
           0.766583689329487,
           0.6178723704729069,
           0.708452613323443,
           0.7196809229122205,
           0.6490489018996427,
           0.6465413403822772,
           0.6888371237074119,
           0.7274664690964262,
           0.6555586528656375,
           0.6731463603937128,
           0.7942871345413752,
           0.6804824078285786,
           0.6273923240377725,
           0.7105064502637052,
           0.6781274039133278
          ],
          [
           0.8301430653961417,
           0.6233316675052376,
           0.6371034709927854,
           0.6253909548977163,
           0.6396401351368086,
           0.5874777375650229,
           0.7363607428126646,
           0.8038111831265556,
           0.6378103553033185,
           0.6524852969843287,
           0.677307265966347,
           0.5100508041595643,
           0.655522025201165,
           0.6416083663061043,
           0.54486507318397,
           0.611834695450438,
           0.6839152790435378,
           0.7890499388648476,
           1,
           0.7459825542503825,
           0.762000305347615,
           0.6457721160483177,
           0.6680750098746456,
           0.7759014501243214,
           0.7305974126286848,
           0.7365672630809805,
           0.5978123977045247,
           0.6961230370651823,
           0.642198192533626,
           0.6606308893031239,
           0.6108825895503365,
           0.6198573212412732,
           0.6408747774521438,
           0.5990665128150652,
           0.6416781611764283,
           0.7147171433724538,
           0.6222082540853433,
           0.5948427359129039,
           0.6238917074642549,
           0.6661734805041954
          ],
          [
           0.8119725516942161,
           0.6725460111688839,
           0.6265555407404826,
           0.6398685041111888,
           0.7186751961626574,
           0.6261281847963747,
           0.7093394510493974,
           0.7403298564989602,
           0.7018173879259614,
           0.6422694911445749,
           0.6786864970893486,
           0.6069367382588026,
           0.7161616014653491,
           0.6885426969197133,
           0.6289974195486817,
           0.6435255062333713,
           0.6847240048697397,
           0.7658275225665718,
           0.7459825542503825,
           0.9999999999999998,
           0.7548995311020105,
           0.6645480565923345,
           0.6519641180417538,
           0.7481330823291812,
           0.7914234945885901,
           0.6888242436740076,
           0.6669171429746987,
           0.7020424234236925,
           0.6692095208382687,
           0.6510748448257945,
           0.7191430668785244,
           0.6946555619858454,
           0.660372661373257,
           0.6618568567748699,
           0.6539196932740721,
           0.7718040756146529,
           0.6544979619201263,
           0.6165027790938891,
           0.6376099305230543,
           0.6289616538209651
          ],
          [
           0.816291133952121,
           0.6691118126533762,
           0.6286895811717416,
           0.7288309718934387,
           0.7139165767108738,
           0.6232811168465957,
           0.7380774239222464,
           0.8261538877260619,
           0.6918222278978605,
           0.622253291673327,
           0.7059065162136473,
           0.5932395283289744,
           0.7214857221233824,
           0.6632124047593498,
           0.5927848741290251,
           0.6600642938855075,
           0.6894687472356893,
           0.807346356434801,
           0.762000305347615,
           0.7548995311020105,
           0.9999999999999998,
           0.6442831996646501,
           0.7281918852892938,
           0.730845140520672,
           0.694393864566449,
           0.7371464936302021,
           0.575005443856356,
           0.7354649564985419,
           0.7751159303913494,
           0.6933069244764873,
           0.6979126435131865,
           0.7269432153199785,
           0.7167904541344168,
           0.648768447180943,
           0.7099872827036376,
           0.7992055325645238,
           0.6432776657957936,
           0.6206282562361664,
           0.8199877038333652,
           0.7060179543784796
          ],
          [
           0.7046069523297945,
           0.5862138916064346,
           0.5332971356423651,
           0.6104930598958475,
           0.6743288165832175,
           0.5547485020992617,
           0.6977402747068817,
           0.696825404466367,
           0.6325974235138286,
           0.5391167584227906,
           0.6379834411367853,
           0.4962205435691222,
           0.6101145009358836,
           0.5462181619566336,
           0.5045027817022194,
           0.6181647368846243,
           0.6807955010793577,
           0.6811163396923877,
           0.6457721160483177,
           0.6645480565923345,
           0.6442831996646501,
           0.9999999999999994,
           0.6127395411772917,
           0.6888501865565625,
           0.6390682205571363,
           0.5874365162109171,
           0.6781445527686405,
           0.620060297886297,
           0.5973971236774512,
           0.5954378479554416,
           0.5427463123645999,
           0.6281679536678714,
           0.674556848414012,
           0.6181865501628865,
           0.6161848276854629,
           0.678183475431243,
           0.5572191280576099,
           0.5449300537058772,
           0.53859419116709,
           0.6138589908463008
          ],
          [
           0.7590373219635117,
           0.5549044941144798,
           0.5421533206940853,
           0.6143537262623945,
           0.6722680906291439,
           0.5400290663591392,
           0.7082509611730318,
           0.778085621112168,
           0.6575467723998673,
           0.5906400874403857,
           0.7135324109407721,
           0.6119650204240512,
           0.6547564616917725,
           0.6391017360745587,
           0.6311787289891483,
           0.606660559653841,
           0.6504079726435693,
           0.7383812636189441,
           0.6680750098746456,
           0.6519641180417538,
           0.7281918852892938,
           0.6127395411772917,
           1,
           0.6302292121032791,
           0.6559634473308196,
           0.6118255596002043,
           0.5607924779268179,
           0.6660366795055702,
           0.6784654188384693,
           0.6223557973537495,
           0.7024325464845493,
           0.7100428576213956,
           0.6677217845658255,
           0.6027075023965915,
           0.5983357099049084,
           0.7239195809454261,
           0.5952666474499668,
           0.5951673012654888,
           0.6126015554236465,
           0.6358315626983373
          ],
          [
           0.8072523033807673,
           0.6147358910765413,
           0.6500633462455319,
           0.626546244118547,
           0.7271673589582693,
           0.5759767035979673,
           0.6963002264592708,
           0.7858679553132628,
           0.6701100448785619,
           0.5851079170493872,
           0.6581613540124862,
           0.4878606436703669,
           0.6393134490938664,
           0.6087363411084415,
           0.591027806569242,
           0.6783567508140931,
           0.6814166383151042,
           0.7104891718511539,
           0.7759014501243214,
           0.7481330823291812,
           0.730845140520672,
           0.6888501865565625,
           0.6302292121032791,
           1,
           0.7804906404501919,
           0.6374754215012345,
           0.593709247819157,
           0.6686176602169034,
           0.6966678623372927,
           0.654040628836389,
           0.5916846919767801,
           0.6675436407222315,
           0.6438107158981555,
           0.6231252012563635,
           0.7119420576771468,
           0.699717890685301,
           0.7124495496078891,
           0.5613908169759643,
           0.5935492583362787,
           0.6212938093818087
          ],
          [
           0.7904931264568138,
           0.6547376693467213,
           0.7035225036278643,
           0.6563215888672265,
           0.6772633353681343,
           0.63076764699341,
           0.6611621887095438,
           0.7510533681564637,
           0.6840302862950465,
           0.6210873848741542,
           0.6915092409479926,
           0.46841117961739626,
           0.6674105928660148,
           0.5818144227738326,
           0.6462247268489626,
           0.6304277553936504,
           0.6752473864619651,
           0.7244614287826445,
           0.7305974126286848,
           0.7914234945885901,
           0.694393864566449,
           0.6390682205571363,
           0.6559634473308196,
           0.7804906404501919,
           0.9999999999999999,
           0.6162758942349378,
           0.6769887219837499,
           0.6758773525593013,
           0.6319507985744314,
           0.6432973547416188,
           0.5620860153028266,
           0.6383061231182133,
           0.6453184570946394,
           0.672175972610232,
           0.6840852039780667,
           0.6940499918198048,
           0.6990131012138965,
           0.5510540523455825,
           0.5622887690506698,
           0.5887625214142628
          ],
          [
           0.7296511566985004,
           0.5334501297871852,
           0.530426275515226,
           0.6564284799945168,
           0.5905978469010258,
           0.5464609208295408,
           0.6951611341850792,
           0.692531602613522,
           0.6365578694283572,
           0.7131997415387142,
           0.608439197220917,
           0.4481366801129565,
           0.6406514025803235,
           0.619215892089309,
           0.5142953846985723,
           0.6058081490764727,
           0.6078562496270892,
           0.766583689329487,
           0.7365672630809805,
           0.6888242436740076,
           0.7371464936302021,
           0.5874365162109171,
           0.6118255596002043,
           0.6374754215012345,
           0.6162758942349378,
           1.0000000000000004,
           0.5569935585901474,
           0.6623520908213455,
           0.6134632946784573,
           0.5935674338820829,
           0.5681313805052176,
           0.5436395872353973,
           0.6170375831156387,
           0.5357351849580166,
           0.6083978672369867,
           0.7274527670197865,
           0.6082971506690965,
           0.6168063317556933,
           0.634733046424781,
           0.6499600834598062
          ],
          [
           0.6709620228105743,
           0.5154070774970905,
           0.5413574251508655,
           0.5543470425521075,
           0.5920848278228118,
           0.5347032961065349,
           0.6577659062028609,
           0.5754667397789678,
           0.543382569406542,
           0.5535982755042824,
           0.5916958561184914,
           0.44138577675846447,
           0.5914682172153821,
           0.5178850107332631,
           0.5434441129105696,
           0.6163191948507709,
           0.665005055550722,
           0.6178723704729069,
           0.5978123977045247,
           0.6669171429746987,
           0.575005443856356,
           0.6781445527686405,
           0.5607924779268179,
           0.593709247819157,
           0.6769887219837499,
           0.5569935585901474,
           0.9999999999999996,
           0.5646530719184487,
           0.5040105568090121,
           0.5197596719496075,
           0.5363820250317911,
           0.5088782818244678,
           0.5474579581368407,
           0.5459850068649161,
           0.5620808853912967,
           0.6141680301254074,
           0.5419098844051683,
           0.5528733184818725,
           0.4874603602230687,
           0.5835709299977005
          ],
          [
           0.7746882195142288,
           0.5577737906304996,
           0.7712779516587774,
           0.6582039191604039,
           0.6488953776105766,
           0.6779768677505129,
           0.6600330227919818,
           0.7190138633560001,
           0.7228531195940111,
           0.6718549819576249,
           0.7518927703846057,
           0.5634635326316085,
           0.6859553637364338,
           0.6320476504171492,
           0.5846790709434571,
           0.6512472167096794,
           0.6841927381535303,
           0.708452613323443,
           0.6961230370651823,
           0.7020424234236925,
           0.7354649564985419,
           0.620060297886297,
           0.6660366795055702,
           0.6686176602169034,
           0.6758773525593013,
           0.6623520908213455,
           0.5646530719184487,
           1,
           0.6377977863636235,
           0.7351762707047167,
           0.6425006942613591,
           0.7172785287687479,
           0.74991744061056,
           0.7413644785983867,
           0.6987504512532001,
           0.711958638757858,
           0.6740340707353705,
           0.5986969796068679,
           0.6165388574145474,
           0.6280179029369591
          ],
          [
           0.7155087177434891,
           0.6239553877353629,
           0.6277143640173686,
           0.6729358218955054,
           0.7569263330946778,
           0.5596986899739829,
           0.6647123880450667,
           0.7142131001503005,
           0.6520027607736478,
           0.529485068593779,
           0.6661561516216147,
           0.5688729157047384,
           0.6985087018974488,
           0.5939691717694017,
           0.6275013167804002,
           0.6204635922678668,
           0.6877355296560455,
           0.7196809229122205,
           0.642198192533626,
           0.6692095208382687,
           0.7751159303913494,
           0.5973971236774512,
           0.6784654188384693,
           0.6966678623372927,
           0.6319507985744314,
           0.6134632946784573,
           0.5040105568090121,
           0.6377977863636235,
           0.9999999999999996,
           0.6494957259266056,
           0.6534677711702069,
           0.7007691531253936,
           0.7098421476485868,
           0.642439756090429,
           0.6574481461133747,
           0.7094738539503451,
           0.6480612051011917,
           0.5743183914105069,
           0.7301689514360599,
           0.6440889482849368
          ],
          [
           0.6756748909338781,
           0.5664981595314147,
           0.727031554807861,
           0.609130003702324,
           0.5839448686610872,
           0.6238176003882305,
           0.6116227781080316,
           0.683464143959535,
           0.7385335682444953,
           0.5949629834828164,
           0.7003364492794177,
           0.6063300507122004,
           0.6539823376343818,
           0.6273358417007073,
           0.6235136038581777,
           0.6225229442890275,
           0.6199437934841108,
           0.6490489018996427,
           0.6606308893031239,
           0.6510748448257945,
           0.6933069244764873,
           0.5954378479554416,
           0.6223557973537495,
           0.654040628836389,
           0.6432973547416188,
           0.5935674338820829,
           0.5197596719496075,
           0.7351762707047167,
           0.6494957259266056,
           1,
           0.6394472441691568,
           0.7044808677327825,
           0.6689910173319666,
           0.674241467404979,
           0.6687662732590574,
           0.6844662884622246,
           0.6181105329653807,
           0.5479514936433233,
           0.6222114438710095,
           0.626610349551928
          ],
          [
           0.6711668190380866,
           0.5592254001120118,
           0.5943032034759985,
           0.6432219277367015,
           0.6085882516217989,
           0.5323295913726236,
           0.614685181649262,
           0.6502215470536719,
           0.6568115553917183,
           0.5389796617385295,
           0.6371535551666121,
           0.7261303538442374,
           0.6366839664505918,
           0.6205893776825374,
           0.6614373731816361,
           0.569502850918806,
           0.6237237959505316,
           0.6465413403822772,
           0.6108825895503365,
           0.7191430668785244,
           0.6979126435131865,
           0.5427463123645999,
           0.7024325464845493,
           0.5916846919767801,
           0.5620860153028266,
           0.5681313805052176,
           0.5363820250317911,
           0.6425006942613591,
           0.6534677711702069,
           0.6394472441691568,
           1.0000000000000004,
           0.6863361490169076,
           0.6738630986507141,
           0.5891761250353593,
           0.5661417542139663,
           0.6950100621341401,
           0.5607581747795253,
           0.5660894185038943,
           0.6685220235439904,
           0.6287715887103357
          ],
          [
           0.731420549589612,
           0.65003330272889,
           0.647918404521996,
           0.6353128702988979,
           0.7331355753050335,
           0.6241744160273961,
           0.6599446307865479,
           0.7310809148255928,
           0.715103923582744,
           0.5547674851259623,
           0.724771737827883,
           0.6393761622925991,
           0.6932696058271339,
           0.6293156514283287,
           0.6527075917587138,
           0.6698739581640718,
           0.6864509267575698,
           0.6888371237074119,
           0.6198573212412732,
           0.6946555619858454,
           0.7269432153199785,
           0.6281679536678714,
           0.7100428576213956,
           0.6675436407222315,
           0.6383061231182133,
           0.5436395872353973,
           0.5088782818244678,
           0.7172785287687479,
           0.7007691531253936,
           0.7044808677327825,
           0.6863361490169076,
           0.9999999999999994,
           0.7294441951640015,
           0.6672958203140844,
           0.6728129347490208,
           0.7479299856552633,
           0.6393805118192967,
           0.581216022338702,
           0.6905218818247019,
           0.662542842670478
          ],
          [
           0.6587928556154484,
           0.6543667675166633,
           0.6974377848966393,
           0.6677627119247029,
           0.6708413434144478,
           0.635837943055819,
           0.6773167038664887,
           0.7044959740911982,
           0.7283587966307536,
           0.617290529989367,
           0.7366433995774724,
           0.6079383125944533,
           0.6642095243431925,
           0.603460897054549,
           0.6267686771801135,
           0.6812782654908739,
           0.7289379696237956,
           0.7274664690964262,
           0.6408747774521438,
           0.660372661373257,
           0.7167904541344168,
           0.674556848414012,
           0.6677217845658255,
           0.6438107158981555,
           0.6453184570946394,
           0.6170375831156387,
           0.5474579581368407,
           0.74991744061056,
           0.7098421476485868,
           0.6689910173319666,
           0.6738630986507141,
           0.7294441951640015,
           0.9999999999999997,
           0.7311155222765306,
           0.6788050183985944,
           0.733304796233392,
           0.6502537348478552,
           0.6246849453864244,
           0.7257369394625243,
           0.6587150839215096
          ],
          [
           0.6749765152575777,
           0.5494853536217269,
           0.7488436261109952,
           0.624450738335201,
           0.6112725316793808,
           0.711068463603234,
           0.6081910485788977,
           0.6557319178097056,
           0.6885999449584876,
           0.5645123393682251,
           0.724541959235813,
           0.550213211451819,
           0.6729328611080511,
           0.563289309690153,
           0.556005008389262,
           0.6518048145056188,
           0.6810240036401465,
           0.6555586528656375,
           0.5990665128150652,
           0.6618568567748699,
           0.648768447180943,
           0.6181865501628865,
           0.6027075023965915,
           0.6231252012563635,
           0.672175972610232,
           0.5357351849580166,
           0.5459850068649161,
           0.7413644785983867,
           0.642439756090429,
           0.674241467404979,
           0.5891761250353593,
           0.6672958203140844,
           0.7311155222765306,
           1.0000000000000002,
           0.6708115623952857,
           0.6600951315718061,
           0.6339162871957008,
           0.5510493670414349,
           0.5670344191670166,
           0.5604393022940567
          ],
          [
           0.6787498926662577,
           0.592200317605996,
           0.6961853805352105,
           0.6664876451814008,
           0.6464673374658142,
           0.6486761012557853,
           0.6273891483175409,
           0.683455310182359,
           0.7327649858201942,
           0.6529875581788203,
           0.633638872690971,
           0.5046335648379344,
           0.6612229144881955,
           0.611429003776312,
           0.586090881638069,
           0.7411936595153694,
           0.6420666928869638,
           0.6731463603937128,
           0.6416781611764283,
           0.6539196932740721,
           0.7099872827036376,
           0.6161848276854629,
           0.5983357099049084,
           0.7119420576771468,
           0.6840852039780667,
           0.6083978672369867,
           0.5620808853912967,
           0.6987504512532001,
           0.6574481461133747,
           0.6687662732590574,
           0.5661417542139663,
           0.6728129347490208,
           0.6788050183985944,
           0.6708115623952857,
           0.9999999999999998,
           0.6582513344560426,
           0.7070022713656187,
           0.5471443352108913,
           0.6496580323036979,
           0.7155333110612795
          ],
          [
           0.7893366047293469,
           0.6795661454398815,
           0.6641516529121696,
           0.6960208900997763,
           0.7152987613894639,
           0.7066025391814835,
           0.7440283925829692,
           0.7620154249889571,
           0.710307658843143,
           0.6700568567840076,
           0.7572446871218809,
           0.5812979801253373,
           0.744238945856055,
           0.7404334332996774,
           0.6793404867067893,
           0.6844949368356957,
           0.7520713045763514,
           0.7942871345413752,
           0.7147171433724538,
           0.7718040756146529,
           0.7992055325645238,
           0.678183475431243,
           0.7239195809454261,
           0.699717890685301,
           0.6940499918198048,
           0.7274527670197865,
           0.6141680301254074,
           0.711958638757858,
           0.7094738539503451,
           0.6844662884622246,
           0.6950100621341401,
           0.7479299856552633,
           0.733304796233392,
           0.6600951315718061,
           0.6582513344560426,
           1.0000000000000002,
           0.6579169953762163,
           0.6425188163027942,
           0.7531894463902188,
           0.7040414252349959
          ],
          [
           0.6674893032883684,
           0.5518979323456622,
           0.6627734775983636,
           0.6212839313330965,
           0.625273762595737,
           0.577553645873974,
           0.6340880431697313,
           0.7136384969797382,
           0.7167200841215754,
           0.6332822877726347,
           0.6423984049381521,
           0.4825600875353937,
           0.6709548189546373,
           0.5965936881457391,
           0.6089272111416694,
           0.6556404281560424,
           0.6421628708655541,
           0.6804824078285786,
           0.6222082540853433,
           0.6544979619201263,
           0.6432776657957936,
           0.5572191280576099,
           0.5952666474499668,
           0.7124495496078891,
           0.6990131012138965,
           0.6082971506690965,
           0.5419098844051683,
           0.6740340707353705,
           0.6480612051011917,
           0.6181105329653807,
           0.5607581747795253,
           0.6393805118192967,
           0.6502537348478552,
           0.6339162871957008,
           0.7070022713656187,
           0.6579169953762163,
           0.9999999999999997,
           0.589883124110507,
           0.5751729107252583,
           0.6360938498704015
          ],
          [
           0.6350965816482093,
           0.5836030084461494,
           0.5080934636076289,
           0.5453274040417816,
           0.5991860959291724,
           0.5295909017917574,
           0.6142357150931768,
           0.6014577661028179,
           0.6483504118229314,
           0.6038747840051316,
           0.5889396978203769,
           0.5004327310342893,
           0.636174653881814,
           0.5665630862315859,
           0.5527281477337417,
           0.6291767006659148,
           0.683386902764426,
           0.6273923240377725,
           0.5948427359129039,
           0.6165027790938891,
           0.6206282562361664,
           0.5449300537058772,
           0.5951673012654888,
           0.5613908169759643,
           0.5510540523455825,
           0.6168063317556933,
           0.5528733184818725,
           0.5986969796068679,
           0.5743183914105069,
           0.5479514936433233,
           0.5660894185038943,
           0.581216022338702,
           0.6246849453864244,
           0.5510493670414349,
           0.5471443352108913,
           0.6425188163027942,
           0.589883124110507,
           1.0000000000000004,
           0.5814237724488522,
           0.6352139598000145
          ],
          [
           0.6185273297672548,
           0.5807119885689638,
           0.58547324703401,
           0.6679652611578126,
           0.6225636416137142,
           0.5515425699880891,
           0.6363323539213943,
           0.6720769075757251,
           0.6527304889630806,
           0.5398718799355826,
           0.6283729695282849,
           0.5732709679417921,
           0.6876591369192782,
           0.5830368102110174,
           0.6318566141721729,
           0.6271458233207776,
           0.6412150825756192,
           0.7105064502637052,
           0.6238917074642549,
           0.6376099305230543,
           0.8199877038333652,
           0.53859419116709,
           0.6126015554236465,
           0.5935492583362787,
           0.5622887690506698,
           0.634733046424781,
           0.4874603602230687,
           0.6165388574145474,
           0.7301689514360599,
           0.6222114438710095,
           0.6685220235439904,
           0.6905218818247019,
           0.7257369394625243,
           0.5670344191670166,
           0.6496580323036979,
           0.7531894463902188,
           0.5751729107252583,
           0.5814237724488522,
           0.9999999999999997,
           0.6676087508190843
          ],
          [
           0.6555179735297386,
           0.6234604389895484,
           0.6052871650218509,
           0.6288771810687468,
           0.6330229554335125,
           0.5904563308557467,
           0.6509846436980806,
           0.6820605353057736,
           0.6584031764388841,
           0.6443973388564567,
           0.6518505077025923,
           0.5532829180379841,
           0.6572153825540564,
           0.6165341157117668,
           0.6460023295756819,
           0.6426713256465497,
           0.6783792440608162,
           0.6781274039133278,
           0.6661734805041954,
           0.6289616538209651,
           0.7060179543784796,
           0.6138589908463008,
           0.6358315626983373,
           0.6212938093818087,
           0.5887625214142628,
           0.6499600834598062,
           0.5835709299977005,
           0.6280179029369591,
           0.6440889482849368,
           0.626610349551928,
           0.6287715887103357,
           0.662542842670478,
           0.6587150839215096,
           0.5604393022940567,
           0.7155333110612795,
           0.7040414252349959,
           0.6360938498704015,
           0.6352139598000145,
           0.6676087508190843,
           1.0000000000000004
          ]
         ]
        }
       ],
       "layout": {
        "coloraxis": {
         "colorbar": {
          "title": {
           "text": "Similarity Score"
          }
         },
         "colorscale": [
          [
           0,
           "rgb(247,252,240)"
          ],
          [
           0.125,
           "rgb(224,243,219)"
          ],
          [
           0.25,
           "rgb(204,235,197)"
          ],
          [
           0.375,
           "rgb(168,221,181)"
          ],
          [
           0.5,
           "rgb(123,204,196)"
          ],
          [
           0.625,
           "rgb(78,179,211)"
          ],
          [
           0.75,
           "rgb(43,140,190)"
          ],
          [
           0.875,
           "rgb(8,104,172)"
          ],
          [
           1,
           "rgb(8,64,129)"
          ]
         ]
        },
        "height": 800,
        "hoverlabel": {
         "bgcolor": "white",
         "font": {
          "family": "Rockwell",
          "size": 16
         }
        },
        "legend": {
         "title": {
          "text": "Trend"
         }
        },
        "margin": {
         "t": 60
        },
        "showlegend": true,
        "template": {
         "data": {
          "bar": [
           {
            "error_x": {
             "color": "#2a3f5f"
            },
            "error_y": {
             "color": "#2a3f5f"
            },
            "marker": {
             "line": {
              "color": "#E5ECF6",
              "width": 0.5
             },
             "pattern": {
              "fillmode": "overlay",
              "size": 10,
              "solidity": 0.2
             }
            },
            "type": "bar"
           }
          ],
          "barpolar": [
           {
            "marker": {
             "line": {
              "color": "#E5ECF6",
              "width": 0.5
             },
             "pattern": {
              "fillmode": "overlay",
              "size": 10,
              "solidity": 0.2
             }
            },
            "type": "barpolar"
           }
          ],
          "carpet": [
           {
            "aaxis": {
             "endlinecolor": "#2a3f5f",
             "gridcolor": "white",
             "linecolor": "white",
             "minorgridcolor": "white",
             "startlinecolor": "#2a3f5f"
            },
            "baxis": {
             "endlinecolor": "#2a3f5f",
             "gridcolor": "white",
             "linecolor": "white",
             "minorgridcolor": "white",
             "startlinecolor": "#2a3f5f"
            },
            "type": "carpet"
           }
          ],
          "choropleth": [
           {
            "colorbar": {
             "outlinewidth": 0,
             "ticks": ""
            },
            "type": "choropleth"
           }
          ],
          "contour": [
           {
            "colorbar": {
             "outlinewidth": 0,
             "ticks": ""
            },
            "colorscale": [
             [
              0,
              "#0d0887"
             ],
             [
              0.1111111111111111,
              "#46039f"
             ],
             [
              0.2222222222222222,
              "#7201a8"
             ],
             [
              0.3333333333333333,
              "#9c179e"
             ],
             [
              0.4444444444444444,
              "#bd3786"
             ],
             [
              0.5555555555555556,
              "#d8576b"
             ],
             [
              0.6666666666666666,
              "#ed7953"
             ],
             [
              0.7777777777777778,
              "#fb9f3a"
             ],
             [
              0.8888888888888888,
              "#fdca26"
             ],
             [
              1,
              "#f0f921"
             ]
            ],
            "type": "contour"
           }
          ],
          "contourcarpet": [
           {
            "colorbar": {
             "outlinewidth": 0,
             "ticks": ""
            },
            "type": "contourcarpet"
           }
          ],
          "heatmap": [
           {
            "colorbar": {
             "outlinewidth": 0,
             "ticks": ""
            },
            "colorscale": [
             [
              0,
              "#0d0887"
             ],
             [
              0.1111111111111111,
              "#46039f"
             ],
             [
              0.2222222222222222,
              "#7201a8"
             ],
             [
              0.3333333333333333,
              "#9c179e"
             ],
             [
              0.4444444444444444,
              "#bd3786"
             ],
             [
              0.5555555555555556,
              "#d8576b"
             ],
             [
              0.6666666666666666,
              "#ed7953"
             ],
             [
              0.7777777777777778,
              "#fb9f3a"
             ],
             [
              0.8888888888888888,
              "#fdca26"
             ],
             [
              1,
              "#f0f921"
             ]
            ],
            "type": "heatmap"
           }
          ],
          "heatmapgl": [
           {
            "colorbar": {
             "outlinewidth": 0,
             "ticks": ""
            },
            "colorscale": [
             [
              0,
              "#0d0887"
             ],
             [
              0.1111111111111111,
              "#46039f"
             ],
             [
              0.2222222222222222,
              "#7201a8"
             ],
             [
              0.3333333333333333,
              "#9c179e"
             ],
             [
              0.4444444444444444,
              "#bd3786"
             ],
             [
              0.5555555555555556,
              "#d8576b"
             ],
             [
              0.6666666666666666,
              "#ed7953"
             ],
             [
              0.7777777777777778,
              "#fb9f3a"
             ],
             [
              0.8888888888888888,
              "#fdca26"
             ],
             [
              1,
              "#f0f921"
             ]
            ],
            "type": "heatmapgl"
           }
          ],
          "histogram": [
           {
            "marker": {
             "pattern": {
              "fillmode": "overlay",
              "size": 10,
              "solidity": 0.2
             }
            },
            "type": "histogram"
           }
          ],
          "histogram2d": [
           {
            "colorbar": {
             "outlinewidth": 0,
             "ticks": ""
            },
            "colorscale": [
             [
              0,
              "#0d0887"
             ],
             [
              0.1111111111111111,
              "#46039f"
             ],
             [
              0.2222222222222222,
              "#7201a8"
             ],
             [
              0.3333333333333333,
              "#9c179e"
             ],
             [
              0.4444444444444444,
              "#bd3786"
             ],
             [
              0.5555555555555556,
              "#d8576b"
             ],
             [
              0.6666666666666666,
              "#ed7953"
             ],
             [
              0.7777777777777778,
              "#fb9f3a"
             ],
             [
              0.8888888888888888,
              "#fdca26"
             ],
             [
              1,
              "#f0f921"
             ]
            ],
            "type": "histogram2d"
           }
          ],
          "histogram2dcontour": [
           {
            "colorbar": {
             "outlinewidth": 0,
             "ticks": ""
            },
            "colorscale": [
             [
              0,
              "#0d0887"
             ],
             [
              0.1111111111111111,
              "#46039f"
             ],
             [
              0.2222222222222222,
              "#7201a8"
             ],
             [
              0.3333333333333333,
              "#9c179e"
             ],
             [
              0.4444444444444444,
              "#bd3786"
             ],
             [
              0.5555555555555556,
              "#d8576b"
             ],
             [
              0.6666666666666666,
              "#ed7953"
             ],
             [
              0.7777777777777778,
              "#fb9f3a"
             ],
             [
              0.8888888888888888,
              "#fdca26"
             ],
             [
              1,
              "#f0f921"
             ]
            ],
            "type": "histogram2dcontour"
           }
          ],
          "mesh3d": [
           {
            "colorbar": {
             "outlinewidth": 0,
             "ticks": ""
            },
            "type": "mesh3d"
           }
          ],
          "parcoords": [
           {
            "line": {
             "colorbar": {
              "outlinewidth": 0,
              "ticks": ""
             }
            },
            "type": "parcoords"
           }
          ],
          "pie": [
           {
            "automargin": true,
            "type": "pie"
           }
          ],
          "scatter": [
           {
            "fillpattern": {
             "fillmode": "overlay",
             "size": 10,
             "solidity": 0.2
            },
            "type": "scatter"
           }
          ],
          "scatter3d": [
           {
            "line": {
             "colorbar": {
              "outlinewidth": 0,
              "ticks": ""
             }
            },
            "marker": {
             "colorbar": {
              "outlinewidth": 0,
              "ticks": ""
             }
            },
            "type": "scatter3d"
           }
          ],
          "scattercarpet": [
           {
            "marker": {
             "colorbar": {
              "outlinewidth": 0,
              "ticks": ""
             }
            },
            "type": "scattercarpet"
           }
          ],
          "scattergeo": [
           {
            "marker": {
             "colorbar": {
              "outlinewidth": 0,
              "ticks": ""
             }
            },
            "type": "scattergeo"
           }
          ],
          "scattergl": [
           {
            "marker": {
             "colorbar": {
              "outlinewidth": 0,
              "ticks": ""
             }
            },
            "type": "scattergl"
           }
          ],
          "scattermapbox": [
           {
            "marker": {
             "colorbar": {
              "outlinewidth": 0,
              "ticks": ""
             }
            },
            "type": "scattermapbox"
           }
          ],
          "scatterpolar": [
           {
            "marker": {
             "colorbar": {
              "outlinewidth": 0,
              "ticks": ""
             }
            },
            "type": "scatterpolar"
           }
          ],
          "scatterpolargl": [
           {
            "marker": {
             "colorbar": {
              "outlinewidth": 0,
              "ticks": ""
             }
            },
            "type": "scatterpolargl"
           }
          ],
          "scatterternary": [
           {
            "marker": {
             "colorbar": {
              "outlinewidth": 0,
              "ticks": ""
             }
            },
            "type": "scatterternary"
           }
          ],
          "surface": [
           {
            "colorbar": {
             "outlinewidth": 0,
             "ticks": ""
            },
            "colorscale": [
             [
              0,
              "#0d0887"
             ],
             [
              0.1111111111111111,
              "#46039f"
             ],
             [
              0.2222222222222222,
              "#7201a8"
             ],
             [
              0.3333333333333333,
              "#9c179e"
             ],
             [
              0.4444444444444444,
              "#bd3786"
             ],
             [
              0.5555555555555556,
              "#d8576b"
             ],
             [
              0.6666666666666666,
              "#ed7953"
             ],
             [
              0.7777777777777778,
              "#fb9f3a"
             ],
             [
              0.8888888888888888,
              "#fdca26"
             ],
             [
              1,
              "#f0f921"
             ]
            ],
            "type": "surface"
           }
          ],
          "table": [
           {
            "cells": {
             "fill": {
              "color": "#EBF0F8"
             },
             "line": {
              "color": "white"
             }
            },
            "header": {
             "fill": {
              "color": "#C8D4E3"
             },
             "line": {
              "color": "white"
             }
            },
            "type": "table"
           }
          ]
         },
         "layout": {
          "annotationdefaults": {
           "arrowcolor": "#2a3f5f",
           "arrowhead": 0,
           "arrowwidth": 1
          },
          "autotypenumbers": "strict",
          "coloraxis": {
           "colorbar": {
            "outlinewidth": 0,
            "ticks": ""
           }
          },
          "colorscale": {
           "diverging": [
            [
             0,
             "#8e0152"
            ],
            [
             0.1,
             "#c51b7d"
            ],
            [
             0.2,
             "#de77ae"
            ],
            [
             0.3,
             "#f1b6da"
            ],
            [
             0.4,
             "#fde0ef"
            ],
            [
             0.5,
             "#f7f7f7"
            ],
            [
             0.6,
             "#e6f5d0"
            ],
            [
             0.7,
             "#b8e186"
            ],
            [
             0.8,
             "#7fbc41"
            ],
            [
             0.9,
             "#4d9221"
            ],
            [
             1,
             "#276419"
            ]
           ],
           "sequential": [
            [
             0,
             "#0d0887"
            ],
            [
             0.1111111111111111,
             "#46039f"
            ],
            [
             0.2222222222222222,
             "#7201a8"
            ],
            [
             0.3333333333333333,
             "#9c179e"
            ],
            [
             0.4444444444444444,
             "#bd3786"
            ],
            [
             0.5555555555555556,
             "#d8576b"
            ],
            [
             0.6666666666666666,
             "#ed7953"
            ],
            [
             0.7777777777777778,
             "#fb9f3a"
            ],
            [
             0.8888888888888888,
             "#fdca26"
            ],
            [
             1,
             "#f0f921"
            ]
           ],
           "sequentialminus": [
            [
             0,
             "#0d0887"
            ],
            [
             0.1111111111111111,
             "#46039f"
            ],
            [
             0.2222222222222222,
             "#7201a8"
            ],
            [
             0.3333333333333333,
             "#9c179e"
            ],
            [
             0.4444444444444444,
             "#bd3786"
            ],
            [
             0.5555555555555556,
             "#d8576b"
            ],
            [
             0.6666666666666666,
             "#ed7953"
            ],
            [
             0.7777777777777778,
             "#fb9f3a"
            ],
            [
             0.8888888888888888,
             "#fdca26"
            ],
            [
             1,
             "#f0f921"
            ]
           ]
          },
          "colorway": [
           "#636efa",
           "#EF553B",
           "#00cc96",
           "#ab63fa",
           "#FFA15A",
           "#19d3f3",
           "#FF6692",
           "#B6E880",
           "#FF97FF",
           "#FECB52"
          ],
          "font": {
           "color": "#2a3f5f"
          },
          "geo": {
           "bgcolor": "white",
           "lakecolor": "white",
           "landcolor": "#E5ECF6",
           "showlakes": true,
           "showland": true,
           "subunitcolor": "white"
          },
          "hoverlabel": {
           "align": "left"
          },
          "hovermode": "closest",
          "mapbox": {
           "style": "light"
          },
          "paper_bgcolor": "white",
          "plot_bgcolor": "#E5ECF6",
          "polar": {
           "angularaxis": {
            "gridcolor": "white",
            "linecolor": "white",
            "ticks": ""
           },
           "bgcolor": "#E5ECF6",
           "radialaxis": {
            "gridcolor": "white",
            "linecolor": "white",
            "ticks": ""
           }
          },
          "scene": {
           "xaxis": {
            "backgroundcolor": "#E5ECF6",
            "gridcolor": "white",
            "gridwidth": 2,
            "linecolor": "white",
            "showbackground": true,
            "ticks": "",
            "zerolinecolor": "white"
           },
           "yaxis": {
            "backgroundcolor": "#E5ECF6",
            "gridcolor": "white",
            "gridwidth": 2,
            "linecolor": "white",
            "showbackground": true,
            "ticks": "",
            "zerolinecolor": "white"
           },
           "zaxis": {
            "backgroundcolor": "#E5ECF6",
            "gridcolor": "white",
            "gridwidth": 2,
            "linecolor": "white",
            "showbackground": true,
            "ticks": "",
            "zerolinecolor": "white"
           }
          },
          "shapedefaults": {
           "line": {
            "color": "#2a3f5f"
           }
          },
          "ternary": {
           "aaxis": {
            "gridcolor": "white",
            "linecolor": "white",
            "ticks": ""
           },
           "baxis": {
            "gridcolor": "white",
            "linecolor": "white",
            "ticks": ""
           },
           "bgcolor": "#E5ECF6",
           "caxis": {
            "gridcolor": "white",
            "linecolor": "white",
            "ticks": ""
           }
          },
          "title": {
           "x": 0.05
          },
          "xaxis": {
           "automargin": true,
           "gridcolor": "white",
           "linecolor": "white",
           "ticks": "",
           "title": {
            "standoff": 15
           },
           "zerolinecolor": "white",
           "zerolinewidth": 2
          },
          "yaxis": {
           "automargin": true,
           "gridcolor": "white",
           "linecolor": "white",
           "ticks": "",
           "title": {
            "standoff": 15
           },
           "zerolinecolor": "white",
           "zerolinewidth": 2
          }
         }
        },
        "title": {
         "font": {
          "color": "Black",
          "size": 22
         },
         "text": "<b>Similarity Matrix",
         "x": 0.55,
         "xanchor": "center",
         "y": 0.95,
         "yanchor": "top"
        },
        "width": 800,
        "xaxis": {
         "anchor": "y",
         "autorange": true,
         "constrain": "domain",
         "domain": [
          0,
          1
         ],
         "range": [
          -0.5,
          39.5
         ],
         "scaleanchor": "y",
         "type": "category"
        },
        "yaxis": {
         "anchor": "x",
         "autorange": true,
         "constrain": "domain",
         "domain": [
          0.1438127090301003,
          0.8561872909698998
         ],
         "range": [
          39.5,
          -0.5
         ],
         "type": "category"
        }
       }
      },
      "image/png": "[encoded data removed]",
      "text/html": [
       "<div>                            <div id=\"4cead7d2-1b52-46d3-bdf1-306c890c957a\" class=\"plotly-graph-div\" style=\"height:800px; width:800px;\"></div>            <script type=\"text/javascript\">                require([\"plotly\"], function(Plotly) {                    window.PLOTLYENV=window.PLOTLYENV || {};                                    if (document.getElementById(\"4cead7d2-1b52-46d3-bdf1-306c890c957a\")) {                    Plotly.newPlot(                        \"4cead7d2-1b52-46d3-bdf1-306c890c957a\",                        [{\"coloraxis\":\"coloraxis\",\"name\":\"0\",\"x\":[\"0_nord_stream_project\",\"1_president_volodymyr_vladi...\",\"2_covid19_health_cases\",\"3_alliance_join_member\",\"4_antony blinken_lavrov_for...\",\"5_eastward_guarantees_propo...\",\"6_border_troop_accused\",\"7_million_summoned russian_...\",\"8_dmitry peskov_kremlin_gro...\",\"9_truss_sergey lavrov_liz\",\"10_benchmark_rates_barrel\",\"11_leave_department_families\",\"12_ransomware_attacks_gover...\",\"13_gazprom_transit_cubic\",\"14_donbasss_2014_coup\",\"15_geneva_security_talks\",\"16_repeatedly_accusations_r...\",\"17_west kyiv_recently_invas...\",\"18_sanctions russia_europea...\",\"19_people_concerned_border\",\"20_normandy format_2015_con...\",\"21_ministry_forces_bases\",\"22_2014_russia annexed_ukra...\",\"23_belarus_president alexan...\",\"24_southeastern ukraine_rul...\",\"25_minsk agreements_accords...\",\"26_joe biden_warned_severe\",\"27_group_world cup_play\",\"28_prime_minister boris_dow...\",\"29_energy_supplies_lng\",\"30_black_mount whitney_ships\",\"31_video_talks_tuesday\",\"32_emmanuel_french_president\",\"33_republics_peoples_denis ...\",\"34_dialogue_russian federat...\",\"35_citizenship_saakashvili ...\",\"36_osce_monitoring mission_...\",\"37_added_going_say\",\"38_luhansk_jccc_selfproclai...\",\"39_8500_pentagon_eastern\"],\"y\":[\"0_nord_stream_project\",\"1_president_volodymyr_vladi...\",\"2_covid19_health_cases\",\"3_alliance_join_member\",\"4_antony blinken_lavrov_for...\",\"5_eastward_guarantees_propo...\",\"6_border_troop_accused\",\"7_million_summoned russian_...\",\"8_dmitry peskov_kremlin_gro...\",\"9_truss_sergey lavrov_liz\",\"10_benchmark_rates_barrel\",\"11_leave_department_families\",\"12_ransomware_attacks_gover...\",\"13_gazprom_transit_cubic\",\"14_donbasss_2014_coup\",\"15_geneva_security_talks\",\"16_repeatedly_accusations_r...\",\"17_west kyiv_recently_invas...\",\"18_sanctions russia_europea...\",\"19_people_concerned_border\",\"20_normandy format_2015_con...\",\"21_ministry_forces_bases\",\"22_2014_russia annexed_ukra...\",\"23_belarus_president alexan...\",\"24_southeastern ukraine_rul...\",\"25_minsk agreements_accords...\",\"26_joe biden_warned_severe\",\"27_group_world cup_play\",\"28_prime_minister boris_dow...\",\"29_energy_supplies_lng\",\"30_black_mount whitney_ships\",\"31_video_talks_tuesday\",\"32_emmanuel_french_president\",\"33_republics_peoples_denis ...\",\"34_dialogue_russian federat...\",\"35_citizenship_saakashvili ...\",\"36_osce_monitoring mission_...\",\"37_added_going_say\",\"38_luhansk_jccc_selfproclai...\",\"39_8500_pentagon_eastern\"],\"z\":[[1.0000000000000007,0.6595354385670171,0.6674203984591449,0.675943428071897,0.7911873384595935,0.6357979494242034,0.7668516855102814,0.8497612678061556,0.6817121560118811,0.6289847663462516,0.7611682694518699,0.5526498178596682,0.7129814768595755,0.6875474014039991,0.5942237220312461,0.6673314298412181,0.7559716560925036,0.81278080149438,0.8301430653961417,0.8119725516942161,0.816291133952121,0.7046069523297945,0.7590373219635117,0.8072523033807673,0.7904931264568138,0.7296511566985004,0.6709620228105743,0.7746882195142288,0.7155087177434891,0.6756748909338781,0.6711668190380866,0.731420549589612,0.6587928556154484,0.6749765152575777,0.6787498926662577,0.7893366047293469,0.6674893032883684,0.6350965816482093,0.6185273297672548,0.6555179735297386],[0.6595354385670171,1.0000000000000002,0.564706823784461,0.5739997730257528,0.6199516064730313,0.5647257727929043,0.6142921753867847,0.6507608872979842,0.5955368703160813,0.5304770976826099,0.588018734140865,0.5361510370139302,0.5792645879158912,0.594209620662818,0.5727134349558469,0.5500112841153658,0.6429071994716241,0.6253030803020703,0.6233316675052376,0.6725460111688839,0.6691118126533762,0.5862138916064346,0.5549044941144798,0.6147358910765413,0.6547376693467213,0.5334501297871852,0.5154070774970905,0.5577737906304996,0.6239553877353629,0.5664981595314147,0.5592254001120118,0.65003330272889,0.6543667675166633,0.5494853536217269,0.592200317605996,0.6795661454398815,0.5518979323456622,0.5836030084461494,0.5807119885689638,0.6234604389895484],[0.6674203984591449,0.564706823784461,1.0000000000000002,0.6207032455297331,0.6019601035982923,0.686461122364511,0.5738105075020193,0.6294693768041146,0.6986027886840166,0.6125508095919822,0.6950626442016883,0.5153391999445971,0.655567608186001,0.5460099157765315,0.5898741138019905,0.6127179256914744,0.6788202902121446,0.630503500285168,0.6371034709927854,0.6265555407404826,0.6286895811717416,0.5332971356423651,0.5421533206940853,0.6500633462455319,0.7035225036278643,0.530426275515226,0.5413574251508655,0.7712779516587774,0.6277143640173686,0.727031554807861,0.5943032034759985,0.647918404521996,0.6974377848966393,0.7488436261109952,0.6961853805352105,0.6641516529121696,0.6627734775983636,0.5080934636076289,0.58547324703401,0.6052871650218509],[0.675943428071897,0.5739997730257528,0.6207032455297331,0.9999999999999997,0.62160466825825,0.5968002466396973,0.6499778937339021,0.6616205919079037,0.6872552588788536,0.558008462027751,0.6235161754904751,0.5349735029483949,0.6435732193592452,0.6360022318503216,0.6490168280423088,0.617017739949348,0.662894153192828,0.710751071722586,0.6253909548977163,0.6398685041111888,0.7288309718934387,0.6104930598958475,0.6143537262623945,0.626546244118547,0.6563215888672265,0.6564284799945168,0.5543470425521075,0.6582039191604039,0.6729358218955054,0.609130003702324,0.6432219277367015,0.6353128702988979,0.6677627119247029,0.624450738335201,0.6664876451814008,0.6960208900997763,0.6212839313330965,0.5453274040417816,0.6679652611578126,0.6288771810687468],[0.7911873384595935,0.6199516064730313,0.6019601035982923,0.62160466825825,1.0,0.6277349956377571,0.6907590079706704,0.713017029875582,0.6421591995717454,0.5281916401522009,0.714726773307464,0.5344620017266861,0.6978153842622385,0.5935587555817629,0.586057267168901,0.6256054474218969,0.7164806731407781,0.7052675862774025,0.6396401351368086,0.7186751961626574,0.7139165767108738,0.6743288165832175,0.6722680906291439,0.7271673589582693,0.6772633353681343,0.5905978469010258,0.5920848278228118,0.6488953776105766,0.7569263330946778,0.5839448686610872,0.6085882516217989,0.7331355753050335,0.6708413434144478,0.6112725316793808,0.6464673374658142,0.7152987613894639,0.625273762595737,0.5991860959291724,0.6225636416137142,0.6330229554335125],[0.6357979494242034,0.5647257727929043,0.686461122364511,0.5968002466396973,0.6277349956377571,0.9999999999999997,0.5968285552371624,0.6042756517937106,0.6546658824463447,0.629914143288816,0.7118155691870782,0.5041278366684164,0.6156078675611952,0.587262555771382,0.5557020072280239,0.5619466257172403,0.6828104895762972,0.6340129327802747,0.5874777375650229,0.6261281847963747,0.6232811168465957,0.5547485020992617,0.5400290663591392,0.5759767035979673,0.63076764699341,0.5464609208295408,0.5347032961065349,0.6779768677505129,0.5596986899739829,0.6238176003882305,0.5323295913726236,0.6241744160273961,0.635837943055819,0.711068463603234,0.6486761012557853,0.7066025391814835,0.577553645873974,0.5295909017917574,0.5515425699880891,0.5904563308557467],[0.7668516855102814,0.6142921753867847,0.5738105075020193,0.6499778937339021,0.6907590079706704,0.5968285552371624,1.0000000000000004,0.748662470329535,0.6537342135277917,0.6147033554511858,0.6901631403033608,0.5249497977297766,0.6688374999968218,0.6211526557202468,0.6082346052321055,0.6349462280838403,0.7186484004692537,0.7988635060457423,0.7363607428126646,0.7093394510493974,0.7380774239222464,0.6977402747068817,0.7082509611730318,0.6963002264592708,0.6611621887095438,0.6951611341850792,0.6577659062028609,0.6600330227919818,0.6647123880450667,0.6116227781080316,0.614685181649262,0.6599446307865479,0.6773167038664887,0.6081910485788977,0.6273891483175409,0.7440283925829692,0.6340880431697313,0.6142357150931768,0.6363323539213943,0.6509846436980806],[0.8497612678061556,0.6507608872979842,0.6294693768041146,0.6616205919079037,0.713017029875582,0.6042756517937106,0.748662470329535,1.0,0.7226483090245172,0.6317754626174417,0.7167163830383905,0.5669672772926606,0.7035898724186713,0.6515941130031185,0.6424247211591314,0.6930900808279237,0.7081904810595305,0.8127584185868748,0.8038111831265556,0.7403298564989602,0.8261538877260619,0.696825404466367,0.778085621112168,0.7858679553132628,0.7510533681564637,0.692531602613522,0.5754667397789678,0.7190138633560001,0.7142131001503005,0.683464143959535,0.6502215470536719,0.7310809148255928,0.7044959740911982,0.6557319178097056,0.683455310182359,0.7620154249889571,0.7136384969797382,0.6014577661028179,0.6720769075757251,0.6820605353057736],[0.6817121560118811,0.5955368703160813,0.6986027886840166,0.6872552588788536,0.6421591995717454,0.6546658824463447,0.6537342135277917,0.7226483090245172,1.0000000000000004,0.6748262968569395,0.7090560223723473,0.5782712881951665,0.7216580659008386,0.6589249351833371,0.6972291404376674,0.6757212266414333,0.7129471451522951,0.7051484637874667,0.6378103553033185,0.7018173879259614,0.6918222278978605,0.6325974235138286,0.6575467723998673,0.6701100448785619,0.6840302862950465,0.6365578694283572,0.543382569406542,0.7228531195940111,0.6520027607736478,0.7385335682444953,0.6568115553917183,0.715103923582744,0.7283587966307536,0.6885999449584876,0.7327649858201942,0.710307658843143,0.7167200841215754,0.6483504118229314,0.6527304889630806,0.6584031764388841],[0.6289847663462516,0.5304770976826099,0.6125508095919822,0.558008462027751,0.5281916401522009,0.629914143288816,0.6147033554511858,0.6317754626174417,0.6748262968569395,1.0,0.626854259021263,0.4346761586747103,0.5839703318988362,0.6247364653906156,0.5583480409013887,0.6090668970651384,0.6263376332492233,0.6883169691428577,0.6524852969843287,0.6422694911445749,0.622253291673327,0.5391167584227906,0.5906400874403857,0.5851079170493872,0.6210873848741542,0.7131997415387142,0.5535982755042824,0.6718549819576249,0.529485068593779,0.5949629834828164,0.5389796617385295,0.5547674851259623,0.617290529989367,0.5645123393682251,0.6529875581788203,0.6700568567840076,0.6332822877726347,0.6038747840051316,0.5398718799355826,0.6443973388564567],[0.7611682694518699,0.588018734140865,0.6950626442016883,0.6235161754904751,0.714726773307464,0.7118155691870782,0.6901631403033608,0.7167163830383905,0.7090560223723473,0.626854259021263,0.9999999999999993,0.5672049568765949,0.698658212533011,0.6533630697671684,0.6545075154024701,0.6494184891433844,0.7631367555996841,0.7040391166713934,0.677307265966347,0.6786864970893486,0.7059065162136473,0.6379834411367853,0.7135324109407721,0.6581613540124862,0.6915092409479926,0.608439197220917,0.5916958561184914,0.7518927703846057,0.6661561516216147,0.7003364492794177,0.6371535551666121,0.724771737827883,0.7366433995774724,0.724541959235813,0.633638872690971,0.7572446871218809,0.6423984049381521,0.5889396978203769,0.6283729695282849,0.6518505077025923],[0.5526498178596682,0.5361510370139302,0.5153391999445971,0.5349735029483949,0.5344620017266861,0.5041278366684164,0.5249497977297766,0.5669672772926606,0.5782712881951665,0.4346761586747103,0.5672049568765949,0.9999999999999998,0.5516349829805476,0.5478915607669526,0.5567566711546781,0.5263279474046635,0.565006889033922,0.5578718869315754,0.5100508041595643,0.6069367382588026,0.5932395283289744,0.4962205435691222,0.6119650204240512,0.4878606436703669,0.46841117961739626,0.4481366801129565,0.44138577675846447,0.5634635326316085,0.5688729157047384,0.6063300507122004,0.7261303538442374,0.6393761622925991,0.6079383125944533,0.550213211451819,0.5046335648379344,0.5812979801253373,0.4825600875353937,0.5004327310342893,0.5732709679417921,0.5532829180379841],[0.7129814768595755,0.5792645879158912,0.655567608186001,0.6435732193592452,0.6978153842622385,0.6156078675611952,0.6688374999968218,0.7035898724186713,0.7216580659008386,0.5839703318988362,0.698658212533011,0.5516349829805476,0.9999999999999993,0.5920689125989665,0.6002950467370644,0.6714722442796079,0.7075539733732891,0.7408423855208263,0.655522025201165,0.7161616014653491,0.7214857221233824,0.6101145009358836,0.6547564616917725,0.6393134490938664,0.6674105928660148,0.6406514025803235,0.5914682172153821,0.6859553637364338,0.6985087018974488,0.6539823376343818,0.6366839664505918,0.6932696058271339,0.6642095243431925,0.6729328611080511,0.6612229144881955,0.744238945856055,0.6709548189546373,0.636174653881814,0.6876591369192782,0.6572153825540564],[0.6875474014039991,0.594209620662818,0.5460099157765315,0.6360022318503216,0.5935587555817629,0.587262555771382,0.6211526557202468,0.6515941130031185,0.6589249351833371,0.6247364653906156,0.6533630697671684,0.5478915607669526,0.5920689125989665,0.9999999999999998,0.5962598213293029,0.5942161887707165,0.6543401366494896,0.6698719793632535,0.6416083663061043,0.6885426969197133,0.6632124047593498,0.5462181619566336,0.6391017360745587,0.6087363411084415,0.5818144227738326,0.619215892089309,0.5178850107332631,0.6320476504171492,0.5939691717694017,0.6273358417007073,0.6205893776825374,0.6293156514283287,0.603460897054549,0.563289309690153,0.611429003776312,0.7404334332996774,0.5965936881457391,0.5665630862315859,0.5830368102110174,0.6165341157117668],[0.5942237220312461,0.5727134349558469,0.5898741138019905,0.6490168280423088,0.586057267168901,0.5557020072280239,0.6082346052321055,0.6424247211591314,0.6972291404376674,0.5583480409013887,0.6545075154024701,0.5567566711546781,0.6002950467370644,0.5962598213293029,0.9999999999999999,0.5728871559831483,0.6373453485176079,0.6220945503453335,0.54486507318397,0.6289974195486817,0.5927848741290251,0.5045027817022194,0.6311787289891483,0.591027806569242,0.6462247268489626,0.5142953846985723,0.5434441129105696,0.5846790709434571,0.6275013167804002,0.6235136038581777,0.6614373731816361,0.6527075917587138,0.6267686771801135,0.556005008389262,0.586090881638069,0.6793404867067893,0.6089272111416694,0.5527281477337417,0.6318566141721729,0.6460023295756819],[0.6673314298412181,0.5500112841153658,0.6127179256914744,0.617017739949348,0.6256054474218969,0.5619466257172403,0.6349462280838403,0.6930900808279237,0.6757212266414333,0.6090668970651384,0.6494184891433844,0.5263279474046635,0.6714722442796079,0.5942161887707165,0.5728871559831483,1.0,0.660012108036943,0.6676697683304746,0.611834695450438,0.6435255062333713,0.6600642938855075,0.6181647368846243,0.606660559653841,0.6783567508140931,0.6304277553936504,0.6058081490764727,0.6163191948507709,0.6512472167096794,0.6204635922678668,0.6225229442890275,0.569502850918806,0.6698739581640718,0.6812782654908739,0.6518048145056188,0.7411936595153694,0.6844949368356957,0.6556404281560424,0.6291767006659148,0.6271458233207776,0.6426713256465497],[0.7559716560925036,0.6429071994716241,0.6788202902121446,0.662894153192828,0.7164806731407781,0.6828104895762972,0.7186484004692537,0.7081904810595305,0.7129471451522951,0.6263376332492233,0.7631367555996841,0.565006889033922,0.7075539733732891,0.6543401366494896,0.6373453485176079,0.660012108036943,1.0,0.7403537351140802,0.6839152790435378,0.6847240048697397,0.6894687472356893,0.6807955010793577,0.6504079726435693,0.6814166383151042,0.6752473864619651,0.6078562496270892,0.665005055550722,0.6841927381535303,0.6877355296560455,0.6199437934841108,0.6237237959505316,0.6864509267575698,0.7289379696237956,0.6810240036401465,0.6420666928869638,0.7520713045763514,0.6421628708655541,0.683386902764426,0.6412150825756192,0.6783792440608162],[0.81278080149438,0.6253030803020703,0.630503500285168,0.710751071722586,0.7052675862774025,0.6340129327802747,0.7988635060457423,0.8127584185868748,0.7051484637874667,0.6883169691428577,0.7040391166713934,0.5578718869315754,0.7408423855208263,0.6698719793632535,0.6220945503453335,0.6676697683304746,0.7403537351140802,1.0000000000000007,0.7890499388648476,0.7658275225665718,0.807346356434801,0.6811163396923877,0.7383812636189441,0.7104891718511539,0.7244614287826445,0.766583689329487,0.6178723704729069,0.708452613323443,0.7196809229122205,0.6490489018996427,0.6465413403822772,0.6888371237074119,0.7274664690964262,0.6555586528656375,0.6731463603937128,0.7942871345413752,0.6804824078285786,0.6273923240377725,0.7105064502637052,0.6781274039133278],[0.8301430653961417,0.6233316675052376,0.6371034709927854,0.6253909548977163,0.6396401351368086,0.5874777375650229,0.7363607428126646,0.8038111831265556,0.6378103553033185,0.6524852969843287,0.677307265966347,0.5100508041595643,0.655522025201165,0.6416083663061043,0.54486507318397,0.611834695450438,0.6839152790435378,0.7890499388648476,1.0,0.7459825542503825,0.762000305347615,0.6457721160483177,0.6680750098746456,0.7759014501243214,0.7305974126286848,0.7365672630809805,0.5978123977045247,0.6961230370651823,0.642198192533626,0.6606308893031239,0.6108825895503365,0.6198573212412732,0.6408747774521438,0.5990665128150652,0.6416781611764283,0.7147171433724538,0.6222082540853433,0.5948427359129039,0.6238917074642549,0.6661734805041954],[0.8119725516942161,0.6725460111688839,0.6265555407404826,0.6398685041111888,0.7186751961626574,0.6261281847963747,0.7093394510493974,0.7403298564989602,0.7018173879259614,0.6422694911445749,0.6786864970893486,0.6069367382588026,0.7161616014653491,0.6885426969197133,0.6289974195486817,0.6435255062333713,0.6847240048697397,0.7658275225665718,0.7459825542503825,0.9999999999999998,0.7548995311020105,0.6645480565923345,0.6519641180417538,0.7481330823291812,0.7914234945885901,0.6888242436740076,0.6669171429746987,0.7020424234236925,0.6692095208382687,0.6510748448257945,0.7191430668785244,0.6946555619858454,0.660372661373257,0.6618568567748699,0.6539196932740721,0.7718040756146529,0.6544979619201263,0.6165027790938891,0.6376099305230543,0.6289616538209651],[0.816291133952121,0.6691118126533762,0.6286895811717416,0.7288309718934387,0.7139165767108738,0.6232811168465957,0.7380774239222464,0.8261538877260619,0.6918222278978605,0.622253291673327,0.7059065162136473,0.5932395283289744,0.7214857221233824,0.6632124047593498,0.5927848741290251,0.6600642938855075,0.6894687472356893,0.807346356434801,0.762000305347615,0.7548995311020105,0.9999999999999998,0.6442831996646501,0.7281918852892938,0.730845140520672,0.694393864566449,0.7371464936302021,0.575005443856356,0.7354649564985419,0.7751159303913494,0.6933069244764873,0.6979126435131865,0.7269432153199785,0.7167904541344168,0.648768447180943,0.7099872827036376,0.7992055325645238,0.6432776657957936,0.6206282562361664,0.8199877038333652,0.7060179543784796],[0.7046069523297945,0.5862138916064346,0.5332971356423651,0.6104930598958475,0.6743288165832175,0.5547485020992617,0.6977402747068817,0.696825404466367,0.6325974235138286,0.5391167584227906,0.6379834411367853,0.4962205435691222,0.6101145009358836,0.5462181619566336,0.5045027817022194,0.6181647368846243,0.6807955010793577,0.6811163396923877,0.6457721160483177,0.6645480565923345,0.6442831996646501,0.9999999999999994,0.6127395411772917,0.6888501865565625,0.6390682205571363,0.5874365162109171,0.6781445527686405,0.620060297886297,0.5973971236774512,0.5954378479554416,0.5427463123645999,0.6281679536678714,0.674556848414012,0.6181865501628865,0.6161848276854629,0.678183475431243,0.5572191280576099,0.5449300537058772,0.53859419116709,0.6138589908463008],[0.7590373219635117,0.5549044941144798,0.5421533206940853,0.6143537262623945,0.6722680906291439,0.5400290663591392,0.7082509611730318,0.778085621112168,0.6575467723998673,0.5906400874403857,0.7135324109407721,0.6119650204240512,0.6547564616917725,0.6391017360745587,0.6311787289891483,0.606660559653841,0.6504079726435693,0.7383812636189441,0.6680750098746456,0.6519641180417538,0.7281918852892938,0.6127395411772917,1.0,0.6302292121032791,0.6559634473308196,0.6118255596002043,0.5607924779268179,0.6660366795055702,0.6784654188384693,0.6223557973537495,0.7024325464845493,0.7100428576213956,0.6677217845658255,0.6027075023965915,0.5983357099049084,0.7239195809454261,0.5952666474499668,0.5951673012654888,0.6126015554236465,0.6358315626983373],[0.8072523033807673,0.6147358910765413,0.6500633462455319,0.626546244118547,0.7271673589582693,0.5759767035979673,0.6963002264592708,0.7858679553132628,0.6701100448785619,0.5851079170493872,0.6581613540124862,0.4878606436703669,0.6393134490938664,0.6087363411084415,0.591027806569242,0.6783567508140931,0.6814166383151042,0.7104891718511539,0.7759014501243214,0.7481330823291812,0.730845140520672,0.6888501865565625,0.6302292121032791,1.0,0.7804906404501919,0.6374754215012345,0.593709247819157,0.6686176602169034,0.6966678623372927,0.654040628836389,0.5916846919767801,0.6675436407222315,0.6438107158981555,0.6231252012563635,0.7119420576771468,0.699717890685301,0.7124495496078891,0.5613908169759643,0.5935492583362787,0.6212938093818087],[0.7904931264568138,0.6547376693467213,0.7035225036278643,0.6563215888672265,0.6772633353681343,0.63076764699341,0.6611621887095438,0.7510533681564637,0.6840302862950465,0.6210873848741542,0.6915092409479926,0.46841117961739626,0.6674105928660148,0.5818144227738326,0.6462247268489626,0.6304277553936504,0.6752473864619651,0.7244614287826445,0.7305974126286848,0.7914234945885901,0.694393864566449,0.6390682205571363,0.6559634473308196,0.7804906404501919,0.9999999999999999,0.6162758942349378,0.6769887219837499,0.6758773525593013,0.6319507985744314,0.6432973547416188,0.5620860153028266,0.6383061231182133,0.6453184570946394,0.672175972610232,0.6840852039780667,0.6940499918198048,0.6990131012138965,0.5510540523455825,0.5622887690506698,0.5887625214142628],[0.7296511566985004,0.5334501297871852,0.530426275515226,0.6564284799945168,0.5905978469010258,0.5464609208295408,0.6951611341850792,0.692531602613522,0.6365578694283572,0.7131997415387142,0.608439197220917,0.4481366801129565,0.6406514025803235,0.619215892089309,0.5142953846985723,0.6058081490764727,0.6078562496270892,0.766583689329487,0.7365672630809805,0.6888242436740076,0.7371464936302021,0.5874365162109171,0.6118255596002043,0.6374754215012345,0.6162758942349378,1.0000000000000004,0.5569935585901474,0.6623520908213455,0.6134632946784573,0.5935674338820829,0.5681313805052176,0.5436395872353973,0.6170375831156387,0.5357351849580166,0.6083978672369867,0.7274527670197865,0.6082971506690965,0.6168063317556933,0.634733046424781,0.6499600834598062],[0.6709620228105743,0.5154070774970905,0.5413574251508655,0.5543470425521075,0.5920848278228118,0.5347032961065349,0.6577659062028609,0.5754667397789678,0.543382569406542,0.5535982755042824,0.5916958561184914,0.44138577675846447,0.5914682172153821,0.5178850107332631,0.5434441129105696,0.6163191948507709,0.665005055550722,0.6178723704729069,0.5978123977045247,0.6669171429746987,0.575005443856356,0.6781445527686405,0.5607924779268179,0.593709247819157,0.6769887219837499,0.5569935585901474,0.9999999999999996,0.5646530719184487,0.5040105568090121,0.5197596719496075,0.5363820250317911,0.5088782818244678,0.5474579581368407,0.5459850068649161,0.5620808853912967,0.6141680301254074,0.5419098844051683,0.5528733184818725,0.4874603602230687,0.5835709299977005],[0.7746882195142288,0.5577737906304996,0.7712779516587774,0.6582039191604039,0.6488953776105766,0.6779768677505129,0.6600330227919818,0.7190138633560001,0.7228531195940111,0.6718549819576249,0.7518927703846057,0.5634635326316085,0.6859553637364338,0.6320476504171492,0.5846790709434571,0.6512472167096794,0.6841927381535303,0.708452613323443,0.6961230370651823,0.7020424234236925,0.7354649564985419,0.620060297886297,0.6660366795055702,0.6686176602169034,0.6758773525593013,0.6623520908213455,0.5646530719184487,1.0,0.6377977863636235,0.7351762707047167,0.6425006942613591,0.7172785287687479,0.74991744061056,0.7413644785983867,0.6987504512532001,0.711958638757858,0.6740340707353705,0.5986969796068679,0.6165388574145474,0.6280179029369591],[0.7155087177434891,0.6239553877353629,0.6277143640173686,0.6729358218955054,0.7569263330946778,0.5596986899739829,0.6647123880450667,0.7142131001503005,0.6520027607736478,0.529485068593779,0.6661561516216147,0.5688729157047384,0.6985087018974488,0.5939691717694017,0.6275013167804002,0.6204635922678668,0.6877355296560455,0.7196809229122205,0.642198192533626,0.6692095208382687,0.7751159303913494,0.5973971236774512,0.6784654188384693,0.6966678623372927,0.6319507985744314,0.6134632946784573,0.5040105568090121,0.6377977863636235,0.9999999999999996,0.6494957259266056,0.6534677711702069,0.7007691531253936,0.7098421476485868,0.642439756090429,0.6574481461133747,0.7094738539503451,0.6480612051011917,0.5743183914105069,0.7301689514360599,0.6440889482849368],[0.6756748909338781,0.5664981595314147,0.727031554807861,0.609130003702324,0.5839448686610872,0.6238176003882305,0.6116227781080316,0.683464143959535,0.7385335682444953,0.5949629834828164,0.7003364492794177,0.6063300507122004,0.6539823376343818,0.6273358417007073,0.6235136038581777,0.6225229442890275,0.6199437934841108,0.6490489018996427,0.6606308893031239,0.6510748448257945,0.6933069244764873,0.5954378479554416,0.6223557973537495,0.654040628836389,0.6432973547416188,0.5935674338820829,0.5197596719496075,0.7351762707047167,0.6494957259266056,1.0,0.6394472441691568,0.7044808677327825,0.6689910173319666,0.674241467404979,0.6687662732590574,0.6844662884622246,0.6181105329653807,0.5479514936433233,0.6222114438710095,0.626610349551928],[0.6711668190380866,0.5592254001120118,0.5943032034759985,0.6432219277367015,0.6085882516217989,0.5323295913726236,0.614685181649262,0.6502215470536719,0.6568115553917183,0.5389796617385295,0.6371535551666121,0.7261303538442374,0.6366839664505918,0.6205893776825374,0.6614373731816361,0.569502850918806,0.6237237959505316,0.6465413403822772,0.6108825895503365,0.7191430668785244,0.6979126435131865,0.5427463123645999,0.7024325464845493,0.5916846919767801,0.5620860153028266,0.5681313805052176,0.5363820250317911,0.6425006942613591,0.6534677711702069,0.6394472441691568,1.0000000000000004,0.6863361490169076,0.6738630986507141,0.5891761250353593,0.5661417542139663,0.6950100621341401,0.5607581747795253,0.5660894185038943,0.6685220235439904,0.6287715887103357],[0.731420549589612,0.65003330272889,0.647918404521996,0.6353128702988979,0.7331355753050335,0.6241744160273961,0.6599446307865479,0.7310809148255928,0.715103923582744,0.5547674851259623,0.724771737827883,0.6393761622925991,0.6932696058271339,0.6293156514283287,0.6527075917587138,0.6698739581640718,0.6864509267575698,0.6888371237074119,0.6198573212412732,0.6946555619858454,0.7269432153199785,0.6281679536678714,0.7100428576213956,0.6675436407222315,0.6383061231182133,0.5436395872353973,0.5088782818244678,0.7172785287687479,0.7007691531253936,0.7044808677327825,0.6863361490169076,0.9999999999999994,0.7294441951640015,0.6672958203140844,0.6728129347490208,0.7479299856552633,0.6393805118192967,0.581216022338702,0.6905218818247019,0.662542842670478],[0.6587928556154484,0.6543667675166633,0.6974377848966393,0.6677627119247029,0.6708413434144478,0.635837943055819,0.6773167038664887,0.7044959740911982,0.7283587966307536,0.617290529989367,0.7366433995774724,0.6079383125944533,0.6642095243431925,0.603460897054549,0.6267686771801135,0.6812782654908739,0.7289379696237956,0.7274664690964262,0.6408747774521438,0.660372661373257,0.7167904541344168,0.674556848414012,0.6677217845658255,0.6438107158981555,0.6453184570946394,0.6170375831156387,0.5474579581368407,0.74991744061056,0.7098421476485868,0.6689910173319666,0.6738630986507141,0.7294441951640015,0.9999999999999997,0.7311155222765306,0.6788050183985944,0.733304796233392,0.6502537348478552,0.6246849453864244,0.7257369394625243,0.6587150839215096],[0.6749765152575777,0.5494853536217269,0.7488436261109952,0.624450738335201,0.6112725316793808,0.711068463603234,0.6081910485788977,0.6557319178097056,0.6885999449584876,0.5645123393682251,0.724541959235813,0.550213211451819,0.6729328611080511,0.563289309690153,0.556005008389262,0.6518048145056188,0.6810240036401465,0.6555586528656375,0.5990665128150652,0.6618568567748699,0.648768447180943,0.6181865501628865,0.6027075023965915,0.6231252012563635,0.672175972610232,0.5357351849580166,0.5459850068649161,0.7413644785983867,0.642439756090429,0.674241467404979,0.5891761250353593,0.6672958203140844,0.7311155222765306,1.0000000000000002,0.6708115623952857,0.6600951315718061,0.6339162871957008,0.5510493670414349,0.5670344191670166,0.5604393022940567],[0.6787498926662577,0.592200317605996,0.6961853805352105,0.6664876451814008,0.6464673374658142,0.6486761012557853,0.6273891483175409,0.683455310182359,0.7327649858201942,0.6529875581788203,0.633638872690971,0.5046335648379344,0.6612229144881955,0.611429003776312,0.586090881638069,0.7411936595153694,0.6420666928869638,0.6731463603937128,0.6416781611764283,0.6539196932740721,0.7099872827036376,0.6161848276854629,0.5983357099049084,0.7119420576771468,0.6840852039780667,0.6083978672369867,0.5620808853912967,0.6987504512532001,0.6574481461133747,0.6687662732590574,0.5661417542139663,0.6728129347490208,0.6788050183985944,0.6708115623952857,0.9999999999999998,0.6582513344560426,0.7070022713656187,0.5471443352108913,0.6496580323036979,0.7155333110612795],[0.7893366047293469,0.6795661454398815,0.6641516529121696,0.6960208900997763,0.7152987613894639,0.7066025391814835,0.7440283925829692,0.7620154249889571,0.710307658843143,0.6700568567840076,0.7572446871218809,0.5812979801253373,0.744238945856055,0.7404334332996774,0.6793404867067893,0.6844949368356957,0.7520713045763514,0.7942871345413752,0.7147171433724538,0.7718040756146529,0.7992055325645238,0.678183475431243,0.7239195809454261,0.699717890685301,0.6940499918198048,0.7274527670197865,0.6141680301254074,0.711958638757858,0.7094738539503451,0.6844662884622246,0.6950100621341401,0.7479299856552633,0.733304796233392,0.6600951315718061,0.6582513344560426,1.0000000000000002,0.6579169953762163,0.6425188163027942,0.7531894463902188,0.7040414252349959],[0.6674893032883684,0.5518979323456622,0.6627734775983636,0.6212839313330965,0.625273762595737,0.577553645873974,0.6340880431697313,0.7136384969797382,0.7167200841215754,0.6332822877726347,0.6423984049381521,0.4825600875353937,0.6709548189546373,0.5965936881457391,0.6089272111416694,0.6556404281560424,0.6421628708655541,0.6804824078285786,0.6222082540853433,0.6544979619201263,0.6432776657957936,0.5572191280576099,0.5952666474499668,0.7124495496078891,0.6990131012138965,0.6082971506690965,0.5419098844051683,0.6740340707353705,0.6480612051011917,0.6181105329653807,0.5607581747795253,0.6393805118192967,0.6502537348478552,0.6339162871957008,0.7070022713656187,0.6579169953762163,0.9999999999999997,0.589883124110507,0.5751729107252583,0.6360938498704015],[0.6350965816482093,0.5836030084461494,0.5080934636076289,0.5453274040417816,0.5991860959291724,0.5295909017917574,0.6142357150931768,0.6014577661028179,0.6483504118229314,0.6038747840051316,0.5889396978203769,0.5004327310342893,0.636174653881814,0.5665630862315859,0.5527281477337417,0.6291767006659148,0.683386902764426,0.6273923240377725,0.5948427359129039,0.6165027790938891,0.6206282562361664,0.5449300537058772,0.5951673012654888,0.5613908169759643,0.5510540523455825,0.6168063317556933,0.5528733184818725,0.5986969796068679,0.5743183914105069,0.5479514936433233,0.5660894185038943,0.581216022338702,0.6246849453864244,0.5510493670414349,0.5471443352108913,0.6425188163027942,0.589883124110507,1.0000000000000004,0.5814237724488522,0.6352139598000145],[0.6185273297672548,0.5807119885689638,0.58547324703401,0.6679652611578126,0.6225636416137142,0.5515425699880891,0.6363323539213943,0.6720769075757251,0.6527304889630806,0.5398718799355826,0.6283729695282849,0.5732709679417921,0.6876591369192782,0.5830368102110174,0.6318566141721729,0.6271458233207776,0.6412150825756192,0.7105064502637052,0.6238917074642549,0.6376099305230543,0.8199877038333652,0.53859419116709,0.6126015554236465,0.5935492583362787,0.5622887690506698,0.634733046424781,0.4874603602230687,0.6165388574145474,0.7301689514360599,0.6222114438710095,0.6685220235439904,0.6905218818247019,0.7257369394625243,0.5670344191670166,0.6496580323036979,0.7531894463902188,0.5751729107252583,0.5814237724488522,0.9999999999999997,0.6676087508190843],[0.6555179735297386,0.6234604389895484,0.6052871650218509,0.6288771810687468,0.6330229554335125,0.5904563308557467,0.6509846436980806,0.6820605353057736,0.6584031764388841,0.6443973388564567,0.6518505077025923,0.5532829180379841,0.6572153825540564,0.6165341157117668,0.6460023295756819,0.6426713256465497,0.6783792440608162,0.6781274039133278,0.6661734805041954,0.6289616538209651,0.7060179543784796,0.6138589908463008,0.6358315626983373,0.6212938093818087,0.5887625214142628,0.6499600834598062,0.5835709299977005,0.6280179029369591,0.6440889482849368,0.626610349551928,0.6287715887103357,0.662542842670478,0.6587150839215096,0.5604393022940567,0.7155333110612795,0.7040414252349959,0.6360938498704015,0.6352139598000145,0.6676087508190843,1.0000000000000004]],\"type\":\"heatmap\",\"xaxis\":\"x\",\"yaxis\":\"y\",\"hovertemplate\":\"x: %{x}<br>y: %{y}<br>Similarity Score: %{z}<extra></extra>\"}],                        {\"template\":{\"data\":{\"histogram2dcontour\":[{\"type\":\"histogram2dcontour\",\"colorbar\":{\"outlinewidth\":0,\"ticks\":\"\"},\"colorscale\":[[0.0,\"#0d0887\"],[0.1111111111111111,\"#46039f\"],[0.2222222222222222,\"#7201a8\"],[0.3333333333333333,\"#9c179e\"],[0.4444444444444444,\"#bd3786\"],[0.5555555555555556,\"#d8576b\"],[0.6666666666666666,\"#ed7953\"],[0.7777777777777778,\"#fb9f3a\"],[0.8888888888888888,\"#fdca26\"],[1.0,\"#f0f921\"]]}],\"choropleth\":[{\"type\":\"choropleth\",\"colorbar\":{\"outlinewidth\":0,\"ticks\":\"\"}}],\"histogram2d\":[{\"type\":\"histogram2d\",\"colorbar\":{\"outlinewidth\":0,\"ticks\":\"\"},\"colorscale\":[[0.0,\"#0d0887\"],[0.1111111111111111,\"#46039f\"],[0.2222222222222222,\"#7201a8\"],[0.3333333333333333,\"#9c179e\"],[0.4444444444444444,\"#bd3786\"],[0.5555555555555556,\"#d8576b\"],[0.6666666666666666,\"#ed7953\"],[0.7777777777777778,\"#fb9f3a\"],[0.8888888888888888,\"#fdca26\"],[1.0,\"#f0f921\"]]}],\"heatmap\":[{\"type\":\"heatmap\",\"colorbar\":{\"outlinewidth\":0,\"ticks\":\"\"},\"colorscale\":[[0.0,\"#0d0887\"],[0.1111111111111111,\"#46039f\"],[0.2222222222222222,\"#7201a8\"],[0.3333333333333333,\"#9c179e\"],[0.4444444444444444,\"#bd3786\"],[0.5555555555555556,\"#d8576b\"],[0.6666666666666666,\"#ed7953\"],[0.7777777777777778,\"#fb9f3a\"],[0.8888888888888888,\"#fdca26\"],[1.0,\"#f0f921\"]]}],\"heatmapgl\":[{\"type\":\"heatmapgl\",\"colorbar\":{\"outlinewidth\":0,\"ticks\":\"\"},\"colorscale\":[[0.0,\"#0d0887\"],[0.1111111111111111,\"#46039f\"],[0.2222222222222222,\"#7201a8\"],[0.3333333333333333,\"#9c179e\"],[0.4444444444444444,\"#bd3786\"],[0.5555555555555556,\"#d8576b\"],[0.6666666666666666,\"#ed7953\"],[0.7777777777777778,\"#fb9f3a\"],[0.8888888888888888,\"#fdca26\"],[1.0,\"#f0f921\"]]}],\"contourcarpet\":[{\"type\":\"contourcarpet\",\"colorbar\":{\"outlinewidth\":0,\"ticks\":\"\"}}],\"contour\":[{\"type\":\"contour\",\"colorbar\":{\"outlinewidth\":0,\"ticks\":\"\"},\"colorscale\":[[0.0,\"#0d0887\"],[0.1111111111111111,\"#46039f\"],[0.2222222222222222,\"#7201a8\"],[0.3333333333333333,\"#9c179e\"],[0.4444444444444444,\"#bd3786\"],[0.5555555555555556,\"#d8576b\"],[0.6666666666666666,\"#ed7953\"],[0.7777777777777778,\"#fb9f3a\"],[0.8888888888888888,\"#fdca26\"],[1.0,\"#f0f921\"]]}],\"surface\":[{\"type\":\"surface\",\"colorbar\":{\"outlinewidth\":0,\"ticks\":\"\"},\"colorscale\":[[0.0,\"#0d0887\"],[0.1111111111111111,\"#46039f\"],[0.2222222222222222,\"#7201a8\"],[0.3333333333333333,\"#9c179e\"],[0.4444444444444444,\"#bd3786\"],[0.5555555555555556,\"#d8576b\"],[0.6666666666666666,\"#ed7953\"],[0.7777777777777778,\"#fb9f3a\"],[0.8888888888888888,\"#fdca26\"],[1.0,\"#f0f921\"]]}],\"mesh3d\":[{\"type\":\"mesh3d\",\"colorbar\":{\"outlinewidth\":0,\"ticks\":\"\"}}],\"scatter\":[{\"fillpattern\":{\"fillmode\":\"overlay\",\"size\":10,\"solidity\":0.2},\"type\":\"scatter\"}],\"parcoords\":[{\"type\":\"parcoords\",\"line\":{\"colorbar\":{\"outlinewidth\":0,\"ticks\":\"\"}}}],\"scatterpolargl\":[{\"type\":\"scatterpolargl\",\"marker\":{\"colorbar\":{\"outlinewidth\":0,\"ticks\":\"\"}}}],\"bar\":[{\"error_x\":{\"color\":\"#2a3f5f\"},\"error_y\":{\"color\":\"#2a3f5f\"},\"marker\":{\"line\":{\"color\":\"#E5ECF6\",\"width\":0.5},\"pattern\":{\"fillmode\":\"overlay\",\"size\":10,\"solidity\":0.2}},\"type\":\"bar\"}],\"scattergeo\":[{\"type\":\"scattergeo\",\"marker\":{\"colorbar\":{\"outlinewidth\":0,\"ticks\":\"\"}}}],\"scatterpolar\":[{\"type\":\"scatterpolar\",\"marker\":{\"colorbar\":{\"outlinewidth\":0,\"ticks\":\"\"}}}],\"histogram\":[{\"marker\":{\"pattern\":{\"fillmode\":\"overlay\",\"size\":10,\"solidity\":0.2}},\"type\":\"histogram\"}],\"scattergl\":[{\"type\":\"scattergl\",\"marker\":{\"colorbar\":{\"outlinewidth\":0,\"ticks\":\"\"}}}],\"scatter3d\":[{\"type\":\"scatter3d\",\"line\":{\"colorbar\":{\"outlinewidth\":0,\"ticks\":\"\"}},\"marker\":{\"colorbar\":{\"outlinewidth\":0,\"ticks\":\"\"}}}],\"scattermapbox\":[{\"type\":\"scattermapbox\",\"marker\":{\"colorbar\":{\"outlinewidth\":0,\"ticks\":\"\"}}}],\"scatterternary\":[{\"type\":\"scatterternary\",\"marker\":{\"colorbar\":{\"outlinewidth\":0,\"ticks\":\"\"}}}],\"scattercarpet\":[{\"type\":\"scattercarpet\",\"marker\":{\"colorbar\":{\"outlinewidth\":0,\"ticks\":\"\"}}}],\"carpet\":[{\"aaxis\":{\"endlinecolor\":\"#2a3f5f\",\"gridcolor\":\"white\",\"linecolor\":\"white\",\"minorgridcolor\":\"white\",\"startlinecolor\":\"#2a3f5f\"},\"baxis\":{\"endlinecolor\":\"#2a3f5f\",\"gridcolor\":\"white\",\"linecolor\":\"white\",\"minorgridcolor\":\"white\",\"startlinecolor\":\"#2a3f5f\"},\"type\":\"carpet\"}],\"table\":[{\"cells\":{\"fill\":{\"color\":\"#EBF0F8\"},\"line\":{\"color\":\"white\"}},\"header\":{\"fill\":{\"color\":\"#C8D4E3\"},\"line\":{\"color\":\"white\"}},\"type\":\"table\"}],\"barpolar\":[{\"marker\":{\"line\":{\"color\":\"#E5ECF6\",\"width\":0.5},\"pattern\":{\"fillmode\":\"overlay\",\"size\":10,\"solidity\":0.2}},\"type\":\"barpolar\"}],\"pie\":[{\"automargin\":true,\"type\":\"pie\"}]},\"layout\":{\"autotypenumbers\":\"strict\",\"colorway\":[\"#636efa\",\"#EF553B\",\"#00cc96\",\"#ab63fa\",\"#FFA15A\",\"#19d3f3\",\"#FF6692\",\"#B6E880\",\"#FF97FF\",\"#FECB52\"],\"font\":{\"color\":\"#2a3f5f\"},\"hovermode\":\"closest\",\"hoverlabel\":{\"align\":\"left\"},\"paper_bgcolor\":\"white\",\"plot_bgcolor\":\"#E5ECF6\",\"polar\":{\"bgcolor\":\"#E5ECF6\",\"angularaxis\":{\"gridcolor\":\"white\",\"linecolor\":\"white\",\"ticks\":\"\"},\"radialaxis\":{\"gridcolor\":\"white\",\"linecolor\":\"white\",\"ticks\":\"\"}},\"ternary\":{\"bgcolor\":\"#E5ECF6\",\"aaxis\":{\"gridcolor\":\"white\",\"linecolor\":\"white\",\"ticks\":\"\"},\"baxis\":{\"gridcolor\":\"white\",\"linecolor\":\"white\",\"ticks\":\"\"},\"caxis\":{\"gridcolor\":\"white\",\"linecolor\":\"white\",\"ticks\":\"\"}},\"coloraxis\":{\"colorbar\":{\"outlinewidth\":0,\"ticks\":\"\"}},\"colorscale\":{\"sequential\":[[0.0,\"#0d0887\"],[0.1111111111111111,\"#46039f\"],[0.2222222222222222,\"#7201a8\"],[0.3333333333333333,\"#9c179e\"],[0.4444444444444444,\"#bd3786\"],[0.5555555555555556,\"#d8576b\"],[0.6666666666666666,\"#ed7953\"],[0.7777777777777778,\"#fb9f3a\"],[0.8888888888888888,\"#fdca26\"],[1.0,\"#f0f921\"]],\"sequentialminus\":[[0.0,\"#0d0887\"],[0.1111111111111111,\"#46039f\"],[0.2222222222222222,\"#7201a8\"],[0.3333333333333333,\"#9c179e\"],[0.4444444444444444,\"#bd3786\"],[0.5555555555555556,\"#d8576b\"],[0.6666666666666666,\"#ed7953\"],[0.7777777777777778,\"#fb9f3a\"],[0.8888888888888888,\"#fdca26\"],[1.0,\"#f0f921\"]],\"diverging\":[[0,\"#8e0152\"],[0.1,\"#c51b7d\"],[0.2,\"#de77ae\"],[0.3,\"#f1b6da\"],[0.4,\"#fde0ef\"],[0.5,\"#f7f7f7\"],[0.6,\"#e6f5d0\"],[0.7,\"#b8e186\"],[0.8,\"#7fbc41\"],[0.9,\"#4d9221\"],[1,\"#276419\"]]},\"xaxis\":{\"gridcolor\":\"white\",\"linecolor\":\"white\",\"ticks\":\"\",\"title\":{\"standoff\":15},\"zerolinecolor\":\"white\",\"automargin\":true,\"zerolinewidth\":2},\"yaxis\":{\"gridcolor\":\"white\",\"linecolor\":\"white\",\"ticks\":\"\",\"title\":{\"standoff\":15},\"zerolinecolor\":\"white\",\"automargin\":true,\"zerolinewidth\":2},\"scene\":{\"xaxis\":{\"backgroundcolor\":\"#E5ECF6\",\"gridcolor\":\"white\",\"linecolor\":\"white\",\"showbackground\":true,\"ticks\":\"\",\"zerolinecolor\":\"white\",\"gridwidth\":2},\"yaxis\":{\"backgroundcolor\":\"#E5ECF6\",\"gridcolor\":\"white\",\"linecolor\":\"white\",\"showbackground\":true,\"ticks\":\"\",\"zerolinecolor\":\"white\",\"gridwidth\":2},\"zaxis\":{\"backgroundcolor\":\"#E5ECF6\",\"gridcolor\":\"white\",\"linecolor\":\"white\",\"showbackground\":true,\"ticks\":\"\",\"zerolinecolor\":\"white\",\"gridwidth\":2}},\"shapedefaults\":{\"line\":{\"color\":\"#2a3f5f\"}},\"annotationdefaults\":{\"arrowcolor\":\"#2a3f5f\",\"arrowhead\":0,\"arrowwidth\":1},\"geo\":{\"bgcolor\":\"white\",\"landcolor\":\"#E5ECF6\",\"subunitcolor\":\"white\",\"showland\":true,\"showlakes\":true,\"lakecolor\":\"white\"},\"title\":{\"x\":0.05},\"mapbox\":{\"style\":\"light\"}}},\"xaxis\":{\"anchor\":\"y\",\"domain\":[0.0,1.0],\"scaleanchor\":\"y\",\"constrain\":\"domain\"},\"yaxis\":{\"anchor\":\"x\",\"domain\":[0.0,1.0],\"autorange\":\"reversed\",\"constrain\":\"domain\"},\"coloraxis\":{\"colorbar\":{\"title\":{\"text\":\"Similarity Score\"}},\"colorscale\":[[0.0,\"rgb(247,252,240)\"],[0.125,\"rgb(224,243,219)\"],[0.25,\"rgb(204,235,197)\"],[0.375,\"rgb(168,221,181)\"],[0.5,\"rgb(123,204,196)\"],[0.625,\"rgb(78,179,211)\"],[0.75,\"rgb(43,140,190)\"],[0.875,\"rgb(8,104,172)\"],[1.0,\"rgb(8,64,129)\"]]},\"margin\":{\"t\":60},\"title\":{\"font\":{\"size\":22,\"color\":\"Black\"},\"text\":\"<b>Similarity Matrix\",\"y\":0.95,\"x\":0.55,\"xanchor\":\"center\",\"yanchor\":\"top\"},\"hoverlabel\":{\"font\":{\"size\":16,\"family\":\"Rockwell\"},\"bgcolor\":\"white\"},\"width\":800,\"height\":800,\"showlegend\":true,\"legend\":{\"title\":{\"text\":\"Trend\"}}},                        {\"responsive\": true}                    ).then(function(){\n",
       "                            \n",
       "var gd = document.getElementById('4cead7d2-1b52-46d3-bdf1-306c890c957a');\n",
       "var x = new MutationObserver(function (mutations, observer) {{\n",
       "        var display = window.getComputedStyle(gd).display;\n",
       "        if (!display || display === 'none') {{\n",
       "            console.log([gd, 'removed!']);\n",
       "            Plotly.purge(gd);\n",
       "            observer.disconnect();\n",
       "        }}\n",
       "}});\n",
       "\n",
       "// Listen for the removal of the full notebook cells\n",
       "var notebookContainer = gd.closest('#notebook-container');\n",
       "if (notebookContainer) {{\n",
       "    x.observe(notebookContainer, {childList: true});\n",
       "}}\n",
       "\n",
       "// Listen for the clearing of the current output cell\n",
       "var outputEl = gd.closest('.output');\n",
       "if (outputEl) {{\n",
       "    x.observe(outputEl, {childList: true});\n",
       "}}\n",
       "\n",
       "                        })                };                });            </script>        </div>"
      ]
     },
     "metadata": {},
     "output_type": "display_data"
    }
   ],
   "source": [
    "topic_model.visualize_heatmap()"
   ]
  },
  {
   "cell_type": "code",
   "execution_count": 93,
   "id": "c75efd80-35da-48b8-a38c-a15ac1289e37",
   "metadata": {
    "id": "c75efd80-35da-48b8-a38c-a15ac1289e37",
    "outputId": "572c6cdf-baba-4f4b-c835-e05a16626d4a"
   },
   "outputs": [],
   "source": [
    "# topic_model.visualize_topics()"
   ]
  },
  {
   "cell_type": "code",
   "execution_count": null,
   "id": "49c8b6a6-fc2d-42e0-9a66-d54e9676e31c",
   "metadata": {
    "id": "49c8b6a6-fc2d-42e0-9a66-d54e9676e31c"
   },
   "outputs": [],
   "source": [
    "# topics_per_class = topic_model.topics_per_class(docs, topics, classes)\n",
    "# topic_model.visualize_topics_per_class(topics_per_class)"
   ]
  },
  {
   "cell_type": "code",
   "execution_count": null,
   "id": "7e6c746a-0d6a-4429-8983-46f8650a9d38",
   "metadata": {
    "id": "7e6c746a-0d6a-4429-8983-46f8650a9d38"
   },
   "outputs": [],
   "source": []
  }
 ],
 "metadata": {
  "accelerator": "GPU",
  "colab": {
   "name": "sentences_BERTopic.ipynb",
   "provenance": [],
   "toc_visible": true
  },
  "gpuClass": "standard",
  "kernelspec": {
   "display_name": "Python 3 (ipykernel)",
   "language": "python",
   "name": "python3"
  },
  "language_info": {
   "codemirror_mode": {
    "name": "ipython",
    "version": 3
   },
   "file_extension": ".py",
   "mimetype": "text/x-python",
   "name": "python",
   "nbconvert_exporter": "python",
   "pygments_lexer": "ipython3",
   "version": "3.9.7"
  },
  "widgets": {
   "application/vnd.jupyter.widget-state+json": {
    "133b6ece4ad443e3b04218393ea2b0c4": {
     "model_module": "@jupyter-widgets/base",
     "model_module_version": "1.2.0",
     "model_name": "LayoutModel",
     "state": {
      "_model_module": "@jupyter-widgets/base",
      "_model_module_version": "1.2.0",
      "_model_name": "LayoutModel",
      "_view_count": null,
      "_view_module": "@jupyter-widgets/base",
      "_view_module_version": "1.2.0",
      "_view_name": "LayoutView",
      "align_content": null,
      "align_items": null,
      "align_self": null,
      "border": null,
      "bottom": null,
      "display": null,
      "flex": null,
      "flex_flow": null,
      "grid_area": null,
      "grid_auto_columns": null,
      "grid_auto_flow": null,
      "grid_auto_rows": null,
      "grid_column": null,
      "grid_gap": null,
      "grid_row": null,
      "grid_template_areas": null,
      "grid_template_columns": null,
      "grid_template_rows": null,
      "height": null,
      "justify_content": null,
      "justify_items": null,
      "left": null,
      "margin": null,
      "max_height": null,
      "max_width": null,
      "min_height": null,
      "min_width": null,
      "object_fit": null,
      "object_position": null,
      "order": null,
      "overflow": null,
      "overflow_x": null,
      "overflow_y": null,
      "padding": null,
      "right": null,
      "top": null,
      "visibility": null,
      "width": null
     }
    },
    "1bdde83ee2b04fc6abcdf45680852a18": {
     "model_module": "@jupyter-widgets/controls",
     "model_module_version": "1.5.0",
     "model_name": "DescriptionStyleModel",
     "state": {
      "_model_module": "@jupyter-widgets/controls",
      "_model_module_version": "1.5.0",
      "_model_name": "DescriptionStyleModel",
      "_view_count": null,
      "_view_module": "@jupyter-widgets/base",
      "_view_module_version": "1.2.0",
      "_view_name": "StyleView",
      "description_width": ""
     }
    },
    "358ae758930c4635b9db49d8ef44e741": {
     "model_module": "@jupyter-widgets/base",
     "model_module_version": "1.2.0",
     "model_name": "LayoutModel",
     "state": {
      "_model_module": "@jupyter-widgets/base",
      "_model_module_version": "1.2.0",
      "_model_name": "LayoutModel",
      "_view_count": null,
      "_view_module": "@jupyter-widgets/base",
      "_view_module_version": "1.2.0",
      "_view_name": "LayoutView",
      "align_content": null,
      "align_items": null,
      "align_self": null,
      "border": null,
      "bottom": null,
      "display": null,
      "flex": null,
      "flex_flow": null,
      "grid_area": null,
      "grid_auto_columns": null,
      "grid_auto_flow": null,
      "grid_auto_rows": null,
      "grid_column": null,
      "grid_gap": null,
      "grid_row": null,
      "grid_template_areas": null,
      "grid_template_columns": null,
      "grid_template_rows": null,
      "height": null,
      "justify_content": null,
      "justify_items": null,
      "left": null,
      "margin": null,
      "max_height": null,
      "max_width": null,
      "min_height": null,
      "min_width": null,
      "object_fit": null,
      "object_position": null,
      "order": null,
      "overflow": null,
      "overflow_x": null,
      "overflow_y": null,
      "padding": null,
      "right": null,
      "top": null,
      "visibility": null,
      "width": null
     }
    },
    "4cf22fbc2f9d4c878bf6b8ded51c9ee2": {
     "model_module": "@jupyter-widgets/controls",
     "model_module_version": "1.5.0",
     "model_name": "HTMLModel",
     "state": {
      "_dom_classes": [],
      "_model_module": "@jupyter-widgets/controls",
      "_model_module_version": "1.5.0",
      "_model_name": "HTMLModel",
      "_view_count": null,
      "_view_module": "@jupyter-widgets/controls",
      "_view_module_version": "1.5.0",
      "_view_name": "HTMLView",
      "description": "",
      "description_tooltip": null,
      "layout": "IPY_MODEL_81b4b5e59d854693952074fad0f73a40",
      "placeholder": "​",
      "style": "IPY_MODEL_1bdde83ee2b04fc6abcdf45680852a18",
      "value": "Batches: 100%"
     }
    },
    "5b3001dd40a44c0db0259b8a938ca4d4": {
     "model_module": "@jupyter-widgets/controls",
     "model_module_version": "1.5.0",
     "model_name": "HBoxModel",
     "state": {
      "_dom_classes": [],
      "_model_module": "@jupyter-widgets/controls",
      "_model_module_version": "1.5.0",
      "_model_name": "HBoxModel",
      "_view_count": null,
      "_view_module": "@jupyter-widgets/controls",
      "_view_module_version": "1.5.0",
      "_view_name": "HBoxView",
      "box_style": "",
      "children": [
       "IPY_MODEL_4cf22fbc2f9d4c878bf6b8ded51c9ee2",
       "IPY_MODEL_a126d8c382124598a54930dc4fbfa0d5",
       "IPY_MODEL_b771c3b2de574f7c808e1fd14f973b5e"
      ],
      "layout": "IPY_MODEL_133b6ece4ad443e3b04218393ea2b0c4"
     }
    },
    "6e1ee5746bc84c35ad221c20c59409d2": {
     "model_module": "@jupyter-widgets/controls",
     "model_module_version": "1.5.0",
     "model_name": "DescriptionStyleModel",
     "state": {
      "_model_module": "@jupyter-widgets/controls",
      "_model_module_version": "1.5.0",
      "_model_name": "DescriptionStyleModel",
      "_view_count": null,
      "_view_module": "@jupyter-widgets/base",
      "_view_module_version": "1.2.0",
      "_view_name": "StyleView",
      "description_width": ""
     }
    },
    "78c3b0f7582d40de8cb9ee8142cc0bbd": {
     "model_module": "@jupyter-widgets/base",
     "model_module_version": "1.2.0",
     "model_name": "LayoutModel",
     "state": {
      "_model_module": "@jupyter-widgets/base",
      "_model_module_version": "1.2.0",
      "_model_name": "LayoutModel",
      "_view_count": null,
      "_view_module": "@jupyter-widgets/base",
      "_view_module_version": "1.2.0",
      "_view_name": "LayoutView",
      "align_content": null,
      "align_items": null,
      "align_self": null,
      "border": null,
      "bottom": null,
      "display": null,
      "flex": null,
      "flex_flow": null,
      "grid_area": null,
      "grid_auto_columns": null,
      "grid_auto_flow": null,
      "grid_auto_rows": null,
      "grid_column": null,
      "grid_gap": null,
      "grid_row": null,
      "grid_template_areas": null,
      "grid_template_columns": null,
      "grid_template_rows": null,
      "height": null,
      "justify_content": null,
      "justify_items": null,
      "left": null,
      "margin": null,
      "max_height": null,
      "max_width": null,
      "min_height": null,
      "min_width": null,
      "object_fit": null,
      "object_position": null,
      "order": null,
      "overflow": null,
      "overflow_x": null,
      "overflow_y": null,
      "padding": null,
      "right": null,
      "top": null,
      "visibility": null,
      "width": null
     }
    },
    "81b4b5e59d854693952074fad0f73a40": {
     "model_module": "@jupyter-widgets/base",
     "model_module_version": "1.2.0",
     "model_name": "LayoutModel",
     "state": {
      "_model_module": "@jupyter-widgets/base",
      "_model_module_version": "1.2.0",
      "_model_name": "LayoutModel",
      "_view_count": null,
      "_view_module": "@jupyter-widgets/base",
      "_view_module_version": "1.2.0",
      "_view_name": "LayoutView",
      "align_content": null,
      "align_items": null,
      "align_self": null,
      "border": null,
      "bottom": null,
      "display": null,
      "flex": null,
      "flex_flow": null,
      "grid_area": null,
      "grid_auto_columns": null,
      "grid_auto_flow": null,
      "grid_auto_rows": null,
      "grid_column": null,
      "grid_gap": null,
      "grid_row": null,
      "grid_template_areas": null,
      "grid_template_columns": null,
      "grid_template_rows": null,
      "height": null,
      "justify_content": null,
      "justify_items": null,
      "left": null,
      "margin": null,
      "max_height": null,
      "max_width": null,
      "min_height": null,
      "min_width": null,
      "object_fit": null,
      "object_position": null,
      "order": null,
      "overflow": null,
      "overflow_x": null,
      "overflow_y": null,
      "padding": null,
      "right": null,
      "top": null,
      "visibility": null,
      "width": null
     }
    },
    "a126d8c382124598a54930dc4fbfa0d5": {
     "model_module": "@jupyter-widgets/controls",
     "model_module_version": "1.5.0",
     "model_name": "FloatProgressModel",
     "state": {
      "_dom_classes": [],
      "_model_module": "@jupyter-widgets/controls",
      "_model_module_version": "1.5.0",
      "_model_name": "FloatProgressModel",
      "_view_count": null,
      "_view_module": "@jupyter-widgets/controls",
      "_view_module_version": "1.5.0",
      "_view_name": "ProgressView",
      "bar_style": "success",
      "description": "",
      "description_tooltip": null,
      "layout": "IPY_MODEL_358ae758930c4635b9db49d8ef44e741",
      "max": 2311,
      "min": 0,
      "orientation": "horizontal",
      "style": "IPY_MODEL_f9b3ff36d371457f8b6b56096039188f",
      "value": 2311
     }
    },
    "b771c3b2de574f7c808e1fd14f973b5e": {
     "model_module": "@jupyter-widgets/controls",
     "model_module_version": "1.5.0",
     "model_name": "HTMLModel",
     "state": {
      "_dom_classes": [],
      "_model_module": "@jupyter-widgets/controls",
      "_model_module_version": "1.5.0",
      "_model_name": "HTMLModel",
      "_view_count": null,
      "_view_module": "@jupyter-widgets/controls",
      "_view_module_version": "1.5.0",
      "_view_name": "HTMLView",
      "description": "",
      "description_tooltip": null,
      "layout": "IPY_MODEL_78c3b0f7582d40de8cb9ee8142cc0bbd",
      "placeholder": "​",
      "style": "IPY_MODEL_6e1ee5746bc84c35ad221c20c59409d2",
      "value": " 2311/2311 [00:30&lt;00:00, 142.03it/s]"
     }
    },
    "f9b3ff36d371457f8b6b56096039188f": {
     "model_module": "@jupyter-widgets/controls",
     "model_module_version": "1.5.0",
     "model_name": "ProgressStyleModel",
     "state": {
      "_model_module": "@jupyter-widgets/controls",
      "_model_module_version": "1.5.0",
      "_model_name": "ProgressStyleModel",
      "_view_count": null,
      "_view_module": "@jupyter-widgets/base",
      "_view_module_version": "1.2.0",
      "_view_name": "StyleView",
      "bar_color": null,
      "description_width": ""
     }
    }
   }
  }
 },
 "nbformat": 4,
 "nbformat_minor": 5
}
