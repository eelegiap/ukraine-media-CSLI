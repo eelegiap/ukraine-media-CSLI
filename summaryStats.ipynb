{
 "cells": [
  {
   "cell_type": "code",
   "execution_count": 8,
   "id": "4664fa47-af03-4983-acf4-0f6721b1fd04",
   "metadata": {},
   "outputs": [],
   "source": [
    "import random\n",
    "import numpy as np\n",
    "import pandas as pd\n",
    "import time\n",
    "import re\n",
    "import datetime\n",
    "import os\n",
    "import matplotlib.pyplot as plt\n",
    "import gensim\n",
    "import json\n",
    "import itertools\n",
    "import stanza"
   ]
  },
  {
   "cell_type": "code",
   "execution_count": 9,
   "id": "bf42da2f-7235-4c31-95d6-4e316d84624d",
   "metadata": {},
   "outputs": [],
   "source": [
    "import nltk\n",
    "from nltk.tokenize import sent_tokenize\n",
    "from nltk.corpus import stopwords\n",
    "from nltk.corpus import state_union\n",
    "\n",
    "engStopwords = set(stopwords.words('english'))"
   ]
  },
  {
   "cell_type": "code",
   "execution_count": 65,
   "id": "71607a7a-35aa-45db-b4e3-9a80aa8a1527",
   "metadata": {},
   "outputs": [
    {
     "name": "stdout",
     "output_type": "stream",
     "text": [
      "CPU times: user 11.6 s, sys: 2.75 s, total: 14.3 s\n",
      "Wall time: 37.9 s\n"
     ]
    },
    {
     "data": {
      "text/html": [
       "<div>\n",
       "<style scoped>\n",
       "    .dataframe tbody tr th:only-of-type {\n",
       "        vertical-align: middle;\n",
       "    }\n",
       "\n",
       "    .dataframe tbody tr th {\n",
       "        vertical-align: top;\n",
       "    }\n",
       "\n",
       "    .dataframe thead th {\n",
       "        text-align: right;\n",
       "    }\n",
       "</style>\n",
       "<table border=\"1\" class=\"dataframe\">\n",
       "  <thead>\n",
       "    <tr style=\"text-align: right;\">\n",
       "      <th></th>\n",
       "      <th>index</th>\n",
       "      <th>newsOutlet</th>\n",
       "      <th>category</th>\n",
       "      <th>dateSeen</th>\n",
       "      <th>url</th>\n",
       "      <th>title</th>\n",
       "      <th>language</th>\n",
       "      <th>sourceCountry</th>\n",
       "      <th>sentText</th>\n",
       "      <th>sentIndexInText</th>\n",
       "      <th>sentTopicID</th>\n",
       "    </tr>\n",
       "  </thead>\n",
       "  <tbody>\n",
       "    <tr>\n",
       "      <th>0</th>\n",
       "      <td>0</td>\n",
       "      <td>apnews.com</td>\n",
       "      <td>western</td>\n",
       "      <td>2021-10-12 07:00:00</td>\n",
       "      <td>https://apnews.com/article/technology-business...</td>\n",
       "      <td>EU , Ukraine to discuss military training and ...</td>\n",
       "      <td>English</td>\n",
       "      <td>United States</td>\n",
       "      <td>BRUSSELS (AP) — The European Union is consider...</td>\n",
       "      <td>0</td>\n",
       "      <td>-1</td>\n",
       "    </tr>\n",
       "    <tr>\n",
       "      <th>1</th>\n",
       "      <td>0</td>\n",
       "      <td>apnews.com</td>\n",
       "      <td>western</td>\n",
       "      <td>2021-10-12 07:00:00</td>\n",
       "      <td>https://apnews.com/article/technology-business...</td>\n",
       "      <td>EU , Ukraine to discuss military training and ...</td>\n",
       "      <td>English</td>\n",
       "      <td>United States</td>\n",
       "      <td>Acting on a request from Ukraine for help with...</td>\n",
       "      <td>1</td>\n",
       "      <td>-1</td>\n",
       "    </tr>\n",
       "    <tr>\n",
       "      <th>2</th>\n",
       "      <td>0</td>\n",
       "      <td>apnews.com</td>\n",
       "      <td>western</td>\n",
       "      <td>2021-10-12 07:00:00</td>\n",
       "      <td>https://apnews.com/article/technology-business...</td>\n",
       "      <td>EU , Ukraine to discuss military training and ...</td>\n",
       "      <td>English</td>\n",
       "      <td>United States</td>\n",
       "      <td>The topic will be discussed during a summit Tu...</td>\n",
       "      <td>2</td>\n",
       "      <td>-1</td>\n",
       "    </tr>\n",
       "    <tr>\n",
       "      <th>3</th>\n",
       "      <td>0</td>\n",
       "      <td>apnews.com</td>\n",
       "      <td>western</td>\n",
       "      <td>2021-10-12 07:00:00</td>\n",
       "      <td>https://apnews.com/article/technology-business...</td>\n",
       "      <td>EU , Ukraine to discuss military training and ...</td>\n",
       "      <td>English</td>\n",
       "      <td>United States</td>\n",
       "      <td>The results of the mission have yet to be anal...</td>\n",
       "      <td>3</td>\n",
       "      <td>5</td>\n",
       "    </tr>\n",
       "    <tr>\n",
       "      <th>4</th>\n",
       "      <td>0</td>\n",
       "      <td>apnews.com</td>\n",
       "      <td>western</td>\n",
       "      <td>2021-10-12 07:00:00</td>\n",
       "      <td>https://apnews.com/article/technology-business...</td>\n",
       "      <td>EU , Ukraine to discuss military training and ...</td>\n",
       "      <td>English</td>\n",
       "      <td>United States</td>\n",
       "      <td>One official said the EU’s political and secur...</td>\n",
       "      <td>4</td>\n",
       "      <td>-1</td>\n",
       "    </tr>\n",
       "  </tbody>\n",
       "</table>\n",
       "</div>"
      ],
      "text/plain": [
       "   index  newsOutlet category             dateSeen  \\\n",
       "0      0  apnews.com  western  2021-10-12 07:00:00   \n",
       "1      0  apnews.com  western  2021-10-12 07:00:00   \n",
       "2      0  apnews.com  western  2021-10-12 07:00:00   \n",
       "3      0  apnews.com  western  2021-10-12 07:00:00   \n",
       "4      0  apnews.com  western  2021-10-12 07:00:00   \n",
       "\n",
       "                                                 url  \\\n",
       "0  https://apnews.com/article/technology-business...   \n",
       "1  https://apnews.com/article/technology-business...   \n",
       "2  https://apnews.com/article/technology-business...   \n",
       "3  https://apnews.com/article/technology-business...   \n",
       "4  https://apnews.com/article/technology-business...   \n",
       "\n",
       "                                               title language  sourceCountry  \\\n",
       "0  EU , Ukraine to discuss military training and ...  English  United States   \n",
       "1  EU , Ukraine to discuss military training and ...  English  United States   \n",
       "2  EU , Ukraine to discuss military training and ...  English  United States   \n",
       "3  EU , Ukraine to discuss military training and ...  English  United States   \n",
       "4  EU , Ukraine to discuss military training and ...  English  United States   \n",
       "\n",
       "                                            sentText  sentIndexInText  \\\n",
       "0  BRUSSELS (AP) — The European Union is consider...                0   \n",
       "1  Acting on a request from Ukraine for help with...                1   \n",
       "2  The topic will be discussed during a summit Tu...                2   \n",
       "3  The results of the mission have yet to be anal...                3   \n",
       "4  One official said the EU’s political and secur...                4   \n",
       "\n",
       "   sentTopicID  \n",
       "0           -1  \n",
       "1           -1  \n",
       "2           -1  \n",
       "3            5  \n",
       "4           -1  "
      ]
     },
     "execution_count": 65,
     "metadata": {},
     "output_type": "execute_result"
    }
   ],
   "source": [
    "%%time\n",
    "sdf = pd.read_excel('data/topic_model_data/fullSentDataFrame_8-3.xlsx',index_col=0)\n",
    "sdf = sdf.drop_duplicates(['sentText'])\n",
    "sdf.head()"
   ]
  },
  {
   "cell_type": "code",
   "execution_count": null,
   "id": "766a7288-a4b1-4579-a234-b7b4398aba47",
   "metadata": {},
   "outputs": [],
   "source": [
    "# from readability import Readability\n",
    "# readingLevel = []\n",
    "# for rec in sdf.to_dict('records'):\n",
    "#     r = Readability(rec['sentText'])\n",
    "#     fk = r.flesch_kincaid()\n",
    "#     if fk.score <= 25:\n",
    "#         readingLevel\n",
    "# # 'text''category''score'"
   ]
  },
  {
   "cell_type": "markdown",
   "id": "fbcc7a3e-26cc-4737-a693-35e0510c6d97",
   "metadata": {},
   "source": [
    "## N-gram analysis"
   ]
  },
  {
   "cell_type": "code",
   "execution_count": 11,
   "id": "ca5dd9e0-3cea-4b6a-8bb7-d5688a7a2846",
   "metadata": {},
   "outputs": [
    {
     "data": {
      "application/vnd.jupyter.widget-view+json": {
       "model_id": "e7949ab39e2f45df9eacf3fbdb3005c1",
       "version_major": 2,
       "version_minor": 0
      },
      "text/plain": [
       "Downloading https://raw.githubusercontent.com/stanfordnlp/stanza-resources/main/resources_1.2.2.json:   0%|   …"
      ]
     },
     "metadata": {},
     "output_type": "display_data"
    },
    {
     "name": "stderr",
     "output_type": "stream",
     "text": [
      "2022-08-04 08:41:04 INFO: Downloading default packages for language: en (English)...\n",
      "2022-08-04 08:41:05 INFO: File exists: /Users/paigelee/stanza_resources/en/default.zip.\n",
      "2022-08-04 08:41:09 INFO: Finished downloading models and saved to /Users/paigelee/stanza_resources.\n",
      "2022-08-04 08:41:09 INFO: Loading these models for language: en (English):\n",
      "=========================\n",
      "| Processor | Package   |\n",
      "-------------------------\n",
      "| tokenize  | combined  |\n",
      "| pos       | combined  |\n",
      "| lemma     | combined  |\n",
      "| depparse  | combined  |\n",
      "| sentiment | sstplus   |\n",
      "| ner       | ontonotes |\n",
      "=========================\n",
      "\n",
      "2022-08-04 08:41:09 INFO: Use device: cpu\n",
      "2022-08-04 08:41:09 INFO: Loading: tokenize\n",
      "2022-08-04 08:41:10 INFO: Loading: pos\n",
      "2022-08-04 08:41:13 INFO: Loading: lemma\n",
      "2022-08-04 08:41:13 INFO: Loading: depparse\n",
      "2022-08-04 08:41:14 INFO: Loading: sentiment\n",
      "2022-08-04 08:41:15 INFO: Loading: ner\n",
      "2022-08-04 08:41:24 INFO: Done loading processors!\n"
     ]
    }
   ],
   "source": [
    "stanza.download('en')\n",
    "nlp = stanza.Pipeline('en')"
   ]
  },
  {
   "cell_type": "code",
   "execution_count": 12,
   "id": "7f102840-8d7d-4cc5-ab3f-cffae9a8d995",
   "metadata": {},
   "outputs": [
    {
     "name": "stderr",
     "output_type": "stream",
     "text": [
      "[nltk_data] Downloading package maxent_ne_chunker to\n",
      "[nltk_data]     /Users/paigelee/nltk_data...\n",
      "[nltk_data]   Package maxent_ne_chunker is already up-to-date!\n",
      "[nltk_data] Downloading package words to /Users/paigelee/nltk_data...\n",
      "[nltk_data]   Package words is already up-to-date!\n"
     ]
    },
    {
     "data": {
      "text/plain": [
       "True"
      ]
     },
     "execution_count": 12,
     "metadata": {},
     "output_type": "execute_result"
    }
   ],
   "source": [
    "nltk.download('maxent_ne_chunker')\n",
    "nltk.download('words')"
   ]
  },
  {
   "cell_type": "code",
   "execution_count": 13,
   "id": "63e678b8-0350-4810-a581-697f60058275",
   "metadata": {},
   "outputs": [],
   "source": [
    "i = sentenceDf.iloc[101]['sentText']"
   ]
  },
  {
   "cell_type": "code",
   "execution_count": 14,
   "id": "90c9c6d1-7544-4d48-9665-6267f191a56c",
   "metadata": {},
   "outputs": [
    {
     "data": {
      "text/plain": [
       "'The meeting comes at a time of growing concern in Kyiv about the U.S.-Ukraine relationship.'"
      ]
     },
     "execution_count": 14,
     "metadata": {},
     "output_type": "execute_result"
    }
   ],
   "source": [
    "i"
   ]
  },
  {
   "cell_type": "code",
   "execution_count": 15,
   "id": "bd12436c-286b-4127-a1ed-8be652893583",
   "metadata": {},
   "outputs": [
    {
     "data": {
      "image/png": "[encoded data removed]",
      "text/plain": [
       "Tree('S', [('The', 'DT'), ('meeting', 'NN'), ('comes', 'VBZ'), ('at', 'IN'), ('a', 'DT'), ('time', 'NN'), ('of', 'IN'), ('growing', 'VBG'), ('concern', 'NN'), ('in', 'IN'), Tree('NE', [('Kyiv', 'NNP')]), ('about', 'IN'), ('the', 'DT'), ('U.S.-Ukraine', 'JJ'), ('relationship', 'NN'), ('.', '.')])"
      ]
     },
     "execution_count": 15,
     "metadata": {},
     "output_type": "execute_result"
    }
   ],
   "source": [
    "words = nltk.word_tokenize(i)\n",
    "tagged = nltk.pos_tag(words)\n",
    "namedEnt = nltk.ne_chunk(tagged, binary=True)\n",
    "namedEnt"
   ]
  },
  {
   "cell_type": "code",
   "execution_count": 18,
   "id": "2832bea6-c352-4ef5-a07d-311847b1c3ec",
   "metadata": {},
   "outputs": [
    {
     "data": {
      "text/plain": [
       "[(('The', 'DT'), 'S'),\n",
       " (('meeting', 'NN'), 'S'),\n",
       " (('comes', 'VBZ'), 'S'),\n",
       " (('at', 'IN'), 'S'),\n",
       " (('a', 'DT'), 'S'),\n",
       " (('time', 'NN'), 'S'),\n",
       " (('of', 'IN'), 'S'),\n",
       " (('growing', 'VBG'), 'S'),\n",
       " (('concern', 'NN'), 'S'),\n",
       " (('in', 'IN'), 'S'),\n",
       " (('Kyiv', 'NNP'), 'NE'),\n",
       " (('about', 'IN'), 'S'),\n",
       " (('the', 'DT'), 'S'),\n",
       " (('U.S.-Ukraine', 'JJ'), 'S'),\n",
       " (('relationship', 'NN'), 'S'),\n",
       " (('.', '.'), 'S')]"
      ]
     },
     "execution_count": 18,
     "metadata": {},
     "output_type": "execute_result"
    }
   ],
   "source": [
    "namedEnt.pos()"
   ]
  },
  {
   "cell_type": "code",
   "execution_count": 21,
   "id": "9ca79b9a-54ab-485e-bc32-0bd919246038",
   "metadata": {},
   "outputs": [
    {
     "data": {
      "text/html": [
       "<div>\n",
       "<style scoped>\n",
       "    .dataframe tbody tr th:only-of-type {\n",
       "        vertical-align: middle;\n",
       "    }\n",
       "\n",
       "    .dataframe tbody tr th {\n",
       "        vertical-align: top;\n",
       "    }\n",
       "\n",
       "    .dataframe thead th {\n",
       "        text-align: right;\n",
       "    }\n",
       "</style>\n",
       "<table border=\"1\" class=\"dataframe\">\n",
       "  <thead>\n",
       "    <tr style=\"text-align: right;\">\n",
       "      <th></th>\n",
       "      <th>index</th>\n",
       "      <th>newsOutlet</th>\n",
       "      <th>category</th>\n",
       "      <th>dateSeen</th>\n",
       "      <th>url</th>\n",
       "      <th>title</th>\n",
       "      <th>language</th>\n",
       "      <th>sourceCountry</th>\n",
       "      <th>sentText</th>\n",
       "      <th>sentIndexInText</th>\n",
       "      <th>sentTopicID</th>\n",
       "    </tr>\n",
       "  </thead>\n",
       "  <tbody>\n",
       "    <tr>\n",
       "      <th>0</th>\n",
       "      <td>0</td>\n",
       "      <td>apnews.com</td>\n",
       "      <td>western</td>\n",
       "      <td>2021-10-12 07:00:00</td>\n",
       "      <td>https://apnews.com/article/technology-business...</td>\n",
       "      <td>EU , Ukraine to discuss military training and ...</td>\n",
       "      <td>English</td>\n",
       "      <td>United States</td>\n",
       "      <td>BRUSSELS (AP) — The European Union is consider...</td>\n",
       "      <td>0</td>\n",
       "      <td>-1</td>\n",
       "    </tr>\n",
       "    <tr>\n",
       "      <th>1</th>\n",
       "      <td>0</td>\n",
       "      <td>apnews.com</td>\n",
       "      <td>western</td>\n",
       "      <td>2021-10-12 07:00:00</td>\n",
       "      <td>https://apnews.com/article/technology-business...</td>\n",
       "      <td>EU , Ukraine to discuss military training and ...</td>\n",
       "      <td>English</td>\n",
       "      <td>United States</td>\n",
       "      <td>Acting on a request from Ukraine for help with...</td>\n",
       "      <td>1</td>\n",
       "      <td>-1</td>\n",
       "    </tr>\n",
       "    <tr>\n",
       "      <th>2</th>\n",
       "      <td>0</td>\n",
       "      <td>apnews.com</td>\n",
       "      <td>western</td>\n",
       "      <td>2021-10-12 07:00:00</td>\n",
       "      <td>https://apnews.com/article/technology-business...</td>\n",
       "      <td>EU , Ukraine to discuss military training and ...</td>\n",
       "      <td>English</td>\n",
       "      <td>United States</td>\n",
       "      <td>The topic will be discussed during a summit Tu...</td>\n",
       "      <td>2</td>\n",
       "      <td>-1</td>\n",
       "    </tr>\n",
       "    <tr>\n",
       "      <th>3</th>\n",
       "      <td>0</td>\n",
       "      <td>apnews.com</td>\n",
       "      <td>western</td>\n",
       "      <td>2021-10-12 07:00:00</td>\n",
       "      <td>https://apnews.com/article/technology-business...</td>\n",
       "      <td>EU , Ukraine to discuss military training and ...</td>\n",
       "      <td>English</td>\n",
       "      <td>United States</td>\n",
       "      <td>The results of the mission have yet to be anal...</td>\n",
       "      <td>3</td>\n",
       "      <td>5</td>\n",
       "    </tr>\n",
       "    <tr>\n",
       "      <th>4</th>\n",
       "      <td>0</td>\n",
       "      <td>apnews.com</td>\n",
       "      <td>western</td>\n",
       "      <td>2021-10-12 07:00:00</td>\n",
       "      <td>https://apnews.com/article/technology-business...</td>\n",
       "      <td>EU , Ukraine to discuss military training and ...</td>\n",
       "      <td>English</td>\n",
       "      <td>United States</td>\n",
       "      <td>One official said the EU’s political and secur...</td>\n",
       "      <td>4</td>\n",
       "      <td>-1</td>\n",
       "    </tr>\n",
       "  </tbody>\n",
       "</table>\n",
       "</div>"
      ],
      "text/plain": [
       "   index  newsOutlet category             dateSeen  \\\n",
       "0      0  apnews.com  western  2021-10-12 07:00:00   \n",
       "1      0  apnews.com  western  2021-10-12 07:00:00   \n",
       "2      0  apnews.com  western  2021-10-12 07:00:00   \n",
       "3      0  apnews.com  western  2021-10-12 07:00:00   \n",
       "4      0  apnews.com  western  2021-10-12 07:00:00   \n",
       "\n",
       "                                                 url  \\\n",
       "0  https://apnews.com/article/technology-business...   \n",
       "1  https://apnews.com/article/technology-business...   \n",
       "2  https://apnews.com/article/technology-business...   \n",
       "3  https://apnews.com/article/technology-business...   \n",
       "4  https://apnews.com/article/technology-business...   \n",
       "\n",
       "                                               title language  sourceCountry  \\\n",
       "0  EU , Ukraine to discuss military training and ...  English  United States   \n",
       "1  EU , Ukraine to discuss military training and ...  English  United States   \n",
       "2  EU , Ukraine to discuss military training and ...  English  United States   \n",
       "3  EU , Ukraine to discuss military training and ...  English  United States   \n",
       "4  EU , Ukraine to discuss military training and ...  English  United States   \n",
       "\n",
       "                                            sentText  sentIndexInText  \\\n",
       "0  BRUSSELS (AP) — The European Union is consider...                0   \n",
       "1  Acting on a request from Ukraine for help with...                1   \n",
       "2  The topic will be discussed during a summit Tu...                2   \n",
       "3  The results of the mission have yet to be anal...                3   \n",
       "4  One official said the EU’s political and secur...                4   \n",
       "\n",
       "   sentTopicID  \n",
       "0           -1  \n",
       "1           -1  \n",
       "2           -1  \n",
       "3            5  \n",
       "4           -1  "
      ]
     },
     "execution_count": 21,
     "metadata": {},
     "output_type": "execute_result"
    }
   ],
   "source": [
    "sdf.head()"
   ]
  },
  {
   "cell_type": "code",
   "execution_count": 55,
   "id": "1797ff87-a21b-4cc5-8be0-64da4db5388f",
   "metadata": {},
   "outputs": [
    {
     "name": "stdout",
     "output_type": "stream",
     "text": [
      "Lavrov said the alliance had earlier rejected Russia's desire to legally enshrine the principle of the indivisibility of security, rejecting Moscow \"after long attempts to dodge any discussion at all.\" \n",
      "\n",
      "Russia's Foreign Minister Sergei Lavrov said Wednesday he expects negotiations with the United States on Moscow's security demands to begin in January, with concerns mounting over the Ukraine conflict. \n",
      "\n",
      "Russia's Foreign Minister Sergei Lavrov also commented on the troops' withdrawal and redeployment, stating that it was scheduled and not done to meet the demands of any foreign government. \n",
      "\n",
      "Foreign Secretary Liz Truss said the latest intelligence suggested \"Russia could invade at any moment\". \n",
      "\n",
      "Russian Foreign Minister Sergey Lavrov has pointed to the lack of understanding during the talks with UK Secretary of State for Foreign, Commonwealth and Development Affairs Liz Truss on Ukraine. \n",
      "\n"
     ]
    },
    {
     "data": {
      "text/plain": [
       "[None, None, None, None, None]"
      ]
     },
     "execution_count": 55,
     "metadata": {},
     "output_type": "execute_result"
    }
   ],
   "source": [
    "i = 9\n",
    "[print(r['sentText'],'\\n') for r in random.sample(sdf[sdf['sentTopicID'] == i].to_dict('records'),5)]"
   ]
  },
  {
   "cell_type": "markdown",
   "id": "b1ce7b84-9c6f-41b5-8227-acee69138204",
   "metadata": {},
   "source": [
    "## Create network"
   ]
  },
  {
   "cell_type": "code",
   "execution_count": 1,
   "id": "0e7e0ad4-8832-4510-8611-74e5e29866e2",
   "metadata": {},
   "outputs": [
    {
     "ename": "NameError",
     "evalue": "name 'namedEnt' is not defined",
     "output_type": "error",
     "traceback": [
      "\u001b[0;31m---------------------------------------------------------------------------\u001b[0m",
      "\u001b[0;31mNameError\u001b[0m                                 Traceback (most recent call last)",
      "\u001b[0;32m/var/folders/jj/_szc94p56q91q_7c209d1d9w0000gn/T/ipykernel_71445/719353744.py\u001b[0m in \u001b[0;36m<module>\u001b[0;34m\u001b[0m\n\u001b[0;32m----> 1\u001b[0;31m \u001b[0mnamedEnt\u001b[0m\u001b[0;34m\u001b[0m\u001b[0;34m\u001b[0m\u001b[0m\n\u001b[0m",
      "\u001b[0;31mNameError\u001b[0m: name 'namedEnt' is not defined"
     ]
    }
   ],
   "source": [
    "jsonDict = dict()"
   ]
  },
  {
   "cell_type": "code",
   "execution_count": 42,
   "id": "ef41ad5f-e0ba-48a7-a9d0-177cb70db73c",
   "metadata": {},
   "outputs": [
    {
     "name": "stdout",
     "output_type": "stream",
     "text": [
      "0/18530 recs parsed by NLP\n",
      "1000/18530 recs parsed by NLP\n",
      "2000/18530 recs parsed by NLP\n",
      "3000/18530 recs parsed by NLP\n",
      "4000/18530 recs parsed by NLP\n",
      "5000/18530 recs parsed by NLP\n",
      "6000/18530 recs parsed by NLP\n",
      "7000/18530 recs parsed by NLP\n",
      "8000/18530 recs parsed by NLP\n",
      "9000/18530 recs parsed by NLP\n",
      "10000/18530 recs parsed by NLP\n",
      "11000/18530 recs parsed by NLP\n",
      "12000/18530 recs parsed by NLP\n",
      "13000/18530 recs parsed by NLP\n",
      "14000/18530 recs parsed by NLP\n",
      "15000/18530 recs parsed by NLP\n",
      "16000/18530 recs parsed by NLP\n",
      "17000/18530 recs parsed by NLP\n",
      "18000/18530 recs parsed by NLP\n",
      "\tdone nlping docs\n",
      "\tfound sufficient recs\n",
      "\tgot linked tokens\n",
      "\twrote json\n",
      "0/22646 recs parsed by NLP\n",
      "1000/22646 recs parsed by NLP\n",
      "2000/22646 recs parsed by NLP\n",
      "3000/22646 recs parsed by NLP\n",
      "4000/22646 recs parsed by NLP\n",
      "5000/22646 recs parsed by NLP\n",
      "6000/22646 recs parsed by NLP\n",
      "7000/22646 recs parsed by NLP\n",
      "8000/22646 recs parsed by NLP\n",
      "9000/22646 recs parsed by NLP\n",
      "10000/22646 recs parsed by NLP\n",
      "11000/22646 recs parsed by NLP\n",
      "12000/22646 recs parsed by NLP\n",
      "13000/22646 recs parsed by NLP\n",
      "14000/22646 recs parsed by NLP\n",
      "15000/22646 recs parsed by NLP\n",
      "16000/22646 recs parsed by NLP\n",
      "17000/22646 recs parsed by NLP\n",
      "18000/22646 recs parsed by NLP\n",
      "19000/22646 recs parsed by NLP\n",
      "20000/22646 recs parsed by NLP\n",
      "21000/22646 recs parsed by NLP\n",
      "22000/22646 recs parsed by NLP\n",
      "\tdone nlping docs\n",
      "\tfound sufficient recs\n",
      "\tgot linked tokens\n",
      "\twrote json\n",
      "CPU times: user 4h 30min 53s, sys: 2min 17s, total: 4h 33min 10s\n",
      "Wall time: 6h 9min 55s\n"
     ]
    }
   ],
   "source": [
    "%%time\n",
    "# get cooccurrence connections\n",
    "thresh = 5\n",
    "n = 4\n",
    "\n",
    "allSentRecords = sentenceDf.to_dict('records')\n",
    "\n",
    "for cat in ['western','russian']:\n",
    "    networkJson = dict()\n",
    "    networkJson['nodes'] = []\n",
    "    networkJson['links'] = []\n",
    "\n",
    "    curatedNodes = set()\n",
    "    linkCounter = dict()\n",
    "    keywordCounter = dict()\n",
    "\n",
    "    windowList = []\n",
    "    records = []\n",
    "    for d in allSentRecords:\n",
    "        if d['category'] == cat and d['sentTopicID'] != -1:\n",
    "            records.append(d)\n",
    "    for i, rec in enumerate(random.sample(records,100)):\n",
    "        if i % 1000 == 0:\n",
    "            print(f'{i}/{len(records)} recs parsed by NLP')\n",
    "        docText = rec['sentText']\n",
    "        nlpdoc = nlp(docText)\n",
    "        wordList = [w for w in nlpdoc.iter_words() if w.text.isalpha() and w.text.lower() not in engStopwords]\n",
    "        for windowIdx in range(len(wordList) // n + len(wordList) % n):\n",
    "            startIdx = windowIdx\n",
    "            endIdx = windowIdx+random.choice(list(range(1,n+1)))\n",
    "            wordWindow = wordList[startIdx:endIdx]\n",
    "            tokens = []\n",
    "            for wordToken in wordWindow:\n",
    "                formattedToken = wordToken.lemma.lower()\n",
    "                if formattedToken in engStopwords:\n",
    "                    continue\n",
    "                tokens.append(formattedToken)\n",
    "            windowList.append(tokens)\n",
    "        for t1 in [w.lemma.lower() for w in wordList]:\n",
    "            keywordCounter.setdefault(t1, 0)\n",
    "            keywordCounter[t1] += 1\n",
    "    print('\\tdone nlping docs')\n",
    "    sufficientNodes = set()\n",
    "    for key in keywordCounter:\n",
    "        if keywordCounter[key] >= thresh:\n",
    "            sufficientNodes.add(key)\n",
    "    print('\\tfound sufficient recs')\n",
    "    for tokens in windowList:\n",
    "        s = set(tokens)\n",
    "        subsets = [tuple(i) for i in itertools.combinations(s, 2)]\n",
    "        for t1, t2 in subsets:\n",
    "            if t1 != t2 and t1 in sufficientNodes and t2 in sufficientNodes:\n",
    "                label = '_'.join(sorted([t1, t2]))\n",
    "                linkCounter.setdefault(label, 0)\n",
    "                linkCounter[label] += 1\n",
    "    print('\\tgot linked tokens')\n",
    "    node2id = dict()\n",
    "    for i, node in enumerate(sufficientNodes):\n",
    "        networkJson['nodes'].append({\n",
    "            'id' : node,\n",
    "            'occurrences' : keywordCounter[node]\n",
    "        })\n",
    "        node2id[node] = i\n",
    "\n",
    "    for label in linkCounter:\n",
    "        source, target = label.split('_')\n",
    "        networkJson['links'].append({\n",
    "            'source' : node2id[source],\n",
    "            'target' : node2id[target],\n",
    "            'value' : linkCounter[label]\n",
    "        })\n",
    "    \n",
    "    jsonDict[cat] = networkJson\n",
    "    \n",
    "    with open(f'data/{cat}ngramNet{n}.json', 'w', encoding ='ascii') as json_file:\n",
    "        json.dump(networkJson, json_file, ensure_ascii = True)\n",
    "    print('\\twrote json')"
   ]
  },
  {
   "cell_type": "code",
   "execution_count": 38,
   "id": "f90f006f-d87f-4fb6-9c9d-476b3f53e573",
   "metadata": {},
   "outputs": [],
   "source": [
    "# with open(f'data/russianngramNet.json', 'w', encoding ='ascii') as json_file:\n",
    "#         json.dump(jsonDict['russian'], json_file, ensure_ascii = True)"
   ]
  },
  {
   "cell_type": "markdown",
   "id": "a31ed7c6-792a-4ebd-a0d0-63db1c4fc588",
   "metadata": {
    "tags": []
   },
   "source": [
    "### Running network analysis"
   ]
  },
  {
   "cell_type": "code",
   "execution_count": 3,
   "id": "5557aaad-ad44-42f2-960b-08ffa9dad23f",
   "metadata": {},
   "outputs": [],
   "source": [
    "with open(f'visualizations/ngramsNetwork/russianngramNet4.json', 'r', encoding ='ascii') as f:\n",
    "    network = json.loads(f.read())"
   ]
  },
  {
   "cell_type": "code",
   "execution_count": 12,
   "id": "f7bcee4d-46c2-45a4-83b4-830b95809a73",
   "metadata": {},
   "outputs": [],
   "source": [
    "id2node = dict()\n",
    "for i, n in enumerate(network['nodes']):\n",
    "    id2node[i] = n['id']"
   ]
  },
  {
   "cell_type": "code",
   "execution_count": 15,
   "id": "b86d3a14-a80d-42de-82f5-2ca5078649a4",
   "metadata": {},
   "outputs": [
    {
     "data": {
      "text/plain": [
       "107193"
      ]
     },
     "execution_count": 15,
     "metadata": {},
     "output_type": "execute_result"
    }
   ],
   "source": [
    "len(network['links'])"
   ]
  },
  {
   "cell_type": "code",
   "execution_count": 21,
   "id": "8b0db6a3-8575-4d0e-aeda-18abd767eac3",
   "metadata": {},
   "outputs": [
    {
     "name": "stdout",
     "output_type": "stream",
     "text": [
      "['deny', 'moscow'] {'source': 3203, 'target': 1084, 'value': 91}\n",
      "['deny', 'repeatedly'] {'source': 3203, 'target': 2094, 'value': 136}\n",
      "['deny', 'russia'] {'source': 3203, 'target': 454, 'value': 36}\n",
      "['accusation', 'deny'] {'source': 1725, 'target': 3203, 'value': 104}\n",
      "['deny', 'say'] {'source': 3203, 'target': 397, 'value': 19}\n",
      "['claim', 'deny'] {'source': 4305, 'target': 3203, 'value': 31}\n",
      "['allegation', 'deny'] {'source': 1587, 'target': 3203, 'value': 60}\n",
      "['deny', 'plan'] {'source': 3203, 'target': 4532, 'value': 31}\n",
      "['deny', 'invade'] {'source': 3203, 'target': 4233, 'value': 17}\n",
      "['deny', 'point'] {'source': 3203, 'target': 1929, 'value': 31}\n",
      "['deny', 'intention'] {'source': 3203, 'target': 2162, 'value': 20}\n"
     ]
    }
   ],
   "source": [
    "for i, l in enumerate(network['links']):\n",
    "    s = l['source']\n",
    "    t = l['target']\n",
    "    v = l['value']\n",
    "    if 'deny' in [id2node[s],id2node[t]] and v > 10:\n",
    "        print([id2node[s],id2node[t]], l)"
   ]
  },
  {
   "cell_type": "code",
   "execution_count": 14,
   "id": "5cc3a41b-4eaa-4842-b4c0-f8be2cf0de3a",
   "metadata": {},
   "outputs": [
    {
     "data": {
      "text/plain": [
       "('agreement', 'vladimir')"
      ]
     },
     "execution_count": 14,
     "metadata": {},
     "output_type": "execute_result"
    }
   ],
   "source": [
    "id2node[2219], id2node[2904]"
   ]
  },
  {
   "cell_type": "code",
   "execution_count": 8,
   "id": "54414a89-848a-4366-8b21-5f862dac0e7c",
   "metadata": {},
   "outputs": [
    {
     "data": {
      "text/plain": [
       "{'id': 'intent', 'occurrences': 17}"
      ]
     },
     "execution_count": 8,
     "metadata": {},
     "output_type": "execute_result"
    }
   ],
   "source": [
    "random.choice(network['nodes'])"
   ]
  },
  {
   "cell_type": "code",
   "execution_count": 9,
   "id": "642a8c38-93f3-44b5-ae81-7f7d32de200a",
   "metadata": {},
   "outputs": [
    {
     "data": {
      "text/plain": [
       "{'source': 2219, 'target': 2904, 'value': 2}"
      ]
     },
     "execution_count": 9,
     "metadata": {},
     "output_type": "execute_result"
    }
   ],
   "source": [
    "random.choice(network['links'])"
   ]
  },
  {
   "cell_type": "code",
   "execution_count": null,
   "id": "bd5bdc86-42b3-47dc-8ce0-af54e4a06e5f",
   "metadata": {},
   "outputs": [],
   "source": []
  }
 ],
 "metadata": {
  "kernelspec": {
   "display_name": "Python 3 (ipykernel)",
   "language": "python",
   "name": "python3"
  },
  "language_info": {
   "codemirror_mode": {
    "name": "ipython",
    "version": 3
   },
   "file_extension": ".py",
   "mimetype": "text/x-python",
   "name": "python",
   "nbconvert_exporter": "python",
   "pygments_lexer": "ipython3",
   "version": "3.9.7"
  }
 },
 "nbformat": 4,
 "nbformat_minor": 5
}
