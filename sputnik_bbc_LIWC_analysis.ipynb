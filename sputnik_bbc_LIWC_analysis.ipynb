{
 "cells": [
  {
   "cell_type": "code",
   "execution_count": 179,
   "id": "dabcd43d-e59e-48e0-a279-7abd5d8de0b3",
   "metadata": {},
   "outputs": [],
   "source": [
    "import random\n",
    "import numpy as np\n",
    "import pandas as pd\n",
    "import time\n",
    "import re\n",
    "import datetime\n",
    "import os\n",
    "import matplotlib.pyplot as plt\n",
    "import scipy\n",
    "from scipy import stats"
   ]
  },
  {
   "cell_type": "code",
   "execution_count": 214,
   "id": "02578d49-67be-4d31-8571-f37eba311387",
   "metadata": {},
   "outputs": [],
   "source": [
    "def f(p,n=4):\n",
    "    return '{0:.{1}f}'.format(p, n)"
   ]
  },
  {
   "cell_type": "code",
   "execution_count": 38,
   "id": "1cbc09c3-1547-49ab-80e4-0a3ba27026ca",
   "metadata": {},
   "outputs": [],
   "source": [
    "dfbbc = pd.read_csv(f'LIWCresults/LIWC-22 Results - BBC_BUCHA_07-13-2022 - LIWC Analysis.csv', index_col=0)  \n",
    "dfsputnik = pd.read_csv(f'LIWCresults/LIWC-22 Results - Sputnik_BUCHA_07-13-2022 - LIWC Analysis.csv', index_col=0)  "
   ]
  },
  {
   "cell_type": "code",
   "execution_count": 296,
   "id": "e211fb3e-5157-4b2c-8ef6-d23df0eb863e",
   "metadata": {},
   "outputs": [
    {
     "name": "stdout",
     "output_type": "stream",
     "text": [
      "37148 chars in BBC Bucha dataset\n",
      "43901 chars in Sputnik Bucha dataset\n",
      "3377.090909090909 average chars in BBC Bucha dataset\n",
      "3991.0 average chars in Sputnik Bucha dataset\n"
     ]
    }
   ],
   "source": [
    "bbcchars = [len(text) for text in dfbbc['text']]\n",
    "sputnikchars = [len(text) for text in dfsputnik['text']]\n",
    "print(sum(bbcchars),'chars in BBC Bucha dataset')\n",
    "print(sum(sputnikchars),'chars in Sputnik Bucha dataset')\n",
    "\n",
    "print(sum(bbcchars)/len(bbcchars),'average chars in BBC Bucha dataset')\n",
    "print(sum(sputnikchars)/len(sputnikchars),'average chars in Sputnik Bucha dataset')"
   ]
  },
  {
   "cell_type": "markdown",
   "id": "e417e60b-7569-40ec-8208-5ee853a9ca58",
   "metadata": {},
   "source": [
    "## BBC/Sputnik stats\n",
    "- 11 articles from each outlet, every article containing Bucha in title or text\n",
    "- 37,148 chars in BBC Bucha dataset (average 3,377)\n",
    "- 43,901 chars in Sputnik Bucha dataset (average 3,991)"
   ]
  },
  {
   "cell_type": "markdown",
   "id": "38668541-ceff-4565-9aa7-918514970829",
   "metadata": {},
   "source": [
    "## Stats on LIWC"
   ]
  },
  {
   "cell_type": "code",
   "execution_count": 119,
   "id": "88f10930-4a22-4c39-a4c1-b6c083af142f",
   "metadata": {},
   "outputs": [],
   "source": [
    "LIWCcolumns = list(dfsputnik.columns[8:])"
   ]
  },
  {
   "cell_type": "markdown",
   "id": "148cbc69-56bf-48b1-b96e-bacb35896f58",
   "metadata": {},
   "source": [
    "### independent t-test"
   ]
  },
  {
   "cell_type": "markdown",
   "id": "5fefca90-c660-4d33-9c80-5393e33a03d2",
   "metadata": {},
   "source": [
    "The indepentent T-test is a parametric test used to test for a statistically significant difference in the means between 2 groups."
   ]
  },
  {
   "cell_type": "code",
   "execution_count": 280,
   "id": "e097f8b0-70ae-4310-bcba-f76212c7ca20",
   "metadata": {},
   "outputs": [],
   "source": [
    "allCoeffs = []\n",
    "for category in LIWCcolumns:\n",
    "    bbca = np.array(dfbbc[category])\n",
    "    sputnika = np.array(dfsputnik[category])\n",
    "    coeff = scipy.stats.ttest_ind(bbca, sputnika, axis=0)\n",
    "    allCoeffs.append({\n",
    "        'cat': category,\n",
    "        'bbcAvg' : dfbbc[category].mean(),\n",
    "        'sputnikAvg': dfsputnik[category].mean(),\n",
    "        'bbcArray' : bbca,\n",
    "        'sputnikArray' : sputnika,\n",
    "        't_statistic': coeff.statistic,\n",
    "        'pvalue' : coeff.pvalue\n",
    "    })"
   ]
  },
  {
   "cell_type": "code",
   "execution_count": 248,
   "id": "c251c8fc-32a9-49c6-a402-90608d3d3721",
   "metadata": {},
   "outputs": [],
   "source": [
    "df = pd.DataFrame.from_records(allCoeffs)\n",
    "df.to_excel('sputnik_bbc_preanalysis.xlsx')"
   ]
  },
  {
   "cell_type": "markdown",
   "id": "3e1935c7-59a5-485c-975b-bdf6330a0c48",
   "metadata": {},
   "source": [
    "#### Statistically significant LWC Categories"
   ]
  },
  {
   "cell_type": "code",
   "execution_count": 246,
   "id": "9a907f0c-6db2-4cc8-a9ae-a056263ce557",
   "metadata": {},
   "outputs": [
    {
     "name": "stdout",
     "output_type": "stream",
     "text": [
      "Most significant (<= .005): ['WPS', 'BigWords', 'auxverb', 'verb', 'quantity', 'socrefs', 'male', 'Culture', 'politic', 'Physical', 'focuspast', 'Period']\n",
      "\n",
      "Significant (<= .05): ['Analytic', 'Clout', 'Dic', 'Linguistic', 'pronoun', 'ppron', 'shehe', 'article', 'prep', 'tentat', 'differ', 'Social', 'home', 'death', 'reward', 'motion', 'visual', 'Comma']\n",
      "\n"
     ]
    }
   ],
   "source": [
    "mostsig = []\n",
    "for c in allCoeffs:\n",
    "    if c['pvalue'] <= .005:\n",
    "        mostsig.append(c['cat'])\n",
    "print('Most significant (<= .005):', mostsig)\n",
    "\n",
    "sig = []\n",
    "for c in allCoeffs:\n",
    "    if c['pvalue'] > .005 and c['pvalue'] <= .05:\n",
    "        sig.append(c['cat'])\n",
    "print('\\nSignificant (<= .05):', sig)\n",
    "print()"
   ]
  },
  {
   "cell_type": "markdown",
   "id": "4305488b-7a13-46d9-b9f1-b1848b9f91f0",
   "metadata": {},
   "source": [
    "#### Printing news outlet averages of significant LIWC categories"
   ]
  },
  {
   "cell_type": "code",
   "execution_count": 247,
   "id": "0bd65398-023b-4651-af03-04fa631a2ba3",
   "metadata": {},
   "outputs": [
    {
     "name": "stdout",
     "output_type": "stream",
     "text": [
      "MOST SIGNIFICANT\n",
      "\tWPS (t-statistic: -5.9262308656569, p-value: 8.519590191218455e-06):\n",
      "\t\tAverages: BBC: 19.8345\tSputnik: 27.5255\n",
      "\n",
      "\tBigWords (t-statistic: -5.558932635602999, p-value: 1.9289863297549646e-05):\n",
      "\t\tAverages: BBC: 25.6455\tSputnik: 32.6755\n",
      "\n",
      "\tauxverb (t-statistic: 3.3833152777556443, p-value: 0.0029527688862996822):\n",
      "\t\tAverages: BBC: 7.6536\tSputnik: 4.4718\n",
      "\n",
      "\tverb (t-statistic: 4.10580598801902, p-value: 0.0005493144425936519):\n",
      "\t\tAverages: BBC: 14.7809\tSputnik: 9.2773\n",
      "\n",
      "\tquantity (t-statistic: 3.3813128025212107, p-value: 0.0029664248532812686):\n",
      "\t\tAverages: BBC: 3.9127\tSputnik: 2.2518\n",
      "\n",
      "\tsocrefs (t-statistic: 3.7238175925217027, p-value: 0.001340731761145559):\n",
      "\t\tAverages: BBC: 7.8100\tSputnik: 4.3609\n",
      "\n",
      "\tmale (t-statistic: 3.672683037206621, p-value: 0.0015102751903958787):\n",
      "\t\tAverages: BBC: 1.6200\tSputnik: 0.4691\n",
      "\n",
      "\tCulture (t-statistic: -4.80200319035267, p-value: 0.00010850272592156059):\n",
      "\t\tAverages: BBC: 4.1209\tSputnik: 7.5382\n",
      "\n",
      "\tpolitic (t-statistic: -5.962067452637259, p-value: 7.8732678894392e-06):\n",
      "\t\tAverages: BBC: 1.8400\tSputnik: 5.2709\n",
      "\n",
      "\tPhysical (t-statistic: 3.1619319542293294, p-value: 0.004903835437797467):\n",
      "\t\tAverages: BBC: 2.4636\tSputnik: 0.8164\n",
      "\n",
      "\tfocuspast (t-statistic: 3.7117097570507718, p-value: 0.0013790890488887119):\n",
      "\t\tAverages: BBC: 6.3609\tSputnik: 3.7718\n",
      "\n",
      "\tPeriod (t-statistic: 4.620701592249282, p-value: 0.00016520117210241096):\n",
      "\t\tAverages: BBC: 5.2718\tSputnik: 3.9027\n",
      "\n",
      "SIGNIFICANT\n",
      "\tAnalytic (t-statistic: -2.5644629476545737, p-value: 0.018492190163982195):\n",
      "\t\tAverages: BBC: 83.8609\tSputnik: 96.8845\n",
      "\n",
      "\tClout (t-statistic: 2.2044706743931957, p-value: 0.03936817293304885):\n",
      "\t\tAverages: BBC: 67.0609\tSputnik: 54.8673\n",
      "\n",
      "\tDic (t-statistic: 2.672102673593227, p-value: 0.01464391294350345):\n",
      "\t\tAverages: BBC: 82.0918\tSputnik: 77.6436\n",
      "\n",
      "\tLinguistic (t-statistic: 2.980424666640224, p-value: 0.007394405152802743):\n",
      "\t\tAverages: BBC: 59.7945\tSputnik: 54.1582\n",
      "\n",
      "\tpronoun (t-statistic: 2.7719039597459134, p-value: 0.011764817791550386):\n",
      "\t\tAverages: BBC: 7.7509\tSputnik: 4.9564\n",
      "\n",
      "\tppron (t-statistic: 3.0302320620399583, p-value: 0.006609866287855989):\n",
      "\t\tAverages: BBC: 4.4082\tSputnik: 1.8309\n",
      "\n",
      "\tshehe (t-statistic: 2.488329925591974, p-value: 0.02176887154964858):\n",
      "\t\tAverages: BBC: 1.2809\tSputnik: 0.4009\n",
      "\n",
      "\tarticle (t-statistic: -2.3304913771186526, p-value: 0.03036166234746034):\n",
      "\t\tAverages: BBC: 8.2709\tSputnik: 9.9055\n",
      "\n",
      "\tprep (t-statistic: -2.5852296585432892, p-value: 0.01768242953493657):\n",
      "\t\tAverages: BBC: 14.8445\tSputnik: 16.7036\n",
      "\n",
      "\ttentat (t-statistic: 2.1202522917191713, p-value: 0.04668382048382572):\n",
      "\t\tAverages: BBC: 2.0264\tSputnik: 0.8591\n",
      "\n",
      "\tdiffer (t-statistic: 2.644041247365191, p-value: 0.015566805057580436):\n",
      "\t\tAverages: BBC: 3.1000\tSputnik: 1.8982\n",
      "\n",
      "\tSocial (t-statistic: 2.809479204797185, p-value: 0.010827599720381156):\n",
      "\t\tAverages: BBC: 13.9191\tSputnik: 10.3782\n",
      "\n",
      "\thome (t-statistic: 2.2147921827484924, p-value: 0.038547451743904275):\n",
      "\t\tAverages: BBC: 0.4218\tSputnik: 0.0418\n",
      "\n",
      "\tdeath (t-statistic: 2.2042085112053313, p-value: 0.03938922531286214):\n",
      "\t\tAverages: BBC: 1.3891\tSputnik: 0.3682\n",
      "\n",
      "\treward (t-statistic: -2.646011528916879, p-value: 0.015500249328532561):\n",
      "\t\tAverages: BBC: 0.0473\tSputnik: 0.1736\n",
      "\n",
      "\tmotion (t-statistic: 2.8310674947367875, p-value: 0.010321856733983574):\n",
      "\t\tAverages: BBC: 1.8900\tSputnik: 0.9464\n",
      "\n",
      "\tvisual (t-statistic: 2.2520203267574876, p-value: 0.03571556388763165):\n",
      "\t\tAverages: BBC: 0.8673\tSputnik: 0.4164\n",
      "\n",
      "\tComma (t-statistic: -2.137747511249902, p-value: 0.04506965415907477):\n",
      "\t\tAverages: BBC: 4.4064\tSputnik: 5.6255\n",
      "\n"
     ]
    }
   ],
   "source": [
    "# Average comparisons\n",
    "print('Most significant'.upper())\n",
    "for c in allCoeffs:\n",
    "    if c['pvalue'] <= .005:\n",
    "        print(f\"\\t{c['cat']} (t-statistic: {c['t_statistic']}, p-value: {c['pvalue']}):\")\n",
    "        print(f\"\\t\\tAverages: BBC: {f(dfbbc[c['cat']].mean())}\\tSputnik: {f(dfsputnik[c['cat']].mean())}\\n\")\n",
    "print('Significant'.upper())\n",
    "for c in allCoeffs:\n",
    "    if c['pvalue'] > .005 and c['pvalue'] <= .05:\n",
    "        print(f\"\\t{c['cat']} (t-statistic: {c['t_statistic']}, p-value: {c['pvalue']}):\")\n",
    "        print(f\"\\t\\tAverages: BBC: {f(dfbbc[c['cat']].mean())}\\tSputnik: {f(dfsputnik[c['cat']].mean())}\\n\")"
   ]
  },
  {
   "cell_type": "code",
   "execution_count": 237,
   "id": "97b7db3a-2984-4282-a363-6362758de892",
   "metadata": {},
   "outputs": [
    {
     "name": "stdout",
     "output_type": "stream",
     "text": [
      "RANDOM BBC ARTICLE:\n",
      "\t Ukraine refugees face frustrating visa wait A family hoping to house three generations of Ukraine refugees say they are racing against time to get visas. Sarah O'Brien, from Denbighshire, wants to help eight of the Palirua family. They have fled Bucha, where scores of atrocities by Russian soldiers against civilians have been uncovered. The family, which includes grandparents, two of their daughters and four children, escaped to Poland and have been staying in Warsaw. Mrs O'Brien, from Llangollen, said they had approached friends in Ukraine offering to help those fleeing the invasion, when the Homes for Ukraine scheme was launched by the UK government on 14 March. They were then put in touch with the Palirua family. But after three weeks and hours working on applications, only five of the family have received their visa papers to come to Wales. Mrs O'Brien said the Ukraine family have been told they must leave their current accommodation in Warsaw by Sunday, and need urgent help getting permission to come to Britain. \"It was a five-hour process to fill in the eight visas, but it will be three weeks this coming Friday and we are still outstanding three of the visas,\" said Mrs O'Brien. \"In fact, one of the visas has been issued twice, so that's how the system isn't working.\" Mrs O'Brien dubbed the situation \"desperate\". The Ukraine family include husband and wife Volodymyr, 75, and Lidiia Paliura, 68, and there two adult daughters, Tetiana and Nataliia. Their daughters have four children with them - Hlib, Andrii, Anastasiia, and Kateryna - who are between six and 15. \"They want to stay together, but if they are moving out of this accommodation (in Warsaw), they are uncertain what other accommodation they will have,\" Mrs O'Brien said. The O'Brien family have offered the refugees a cottage next to their own home, and additional bedrooms in their own house too. \"The situation is so desperate over there. They are from Bucha, their home town has been destroyed,\" said Mrs O'Brien. \"When you see the news, it's just so horrific. \"As soon as we realised we could host them, we wanted to help.\" Mrs O'Brien said they were \"pushing hard\" to get the visas issued, and were being supported by the Clwyd South MP Simon Baynes. A UK government spokesman said: \"We acknowledge progress approving visas has not been good enough. \"The Home Office has made changes to visa processing - the application form has been streamlined, Ukrainian passport holders can now apply online and do their biometrics checks once in the UK, and greater resource has gone into the system. \"This is allowing us to welcome people faster, while still maintaining security checks which ensure those who could pose a threat to our safety are prevented from getting here and human trafficking is addressed.\"\n"
     ]
    }
   ],
   "source": [
    "print('RANDOM BBC ARTICLE:')\n",
    "print('\\t',random.choice(dfbbc['text']))"
   ]
  },
  {
   "cell_type": "code",
   "execution_count": 281,
   "id": "25e1e58a-30f6-430e-994e-756d8defed46",
   "metadata": {},
   "outputs": [
    {
     "name": "stdout",
     "output_type": "stream",
     "text": [
      "RANDOM SPUTNIK ARTICLE:\n",
      "\t NATO allies will discuss increasing arms deliveries to Ukraine when the bloc's ministers of foreign affairs meet on 6 and 7 April, NATO secretary-general Jens Stoltenberg told the press on Tuesday. Does this mean the alliance is determined to fuel the conflict to the last Ukrainian? \"Everything about NATO is hypocritical,\" says Bruce Gagnon, coordinator of the Global Network Against Weapons and Nuclear Power in Space. \"They declare they are a 'peace alliance' yet their history is nothing but war. Yugoslavia, Iraq, Afghanistan, Libya, Syria and now Ukraine all reveal that NATO is in fact the pirate forces of corporate globalisation. NATO's job is to force submission to western corporate demands.\" NATO's Foreign Ministers meeting in Brussels this week will be focused on the Russian special operation launched on 24 February to demilitarise and de-Nazify Ukraine. According to the alliance's official website, the summit will be joined by foreign ministers from Ukraine, Finland, Sweden, Georgia, and the European Union, and by NATO’s Asia-Pacific partners - Australia, Japan, New Zealand and the Republic of Korea. Speaking to journalists on Tuesday, the secretary-general stated: \"Allies are determined to provide further support to Ukraine, including anti-tank weapons, air-defence systems and other equipment.\" Stoltenberg also mentioned Kiev's Bucha provocation: \"We have all seen the horrific images of murdered civilians in Bucha and other places, controlled by the Russian military until a few days ago,\" he said, adding that \"all the facts must be established.\" Previously, the Russian Defence Ministry debunked Kiev and mainstream media's \"Bucha massacre\" narrative showing that the incident was nothing but a gruesome false flag operation by the Ukrainian military and nationalists. According to international observers, the Bucha provocation could be aimed at increasing weaponry supplies to Ukraine, torpedo the ongoing negotiations between Moscow and Kiev and prolong the conflict. Immediately after the incident, Poland's President Andrzej Duda called for more weapons to be sent to Ukraine. For her part, British Foreign Secretary, Liz Truss, tweeted on 4 April: \"We need to be tougher on Russia to ensure [Vladimir] Putin loses in Ukraine which means more weapons and more sanctions.\" The calls for increasing arms supplies are being made under the guise of \"protecting democracy\" in Ukraine. \"True democracy and expanding conflict do not match,\" says Gagnon. \"They are opposites. This war in Ukraine would never have happened had US-NATO been willing to negotiate seriously with Russia's fair and sensible demands to stop NATO expansion, end the war games on Russia's doorstep, close down the new US missile launch bases in Romania and Poland [a Cuban missile crisis in reverse] and put in writing real security guarantees for Russia. But NATO was not interested in true security for anyone - except the US-NATO weapons industry that stands to make big profits from this war.\" In mid-December 2021, Russia handed over draft security agreements which requested legal guarantees of NATO's non-expansion eastward and non-admission of Ukraine to the transatlantic alliance, among other matters. However, the US, the EU and NATO rejected core security provisions of the Russian drafts. What NATO does want is a protracted war, according to Gagnon: \"NATO intends to create a 'festering sore' in Ukraine right along Russia's border,\" he says. \"I'd not be at all surprised to see Poland sent into the war as well to help ensure this war widens.\" The transatlantic alliance has a clear motive for bolstering bellicose sentiment within its ranks, according to the expert. NATO and its powerful defence contractors are benefiting from continued arms shipments to Ukraine, he notes. At the same time, \"the agenda of demonising Moscow and stoking up instability along Russia's borders is clearly a key NATO goal,\" Gagnon stresses. \"These are all signs of a desperate western corporate system that is steadily losing economic and military domination of the planet,\" the expert says. \"These corporate interests have made the determination that they must try to disrupt and take down Russia and China's flourishing agenda to create a multi-polar world that is outside the current Wall Street and Bank of England control.\" Gagnon believes that the Russo-Ukrainian conflict is, in reality, a conflict between Russia and NATO, with the latter brazenly using Ukraine \"as a tool to take the heat and suffer the damage and losses.\" \"This cynical ploy by the 'western alliance' reveals its deep hatred of true democracy and despite its howling concern about lost Ukrainian lives, in fact US-NATO does not for a minute care about any of the lives being lost on either side of this sad conflict,\" Gagnon says. \"The US-NATO only wants power and control and is willing to burn any nation to the ground that stands in its way. We've witnessed this NATO 'modus operandi' repeatedly put into operation in recent years.\"\n"
     ]
    }
   ],
   "source": [
    "print('RANDOM SPUTNIK ARTICLE:')\n",
    "print('\\t',random.choice(dfsputnik['text']))"
   ]
  },
  {
   "cell_type": "code",
   "execution_count": null,
   "id": "d9737c0a-0f4a-4255-ae17-326ad126c0de",
   "metadata": {},
   "outputs": [],
   "source": []
  }
 ],
 "metadata": {
  "kernelspec": {
   "display_name": "Python 3 (ipykernel)",
   "language": "python",
   "name": "python3"
  },
  "language_info": {
   "codemirror_mode": {
    "name": "ipython",
    "version": 3
   },
   "file_extension": ".py",
   "mimetype": "text/x-python",
   "name": "python",
   "nbconvert_exporter": "python",
   "pygments_lexer": "ipython3",
   "version": "3.9.7"
  }
 },
 "nbformat": 4,
 "nbformat_minor": 5
}
