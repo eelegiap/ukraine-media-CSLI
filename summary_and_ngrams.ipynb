{
 "cells": [
  {
   "cell_type": "code",
   "execution_count": 1,
   "id": "4664fa47-af03-4983-acf4-0f6721b1fd04",
   "metadata": {},
   "outputs": [],
   "source": [
    "import random\n",
    "import numpy as np\n",
    "import pandas as pd\n",
    "import time\n",
    "import re\n",
    "import datetime\n",
    "import os\n",
    "import matplotlib.pyplot as plt\n",
    "import gensim"
   ]
  },
  {
   "cell_type": "code",
   "execution_count": 2,
   "id": "bf42da2f-7235-4c31-95d6-4e316d84624d",
   "metadata": {},
   "outputs": [],
   "source": [
    "import nltk\n",
    "from nltk.tokenize import sent_tokenize"
   ]
  },
  {
   "cell_type": "code",
   "execution_count": 3,
   "id": "b696f6a4-1545-42fd-b9d9-9f01749b3d23",
   "metadata": {
    "collapsed": true,
    "jupyter": {
     "outputs_hidden": true,
     "source_hidden": true
    },
    "tags": []
   },
   "outputs": [
    {
     "name": "stdout",
     "output_type": "stream",
     "text": [
      "3379\n"
     ]
    },
    {
     "data": {
      "text/html": [
       "<div>\n",
       "<style scoped>\n",
       "    .dataframe tbody tr th:only-of-type {\n",
       "        vertical-align: middle;\n",
       "    }\n",
       "\n",
       "    .dataframe tbody tr th {\n",
       "        vertical-align: top;\n",
       "    }\n",
       "\n",
       "    .dataframe thead th {\n",
       "        text-align: right;\n",
       "    }\n",
       "</style>\n",
       "<table border=\"1\" class=\"dataframe\">\n",
       "  <thead>\n",
       "    <tr style=\"text-align: right;\">\n",
       "      <th></th>\n",
       "      <th>index</th>\n",
       "      <th>newsOutlet</th>\n",
       "      <th>dateSeen</th>\n",
       "      <th>url</th>\n",
       "      <th>title</th>\n",
       "      <th>language</th>\n",
       "      <th>sourceCountry</th>\n",
       "      <th>text</th>\n",
       "      <th>category</th>\n",
       "      <th>textCharCt</th>\n",
       "    </tr>\n",
       "  </thead>\n",
       "  <tbody>\n",
       "    <tr>\n",
       "      <th>0</th>\n",
       "      <td>0</td>\n",
       "      <td>apnews.com</td>\n",
       "      <td>2021-10-12 07:00:00</td>\n",
       "      <td>https://apnews.com/article/technology-business...</td>\n",
       "      <td>EU , Ukraine to discuss military training and ...</td>\n",
       "      <td>English</td>\n",
       "      <td>United States</td>\n",
       "      <td>BRUSSELS (AP) — The European Union is consider...</td>\n",
       "      <td>western</td>\n",
       "      <td>3318</td>\n",
       "    </tr>\n",
       "    <tr>\n",
       "      <th>1</th>\n",
       "      <td>1</td>\n",
       "      <td>apnews.com</td>\n",
       "      <td>2021-10-12 07:00:00</td>\n",
       "      <td>https://apnews.com/cdfd9b277f6bade5697e0427429...</td>\n",
       "      <td>Blinken reaffirms US support for Ukraine amid ...</td>\n",
       "      <td>English</td>\n",
       "      <td>United States</td>\n",
       "      <td>KYIV, Ukraine (AP) — U.S. Secretary of State A...</td>\n",
       "      <td>western</td>\n",
       "      <td>6032</td>\n",
       "    </tr>\n",
       "    <tr>\n",
       "      <th>2</th>\n",
       "      <td>2</td>\n",
       "      <td>apnews.com</td>\n",
       "      <td>2021-10-11 07:00:00</td>\n",
       "      <td>https://apnews.com/90b50e622cefcbaeba96cb5e716...</td>\n",
       "      <td>EU , Ukraine to discuss military training and ...</td>\n",
       "      <td>English</td>\n",
       "      <td>United States</td>\n",
       "      <td>BRUSSELS (AP) — The European Union is consider...</td>\n",
       "      <td>western</td>\n",
       "      <td>3318</td>\n",
       "    </tr>\n",
       "    <tr>\n",
       "      <th>3</th>\n",
       "      <td>3</td>\n",
       "      <td>apnews.com</td>\n",
       "      <td>2021-10-06 07:00:00</td>\n",
       "      <td>https://apnews.com/0b689a7baaac58603e4d7453aa5...</td>\n",
       "      <td>Ukraine Holocaust center names Nazi Babi Yar k...</td>\n",
       "      <td>English</td>\n",
       "      <td>United States</td>\n",
       "      <td>KYIV, Ukraine (AP) — The presidents of Ukraine...</td>\n",
       "      <td>western</td>\n",
       "      <td>3646</td>\n",
       "    </tr>\n",
       "    <tr>\n",
       "      <th>4</th>\n",
       "      <td>4</td>\n",
       "      <td>apnews.com</td>\n",
       "      <td>2021-10-13 07:00:00</td>\n",
       "      <td>https://apnews.com/89d2455274aad5fe166445a5f82...</td>\n",
       "      <td>Ukraine separatist areas overwhelmed by soarin...</td>\n",
       "      <td>English</td>\n",
       "      <td>United States</td>\n",
       "      <td>KYIV, Ukraine (AP) — The Russia-backed separat...</td>\n",
       "      <td>western</td>\n",
       "      <td>2184</td>\n",
       "    </tr>\n",
       "  </tbody>\n",
       "</table>\n",
       "</div>"
      ],
      "text/plain": [
       "   index  newsOutlet            dateSeen  \\\n",
       "0      0  apnews.com 2021-10-12 07:00:00   \n",
       "1      1  apnews.com 2021-10-12 07:00:00   \n",
       "2      2  apnews.com 2021-10-11 07:00:00   \n",
       "3      3  apnews.com 2021-10-06 07:00:00   \n",
       "4      4  apnews.com 2021-10-13 07:00:00   \n",
       "\n",
       "                                                 url  \\\n",
       "0  https://apnews.com/article/technology-business...   \n",
       "1  https://apnews.com/cdfd9b277f6bade5697e0427429...   \n",
       "2  https://apnews.com/90b50e622cefcbaeba96cb5e716...   \n",
       "3  https://apnews.com/0b689a7baaac58603e4d7453aa5...   \n",
       "4  https://apnews.com/89d2455274aad5fe166445a5f82...   \n",
       "\n",
       "                                               title language  sourceCountry  \\\n",
       "0  EU , Ukraine to discuss military training and ...  English  United States   \n",
       "1  Blinken reaffirms US support for Ukraine amid ...  English  United States   \n",
       "2  EU , Ukraine to discuss military training and ...  English  United States   \n",
       "3  Ukraine Holocaust center names Nazi Babi Yar k...  English  United States   \n",
       "4  Ukraine separatist areas overwhelmed by soarin...  English  United States   \n",
       "\n",
       "                                                text category  textCharCt  \n",
       "0  BRUSSELS (AP) — The European Union is consider...  western        3318  \n",
       "1  KYIV, Ukraine (AP) — U.S. Secretary of State A...  western        6032  \n",
       "2  BRUSSELS (AP) — The European Union is consider...  western        3318  \n",
       "3  KYIV, Ukraine (AP) — The presidents of Ukraine...  western        3646  \n",
       "4  KYIV, Ukraine (AP) — The Russia-backed separat...  western        2184  "
      ]
     },
     "execution_count": 3,
     "metadata": {},
     "output_type": "execute_result"
    }
   ],
   "source": [
    "df = pd.read_excel('data/Jul21_3379_articles.xlsx',index_col=0)\n",
    "df = df.reset_index()\n",
    "print(len(df))\n",
    "df.head()"
   ]
  },
  {
   "cell_type": "code",
   "execution_count": 4,
   "id": "f51b07c6-f361-4ace-a919-2daa50f80af5",
   "metadata": {
    "jupyter": {
     "source_hidden": true
    },
    "tags": []
   },
   "outputs": [],
   "source": [
    "# df = df[df['newsOutlet'] != 'bbc.co.uk']/"
   ]
  },
  {
   "cell_type": "code",
   "execution_count": 5,
   "id": "fc769b09-ece4-4467-997f-36f2c4a9525e",
   "metadata": {
    "jupyter": {
     "source_hidden": true
    },
    "tags": []
   },
   "outputs": [],
   "source": [
    "# process texts\n",
    "def tm_tokenize(txt):\n",
    "    word_corrections = [\n",
    "    ('said',''),\n",
    "    ('Reuters',''),\n",
    "    ('REUTERS',''),\n",
    "    ('Thomson',''),\n",
    "    ('AP', ''),\n",
    "    ('Sputnik',''),\n",
    "    ('TASS',''),\n",
    "    ('BBC',''),\n",
    "    ('Kiev ','Kyiv '),\n",
    "    ('Lugansk','Luhansk'),\n",
    "    ('Donbas','Donbass'),\n",
    "    ('U.S.','US'),\n",
    "    ('United States','US'),\n",
    "    (''' We'd love to get your feedback at radio@sputniknews.com''',''),\n",
    "    ('radio@sputniknews.com',''),\n",
    "    ('Aleksandr', 'Alexander')\n",
    "    ]\n",
    "    takeoutif = [\n",
    "        'This story has been corrected to show',\n",
    "        'contributed to this report',\n",
    "        'All rights reserved',\n",
    "        'not responsible for the material quoted in these press',\n",
    "        'Follow all AP stories',\n",
    "        'https',\n",
    "        'dedicated page',\n",
    "        'Follow AP’s coverage',\n",
    "        '©',\n",
    "        'This video can not be played',\n",
    "        '© 2022 Reuters.'\n",
    "        'contributed reporting',\n",
    "        'Please include your name, age and location with any submission.',\n",
    "        'See here for',\n",
    "        'contributed.',\n",
    "        'reported from',\n",
    "        'reaching billions of people worldwide every day',\n",
    "        'quotes delayed a minimum',\n",
    "        'contributed to this story.',\n",
    "        'pic.twitter.com',\n",
    "        'Screen for heightened risk individual and entities globally to help uncover hidden risks in business relationships and human networks.',\n",
    "        'Browse an unrivalled portfolio of',\n",
    "        'Access unmatched financial',\n",
    "        'Reuters',\n",
    "        'Build the strongest argument relying on',\n",
    "        'The most comprehensive solution to manage all',\n",
    "        'Access unmatched financial data',\n",
    "        'The industry leader for online information for tax'\n",
    "        ]\n",
    "    for a, b in word_corrections:\n",
    "        txt = txt.replace(a, b)\n",
    "    for string in takeoutif:\n",
    "        if string in txt:\n",
    "            return None\n",
    "    if not txt[0].isalpha() and txt[0] not in ['\"',\"'\",'“']:\n",
    "        return None\n",
    "    if len(txt) <= 50:\n",
    "        return None\n",
    "    return txt"
   ]
  },
  {
   "cell_type": "code",
   "execution_count": 6,
   "id": "86b39099-fa3d-40d4-b179-c85e749c35f4",
   "metadata": {
    "collapsed": true,
    "jupyter": {
     "outputs_hidden": true,
     "source_hidden": true
    },
    "tags": []
   },
   "outputs": [
    {
     "name": "stdout",
     "output_type": "stream",
     "text": [
      "0/3379 articles processed\n",
      "500/3379 articles processed\n",
      "1000/3379 articles processed\n",
      "1500/3379 articles processed\n",
      "2000/3379 articles processed\n",
      "2500/3379 articles processed\n",
      "3000/3379 articles processed\n",
      "\n",
      "55043/66347 sentences valid.\n",
      "\n",
      "55043 docs processed successfully!\n"
     ]
    }
   ],
   "source": [
    "docs = []\n",
    "texts = []\n",
    "\n",
    "article2sents = dict()\n",
    "\n",
    "listBySent = []\n",
    "records = df.to_dict('records')\n",
    "totalSents = 0\n",
    "validSents = 0\n",
    "for i, rec in enumerate(records):\n",
    "    if i % 500 == 0:\n",
    "        print(f'{i}/{len(records)} articles processed')\n",
    "    rec_text = rec['text']\n",
    "    if isinstance(rec_text, str):\n",
    "        sents = sent_tokenize(rec_text)\n",
    "        validSentsinDoc = []\n",
    "        sentIdx = 0\n",
    "    \n",
    "        for text in sents:\n",
    "            sentRec = dict()\n",
    "            sentRec['index'] = i\n",
    "            sentRec['newsOutlet'] = rec['newsOutlet']\n",
    "            sentRec['category'] = rec['category']\n",
    "            sentRec['dateSeen'] = rec['dateSeen']\n",
    "            sentRec['url'] = rec['url']\n",
    "            sentRec['title'] = rec['title']\n",
    "            sentRec['language'] = rec['language']\n",
    "            sentRec['sourceCountry'] = rec['sourceCountry']\n",
    "            \n",
    "            cleaned_text = tm_tokenize(text)\n",
    "            totalSents += 1\n",
    "            if cleaned_text == None:\n",
    "                continue\n",
    "            else:\n",
    "                docs.append(cleaned_text)\n",
    "                texts.append(text)\n",
    "                sentRec['sentText'] = cleaned_text\n",
    "                sentRec['sentIndexInText'] = sentIdx\n",
    "                sentRec['articleIndex'] = i\n",
    "                listBySent.append(sentRec)\n",
    "                validSentsinDoc.append(text)\n",
    "                validSents += 1\n",
    "                sentIdx += 1\n",
    "                \n",
    "        article2sents[i] = validSentsinDoc\n",
    "        \n",
    "print(f'\\n{validSents}/{totalSents} sentences valid.\\n')\n",
    "print(len(docs),'docs processed successfully!')"
   ]
  },
  {
   "cell_type": "code",
   "execution_count": 29,
   "id": "71607a7a-35aa-45db-b4e3-9a80aa8a1527",
   "metadata": {},
   "outputs": [
    {
     "name": "stdout",
     "output_type": "stream",
     "text": [
      "CPU times: user 11.8 s, sys: 540 ms, total: 12.3 s\n",
      "Wall time: 13.8 s\n"
     ]
    },
    {
     "data": {
      "text/html": [
       "<div>\n",
       "<style scoped>\n",
       "    .dataframe tbody tr th:only-of-type {\n",
       "        vertical-align: middle;\n",
       "    }\n",
       "\n",
       "    .dataframe tbody tr th {\n",
       "        vertical-align: top;\n",
       "    }\n",
       "\n",
       "    .dataframe thead th {\n",
       "        text-align: right;\n",
       "    }\n",
       "</style>\n",
       "<table border=\"1\" class=\"dataframe\">\n",
       "  <thead>\n",
       "    <tr style=\"text-align: right;\">\n",
       "      <th></th>\n",
       "      <th>index</th>\n",
       "      <th>newsOutlet</th>\n",
       "      <th>category</th>\n",
       "      <th>dateSeen</th>\n",
       "      <th>url</th>\n",
       "      <th>title</th>\n",
       "      <th>language</th>\n",
       "      <th>sourceCountry</th>\n",
       "      <th>sentText</th>\n",
       "      <th>sentIndexInText</th>\n",
       "      <th>sentTopicID</th>\n",
       "    </tr>\n",
       "  </thead>\n",
       "  <tbody>\n",
       "    <tr>\n",
       "      <th>0</th>\n",
       "      <td>0</td>\n",
       "      <td>apnews.com</td>\n",
       "      <td>western</td>\n",
       "      <td>2021-10-12 07:00:00</td>\n",
       "      <td>https://apnews.com/article/technology-business...</td>\n",
       "      <td>EU , Ukraine to discuss military training and ...</td>\n",
       "      <td>English</td>\n",
       "      <td>United States</td>\n",
       "      <td>BRUSSELS (AP) — The European Union is consider...</td>\n",
       "      <td>0</td>\n",
       "      <td>-1</td>\n",
       "    </tr>\n",
       "    <tr>\n",
       "      <th>1</th>\n",
       "      <td>0</td>\n",
       "      <td>apnews.com</td>\n",
       "      <td>western</td>\n",
       "      <td>2021-10-12 07:00:00</td>\n",
       "      <td>https://apnews.com/article/technology-business...</td>\n",
       "      <td>EU , Ukraine to discuss military training and ...</td>\n",
       "      <td>English</td>\n",
       "      <td>United States</td>\n",
       "      <td>Acting on a request from Ukraine for help with...</td>\n",
       "      <td>1</td>\n",
       "      <td>-1</td>\n",
       "    </tr>\n",
       "    <tr>\n",
       "      <th>2</th>\n",
       "      <td>0</td>\n",
       "      <td>apnews.com</td>\n",
       "      <td>western</td>\n",
       "      <td>2021-10-12 07:00:00</td>\n",
       "      <td>https://apnews.com/article/technology-business...</td>\n",
       "      <td>EU , Ukraine to discuss military training and ...</td>\n",
       "      <td>English</td>\n",
       "      <td>United States</td>\n",
       "      <td>The topic will be discussed during a summit Tu...</td>\n",
       "      <td>2</td>\n",
       "      <td>-1</td>\n",
       "    </tr>\n",
       "    <tr>\n",
       "      <th>3</th>\n",
       "      <td>0</td>\n",
       "      <td>apnews.com</td>\n",
       "      <td>western</td>\n",
       "      <td>2021-10-12 07:00:00</td>\n",
       "      <td>https://apnews.com/article/technology-business...</td>\n",
       "      <td>EU , Ukraine to discuss military training and ...</td>\n",
       "      <td>English</td>\n",
       "      <td>United States</td>\n",
       "      <td>The results of the mission have yet to be anal...</td>\n",
       "      <td>3</td>\n",
       "      <td>24</td>\n",
       "    </tr>\n",
       "    <tr>\n",
       "      <th>4</th>\n",
       "      <td>0</td>\n",
       "      <td>apnews.com</td>\n",
       "      <td>western</td>\n",
       "      <td>2021-10-12 07:00:00</td>\n",
       "      <td>https://apnews.com/article/technology-business...</td>\n",
       "      <td>EU , Ukraine to discuss military training and ...</td>\n",
       "      <td>English</td>\n",
       "      <td>United States</td>\n",
       "      <td>One official said the EU’s political and secur...</td>\n",
       "      <td>4</td>\n",
       "      <td>-1</td>\n",
       "    </tr>\n",
       "  </tbody>\n",
       "</table>\n",
       "</div>"
      ],
      "text/plain": [
       "   index  newsOutlet category             dateSeen  \\\n",
       "0      0  apnews.com  western  2021-10-12 07:00:00   \n",
       "1      0  apnews.com  western  2021-10-12 07:00:00   \n",
       "2      0  apnews.com  western  2021-10-12 07:00:00   \n",
       "3      0  apnews.com  western  2021-10-12 07:00:00   \n",
       "4      0  apnews.com  western  2021-10-12 07:00:00   \n",
       "\n",
       "                                                 url  \\\n",
       "0  https://apnews.com/article/technology-business...   \n",
       "1  https://apnews.com/article/technology-business...   \n",
       "2  https://apnews.com/article/technology-business...   \n",
       "3  https://apnews.com/article/technology-business...   \n",
       "4  https://apnews.com/article/technology-business...   \n",
       "\n",
       "                                               title language  sourceCountry  \\\n",
       "0  EU , Ukraine to discuss military training and ...  English  United States   \n",
       "1  EU , Ukraine to discuss military training and ...  English  United States   \n",
       "2  EU , Ukraine to discuss military training and ...  English  United States   \n",
       "3  EU , Ukraine to discuss military training and ...  English  United States   \n",
       "4  EU , Ukraine to discuss military training and ...  English  United States   \n",
       "\n",
       "                                            sentText  sentIndexInText  \\\n",
       "0  BRUSSELS (AP) — The European Union is consider...                0   \n",
       "1  Acting on a request from Ukraine for help with...                1   \n",
       "2  The topic will be discussed during a summit Tu...                2   \n",
       "3  The results of the mission have yet to be anal...                3   \n",
       "4  One official said the EU’s political and secur...                4   \n",
       "\n",
       "   sentTopicID  \n",
       "0           -1  \n",
       "1           -1  \n",
       "2           -1  \n",
       "3           24  \n",
       "4           -1  "
      ]
     },
     "execution_count": 29,
     "metadata": {},
     "output_type": "execute_result"
    }
   ],
   "source": [
    "%%time\n",
    "sentenceDf = pd.read_excel('data/topic_model_data/fullSentTopics_7-31-2.xlsx',index_col=0)\n",
    "sentenceDf.head()"
   ]
  },
  {
   "cell_type": "markdown",
   "id": "fbcc7a3e-26cc-4737-a693-35e0510c6d97",
   "metadata": {},
   "source": [
    "## N-gram analysis"
   ]
  },
  {
   "cell_type": "code",
   "execution_count": 8,
   "id": "470f5387-8e23-499d-bd90-e585b8324698",
   "metadata": {},
   "outputs": [],
   "source": [
    "import itertools\n",
    "import stanza"
   ]
  },
  {
   "cell_type": "code",
   "execution_count": 31,
   "id": "ca5dd9e0-3cea-4b6a-8bb7-d5688a7a2846",
   "metadata": {
    "tags": []
   },
   "outputs": [
    {
     "data": {
      "application/vnd.jupyter.widget-view+json": {
       "model_id": "d0254d18a40241278ee0ed3bc745ee25",
       "version_major": 2,
       "version_minor": 0
      },
      "text/plain": [
       "Downloading https://raw.githubusercontent.com/stanfordnlp/stanza-resources/main/resources_1.2.2.json:   0%|   …"
      ]
     },
     "metadata": {},
     "output_type": "display_data"
    },
    {
     "name": "stderr",
     "output_type": "stream",
     "text": [
      "2022-07-31 18:05:04 INFO: Downloading default packages for language: en (English)...\n",
      "2022-07-31 18:05:06 INFO: File exists: /Users/paigelee/stanza_resources/en/default.zip.\n",
      "2022-07-31 18:05:10 INFO: Finished downloading models and saved to /Users/paigelee/stanza_resources.\n"
     ]
    }
   ],
   "source": [
    "stanza.download('en')"
   ]
  },
  {
   "cell_type": "code",
   "execution_count": 32,
   "id": "84085102-5202-48ee-bd8b-158b9464a4a8",
   "metadata": {
    "tags": []
   },
   "outputs": [
    {
     "name": "stderr",
     "output_type": "stream",
     "text": [
      "2022-07-31 18:05:11 INFO: Loading these models for language: en (English):\n",
      "=========================\n",
      "| Processor | Package   |\n",
      "-------------------------\n",
      "| tokenize  | combined  |\n",
      "| pos       | combined  |\n",
      "| lemma     | combined  |\n",
      "| depparse  | combined  |\n",
      "| sentiment | sstplus   |\n",
      "| ner       | ontonotes |\n",
      "=========================\n",
      "\n",
      "2022-07-31 18:05:11 INFO: Use device: cpu\n",
      "2022-07-31 18:05:11 INFO: Loading: tokenize\n",
      "2022-07-31 18:05:12 INFO: Loading: pos\n",
      "2022-07-31 18:05:12 INFO: Loading: lemma\n",
      "2022-07-31 18:05:12 INFO: Loading: depparse\n",
      "2022-07-31 18:05:13 INFO: Loading: sentiment\n",
      "2022-07-31 18:05:13 INFO: Loading: ner\n",
      "2022-07-31 18:05:14 INFO: Done loading processors!\n"
     ]
    }
   ],
   "source": [
    "nlp = stanza.Pipeline('en')"
   ]
  },
  {
   "cell_type": "code",
   "execution_count": 33,
   "id": "d03bce2f-9e4b-4825-b8ff-76c1a2ba6ec1",
   "metadata": {},
   "outputs": [],
   "source": [
    "import nltk\n",
    "from nltk.corpus import stopwords\n",
    "\n",
    "engStopwords = set(stopwords.words('english'))"
   ]
  },
  {
   "cell_type": "code",
   "execution_count": null,
   "id": "d1b23026-ba4f-4700-a1ea-094de5515cec",
   "metadata": {},
   "outputs": [],
   "source": [
    "jsonDict = dict()"
   ]
  },
  {
   "cell_type": "code",
   "execution_count": 42,
   "id": "ef41ad5f-e0ba-48a7-a9d0-177cb70db73c",
   "metadata": {},
   "outputs": [
    {
     "name": "stdout",
     "output_type": "stream",
     "text": [
      "0/18530 recs parsed by NLP\n",
      "1000/18530 recs parsed by NLP\n",
      "2000/18530 recs parsed by NLP\n",
      "3000/18530 recs parsed by NLP\n",
      "4000/18530 recs parsed by NLP\n",
      "5000/18530 recs parsed by NLP\n",
      "6000/18530 recs parsed by NLP\n",
      "7000/18530 recs parsed by NLP\n",
      "8000/18530 recs parsed by NLP\n",
      "9000/18530 recs parsed by NLP\n",
      "10000/18530 recs parsed by NLP\n",
      "11000/18530 recs parsed by NLP\n",
      "12000/18530 recs parsed by NLP\n",
      "13000/18530 recs parsed by NLP\n",
      "14000/18530 recs parsed by NLP\n",
      "15000/18530 recs parsed by NLP\n",
      "16000/18530 recs parsed by NLP\n",
      "17000/18530 recs parsed by NLP\n",
      "18000/18530 recs parsed by NLP\n",
      "\tdone nlping docs\n",
      "\tfound sufficient recs\n",
      "\tgot linked tokens\n",
      "\twrote json\n",
      "0/22646 recs parsed by NLP\n",
      "1000/22646 recs parsed by NLP\n",
      "2000/22646 recs parsed by NLP\n",
      "3000/22646 recs parsed by NLP\n",
      "4000/22646 recs parsed by NLP\n",
      "5000/22646 recs parsed by NLP\n",
      "6000/22646 recs parsed by NLP\n",
      "7000/22646 recs parsed by NLP\n",
      "8000/22646 recs parsed by NLP\n",
      "9000/22646 recs parsed by NLP\n",
      "10000/22646 recs parsed by NLP\n",
      "11000/22646 recs parsed by NLP\n",
      "12000/22646 recs parsed by NLP\n",
      "13000/22646 recs parsed by NLP\n",
      "14000/22646 recs parsed by NLP\n",
      "15000/22646 recs parsed by NLP\n",
      "16000/22646 recs parsed by NLP\n",
      "17000/22646 recs parsed by NLP\n",
      "18000/22646 recs parsed by NLP\n",
      "19000/22646 recs parsed by NLP\n",
      "20000/22646 recs parsed by NLP\n",
      "21000/22646 recs parsed by NLP\n",
      "22000/22646 recs parsed by NLP\n",
      "\tdone nlping docs\n",
      "\tfound sufficient recs\n",
      "\tgot linked tokens\n",
      "\twrote json\n",
      "CPU times: user 4h 30min 53s, sys: 2min 17s, total: 4h 33min 10s\n",
      "Wall time: 6h 9min 55s\n"
     ]
    }
   ],
   "source": [
    "%%time\n",
    "# get cooccurrence connections\n",
    "thresh = 5\n",
    "n = 4\n",
    "\n",
    "allSentRecords = sentenceDf.to_dict('records')\n",
    "\n",
    "for cat in ['western','russian']:\n",
    "    networkJson = dict()\n",
    "    networkJson['nodes'] = []\n",
    "    networkJson['links'] = []\n",
    "\n",
    "    curatedNodes = set()\n",
    "    linkCounter = dict()\n",
    "    keywordCounter = dict()\n",
    "\n",
    "    windowList = []\n",
    "    records = []\n",
    "    for d in allSentRecords:\n",
    "        if d['category'] == cat and d['sentTopicID'] != -1:\n",
    "            records.append(d)\n",
    "    for i, rec in enumerate(records):\n",
    "        if i % 1000 == 0:\n",
    "            print(f'{i}/{len(records)} recs parsed by NLP')\n",
    "        docText = rec['sentText']\n",
    "        nlpdoc = nlp(docText)\n",
    "        wordList = [w for w in nlpdoc.iter_words() if w.text.isalpha() and w.text.lower() not in engStopwords]\n",
    "        for windowIdx in range(len(wordList) // n + len(wordList) % n):\n",
    "            startIdx = windowIdx\n",
    "            endIdx = windowIdx+random.choice(list(range(1,n+1)))\n",
    "            wordWindow = wordList[startIdx:endIdx]\n",
    "            tokens = []\n",
    "            for wordToken in wordWindow:\n",
    "                formattedToken = wordToken.lemma.lower()\n",
    "                if formattedToken in engStopwords:\n",
    "                    continue\n",
    "                tokens.append(formattedToken)\n",
    "            windowList.append(tokens)\n",
    "        for t1 in [w.lemma.lower() for w in wordList]:\n",
    "            keywordCounter.setdefault(t1, 0)\n",
    "            keywordCounter[t1] += 1\n",
    "    print('\\tdone nlping docs')\n",
    "    sufficientNodes = set()\n",
    "    for key in keywordCounter:\n",
    "        if keywordCounter[key] >= thresh:\n",
    "            sufficientNodes.add(key)\n",
    "    print('\\tfound sufficient recs')\n",
    "    for tokens in windowList:\n",
    "        s = set(tokens)\n",
    "        subsets = [tuple(i) for i in itertools.combinations(s, 2)]\n",
    "        for t1, t2 in subsets:\n",
    "            if t1 != t2 and t1 in sufficientNodes and t2 in sufficientNodes:\n",
    "                label = '_'.join(sorted([t1, t2]))\n",
    "                linkCounter.setdefault(label, 0)\n",
    "                linkCounter[label] += 1\n",
    "    print('\\tgot linked tokens')\n",
    "    node2id = dict()\n",
    "    for i, node in enumerate(sufficientNodes):\n",
    "        networkJson['nodes'].append({\n",
    "            'id' : node,\n",
    "            'occurrences' : keywordCounter[node]\n",
    "        })\n",
    "        node2id[node] = i\n",
    "\n",
    "    for label in linkCounter:\n",
    "        source, target = label.split('_')\n",
    "        networkJson['links'].append({\n",
    "            'source' : node2id[source],\n",
    "            'target' : node2id[target],\n",
    "            'value' : linkCounter[label]\n",
    "        })\n",
    "    \n",
    "    jsonDict[cat] = networkJson\n",
    "    \n",
    "    with open(f'data/{cat}ngramNet{n}.json', 'w', encoding ='ascii') as json_file:\n",
    "        json.dump(networkJson, json_file, ensure_ascii = True)\n",
    "    print('\\twrote json')"
   ]
  },
  {
   "cell_type": "code",
   "execution_count": 36,
   "id": "a616c7dd-7570-4202-b711-8e7443af7aa1",
   "metadata": {},
   "outputs": [],
   "source": [
    "import json"
   ]
  },
  {
   "cell_type": "code",
   "execution_count": 38,
   "id": "f90f006f-d87f-4fb6-9c9d-476b3f53e573",
   "metadata": {},
   "outputs": [],
   "source": [
    "# with open(f'data/russianngramNet.json', 'w', encoding ='ascii') as json_file:\n",
    "#         json.dump(jsonDict['russian'], json_file, ensure_ascii = True)"
   ]
  },
  {
   "cell_type": "markdown",
   "id": "67e9f360-62a7-48c0-9616-e22f8f2698ce",
   "metadata": {},
   "source": [
    "## Counts across outlets and categories"
   ]
  },
  {
   "cell_type": "code",
   "execution_count": 264,
   "id": "4b21b731-b3b3-47fe-b194-6e100e31bcf1",
   "metadata": {},
   "outputs": [
    {
     "data": {
      "text/plain": [
       "russian    30039\n",
       "western    25004\n",
       "Name: category, dtype: int64"
      ]
     },
     "execution_count": 264,
     "metadata": {},
     "output_type": "execute_result"
    }
   ],
   "source": [
    "sentenceDf['category'].value_counts()"
   ]
  },
  {
   "cell_type": "code",
   "execution_count": 265,
   "id": "f0703b88-b613-4da0-b39c-3a0eb9da0b37",
   "metadata": {},
   "outputs": [
    {
     "data": {
      "text/plain": [
       "sputniknews.com    15418\n",
       "tass.com           14621\n",
       "apnews.com         13349\n",
       "bbc.co.uk           7586\n",
       "reuters.com         4069\n",
       "Name: newsOutlet, dtype: int64"
      ]
     },
     "execution_count": 265,
     "metadata": {},
     "output_type": "execute_result"
    }
   ],
   "source": [
    "sentenceDf['newsOutlet'].value_counts()"
   ]
  },
  {
   "cell_type": "markdown",
   "id": "6dae79fb-0974-4aa1-9060-16b8d9d2ca4f",
   "metadata": {},
   "source": [
    "## Time frame"
   ]
  },
  {
   "cell_type": "markdown",
   "id": "e319d814-1da0-4daf-824e-8a991cea1586",
   "metadata": {},
   "source": [
    "### Sentences"
   ]
  },
  {
   "cell_type": "code",
   "execution_count": 266,
   "id": "5680e83b-7847-4e56-8d17-0ca21ef4e1cf",
   "metadata": {},
   "outputs": [
    {
     "data": {
      "image/png": "[encoded data removed]",
      "text/plain": [
       "<Figure size 864x360 with 1 Axes>"
      ]
     },
     "metadata": {
      "needs_background": "light"
     },
     "output_type": "display_data"
    }
   ],
   "source": [
    "from matplotlib import pyplot as plt\n",
    "\n",
    "x = sentenceDf[sentenceDf['category'] == 'russian']['dateSeen']\n",
    "y = sentenceDf[sentenceDf['category'] == 'western']['dateSeen']\n",
    "\n",
    "bins = 20\n",
    "\n",
    "plt.hist(x, bins=bins, alpha=0.5, label='sentences of russian news', edgecolor='black')\n",
    "plt.hist(y, bins=bins, alpha=0.5, label='sentences of western news', edgecolor='black')\n",
    "plt.legend(loc='upper left')\n",
    "fig = plt.gcf()\n",
    "fig.set_size_inches(12, 5)\n",
    "# fig.savefig('test2png.png', dpi=100)\n",
    "plt.show()"
   ]
  },
  {
   "cell_type": "markdown",
   "id": "28bbcf32-8b9a-4cf7-9260-e74eb46b0218",
   "metadata": {},
   "source": [
    "### Articles"
   ]
  },
  {
   "cell_type": "code",
   "execution_count": 253,
   "id": "92e2e1f8-10f0-45b7-b013-ea54d2cb26a6",
   "metadata": {},
   "outputs": [
    {
     "data": {
      "image/png": "[encoded data removed]",
      "text/plain": [
       "<Figure size 864x360 with 1 Axes>"
      ]
     },
     "metadata": {
      "needs_background": "light"
     },
     "output_type": "display_data"
    }
   ],
   "source": [
    "from matplotlib import pyplot as plt\n",
    "\n",
    "x = df[df['category'] == 'russian']['dateSeen']\n",
    "y = df[df['category'] == 'western']['dateSeen']\n",
    "\n",
    "bins = 20\n",
    "\n",
    "plt.hist(x, bins=bins, alpha=0.5, label='# russian news articles', edgecolor='black')\n",
    "plt.hist(y, bins=bins, alpha=0.5, label='# western news articles', edgecolor='black')\n",
    "plt.legend(loc='upper left')\n",
    "fig = plt.gcf()\n",
    "fig.set_size_inches(12, 5)\n",
    "# fig.savefig('test2png.png', dpi=100)\n",
    "plt.show()"
   ]
  },
  {
   "cell_type": "markdown",
   "id": "7968e568-b4c3-4950-bd4a-01f3e2aba31e",
   "metadata": {},
   "source": [
    "## Sentence length"
   ]
  },
  {
   "cell_type": "markdown",
   "id": "4c1d7a1b-b679-449a-a30e-8d525ed66ab9",
   "metadata": {},
   "source": [
    "### Western vs. Russian"
   ]
  },
  {
   "cell_type": "code",
   "execution_count": 254,
   "id": "183c3525-4550-46c4-b579-5b5d6623d460",
   "metadata": {},
   "outputs": [
    {
     "data": {
      "image/png": "[encoded data removed]",
      "text/plain": [
       "<Figure size 864x360 with 1 Axes>"
      ]
     },
     "metadata": {
      "needs_background": "light"
     },
     "output_type": "display_data"
    }
   ],
   "source": [
    "x = sentenceDf[sentenceDf['category'] == 'russian']['sentText'].apply(lambda x: len(x))\n",
    "y = sentenceDf[sentenceDf['category'] == 'western']['sentText'].apply(lambda x: len(x))\n",
    "\n",
    "bins = list(range(0,1000,25))\n",
    "plt.hist(x, bins=bins, alpha=0.7, label='sent length (russian news)', edgecolor='black', color='pink')\n",
    "plt.hist(y, bins=bins, alpha=0.3, label='sent length (western news)', edgecolor='black', color='lime')\n",
    "plt.legend(loc='upper right')\n",
    "fig = plt.gcf()\n",
    "fig.set_size_inches(12, 5)\n",
    "# fig.savefig('test2png.png', dpi=100)\n",
    "plt.show()"
   ]
  },
  {
   "cell_type": "code",
   "execution_count": 255,
   "id": "360a1a88-a970-4327-a432-3f1742069867",
   "metadata": {},
   "outputs": [
    {
     "name": "stdout",
     "output_type": "stream",
     "text": [
      "mean sent length russian: 167.2152320085214\n",
      "mean sent length western: 161.3896176611742\n"
     ]
    }
   ],
   "source": [
    "print('mean sent length russian:', x.mean())\n",
    "print('mean sent length western:', y.mean())"
   ]
  },
  {
   "cell_type": "markdown",
   "id": "05d32da6-8ffe-4b74-8d04-4e29cc6df604",
   "metadata": {},
   "source": [
    "### All outlets"
   ]
  },
  {
   "cell_type": "code",
   "execution_count": 256,
   "id": "602ccdc2-854b-4482-bc90-ff6a003d1650",
   "metadata": {},
   "outputs": [
    {
     "data": {
      "image/png": "[encoded data removed]",
      "text/plain": [
       "<Figure size 864x360 with 1 Axes>"
      ]
     },
     "metadata": {
      "needs_background": "light"
     },
     "output_type": "display_data"
    }
   ],
   "source": [
    "a = sentenceDf[sentenceDf['newsOutlet'] == 'apnews.com']['sentText'].apply(lambda x: len(x))\n",
    "r = sentenceDf[sentenceDf['newsOutlet'] == 'reuters.com']['sentText'].apply(lambda x: len(x))\n",
    "t = sentenceDf[sentenceDf['newsOutlet'] == 'tass.com']['sentText'].apply(lambda x: len(x))\n",
    "s = sentenceDf[sentenceDf['newsOutlet'] == 'sputniknews.com']['sentText'].apply(lambda x: len(x))\n",
    "b = sentenceDf[sentenceDf['newsOutlet'] == 'bbc.co.uk']['sentText'].apply(lambda x: len(x))\n",
    "\n",
    "bins = list(range(0,1000,25))\n",
    "plt.hist([b, a,r,t,s], bins=bins, label=['bbc','apnews','reuters','tass','sputnik'], stacked=True, histtype='bar')\n",
    "# plt.hist(a, bins=bins, alpha=0.6, label='sent length (apnews)', edgecolor='black', color='red')\n",
    "# plt.hist(r, bins=bins, alpha=0.6, label='sent length (reuters)', edgecolor='black', color='orange')\n",
    "# plt.hist(t, bins=bins, alpha=0.6, label='sent length (tass)', edgecolor='black', color='green')\n",
    "# plt.hist(s, bins=bins, alpha=0.6, label='sent length (sputnik)', edgecolor='black', color='blue')\n",
    "plt.legend(loc='upper right')\n",
    "fig = plt.gcf()\n",
    "fig.set_size_inches(12, 5)\n",
    "# fig.savefig('test2png.png', dpi=100)\n",
    "plt.show()"
   ]
  },
  {
   "cell_type": "code",
   "execution_count": 257,
   "id": "55e89e40-4b52-4ca6-b9f1-7da101497c95",
   "metadata": {},
   "outputs": [
    {
     "name": "stdout",
     "output_type": "stream",
     "text": [
      "mean sent length bbc: 132.12997627208014\n",
      "mean sent length apnews: 177.08592403925388\n",
      "mean sent length reuters: 164.44531826001474\n",
      "mean sent length tass: 159.73845838177962\n",
      "mean sent length sputnik: 174.3041307308216\n"
     ]
    }
   ],
   "source": [
    "print('mean sent length bbc:', b.mean())\n",
    "print('mean sent length apnews:', a.mean())\n",
    "print('mean sent length reuters:', r.mean())\n",
    "print('mean sent length tass:', t.mean())\n",
    "print('mean sent length sputnik:', s.mean())"
   ]
  },
  {
   "cell_type": "markdown",
   "id": "6f115db5-b8dd-46b4-a344-af3386721c52",
   "metadata": {},
   "source": [
    "### Readability"
   ]
  },
  {
   "cell_type": "code",
   "execution_count": 273,
   "id": "db30db55-43f1-401f-a2ef-6626d7f86eb5",
   "metadata": {},
   "outputs": [],
   "source": [
    "# pip install py-readability-metrics"
   ]
  },
  {
   "cell_type": "code",
   "execution_count": 268,
   "id": "09970330-da41-4e61-badc-f92796ea8ea2",
   "metadata": {},
   "outputs": [],
   "source": [
    "from readability import Readability"
   ]
  },
  {
   "cell_type": "code",
   "execution_count": 291,
   "id": "738241b2-ea91-495a-88e6-cc73592f59b1",
   "metadata": {},
   "outputs": [],
   "source": [
    "textLevels = []\n",
    "shortCt = 0\n",
    "for rec in records:\n",
    "    text = rec['text']\n",
    "    try:\n",
    "        r = Readability(text)\n",
    "        fk = r.flesch_kincaid()\n",
    "        # print(fk.score)\n",
    "        # print(fk.grade_level)\n",
    "        textLevels.append({\n",
    "            'fk' : fk.score,\n",
    "            'text' : text,\n",
    "            'outlet' : rec['newsOutlet'],\n",
    "            'category' : rec['category']\n",
    "        })\n",
    "    except:\n",
    "        shortCt += 1"
   ]
  },
  {
   "cell_type": "code",
   "execution_count": 275,
   "id": "2c987c31-97d9-4eca-8480-ed46129822ee",
   "metadata": {},
   "outputs": [
    {
     "data": {
      "text/plain": [
       "72"
      ]
     },
     "execution_count": 275,
     "metadata": {},
     "output_type": "execute_result"
    }
   ],
   "source": [
    "shortCt"
   ]
  },
  {
   "cell_type": "code",
   "execution_count": 292,
   "id": "c1af46d5-3fc9-48e8-b131-fff277a33ea5",
   "metadata": {},
   "outputs": [
    {
     "data": {
      "text/html": [
       "<div>\n",
       "<style scoped>\n",
       "    .dataframe tbody tr th:only-of-type {\n",
       "        vertical-align: middle;\n",
       "    }\n",
       "\n",
       "    .dataframe tbody tr th {\n",
       "        vertical-align: top;\n",
       "    }\n",
       "\n",
       "    .dataframe thead th {\n",
       "        text-align: right;\n",
       "    }\n",
       "</style>\n",
       "<table border=\"1\" class=\"dataframe\">\n",
       "  <thead>\n",
       "    <tr style=\"text-align: right;\">\n",
       "      <th></th>\n",
       "      <th>fk</th>\n",
       "      <th>text</th>\n",
       "      <th>outlet</th>\n",
       "      <th>category</th>\n",
       "    </tr>\n",
       "  </thead>\n",
       "  <tbody>\n",
       "    <tr>\n",
       "      <th>0</th>\n",
       "      <td>15.019373</td>\n",
       "      <td>BRUSSELS (AP) — The European Union is consider...</td>\n",
       "      <td>apnews.com</td>\n",
       "      <td>western</td>\n",
       "    </tr>\n",
       "    <tr>\n",
       "      <th>1</th>\n",
       "      <td>16.855053</td>\n",
       "      <td>KYIV, Ukraine (AP) — U.S. Secretary of State A...</td>\n",
       "      <td>apnews.com</td>\n",
       "      <td>western</td>\n",
       "    </tr>\n",
       "    <tr>\n",
       "      <th>2</th>\n",
       "      <td>15.019373</td>\n",
       "      <td>BRUSSELS (AP) — The European Union is consider...</td>\n",
       "      <td>apnews.com</td>\n",
       "      <td>western</td>\n",
       "    </tr>\n",
       "    <tr>\n",
       "      <th>3</th>\n",
       "      <td>11.888767</td>\n",
       "      <td>KYIV, Ukraine (AP) — The presidents of Ukraine...</td>\n",
       "      <td>apnews.com</td>\n",
       "      <td>western</td>\n",
       "    </tr>\n",
       "    <tr>\n",
       "      <th>4</th>\n",
       "      <td>14.848945</td>\n",
       "      <td>KYIV, Ukraine (AP) — The Russia-backed separat...</td>\n",
       "      <td>apnews.com</td>\n",
       "      <td>western</td>\n",
       "    </tr>\n",
       "  </tbody>\n",
       "</table>\n",
       "</div>"
      ],
      "text/plain": [
       "          fk                                               text      outlet  \\\n",
       "0  15.019373  BRUSSELS (AP) — The European Union is consider...  apnews.com   \n",
       "1  16.855053  KYIV, Ukraine (AP) — U.S. Secretary of State A...  apnews.com   \n",
       "2  15.019373  BRUSSELS (AP) — The European Union is consider...  apnews.com   \n",
       "3  11.888767  KYIV, Ukraine (AP) — The presidents of Ukraine...  apnews.com   \n",
       "4  14.848945  KYIV, Ukraine (AP) — The Russia-backed separat...  apnews.com   \n",
       "\n",
       "  category  \n",
       "0  western  \n",
       "1  western  \n",
       "2  western  \n",
       "3  western  \n",
       "4  western  "
      ]
     },
     "execution_count": 292,
     "metadata": {},
     "output_type": "execute_result"
    }
   ],
   "source": [
    "fkDf = pd.DataFrame.from_records(textLevels)\n",
    "fkDf.head()"
   ]
  },
  {
   "cell_type": "code",
   "execution_count": null,
   "id": "4e4e11e8-c7eb-43fe-b1fe-24cd98ef4e1e",
   "metadata": {},
   "outputs": [
    {
     "data": {
      "image/png": "[encoded data removed]",
      "text/plain": [
       "<Figure size 432x288 with 1 Axes>"
      ]
     },
     "metadata": {
      "needs_background": "light"
     },
     "output_type": "display_data"
    }
   ],
   "source": [
    "hist = a.hist(bins=10)"
   ]
  },
  {
   "cell_type": "code",
   "execution_count": 290,
   "id": "f89917c8-f8a9-412a-a7a8-a1a114ed283a",
   "metadata": {},
   "outputs": [
    {
     "data": {
      "image/png": "[encoded data removed]",
      "text/plain": [
       "<Figure size 864x360 with 1 Axes>"
      ]
     },
     "metadata": {
      "needs_background": "light"
     },
     "output_type": "display_data"
    }
   ],
   "source": [
    "a = fkDf[fkDf['outlet'] == 'apnews.com']['fk']\n",
    "r = fkDf[fkDf['outlet'] == 'reuters.com']['fk']\n",
    "t = fkDf[fkDf['outlet'] == 'tass.com']['fk']\n",
    "s = fkDf[fkDf['outlet'] == 'sputniknews.com']['fk']\n",
    "b = fkDf[fkDf['outlet'] == 'bbc.co.uk']['fk']\n",
    "\n",
    "bins = list(range(0,30,6))\n",
    "plt.hist([b, a,r,t,s], bins=16, label=['bbc','apnews','reuters','tass','sputnik'], stacked=True, histtype='bar')\n",
    "\n",
    "plt.legend(loc='upper right')\n",
    "fig = plt.gcf()\n",
    "fig.set_size_inches(12, 5)\n",
    "# fig.savefig('test2png.png', dpi=100)\n",
    "plt.show()"
   ]
  },
  {
   "cell_type": "code",
   "execution_count": 282,
   "id": "9cee2f6c-5247-4276-b5a0-0990012064e2",
   "metadata": {},
   "outputs": [
    {
     "name": "stdout",
     "output_type": "stream",
     "text": [
      "mean fk bbc: 11.47135993359858\n",
      "mean fk apnews: 15.169216671648\n",
      "mean fk reuters: 12.96815375988665\n",
      "mean fk tass: 12.819399464104567\n",
      "mean fk sputnik: 15.281507697700203\n"
     ]
    }
   ],
   "source": [
    "print('mean fk bbc:', b.mean())\n",
    "print('mean fk apnews:', a.mean())\n",
    "print('mean fk reuters:', r.mean())\n",
    "print('mean fk tass:', t.mean())\n",
    "print('mean fk sputnik:', s.mean())"
   ]
  },
  {
   "cell_type": "code",
   "execution_count": 293,
   "id": "73a3f782-260b-415e-8c32-5573ad8c9ce7",
   "metadata": {},
   "outputs": [
    {
     "data": {
      "image/png": "[encoded data removed]",
      "text/plain": [
       "<Figure size 864x360 with 1 Axes>"
      ]
     },
     "metadata": {
      "needs_background": "light"
     },
     "output_type": "display_data"
    }
   ],
   "source": [
    "wes = fkDf[fkDf['category'] == 'western']['fk']\n",
    "rus = fkDf[fkDf['category'] == 'russian']['fk']\n",
    "\n",
    "bins=10\n",
    "plt.hist(rus, bins=bins, alpha=0.7, label='russian', edgecolor='black', color='pink')\n",
    "plt.hist(wes, bins=bins, alpha=0.3, label='western', edgecolor='black', color='lime')\n",
    "plt.legend(loc='upper right')\n",
    "fig = plt.gcf()\n",
    "fig.set_size_inches(12, 5)\n",
    "# fig.savefig('test2png.png', dpi=100)\n",
    "plt.show()"
   ]
  },
  {
   "cell_type": "code",
   "execution_count": 296,
   "id": "37c28e74-319f-482b-8471-1d38452c1e6c",
   "metadata": {},
   "outputs": [
    {
     "name": "stdout",
     "output_type": "stream",
     "text": [
      "mean fk rus: count    2303.000000\n",
      "mean       13.797614\n",
      "std         2.526934\n",
      "min         6.702714\n",
      "25%        12.121013\n",
      "50%        13.665428\n",
      "75%        15.244354\n",
      "max        39.255363\n",
      "Name: fk, dtype: float64\n",
      "mean fk wes: count    1004.000000\n",
      "mean       13.702994\n",
      "std         2.504207\n",
      "min         6.424552\n",
      "25%        12.203290\n",
      "50%        13.371616\n",
      "75%        15.242227\n",
      "max        31.457714\n",
      "Name: fk, dtype: float64\n"
     ]
    }
   ],
   "source": [
    "print('mean fk rus:', rus.describe())\n",
    "print('mean fk wes:', wes.describe())"
   ]
  },
  {
   "cell_type": "code",
   "execution_count": null,
   "id": "d36d8763-53d7-4f1c-bdc5-f161beacd777",
   "metadata": {},
   "outputs": [],
   "source": []
  }
 ],
 "metadata": {
  "kernelspec": {
   "display_name": "Python 3 (ipykernel)",
   "language": "python",
   "name": "python3"
  },
  "language_info": {
   "codemirror_mode": {
    "name": "ipython",
    "version": 3
   },
   "file_extension": ".py",
   "mimetype": "text/x-python",
   "name": "python",
   "nbconvert_exporter": "python",
   "pygments_lexer": "ipython3",
   "version": "3.9.7"
  }
 },
 "nbformat": 4,
 "nbformat_minor": 5
}
