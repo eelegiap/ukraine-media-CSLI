{
 "cells": [
  {
   "cell_type": "code",
   "execution_count": 7,
   "id": "4664fa47-af03-4983-acf4-0f6721b1fd04",
   "metadata": {},
   "outputs": [],
   "source": [
    "import random\n",
    "import numpy as np\n",
    "import pandas as pd\n",
    "import time\n",
    "import re\n",
    "import datetime\n",
    "import os\n",
    "import matplotlib.pyplot as plt\n",
    "import gensim\n",
    "import json"
   ]
  },
  {
   "cell_type": "code",
   "execution_count": 2,
   "id": "bf42da2f-7235-4c31-95d6-4e316d84624d",
   "metadata": {},
   "outputs": [],
   "source": [
    "import nltk\n",
    "from nltk.tokenize import sent_tokenize"
   ]
  },
  {
   "cell_type": "code",
   "execution_count": 3,
   "id": "b696f6a4-1545-42fd-b9d9-9f01749b3d23",
   "metadata": {
    "collapsed": true,
    "jupyter": {
     "outputs_hidden": true
    },
    "tags": []
   },
   "outputs": [
    {
     "name": "stdout",
     "output_type": "stream",
     "text": [
      "3379\n"
     ]
    },
    {
     "data": {
      "text/html": [
       "<div>\n",
       "<style scoped>\n",
       "    .dataframe tbody tr th:only-of-type {\n",
       "        vertical-align: middle;\n",
       "    }\n",
       "\n",
       "    .dataframe tbody tr th {\n",
       "        vertical-align: top;\n",
       "    }\n",
       "\n",
       "    .dataframe thead th {\n",
       "        text-align: right;\n",
       "    }\n",
       "</style>\n",
       "<table border=\"1\" class=\"dataframe\">\n",
       "  <thead>\n",
       "    <tr style=\"text-align: right;\">\n",
       "      <th></th>\n",
       "      <th>index</th>\n",
       "      <th>newsOutlet</th>\n",
       "      <th>dateSeen</th>\n",
       "      <th>url</th>\n",
       "      <th>title</th>\n",
       "      <th>language</th>\n",
       "      <th>sourceCountry</th>\n",
       "      <th>text</th>\n",
       "      <th>category</th>\n",
       "      <th>textCharCt</th>\n",
       "    </tr>\n",
       "  </thead>\n",
       "  <tbody>\n",
       "    <tr>\n",
       "      <th>0</th>\n",
       "      <td>0</td>\n",
       "      <td>apnews.com</td>\n",
       "      <td>2021-10-12 07:00:00</td>\n",
       "      <td>https://apnews.com/article/technology-business...</td>\n",
       "      <td>EU , Ukraine to discuss military training and ...</td>\n",
       "      <td>English</td>\n",
       "      <td>United States</td>\n",
       "      <td>BRUSSELS (AP) — The European Union is consider...</td>\n",
       "      <td>western</td>\n",
       "      <td>3318</td>\n",
       "    </tr>\n",
       "    <tr>\n",
       "      <th>1</th>\n",
       "      <td>1</td>\n",
       "      <td>apnews.com</td>\n",
       "      <td>2021-10-12 07:00:00</td>\n",
       "      <td>https://apnews.com/cdfd9b277f6bade5697e0427429...</td>\n",
       "      <td>Blinken reaffirms US support for Ukraine amid ...</td>\n",
       "      <td>English</td>\n",
       "      <td>United States</td>\n",
       "      <td>KYIV, Ukraine (AP) — U.S. Secretary of State A...</td>\n",
       "      <td>western</td>\n",
       "      <td>6032</td>\n",
       "    </tr>\n",
       "    <tr>\n",
       "      <th>2</th>\n",
       "      <td>2</td>\n",
       "      <td>apnews.com</td>\n",
       "      <td>2021-10-11 07:00:00</td>\n",
       "      <td>https://apnews.com/90b50e622cefcbaeba96cb5e716...</td>\n",
       "      <td>EU , Ukraine to discuss military training and ...</td>\n",
       "      <td>English</td>\n",
       "      <td>United States</td>\n",
       "      <td>BRUSSELS (AP) — The European Union is consider...</td>\n",
       "      <td>western</td>\n",
       "      <td>3318</td>\n",
       "    </tr>\n",
       "    <tr>\n",
       "      <th>3</th>\n",
       "      <td>3</td>\n",
       "      <td>apnews.com</td>\n",
       "      <td>2021-10-06 07:00:00</td>\n",
       "      <td>https://apnews.com/0b689a7baaac58603e4d7453aa5...</td>\n",
       "      <td>Ukraine Holocaust center names Nazi Babi Yar k...</td>\n",
       "      <td>English</td>\n",
       "      <td>United States</td>\n",
       "      <td>KYIV, Ukraine (AP) — The presidents of Ukraine...</td>\n",
       "      <td>western</td>\n",
       "      <td>3646</td>\n",
       "    </tr>\n",
       "    <tr>\n",
       "      <th>4</th>\n",
       "      <td>4</td>\n",
       "      <td>apnews.com</td>\n",
       "      <td>2021-10-13 07:00:00</td>\n",
       "      <td>https://apnews.com/89d2455274aad5fe166445a5f82...</td>\n",
       "      <td>Ukraine separatist areas overwhelmed by soarin...</td>\n",
       "      <td>English</td>\n",
       "      <td>United States</td>\n",
       "      <td>KYIV, Ukraine (AP) — The Russia-backed separat...</td>\n",
       "      <td>western</td>\n",
       "      <td>2184</td>\n",
       "    </tr>\n",
       "  </tbody>\n",
       "</table>\n",
       "</div>"
      ],
      "text/plain": [
       "   index  newsOutlet            dateSeen  \\\n",
       "0      0  apnews.com 2021-10-12 07:00:00   \n",
       "1      1  apnews.com 2021-10-12 07:00:00   \n",
       "2      2  apnews.com 2021-10-11 07:00:00   \n",
       "3      3  apnews.com 2021-10-06 07:00:00   \n",
       "4      4  apnews.com 2021-10-13 07:00:00   \n",
       "\n",
       "                                                 url  \\\n",
       "0  https://apnews.com/article/technology-business...   \n",
       "1  https://apnews.com/cdfd9b277f6bade5697e0427429...   \n",
       "2  https://apnews.com/90b50e622cefcbaeba96cb5e716...   \n",
       "3  https://apnews.com/0b689a7baaac58603e4d7453aa5...   \n",
       "4  https://apnews.com/89d2455274aad5fe166445a5f82...   \n",
       "\n",
       "                                               title language  sourceCountry  \\\n",
       "0  EU , Ukraine to discuss military training and ...  English  United States   \n",
       "1  Blinken reaffirms US support for Ukraine amid ...  English  United States   \n",
       "2  EU , Ukraine to discuss military training and ...  English  United States   \n",
       "3  Ukraine Holocaust center names Nazi Babi Yar k...  English  United States   \n",
       "4  Ukraine separatist areas overwhelmed by soarin...  English  United States   \n",
       "\n",
       "                                                text category  textCharCt  \n",
       "0  BRUSSELS (AP) — The European Union is consider...  western        3318  \n",
       "1  KYIV, Ukraine (AP) — U.S. Secretary of State A...  western        6032  \n",
       "2  BRUSSELS (AP) — The European Union is consider...  western        3318  \n",
       "3  KYIV, Ukraine (AP) — The presidents of Ukraine...  western        3646  \n",
       "4  KYIV, Ukraine (AP) — The Russia-backed separat...  western        2184  "
      ]
     },
     "execution_count": 3,
     "metadata": {},
     "output_type": "execute_result"
    }
   ],
   "source": [
    "df = pd.read_excel('data/Jul21_3379_articles.xlsx',index_col=0)\n",
    "df = df.reset_index()\n",
    "print(len(df))\n",
    "df.head()"
   ]
  },
  {
   "cell_type": "code",
   "execution_count": 4,
   "id": "f51b07c6-f361-4ace-a919-2daa50f80af5",
   "metadata": {
    "tags": []
   },
   "outputs": [],
   "source": [
    "# df = df[df['newsOutlet'] != 'bbc.co.uk']/"
   ]
  },
  {
   "cell_type": "code",
   "execution_count": 5,
   "id": "fc769b09-ece4-4467-997f-36f2c4a9525e",
   "metadata": {
    "tags": []
   },
   "outputs": [],
   "source": [
    "# process texts\n",
    "def tm_tokenize(txt):\n",
    "    word_corrections = [\n",
    "    ('said',''),\n",
    "    ('Reuters',''),\n",
    "    ('REUTERS',''),\n",
    "    ('Thomson',''),\n",
    "    ('AP', ''),\n",
    "    ('Sputnik',''),\n",
    "    ('TASS',''),\n",
    "    ('BBC',''),\n",
    "    ('Kiev ','Kyiv '),\n",
    "    ('Lugansk','Luhansk'),\n",
    "    ('Donbas','Donbass'),\n",
    "    ('U.S.','US'),\n",
    "    ('United States','US'),\n",
    "    (''' We'd love to get your feedback at radio@sputniknews.com''',''),\n",
    "    ('radio@sputniknews.com',''),\n",
    "    ('Aleksandr', 'Alexander')\n",
    "    ]\n",
    "    takeoutif = [\n",
    "        'This story has been corrected to show',\n",
    "        'contributed to this report',\n",
    "        'All rights reserved',\n",
    "        'not responsible for the material quoted in these press',\n",
    "        'Follow all AP stories',\n",
    "        'https',\n",
    "        'dedicated page',\n",
    "        'Follow AP’s coverage',\n",
    "        '©',\n",
    "        'This video can not be played',\n",
    "        '© 2022 Reuters.'\n",
    "        'contributed reporting',\n",
    "        'Please include your name, age and location with any submission.',\n",
    "        'See here for',\n",
    "        'contributed.',\n",
    "        'reported from',\n",
    "        'reaching billions of people worldwide every day',\n",
    "        'quotes delayed a minimum',\n",
    "        'contributed to this story.',\n",
    "        'pic.twitter.com',\n",
    "        'Screen for heightened risk individual and entities globally to help uncover hidden risks in business relationships and human networks.',\n",
    "        'Browse an unrivalled portfolio of',\n",
    "        'Access unmatched financial',\n",
    "        'Reuters',\n",
    "        'Build the strongest argument relying on',\n",
    "        'The most comprehensive solution to manage all',\n",
    "        'Access unmatched financial data',\n",
    "        'The industry leader for online information for tax'\n",
    "        ]\n",
    "    for a, b in word_corrections:\n",
    "        txt = txt.replace(a, b)\n",
    "    for string in takeoutif:\n",
    "        if string in txt:\n",
    "            return None\n",
    "    if not txt[0].isalpha() and txt[0] not in ['\"',\"'\",'“']:\n",
    "        return None\n",
    "    if len(txt) <= 50:\n",
    "        return None\n",
    "    return txt"
   ]
  },
  {
   "cell_type": "code",
   "execution_count": 6,
   "id": "86b39099-fa3d-40d4-b179-c85e749c35f4",
   "metadata": {
    "tags": []
   },
   "outputs": [
    {
     "name": "stdout",
     "output_type": "stream",
     "text": [
      "0/3379 articles processed\n",
      "500/3379 articles processed\n",
      "1000/3379 articles processed\n",
      "1500/3379 articles processed\n",
      "2000/3379 articles processed\n",
      "2500/3379 articles processed\n",
      "3000/3379 articles processed\n",
      "\n",
      "55043/66347 sentences valid.\n",
      "\n",
      "55043 docs processed successfully!\n"
     ]
    }
   ],
   "source": [
    "docs = []\n",
    "texts = []\n",
    "\n",
    "article2sents = dict()\n",
    "\n",
    "listBySent = []\n",
    "records = df.to_dict('records')\n",
    "totalSents = 0\n",
    "validSents = 0\n",
    "for i, rec in enumerate(records):\n",
    "    if i % 500 == 0:\n",
    "        print(f'{i}/{len(records)} articles processed')\n",
    "    rec_text = rec['text']\n",
    "    if isinstance(rec_text, str):\n",
    "        sents = sent_tokenize(rec_text)\n",
    "        validSentsinDoc = []\n",
    "        sentIdx = 0\n",
    "    \n",
    "        for text in sents:\n",
    "            sentRec = dict()\n",
    "            sentRec['index'] = i\n",
    "            sentRec['newsOutlet'] = rec['newsOutlet']\n",
    "            sentRec['category'] = rec['category']\n",
    "            sentRec['dateSeen'] = rec['dateSeen']\n",
    "            sentRec['url'] = rec['url']\n",
    "            sentRec['title'] = rec['title']\n",
    "            sentRec['language'] = rec['language']\n",
    "            sentRec['sourceCountry'] = rec['sourceCountry']\n",
    "            \n",
    "            cleaned_text = tm_tokenize(text)\n",
    "            totalSents += 1\n",
    "            if cleaned_text == None:\n",
    "                continue\n",
    "            else:\n",
    "                docs.append(cleaned_text)\n",
    "                texts.append(text)\n",
    "                sentRec['sentText'] = cleaned_text\n",
    "                sentRec['sentIndexInText'] = sentIdx\n",
    "                sentRec['articleIndex'] = i\n",
    "                listBySent.append(sentRec)\n",
    "                validSentsinDoc.append(text)\n",
    "                validSents += 1\n",
    "                sentIdx += 1\n",
    "                \n",
    "        article2sents[i] = validSentsinDoc\n",
    "        \n",
    "print(f'\\n{validSents}/{totalSents} sentences valid.\\n')\n",
    "print(len(docs),'docs processed successfully!')"
   ]
  },
  {
   "cell_type": "code",
   "execution_count": 26,
   "id": "4874c303-3c45-497a-82cc-e4038625f059",
   "metadata": {},
   "outputs": [
    {
     "data": {
      "text/plain": [
       "'/Users/paigelee/Desktop/summer2022/stanford/research/ukraine-media-CSLI'"
      ]
     },
     "execution_count": 26,
     "metadata": {},
     "output_type": "execute_result"
    }
   ],
   "source": [
    "pwd"
   ]
  },
  {
   "cell_type": "code",
   "execution_count": 27,
   "id": "71607a7a-35aa-45db-b4e3-9a80aa8a1527",
   "metadata": {},
   "outputs": [
    {
     "name": "stdout",
     "output_type": "stream",
     "text": [
      "CPU times: user 21.5 s, sys: 2.2 s, total: 23.7 s\n",
      "Wall time: 29 s\n"
     ]
    },
    {
     "data": {
      "text/html": [
       "<div>\n",
       "<style scoped>\n",
       "    .dataframe tbody tr th:only-of-type {\n",
       "        vertical-align: middle;\n",
       "    }\n",
       "\n",
       "    .dataframe tbody tr th {\n",
       "        vertical-align: top;\n",
       "    }\n",
       "\n",
       "    .dataframe thead th {\n",
       "        text-align: right;\n",
       "    }\n",
       "</style>\n",
       "<table border=\"1\" class=\"dataframe\">\n",
       "  <thead>\n",
       "    <tr style=\"text-align: right;\">\n",
       "      <th></th>\n",
       "      <th>index</th>\n",
       "      <th>newsOutlet</th>\n",
       "      <th>category</th>\n",
       "      <th>dateSeen</th>\n",
       "      <th>url</th>\n",
       "      <th>title</th>\n",
       "      <th>language</th>\n",
       "      <th>sourceCountry</th>\n",
       "      <th>sentText</th>\n",
       "      <th>sentIndexInText</th>\n",
       "      <th>sentTopicID</th>\n",
       "    </tr>\n",
       "  </thead>\n",
       "  <tbody>\n",
       "    <tr>\n",
       "      <th>225</th>\n",
       "      <td>11</td>\n",
       "      <td>apnews.com</td>\n",
       "      <td>western</td>\n",
       "      <td>2021-10-01 07:00:00</td>\n",
       "      <td>https://apnews.com/2c45904e7bea3b7d2705ddbdeee...</td>\n",
       "      <td>Georgia says its ex - president arrested after...</td>\n",
       "      <td>English</td>\n",
       "      <td>United States</td>\n",
       "      <td>The announcement by Prime Minister Irakli Gari...</td>\n",
       "      <td>1</td>\n",
       "      <td>-1</td>\n",
       "    </tr>\n",
       "    <tr>\n",
       "      <th>226</th>\n",
       "      <td>11</td>\n",
       "      <td>apnews.com</td>\n",
       "      <td>western</td>\n",
       "      <td>2021-10-01 07:00:00</td>\n",
       "      <td>https://apnews.com/2c45904e7bea3b7d2705ddbdeee...</td>\n",
       "      <td>Georgia says its ex - president arrested after...</td>\n",
       "      <td>English</td>\n",
       "      <td>United States</td>\n",
       "      <td>Details of the arrest were not immediately cle...</td>\n",
       "      <td>2</td>\n",
       "      <td>-1</td>\n",
       "    </tr>\n",
       "    <tr>\n",
       "      <th>233</th>\n",
       "      <td>11</td>\n",
       "      <td>apnews.com</td>\n",
       "      <td>western</td>\n",
       "      <td>2021-10-01 07:00:00</td>\n",
       "      <td>https://apnews.com/2c45904e7bea3b7d2705ddbdeee...</td>\n",
       "      <td>Georgia says its ex - president arrested after...</td>\n",
       "      <td>English</td>\n",
       "      <td>United States</td>\n",
       "      <td>It is unclear whether the EU deal will be foll...</td>\n",
       "      <td>9</td>\n",
       "      <td>-1</td>\n",
       "    </tr>\n",
       "    <tr>\n",
       "      <th>234</th>\n",
       "      <td>11</td>\n",
       "      <td>apnews.com</td>\n",
       "      <td>western</td>\n",
       "      <td>2021-10-01 07:00:00</td>\n",
       "      <td>https://apnews.com/2c45904e7bea3b7d2705ddbdeee...</td>\n",
       "      <td>Georgia says its ex - president arrested after...</td>\n",
       "      <td>English</td>\n",
       "      <td>United States</td>\n",
       "      <td>In July, Georgian Dream withdrew from the agre...</td>\n",
       "      <td>10</td>\n",
       "      <td>-1</td>\n",
       "    </tr>\n",
       "    <tr>\n",
       "      <th>236</th>\n",
       "      <td>11</td>\n",
       "      <td>apnews.com</td>\n",
       "      <td>western</td>\n",
       "      <td>2021-10-01 07:00:00</td>\n",
       "      <td>https://apnews.com/2c45904e7bea3b7d2705ddbdeee...</td>\n",
       "      <td>Georgia says its ex - president arrested after...</td>\n",
       "      <td>English</td>\n",
       "      <td>United States</td>\n",
       "      <td>Saakashvili’s intense grin in police custody u...</td>\n",
       "      <td>12</td>\n",
       "      <td>-1</td>\n",
       "    </tr>\n",
       "  </tbody>\n",
       "</table>\n",
       "</div>"
      ],
      "text/plain": [
       "     index  newsOutlet category             dateSeen  \\\n",
       "225     11  apnews.com  western  2021-10-01 07:00:00   \n",
       "226     11  apnews.com  western  2021-10-01 07:00:00   \n",
       "233     11  apnews.com  western  2021-10-01 07:00:00   \n",
       "234     11  apnews.com  western  2021-10-01 07:00:00   \n",
       "236     11  apnews.com  western  2021-10-01 07:00:00   \n",
       "\n",
       "                                                   url  \\\n",
       "225  https://apnews.com/2c45904e7bea3b7d2705ddbdeee...   \n",
       "226  https://apnews.com/2c45904e7bea3b7d2705ddbdeee...   \n",
       "233  https://apnews.com/2c45904e7bea3b7d2705ddbdeee...   \n",
       "234  https://apnews.com/2c45904e7bea3b7d2705ddbdeee...   \n",
       "236  https://apnews.com/2c45904e7bea3b7d2705ddbdeee...   \n",
       "\n",
       "                                                 title language  \\\n",
       "225  Georgia says its ex - president arrested after...  English   \n",
       "226  Georgia says its ex - president arrested after...  English   \n",
       "233  Georgia says its ex - president arrested after...  English   \n",
       "234  Georgia says its ex - president arrested after...  English   \n",
       "236  Georgia says its ex - president arrested after...  English   \n",
       "\n",
       "     sourceCountry                                           sentText  \\\n",
       "225  United States  The announcement by Prime Minister Irakli Gari...   \n",
       "226  United States  Details of the arrest were not immediately cle...   \n",
       "233  United States  It is unclear whether the EU deal will be foll...   \n",
       "234  United States  In July, Georgian Dream withdrew from the agre...   \n",
       "236  United States  Saakashvili’s intense grin in police custody u...   \n",
       "\n",
       "     sentIndexInText  sentTopicID  \n",
       "225                1           -1  \n",
       "226                2           -1  \n",
       "233                9           -1  \n",
       "234               10           -1  \n",
       "236               12           -1  "
      ]
     },
     "execution_count": 27,
     "metadata": {},
     "output_type": "execute_result"
    }
   ],
   "source": [
    "%%time\n",
    "sentenceDf = pd.read_excel('data/topic_model_data/fullSentDataFrame_8-1.xlsx',index_col=0)\n",
    "sentenceDf.head()"
   ]
  },
  {
   "cell_type": "markdown",
   "id": "fbcc7a3e-26cc-4737-a693-35e0510c6d97",
   "metadata": {},
   "source": [
    "## N-gram analysis"
   ]
  },
  {
   "cell_type": "code",
   "execution_count": 28,
   "id": "470f5387-8e23-499d-bd90-e585b8324698",
   "metadata": {},
   "outputs": [],
   "source": [
    "import itertools\n",
    "import stanza"
   ]
  },
  {
   "cell_type": "code",
   "execution_count": 31,
   "id": "ca5dd9e0-3cea-4b6a-8bb7-d5688a7a2846",
   "metadata": {
    "tags": []
   },
   "outputs": [
    {
     "data": {
      "application/vnd.jupyter.widget-view+json": {
       "model_id": "d0254d18a40241278ee0ed3bc745ee25",
       "version_major": 2,
       "version_minor": 0
      },
      "text/plain": [
       "Downloading https://raw.githubusercontent.com/stanfordnlp/stanza-resources/main/resources_1.2.2.json:   0%|   …"
      ]
     },
     "metadata": {},
     "output_type": "display_data"
    },
    {
     "name": "stderr",
     "output_type": "stream",
     "text": [
      "2022-07-31 18:05:04 INFO: Downloading default packages for language: en (English)...\n",
      "2022-07-31 18:05:06 INFO: File exists: /Users/paigelee/stanza_resources/en/default.zip.\n",
      "2022-07-31 18:05:10 INFO: Finished downloading models and saved to /Users/paigelee/stanza_resources.\n"
     ]
    }
   ],
   "source": [
    "stanza.download('en')\n",
    "nlp = stanza.Pipeline('en')"
   ]
  },
  {
   "cell_type": "code",
   "execution_count": 22,
   "id": "d03bce2f-9e4b-4825-b8ff-76c1a2ba6ec1",
   "metadata": {},
   "outputs": [],
   "source": [
    "import nltk\n",
    "from nltk.corpus import stopwords\n",
    "from nltk.corpus import state_union\n",
    "\n",
    "engStopwords = set(stopwords.words('english'))"
   ]
  },
  {
   "cell_type": "code",
   "execution_count": 34,
   "id": "7f102840-8d7d-4cc5-ab3f-cffae9a8d995",
   "metadata": {},
   "outputs": [
    {
     "name": "stderr",
     "output_type": "stream",
     "text": [
      "[nltk_data] Downloading package maxent_ne_chunker to\n",
      "[nltk_data]     /Users/paigelee/nltk_data...\n",
      "[nltk_data]   Unzipping chunkers/maxent_ne_chunker.zip.\n"
     ]
    },
    {
     "data": {
      "text/plain": [
       "True"
      ]
     },
     "execution_count": 34,
     "metadata": {},
     "output_type": "execute_result"
    }
   ],
   "source": [
    "nltk.download('maxent_ne_chunker')\n",
    "nltk.download('words')"
   ]
  },
  {
   "cell_type": "code",
   "execution_count": null,
   "id": "d1b23026-ba4f-4700-a1ea-094de5515cec",
   "metadata": {},
   "outputs": [],
   "source": [
    "jsonDict = dict()"
   ]
  },
  {
   "cell_type": "code",
   "execution_count": 32,
   "id": "63e678b8-0350-4810-a581-697f60058275",
   "metadata": {},
   "outputs": [],
   "source": [
    "i = sentenceDf.iloc[100]['sentText']"
   ]
  },
  {
   "cell_type": "code",
   "execution_count": 40,
   "id": "bd12436c-286b-4127-a1ed-8be652893583",
   "metadata": {},
   "outputs": [
    {
     "data": {
      "image/png": "[encoded data removed]",
      "text/plain": [
       "Tree('S', [('The', 'DT'), ('Department', 'NNP'), ('of', 'IN'), Tree('NE', [('State', 'NNP')]), ('delayed', 'VBD'), ('the', 'DT'), ('decision', 'NN'), ('until', 'IN'), ('the', 'DT'), ('very', 'RB'), ('last', 'JJ'), ('minute', 'NN'), ('.', '.')])"
      ]
     },
     "execution_count": 40,
     "metadata": {},
     "output_type": "execute_result"
    }
   ],
   "source": [
    "words = nltk.word_tokenize(i)\n",
    "tagged = nltk.pos_tag(words)\n",
    "namedEnt = nltk.ne_chunk(tagged, binary=True)\n",
    "namedEnt"
   ]
  },
  {
   "cell_type": "code",
   "execution_count": 42,
   "id": "ef41ad5f-e0ba-48a7-a9d0-177cb70db73c",
   "metadata": {},
   "outputs": [
    {
     "name": "stdout",
     "output_type": "stream",
     "text": [
      "0/18530 recs parsed by NLP\n",
      "1000/18530 recs parsed by NLP\n",
      "2000/18530 recs parsed by NLP\n",
      "3000/18530 recs parsed by NLP\n",
      "4000/18530 recs parsed by NLP\n",
      "5000/18530 recs parsed by NLP\n",
      "6000/18530 recs parsed by NLP\n",
      "7000/18530 recs parsed by NLP\n",
      "8000/18530 recs parsed by NLP\n",
      "9000/18530 recs parsed by NLP\n",
      "10000/18530 recs parsed by NLP\n",
      "11000/18530 recs parsed by NLP\n",
      "12000/18530 recs parsed by NLP\n",
      "13000/18530 recs parsed by NLP\n",
      "14000/18530 recs parsed by NLP\n",
      "15000/18530 recs parsed by NLP\n",
      "16000/18530 recs parsed by NLP\n",
      "17000/18530 recs parsed by NLP\n",
      "18000/18530 recs parsed by NLP\n",
      "\tdone nlping docs\n",
      "\tfound sufficient recs\n",
      "\tgot linked tokens\n",
      "\twrote json\n",
      "0/22646 recs parsed by NLP\n",
      "1000/22646 recs parsed by NLP\n",
      "2000/22646 recs parsed by NLP\n",
      "3000/22646 recs parsed by NLP\n",
      "4000/22646 recs parsed by NLP\n",
      "5000/22646 recs parsed by NLP\n",
      "6000/22646 recs parsed by NLP\n",
      "7000/22646 recs parsed by NLP\n",
      "8000/22646 recs parsed by NLP\n",
      "9000/22646 recs parsed by NLP\n",
      "10000/22646 recs parsed by NLP\n",
      "11000/22646 recs parsed by NLP\n",
      "12000/22646 recs parsed by NLP\n",
      "13000/22646 recs parsed by NLP\n",
      "14000/22646 recs parsed by NLP\n",
      "15000/22646 recs parsed by NLP\n",
      "16000/22646 recs parsed by NLP\n",
      "17000/22646 recs parsed by NLP\n",
      "18000/22646 recs parsed by NLP\n",
      "19000/22646 recs parsed by NLP\n",
      "20000/22646 recs parsed by NLP\n",
      "21000/22646 recs parsed by NLP\n",
      "22000/22646 recs parsed by NLP\n",
      "\tdone nlping docs\n",
      "\tfound sufficient recs\n",
      "\tgot linked tokens\n",
      "\twrote json\n",
      "CPU times: user 4h 30min 53s, sys: 2min 17s, total: 4h 33min 10s\n",
      "Wall time: 6h 9min 55s\n"
     ]
    }
   ],
   "source": [
    "%%time\n",
    "# get cooccurrence connections\n",
    "thresh = 5\n",
    "n = 4\n",
    "\n",
    "allSentRecords = sentenceDf.to_dict('records')\n",
    "\n",
    "for cat in ['western','russian']:\n",
    "    networkJson = dict()\n",
    "    networkJson['nodes'] = []\n",
    "    networkJson['links'] = []\n",
    "\n",
    "    curatedNodes = set()\n",
    "    linkCounter = dict()\n",
    "    keywordCounter = dict()\n",
    "\n",
    "    windowList = []\n",
    "    records = []\n",
    "    for d in allSentRecords:\n",
    "        if d['category'] == cat and d['sentTopicID'] != -1:\n",
    "            records.append(d)\n",
    "    for i, rec in enumerate(random.sample(records,100)):\n",
    "        if i % 1000 == 0:\n",
    "            print(f'{i}/{len(records)} recs parsed by NLP')\n",
    "        docText = rec['sentText']\n",
    "        nlpdoc = nlp(docText)\n",
    "        wordList = [w for w in nlpdoc.iter_words() if w.text.isalpha() and w.text.lower() not in engStopwords]\n",
    "        for windowIdx in range(len(wordList) // n + len(wordList) % n):\n",
    "            startIdx = windowIdx\n",
    "            endIdx = windowIdx+random.choice(list(range(1,n+1)))\n",
    "            wordWindow = wordList[startIdx:endIdx]\n",
    "            tokens = []\n",
    "            for wordToken in wordWindow:\n",
    "                formattedToken = wordToken.lemma.lower()\n",
    "                if formattedToken in engStopwords:\n",
    "                    continue\n",
    "                tokens.append(formattedToken)\n",
    "            windowList.append(tokens)\n",
    "        for t1 in [w.lemma.lower() for w in wordList]:\n",
    "            keywordCounter.setdefault(t1, 0)\n",
    "            keywordCounter[t1] += 1\n",
    "    print('\\tdone nlping docs')\n",
    "    sufficientNodes = set()\n",
    "    for key in keywordCounter:\n",
    "        if keywordCounter[key] >= thresh:\n",
    "            sufficientNodes.add(key)\n",
    "    print('\\tfound sufficient recs')\n",
    "    for tokens in windowList:\n",
    "        s = set(tokens)\n",
    "        subsets = [tuple(i) for i in itertools.combinations(s, 2)]\n",
    "        for t1, t2 in subsets:\n",
    "            if t1 != t2 and t1 in sufficientNodes and t2 in sufficientNodes:\n",
    "                label = '_'.join(sorted([t1, t2]))\n",
    "                linkCounter.setdefault(label, 0)\n",
    "                linkCounter[label] += 1\n",
    "    print('\\tgot linked tokens')\n",
    "    node2id = dict()\n",
    "    for i, node in enumerate(sufficientNodes):\n",
    "        networkJson['nodes'].append({\n",
    "            'id' : node,\n",
    "            'occurrences' : keywordCounter[node]\n",
    "        })\n",
    "        node2id[node] = i\n",
    "\n",
    "    for label in linkCounter:\n",
    "        source, target = label.split('_')\n",
    "        networkJson['links'].append({\n",
    "            'source' : node2id[source],\n",
    "            'target' : node2id[target],\n",
    "            'value' : linkCounter[label]\n",
    "        })\n",
    "    \n",
    "    jsonDict[cat] = networkJson\n",
    "    \n",
    "    with open(f'data/{cat}ngramNet{n}.json', 'w', encoding ='ascii') as json_file:\n",
    "        json.dump(networkJson, json_file, ensure_ascii = True)\n",
    "    print('\\twrote json')"
   ]
  },
  {
   "cell_type": "code",
   "execution_count": 38,
   "id": "f90f006f-d87f-4fb6-9c9d-476b3f53e573",
   "metadata": {},
   "outputs": [],
   "source": [
    "# with open(f'data/russianngramNet.json', 'w', encoding ='ascii') as json_file:\n",
    "#         json.dump(jsonDict['russian'], json_file, ensure_ascii = True)"
   ]
  },
  {
   "cell_type": "markdown",
   "id": "a31ed7c6-792a-4ebd-a0d0-63db1c4fc588",
   "metadata": {
    "tags": []
   },
   "source": [
    "### Running network analysis"
   ]
  },
  {
   "cell_type": "code",
   "execution_count": 3,
   "id": "5557aaad-ad44-42f2-960b-08ffa9dad23f",
   "metadata": {},
   "outputs": [],
   "source": [
    "with open(f'visualizations/ngramsNetwork/russianngramNet4.json', 'r', encoding ='ascii') as f:\n",
    "    network = json.loads(f.read())"
   ]
  },
  {
   "cell_type": "code",
   "execution_count": 12,
   "id": "f7bcee4d-46c2-45a4-83b4-830b95809a73",
   "metadata": {},
   "outputs": [],
   "source": [
    "id2node = dict()\n",
    "for i, n in enumerate(network['nodes']):\n",
    "    id2node[i] = n['id']"
   ]
  },
  {
   "cell_type": "code",
   "execution_count": 15,
   "id": "b86d3a14-a80d-42de-82f5-2ca5078649a4",
   "metadata": {},
   "outputs": [
    {
     "data": {
      "text/plain": [
       "107193"
      ]
     },
     "execution_count": 15,
     "metadata": {},
     "output_type": "execute_result"
    }
   ],
   "source": [
    "len(network['links'])"
   ]
  },
  {
   "cell_type": "code",
   "execution_count": 21,
   "id": "8b0db6a3-8575-4d0e-aeda-18abd767eac3",
   "metadata": {},
   "outputs": [
    {
     "name": "stdout",
     "output_type": "stream",
     "text": [
      "['deny', 'moscow'] {'source': 3203, 'target': 1084, 'value': 91}\n",
      "['deny', 'repeatedly'] {'source': 3203, 'target': 2094, 'value': 136}\n",
      "['deny', 'russia'] {'source': 3203, 'target': 454, 'value': 36}\n",
      "['accusation', 'deny'] {'source': 1725, 'target': 3203, 'value': 104}\n",
      "['deny', 'say'] {'source': 3203, 'target': 397, 'value': 19}\n",
      "['claim', 'deny'] {'source': 4305, 'target': 3203, 'value': 31}\n",
      "['allegation', 'deny'] {'source': 1587, 'target': 3203, 'value': 60}\n",
      "['deny', 'plan'] {'source': 3203, 'target': 4532, 'value': 31}\n",
      "['deny', 'invade'] {'source': 3203, 'target': 4233, 'value': 17}\n",
      "['deny', 'point'] {'source': 3203, 'target': 1929, 'value': 31}\n",
      "['deny', 'intention'] {'source': 3203, 'target': 2162, 'value': 20}\n"
     ]
    }
   ],
   "source": [
    "for i, l in enumerate(network['links']):\n",
    "    s = l['source']\n",
    "    t = l['target']\n",
    "    v = l['value']\n",
    "    if 'deny' in [id2node[s],id2node[t]] and v > 10:\n",
    "        print([id2node[s],id2node[t]], l)"
   ]
  },
  {
   "cell_type": "code",
   "execution_count": 14,
   "id": "5cc3a41b-4eaa-4842-b4c0-f8be2cf0de3a",
   "metadata": {},
   "outputs": [
    {
     "data": {
      "text/plain": [
       "('agreement', 'vladimir')"
      ]
     },
     "execution_count": 14,
     "metadata": {},
     "output_type": "execute_result"
    }
   ],
   "source": [
    "id2node[2219], id2node[2904]"
   ]
  },
  {
   "cell_type": "code",
   "execution_count": 8,
   "id": "54414a89-848a-4366-8b21-5f862dac0e7c",
   "metadata": {},
   "outputs": [
    {
     "data": {
      "text/plain": [
       "{'id': 'intent', 'occurrences': 17}"
      ]
     },
     "execution_count": 8,
     "metadata": {},
     "output_type": "execute_result"
    }
   ],
   "source": [
    "random.choice(network['nodes'])"
   ]
  },
  {
   "cell_type": "code",
   "execution_count": 9,
   "id": "642a8c38-93f3-44b5-ae81-7f7d32de200a",
   "metadata": {},
   "outputs": [
    {
     "data": {
      "text/plain": [
       "{'source': 2219, 'target': 2904, 'value': 2}"
      ]
     },
     "execution_count": 9,
     "metadata": {},
     "output_type": "execute_result"
    }
   ],
   "source": [
    "random.choice(network['links'])"
   ]
  },
  {
   "cell_type": "code",
   "execution_count": null,
   "id": "bd5bdc86-42b3-47dc-8ce0-af54e4a06e5f",
   "metadata": {},
   "outputs": [],
   "source": []
  }
 ],
 "metadata": {
  "kernelspec": {
   "display_name": "Python 3 (ipykernel)",
   "language": "python",
   "name": "python3"
  },
  "language_info": {
   "codemirror_mode": {
    "name": "ipython",
    "version": 3
   },
   "file_extension": ".py",
   "mimetype": "text/x-python",
   "name": "python",
   "nbconvert_exporter": "python",
   "pygments_lexer": "ipython3",
   "version": "3.9.7"
  }
 },
 "nbformat": 4,
 "nbformat_minor": 5
}
