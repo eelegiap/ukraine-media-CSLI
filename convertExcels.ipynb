{
 "cells": [
  {
   "cell_type": "code",
   "execution_count": 2,
   "id": "f8fe4341-a4e3-4de1-99cc-cff1749666ba",
   "metadata": {},
   "outputs": [],
   "source": [
    "import random\n",
    "import numpy as np\n",
    "import pandas as pd\n",
    "import time\n",
    "import re\n",
    "import datetime\n",
    "import os\n",
    "import matplotlib.pyplot as plt"
   ]
  },
  {
   "cell_type": "markdown",
   "id": "3a2225c3-feaf-4f76-bd70-931c145718ac",
   "metadata": {
    "tags": []
   },
   "source": [
    "# Process to one spreadsheet"
   ]
  },
  {
   "cell_type": "code",
   "execution_count": 59,
   "id": "5aee2eaf-5cc9-46e3-98df-ec9c4ba484d8",
   "metadata": {},
   "outputs": [
    {
     "name": "stdout",
     "output_type": "stream",
     "text": [
      "apnews.com_07-17-2022_trial.xlsx 1052\n",
      "sputniknews.com_07-14-2022_trial.xlsx 1071\n",
      "reuters.com_07-15-2022_trial.xlsx 485\n",
      "bbc.co.uk_07-15-2022_trial.xlsx 340\n",
      "tass.com_07-14-2022_trial.xlsx 1704\n"
     ]
    }
   ],
   "source": [
    "dfs = dict()\n",
    "path = 'data/'\n",
    "for file in os.listdir(path):\n",
    "    if file[0] != '.':\n",
    "        df = pd.read_excel(f'{path}{file}', index_col=0)\n",
    "        df['dateSeen'] = pd.to_datetime(df['dateSeen'], unit='s', utc=True).dt.tz_localize(None)\n",
    "        df = df[df['text'].apply(lambda x: isinstance(x, str) and 'ukrain' in x.lower())]\n",
    "        df = df[df['dateSeen'].apply(lambda x: x <= pd.Timestamp(2022, 2, 23))]\n",
    "        print(file, len(df))\n",
    "        dfs[file] = df"
   ]
  },
  {
   "cell_type": "code",
   "execution_count": 97,
   "id": "750c9b57-0d9e-4097-9d92-a3fec6205f1f",
   "metadata": {
    "tags": []
   },
   "outputs": [
    {
     "name": "stdout",
     "output_type": "stream",
     "text": [
      "initial 1877\n",
      "type text string 1877\n"
     ]
    },
    {
     "data": {
      "text/html": [
       "<div>\n",
       "<style scoped>\n",
       "    .dataframe tbody tr th:only-of-type {\n",
       "        vertical-align: middle;\n",
       "    }\n",
       "\n",
       "    .dataframe tbody tr th {\n",
       "        vertical-align: top;\n",
       "    }\n",
       "\n",
       "    .dataframe thead th {\n",
       "        text-align: right;\n",
       "    }\n",
       "</style>\n",
       "<table border=\"1\" class=\"dataframe\">\n",
       "  <thead>\n",
       "    <tr style=\"text-align: right;\">\n",
       "      <th></th>\n",
       "      <th>newsOutlet</th>\n",
       "      <th>dateSeen</th>\n",
       "      <th>url</th>\n",
       "      <th>title</th>\n",
       "      <th>language</th>\n",
       "      <th>sourceCountry</th>\n",
       "      <th>text</th>\n",
       "      <th>category</th>\n",
       "      <th>textCharCt</th>\n",
       "    </tr>\n",
       "  </thead>\n",
       "  <tbody>\n",
       "    <tr>\n",
       "      <th>428</th>\n",
       "      <td>bbc.co.uk</td>\n",
       "      <td>2022-02-20 08:00:00</td>\n",
       "      <td>https://www.bbc.co.uk/news/world-europe-60451955</td>\n",
       "      <td>Ukraine crisis : Russia keeps troops in Belaru...</td>\n",
       "      <td>English</td>\n",
       "      <td>United Kingdom</td>\n",
       "      <td>Russian President Vladimir Putin and his ally ...</td>\n",
       "      <td>western</td>\n",
       "      <td>4768</td>\n",
       "    </tr>\n",
       "    <tr>\n",
       "      <th>435</th>\n",
       "      <td>bbc.co.uk</td>\n",
       "      <td>2022-02-22 08:00:00</td>\n",
       "      <td>https://www.bbc.co.uk/news/av/world-europe-604...</td>\n",
       "      <td>Ukraine : Putin tells Russia spy chief to spea...</td>\n",
       "      <td>English</td>\n",
       "      <td>United Kingdom</td>\n",
       "      <td>President Vladimir Putin has pressed one of hi...</td>\n",
       "      <td>western</td>\n",
       "      <td>544</td>\n",
       "    </tr>\n",
       "    <tr>\n",
       "      <th>439</th>\n",
       "      <td>bbc.co.uk</td>\n",
       "      <td>2022-02-22 08:00:00</td>\n",
       "      <td>https://www.bbc.co.uk/news/business-60473233</td>\n",
       "      <td>Asia stocks fall as Ukraine - Russia tensions ...</td>\n",
       "      <td>English</td>\n",
       "      <td>United Kingdom</td>\n",
       "      <td>Oil and gas prices climbed on Tuesday on fears...</td>\n",
       "      <td>western</td>\n",
       "      <td>4965</td>\n",
       "    </tr>\n",
       "    <tr>\n",
       "      <th>463</th>\n",
       "      <td>bbc.co.uk</td>\n",
       "      <td>2022-02-22 08:00:00</td>\n",
       "      <td>https://www.bbc.co.uk/news/world-europe-60480734</td>\n",
       "      <td>Ukraine crisis : Germany halts pipeline as nat...</td>\n",
       "      <td>English</td>\n",
       "      <td>United Kingdom</td>\n",
       "      <td>Germany has put a stop to a key Russian gas pi...</td>\n",
       "      <td>western</td>\n",
       "      <td>5172</td>\n",
       "    </tr>\n",
       "    <tr>\n",
       "      <th>490</th>\n",
       "      <td>bbc.co.uk</td>\n",
       "      <td>2022-02-20 08:00:00</td>\n",
       "      <td>https://www.bbc.co.uk/news/av/uk-60452145</td>\n",
       "      <td>Watch : Sophie Raworth interviews Boris Johnson</td>\n",
       "      <td>English</td>\n",
       "      <td>United Kingdom</td>\n",
       "      <td>This video can not be played. This livestream ...</td>\n",
       "      <td>western</td>\n",
       "      <td>275</td>\n",
       "    </tr>\n",
       "  </tbody>\n",
       "</table>\n",
       "</div>"
      ],
      "text/plain": [
       "    newsOutlet            dateSeen  \\\n",
       "428  bbc.co.uk 2022-02-20 08:00:00   \n",
       "435  bbc.co.uk 2022-02-22 08:00:00   \n",
       "439  bbc.co.uk 2022-02-22 08:00:00   \n",
       "463  bbc.co.uk 2022-02-22 08:00:00   \n",
       "490  bbc.co.uk 2022-02-20 08:00:00   \n",
       "\n",
       "                                                   url  \\\n",
       "428   https://www.bbc.co.uk/news/world-europe-60451955   \n",
       "435  https://www.bbc.co.uk/news/av/world-europe-604...   \n",
       "439       https://www.bbc.co.uk/news/business-60473233   \n",
       "463   https://www.bbc.co.uk/news/world-europe-60480734   \n",
       "490          https://www.bbc.co.uk/news/av/uk-60452145   \n",
       "\n",
       "                                                 title language  \\\n",
       "428  Ukraine crisis : Russia keeps troops in Belaru...  English   \n",
       "435  Ukraine : Putin tells Russia spy chief to spea...  English   \n",
       "439  Asia stocks fall as Ukraine - Russia tensions ...  English   \n",
       "463  Ukraine crisis : Germany halts pipeline as nat...  English   \n",
       "490    Watch : Sophie Raworth interviews Boris Johnson  English   \n",
       "\n",
       "      sourceCountry                                               text  \\\n",
       "428  United Kingdom  Russian President Vladimir Putin and his ally ...   \n",
       "435  United Kingdom  President Vladimir Putin has pressed one of hi...   \n",
       "439  United Kingdom  Oil and gas prices climbed on Tuesday on fears...   \n",
       "463  United Kingdom  Germany has put a stop to a key Russian gas pi...   \n",
       "490  United Kingdom  This video can not be played. This livestream ...   \n",
       "\n",
       "    category  textCharCt  \n",
       "428  western        4768  \n",
       "435  western         544  \n",
       "439  western        4965  \n",
       "463  western        5172  \n",
       "490  western         275  "
      ]
     },
     "execution_count": 97,
     "metadata": {},
     "output_type": "execute_result"
    }
   ],
   "source": [
    "westernDfs = pd.concat([dfs['apnews.com_07-17-2022_trial.xlsx'],dfs['reuters.com_07-15-2022_trial.xlsx'],dfs['bbc.co.uk_07-15-2022_trial.xlsx']])\n",
    "print('initial', len(westernDfs))\n",
    "westernDfs = westernDfs[westernDfs['text'].apply(lambda x: isinstance(x, str))]\n",
    "westernDfs['category']= 'western'\n",
    "westernDfs['textCharCt'] = westernDfs.apply(lambda x: len(x['text']),axis=1)\n",
    "print('type text string', len(westernDfs))\n",
    "westernDfs.tail()"
   ]
  },
  {
   "cell_type": "code",
   "execution_count": 98,
   "id": "33aa5afb-f48a-45e3-8e08-4ad627042dea",
   "metadata": {},
   "outputs": [
    {
     "name": "stdout",
     "output_type": "stream",
     "text": [
      "all types 2775\n",
      "type text string 2775\n"
     ]
    },
    {
     "data": {
      "text/html": [
       "<div>\n",
       "<style scoped>\n",
       "    .dataframe tbody tr th:only-of-type {\n",
       "        vertical-align: middle;\n",
       "    }\n",
       "\n",
       "    .dataframe tbody tr th {\n",
       "        vertical-align: top;\n",
       "    }\n",
       "\n",
       "    .dataframe thead th {\n",
       "        text-align: right;\n",
       "    }\n",
       "</style>\n",
       "<table border=\"1\" class=\"dataframe\">\n",
       "  <thead>\n",
       "    <tr style=\"text-align: right;\">\n",
       "      <th></th>\n",
       "      <th>newsOutlet</th>\n",
       "      <th>dateSeen</th>\n",
       "      <th>url</th>\n",
       "      <th>title</th>\n",
       "      <th>language</th>\n",
       "      <th>sourceCountry</th>\n",
       "      <th>text</th>\n",
       "      <th>category</th>\n",
       "      <th>textCharCt</th>\n",
       "    </tr>\n",
       "  </thead>\n",
       "  <tbody>\n",
       "    <tr>\n",
       "      <th>377</th>\n",
       "      <td>sputniknews.com</td>\n",
       "      <td>2021-12-31 08:00:00</td>\n",
       "      <td>https://sputniknews.com/20211231/so-that-was-2...</td>\n",
       "      <td>So That Was 2021 ! Trump Leaves White House , ...</td>\n",
       "      <td>English</td>\n",
       "      <td>Russia</td>\n",
       "      <td>The year began with a riot at the Capitol in W...</td>\n",
       "      <td>russian</td>\n",
       "      <td>17621</td>\n",
       "    </tr>\n",
       "    <tr>\n",
       "      <th>615</th>\n",
       "      <td>sputniknews.com</td>\n",
       "      <td>2022-01-28 08:00:00</td>\n",
       "      <td>https://sputniknews.com/20220128/war-danger-bo...</td>\n",
       "      <td>War Danger , Boorish Diplomacy , and U  Cossac...</td>\n",
       "      <td>English</td>\n",
       "      <td>Russia</td>\n",
       "      <td>The Russian foreign minister sat down with the...</td>\n",
       "      <td>russian</td>\n",
       "      <td>14607</td>\n",
       "    </tr>\n",
       "    <tr>\n",
       "      <th>55</th>\n",
       "      <td>sputniknews.com</td>\n",
       "      <td>2021-10-29 07:00:00</td>\n",
       "      <td>https://sputniknews.com/20211029/why-russias-m...</td>\n",
       "      <td>Why Russia  Moderate Conservatism  Might Play ...</td>\n",
       "      <td>English</td>\n",
       "      <td>Russia</td>\n",
       "      <td>The main message of Vladimir Putin's Valdai sp...</td>\n",
       "      <td>russian</td>\n",
       "      <td>12662</td>\n",
       "    </tr>\n",
       "    <tr>\n",
       "      <th>283</th>\n",
       "      <td>tass.com</td>\n",
       "      <td>2021-11-01 07:00:00</td>\n",
       "      <td>https://tass.com/pressreview/1356383</td>\n",
       "      <td>Press review : What to expect from COP26 and R...</td>\n",
       "      <td>English</td>\n",
       "      <td>NaN</td>\n",
       "      <td>The much-awaited Glasgow-hosted UN climate tal...</td>\n",
       "      <td>russian</td>\n",
       "      <td>12460</td>\n",
       "    </tr>\n",
       "    <tr>\n",
       "      <th>97</th>\n",
       "      <td>sputniknews.com</td>\n",
       "      <td>2021-11-15 08:00:00</td>\n",
       "      <td>https://sputniknews.com/20211115/wild-world-of...</td>\n",
       "      <td>Wild World of World Cup Qualification : How th...</td>\n",
       "      <td>English</td>\n",
       "      <td>Russia</td>\n",
       "      <td>The 2022 FIFA World Cup in Qatar will be the f...</td>\n",
       "      <td>russian</td>\n",
       "      <td>11499</td>\n",
       "    </tr>\n",
       "  </tbody>\n",
       "</table>\n",
       "</div>"
      ],
      "text/plain": [
       "          newsOutlet            dateSeen  \\\n",
       "377  sputniknews.com 2021-12-31 08:00:00   \n",
       "615  sputniknews.com 2022-01-28 08:00:00   \n",
       "55   sputniknews.com 2021-10-29 07:00:00   \n",
       "283         tass.com 2021-11-01 07:00:00   \n",
       "97   sputniknews.com 2021-11-15 08:00:00   \n",
       "\n",
       "                                                   url  \\\n",
       "377  https://sputniknews.com/20211231/so-that-was-2...   \n",
       "615  https://sputniknews.com/20220128/war-danger-bo...   \n",
       "55   https://sputniknews.com/20211029/why-russias-m...   \n",
       "283               https://tass.com/pressreview/1356383   \n",
       "97   https://sputniknews.com/20211115/wild-world-of...   \n",
       "\n",
       "                                                 title language sourceCountry  \\\n",
       "377  So That Was 2021 ! Trump Leaves White House , ...  English        Russia   \n",
       "615  War Danger , Boorish Diplomacy , and U  Cossac...  English        Russia   \n",
       "55   Why Russia  Moderate Conservatism  Might Play ...  English        Russia   \n",
       "283  Press review : What to expect from COP26 and R...  English           NaN   \n",
       "97   Wild World of World Cup Qualification : How th...  English        Russia   \n",
       "\n",
       "                                                  text category  textCharCt  \n",
       "377  The year began with a riot at the Capitol in W...  russian       17621  \n",
       "615  The Russian foreign minister sat down with the...  russian       14607  \n",
       "55   The main message of Vladimir Putin's Valdai sp...  russian       12662  \n",
       "283  The much-awaited Glasgow-hosted UN climate tal...  russian       12460  \n",
       "97   The 2022 FIFA World Cup in Qatar will be the f...  russian       11499  "
      ]
     },
     "execution_count": 98,
     "metadata": {},
     "output_type": "execute_result"
    }
   ],
   "source": [
    "russianDfs = pd.concat([dfs['sputniknews.com_07-14-2022_trial.xlsx'],dfs['tass.com_07-14-2022_trial.xlsx']])\n",
    "\n",
    "print('all types', len(russianDfs))\n",
    "\n",
    "russianDfs = russianDfs[russianDfs['text'].apply(lambda x: isinstance(x, str))]\n",
    "russianDfs['category']= 'russian'\n",
    "\n",
    "russianDfs['textCharCt'] = russianDfs.apply(lambda x: len(x['text']),axis=1)\n",
    "russianDfs = russianDfs.sort_values(by='textCharCt',ascending=False)\n",
    "\n",
    "print('type text string', len(russianDfs))\n",
    "\n",
    "russianDfs.head()"
   ]
  },
  {
   "cell_type": "code",
   "execution_count": 99,
   "id": "7646d337-be08-45cf-99a3-601afc41440b",
   "metadata": {},
   "outputs": [
    {
     "data": {
      "image/png": "[encoded data removed]",
      "text/plain": [
       "<Figure size 720x360 with 1 Axes>"
      ]
     },
     "metadata": {
      "needs_background": "light"
     },
     "output_type": "display_data"
    }
   ],
   "source": [
    "# Count words\n",
    "def getWordCount(text):\n",
    "    if type(text) == str:\n",
    "        return len(text.split(' '))\n",
    "    else:\n",
    "        return 0\n",
    "\n",
    "df = russianDfs.sample(n=2000,random_state=1)\n",
    "df['estWordCount'] = df['text'].apply(getWordCount)\n",
    "\n",
    "fig = plt.figure(figsize = (10,5))\n",
    "ax = fig.gca()\n",
    "# ax.xaxis.set_ticks(list(range(0,6000,300)))  \n",
    "hist = df.hist(column='estWordCount',bins=30,ax=ax,edgecolor='white',linewidth=.7)"
   ]
  },
  {
   "cell_type": "code",
   "execution_count": 100,
   "id": "b228018c-bb2c-471e-ac3c-9135b7c9e3fa",
   "metadata": {},
   "outputs": [
    {
     "data": {
      "image/png": "[encoded data removed]",
      "text/plain": [
       "<Figure size 720x360 with 1 Axes>"
      ]
     },
     "metadata": {
      "needs_background": "light"
     },
     "output_type": "display_data"
    }
   ],
   "source": [
    "df = westernDfs.sample(n=1877,random_state=1)\n",
    "df['estWordCount'] = df['text'].apply(getWordCount)\n",
    "\n",
    "fig = plt.figure(figsize = (10,5))\n",
    "ax = fig.gca()\n",
    "# ax.xaxis.set_ticks(list(range(0,6000,300)))  \n",
    "hist = df.hist(column='estWordCount',bins=30,ax=ax,edgecolor='white',linewidth=.7)"
   ]
  },
  {
   "cell_type": "code",
   "execution_count": 105,
   "id": "ec20cba0-67cd-4287-9fba-3a431e0f19cf",
   "metadata": {},
   "outputs": [
    {
     "name": "stdout",
     "output_type": "stream",
     "text": [
      "3757\n"
     ]
    },
    {
     "data": {
      "text/html": [
       "<div>\n",
       "<style scoped>\n",
       "    .dataframe tbody tr th:only-of-type {\n",
       "        vertical-align: middle;\n",
       "    }\n",
       "\n",
       "    .dataframe tbody tr th {\n",
       "        vertical-align: top;\n",
       "    }\n",
       "\n",
       "    .dataframe thead th {\n",
       "        text-align: right;\n",
       "    }\n",
       "</style>\n",
       "<table border=\"1\" class=\"dataframe\">\n",
       "  <thead>\n",
       "    <tr style=\"text-align: right;\">\n",
       "      <th></th>\n",
       "      <th>newsOutlet</th>\n",
       "      <th>dateSeen</th>\n",
       "      <th>url</th>\n",
       "      <th>title</th>\n",
       "      <th>language</th>\n",
       "      <th>sourceCountry</th>\n",
       "      <th>text</th>\n",
       "      <th>category</th>\n",
       "      <th>textCharCt</th>\n",
       "    </tr>\n",
       "  </thead>\n",
       "  <tbody>\n",
       "    <tr>\n",
       "      <th>182</th>\n",
       "      <td>reuters.com</td>\n",
       "      <td>2021-11-04 07:00:00</td>\n",
       "      <td>https://www.reuters.com/world/europe/ukraine-a...</td>\n",
       "      <td>Ukraine appoints new defence minister amid scr...</td>\n",
       "      <td>English</td>\n",
       "      <td>United States</td>\n",
       "      <td>Ukraine's Deputy Prime Minister Oleksii Reznik...</td>\n",
       "      <td>western</td>\n",
       "      <td>2367</td>\n",
       "    </tr>\n",
       "    <tr>\n",
       "      <th>626</th>\n",
       "      <td>apnews.com</td>\n",
       "      <td>2022-01-24 08:00:00</td>\n",
       "      <td>https://apnews.com/article/russia-ukraine-russ...</td>\n",
       "      <td>Analysis : Crisis in Ukraine a showdown of two...</td>\n",
       "      <td>English</td>\n",
       "      <td>United States</td>\n",
       "      <td>NEW YORK (AP) — The crisis in Ukraine is hardl...</td>\n",
       "      <td>western</td>\n",
       "      <td>7512</td>\n",
       "    </tr>\n",
       "    <tr>\n",
       "      <th>607</th>\n",
       "      <td>apnews.com</td>\n",
       "      <td>2022-01-28 08:00:00</td>\n",
       "      <td>https://apnews.com/article/russia-ukraine-pola...</td>\n",
       "      <td>Poland says Russia - Ukraine tensions not seen...</td>\n",
       "      <td>English</td>\n",
       "      <td>United States</td>\n",
       "      <td>WARSAW, Poland (AP) — Russian troop movements ...</td>\n",
       "      <td>western</td>\n",
       "      <td>1568</td>\n",
       "    </tr>\n",
       "    <tr>\n",
       "      <th>668</th>\n",
       "      <td>apnews.com</td>\n",
       "      <td>2022-01-25 08:00:00</td>\n",
       "      <td>https://apnews.com/article/us-sanction-options...</td>\n",
       "      <td>EXPLAINER : What are US options for sanctions ...</td>\n",
       "      <td>English</td>\n",
       "      <td>United States</td>\n",
       "      <td>WASHINGTON (AP) — The financial options being ...</td>\n",
       "      <td>western</td>\n",
       "      <td>6789</td>\n",
       "    </tr>\n",
       "    <tr>\n",
       "      <th>28</th>\n",
       "      <td>bbc.co.uk</td>\n",
       "      <td>2021-10-30 07:00:00</td>\n",
       "      <td>https://www.bbc.co.uk/news/world-europe-59076157</td>\n",
       "      <td>La Palma volcano survivors shaken but determin...</td>\n",
       "      <td>English</td>\n",
       "      <td>United Kingdom</td>\n",
       "      <td>Watch: 'Sometimes it feels like a war zone' Im...</td>\n",
       "      <td>western</td>\n",
       "      <td>5350</td>\n",
       "    </tr>\n",
       "  </tbody>\n",
       "</table>\n",
       "</div>"
      ],
      "text/plain": [
       "      newsOutlet            dateSeen  \\\n",
       "182  reuters.com 2021-11-04 07:00:00   \n",
       "626   apnews.com 2022-01-24 08:00:00   \n",
       "607   apnews.com 2022-01-28 08:00:00   \n",
       "668   apnews.com 2022-01-25 08:00:00   \n",
       "28     bbc.co.uk 2021-10-30 07:00:00   \n",
       "\n",
       "                                                   url  \\\n",
       "182  https://www.reuters.com/world/europe/ukraine-a...   \n",
       "626  https://apnews.com/article/russia-ukraine-russ...   \n",
       "607  https://apnews.com/article/russia-ukraine-pola...   \n",
       "668  https://apnews.com/article/us-sanction-options...   \n",
       "28    https://www.bbc.co.uk/news/world-europe-59076157   \n",
       "\n",
       "                                                 title language  \\\n",
       "182  Ukraine appoints new defence minister amid scr...  English   \n",
       "626  Analysis : Crisis in Ukraine a showdown of two...  English   \n",
       "607  Poland says Russia - Ukraine tensions not seen...  English   \n",
       "668  EXPLAINER : What are US options for sanctions ...  English   \n",
       "28   La Palma volcano survivors shaken but determin...  English   \n",
       "\n",
       "      sourceCountry                                               text  \\\n",
       "182   United States  Ukraine's Deputy Prime Minister Oleksii Reznik...   \n",
       "626   United States  NEW YORK (AP) — The crisis in Ukraine is hardl...   \n",
       "607   United States  WARSAW, Poland (AP) — Russian troop movements ...   \n",
       "668   United States  WASHINGTON (AP) — The financial options being ...   \n",
       "28   United Kingdom  Watch: 'Sometimes it feels like a war zone' Im...   \n",
       "\n",
       "    category  textCharCt  \n",
       "182  western        2367  \n",
       "626  western        7512  \n",
       "607  western        1568  \n",
       "668  western        6789  \n",
       "28   western        5350  "
      ]
     },
     "execution_count": 105,
     "metadata": {},
     "output_type": "execute_result"
    }
   ],
   "source": [
    "result = pd.concat([westernDfs.sample(n=1877,random_state=1), russianDfs[:1880]])\n",
    "print(len(result))\n",
    "result.head()"
   ]
  },
  {
   "cell_type": "code",
   "execution_count": 102,
   "id": "dc6437de-8044-48ce-a2b0-0fbfcd631a74",
   "metadata": {},
   "outputs": [
    {
     "name": "stdout",
     "output_type": "stream",
     "text": [
      "total word ct 2186778\n"
     ]
    }
   ],
   "source": [
    "# get estimated word count\n",
    "wordCt = 0 \n",
    "for rec in result.to_records('dict'):\n",
    "    wordCt += len(rec['text'].split(' '))\n",
    "print('total word ct', wordCt)"
   ]
  },
  {
   "cell_type": "code",
   "execution_count": 103,
   "id": "4fb56135-8e8c-4563-a3be-e23e1b86dd4a",
   "metadata": {},
   "outputs": [],
   "source": [
    "result.to_excel('western_russian_3757_articles.xlsx')"
   ]
  },
  {
   "cell_type": "code",
   "execution_count": 15,
   "id": "2e7542e5-91bd-4b94-95cf-88a79ab6d6d8",
   "metadata": {},
   "outputs": [
    {
     "name": "stdout",
     "output_type": "stream",
     "text": [
      "6011\n"
     ]
    },
    {
     "data": {
      "text/html": [
       "<div>\n",
       "<style scoped>\n",
       "    .dataframe tbody tr th:only-of-type {\n",
       "        vertical-align: middle;\n",
       "    }\n",
       "\n",
       "    .dataframe tbody tr th {\n",
       "        vertical-align: top;\n",
       "    }\n",
       "\n",
       "    .dataframe thead th {\n",
       "        text-align: right;\n",
       "    }\n",
       "</style>\n",
       "<table border=\"1\" class=\"dataframe\">\n",
       "  <thead>\n",
       "    <tr style=\"text-align: right;\">\n",
       "      <th></th>\n",
       "      <th>newsOutlet</th>\n",
       "      <th>dateSeen</th>\n",
       "      <th>url</th>\n",
       "      <th>title</th>\n",
       "      <th>language</th>\n",
       "      <th>sourceCountry</th>\n",
       "      <th>text</th>\n",
       "      <th>category</th>\n",
       "    </tr>\n",
       "  </thead>\n",
       "  <tbody>\n",
       "    <tr>\n",
       "      <th>0</th>\n",
       "      <td>apnews.com</td>\n",
       "      <td>2021-10-12 07:00:00</td>\n",
       "      <td>https://apnews.com/article/technology-business...</td>\n",
       "      <td>EU , Ukraine to discuss military training and ...</td>\n",
       "      <td>English</td>\n",
       "      <td>United States</td>\n",
       "      <td>BRUSSELS (AP) — The European Union is consider...</td>\n",
       "      <td>western</td>\n",
       "    </tr>\n",
       "    <tr>\n",
       "      <th>1</th>\n",
       "      <td>apnews.com</td>\n",
       "      <td>2021-10-12 07:00:00</td>\n",
       "      <td>https://apnews.com/cdfd9b277f6bade5697e0427429...</td>\n",
       "      <td>Blinken reaffirms US support for Ukraine amid ...</td>\n",
       "      <td>English</td>\n",
       "      <td>United States</td>\n",
       "      <td>KYIV, Ukraine (AP) — U.S. Secretary of State A...</td>\n",
       "      <td>western</td>\n",
       "    </tr>\n",
       "    <tr>\n",
       "      <th>2</th>\n",
       "      <td>apnews.com</td>\n",
       "      <td>2021-10-11 07:00:00</td>\n",
       "      <td>https://apnews.com/90b50e622cefcbaeba96cb5e716...</td>\n",
       "      <td>EU , Ukraine to discuss military training and ...</td>\n",
       "      <td>English</td>\n",
       "      <td>United States</td>\n",
       "      <td>BRUSSELS (AP) — The European Union is consider...</td>\n",
       "      <td>western</td>\n",
       "    </tr>\n",
       "    <tr>\n",
       "      <th>3</th>\n",
       "      <td>apnews.com</td>\n",
       "      <td>2021-10-06 07:00:00</td>\n",
       "      <td>https://apnews.com/0b689a7baaac58603e4d7453aa5...</td>\n",
       "      <td>Ukraine Holocaust center names Nazi Babi Yar k...</td>\n",
       "      <td>English</td>\n",
       "      <td>United States</td>\n",
       "      <td>KYIV, Ukraine (AP) — The presidents of Ukraine...</td>\n",
       "      <td>western</td>\n",
       "    </tr>\n",
       "    <tr>\n",
       "      <th>4</th>\n",
       "      <td>apnews.com</td>\n",
       "      <td>2021-10-13 07:00:00</td>\n",
       "      <td>https://apnews.com/89d2455274aad5fe166445a5f82...</td>\n",
       "      <td>Ukraine separatist areas overwhelmed by soarin...</td>\n",
       "      <td>English</td>\n",
       "      <td>United States</td>\n",
       "      <td>KYIV, Ukraine (AP) — The Russia-backed separat...</td>\n",
       "      <td>western</td>\n",
       "    </tr>\n",
       "  </tbody>\n",
       "</table>\n",
       "</div>"
      ],
      "text/plain": [
       "   newsOutlet            dateSeen  \\\n",
       "0  apnews.com 2021-10-12 07:00:00   \n",
       "1  apnews.com 2021-10-12 07:00:00   \n",
       "2  apnews.com 2021-10-11 07:00:00   \n",
       "3  apnews.com 2021-10-06 07:00:00   \n",
       "4  apnews.com 2021-10-13 07:00:00   \n",
       "\n",
       "                                                 url  \\\n",
       "0  https://apnews.com/article/technology-business...   \n",
       "1  https://apnews.com/cdfd9b277f6bade5697e0427429...   \n",
       "2  https://apnews.com/90b50e622cefcbaeba96cb5e716...   \n",
       "3  https://apnews.com/0b689a7baaac58603e4d7453aa5...   \n",
       "4  https://apnews.com/89d2455274aad5fe166445a5f82...   \n",
       "\n",
       "                                               title language  sourceCountry  \\\n",
       "0  EU , Ukraine to discuss military training and ...  English  United States   \n",
       "1  Blinken reaffirms US support for Ukraine amid ...  English  United States   \n",
       "2  EU , Ukraine to discuss military training and ...  English  United States   \n",
       "3  Ukraine Holocaust center names Nazi Babi Yar k...  English  United States   \n",
       "4  Ukraine separatist areas overwhelmed by soarin...  English  United States   \n",
       "\n",
       "                                                text category  \n",
       "0  BRUSSELS (AP) — The European Union is consider...  western  \n",
       "1  KYIV, Ukraine (AP) — U.S. Secretary of State A...  western  \n",
       "2  BRUSSELS (AP) — The European Union is consider...  western  \n",
       "3  KYIV, Ukraine (AP) — The presidents of Ukraine...  western  \n",
       "4  KYIV, Ukraine (AP) — The Russia-backed separat...  western  "
      ]
     },
     "execution_count": 15,
     "metadata": {},
     "output_type": "execute_result"
    }
   ],
   "source": [
    "result = pd.concat([westernDfs, russianDfs])\n",
    "print(len(result))\n",
    "result.head()"
   ]
  },
  {
   "cell_type": "code",
   "execution_count": 16,
   "id": "e1ca6db7-a52c-4465-841b-462a08132160",
   "metadata": {},
   "outputs": [],
   "source": [
    "result.to_excel('apnews_bbc_reuters-sputnik_tass_60011_articles.xlsx',index=True)"
   ]
  },
  {
   "cell_type": "code",
   "execution_count": 8,
   "id": "ede9cbc3-36fa-44d0-983e-18f067ce645f",
   "metadata": {},
   "outputs": [],
   "source": [
    "westernDfs.to_excel('apnews_bbc_reuters_2500_articles.xlsx',index=True)"
   ]
  },
  {
   "cell_type": "code",
   "execution_count": 9,
   "id": "0b7699cb-881d-49ae-a10e-4d2ee1c3b034",
   "metadata": {},
   "outputs": [],
   "source": [
    "russianDfs.to_excel('sputnik_tass_2500_articles.xlsx',index=True)"
   ]
  },
  {
   "cell_type": "markdown",
   "id": "a5616238-f87b-4c93-a488-967a0847c2ff",
   "metadata": {},
   "source": [
    "### Article review"
   ]
  },
  {
   "cell_type": "code",
   "execution_count": 40,
   "id": "880194bf-5463-465f-abc8-72fc40a0580e",
   "metadata": {},
   "outputs": [
    {
     "data": {
      "text/plain": [
       "'MOSCOW, Nov 13 (Reuters) - President Vladimir Putin said on Saturday that Belarus had not consulted him before raising the possibility of cutting Russian natural gas flows to Europe, adding that such a move would risk harming ties between Minsk and its key ally Moscow. Belarusian President Alexander Lukashenko threatened on Thursday to retaliate against any new European Union sanctions against Minsk over a migrant standoff on the Belarus-EU border, suggesting he could halt the transit of gas and other goods via Belarus.  read more His warning briefly lifted spot gas prices  in Europe, which gets about a third of its supplies of the fuel from Russia, including via the Yamal-Europe pipeline that runs through Belarus to Poland and Germany.  read more The Belarusian section of the Yamal-Europe pipeline is owned by Russia\\'s state gas monopoly, Gazprom (GAZP.MM). \"I\\'ve recently spoken to (Lukashenko) twice and he didn\\'t mention this to me once, he didn\\'t even hint,\" Putin said in a state television interview, making his first public comments about the Belarusian threat. \"Of course, in theory, Lukashenko as president of a transit country could order our (gas) supplies to be cut to Europe. But this would mean a breach of our gas transit contract and I hope this will not happen,\" Putin added. Russia has been Belarus\\'s closest ally for years, helping with everything from cash to cheap energy supplies and military assistance, but Lukashenko\\'s comments come at a sensitive time for Russia\\'s energy exports to Europe. Analysts say Lukashenko\\'s gas comments have likely tested Putin\\'s patience with Russian gas supplies already at the centre of heated debate in Europe.  read more European gas prices - and therefore, energy bills - are on the rise this year as the recovery from the pandemic has triggered a spike in demand, forcing customers from Europe to Asia to fight for supplies. Some European politicians have accused Moscow of failing to do more than just send contractual gas volumes, in order to calm down prices. The European Commission said on Friday that if Lukashenko made good on his threats, it would further harm gas suppliers. During Saturday\\'s interview, Putin said that if Belarus did cut off supplies, it would \"cause great damage\" to the European energy sector \"and would not help in developing our relations with Belarus as a transit country\". \"I will raise this with him (Lukashenko) in case this wasn\\'t something (he) said in the heat of the moment,\" Putin said. Russia, which this week started to increase supplies to refill its European storage ahead of the winter heating season, has said more could come once its newly built Nord Stream 2 pipeline gets a green light from Germany. Nord Stream 2 is another Russian pipeline designed to bypass transit countries, particularly Ukraine, which has a history of gas pricing standoffs with Moscow. The Kremlin calls the pipeline a \"purely commercial project\" and denies that politics are behind it in any way. Our Standards: The Thomson Reuters Trust Principles. China\\'s energy regulator will strengthen supervision of power dispatch transactions and the overall market to ensure a stable power supply, it said on Friday. Reuters, the news and media division of Thomson Reuters, is the world’s largest multimedia news provider, reaching billions of people worldwide every day. Reuters provides business, financial, national and international news to professionals via desktop terminals, the world\\'s media organizations, industry events and directly to consumers. Build the strongest argument relying on authoritative content, attorney-editor expertise, and industry defining technology. The most comprehensive solution to manage all your complex and ever-expanding tax and compliance needs. The industry leader for online information for tax, accounting and finance professionals. Access unmatched financial data, news and content in a highly-customised workflow experience on desktop, web and mobile. Browse an unrivalled portfolio of real-time and historical market data and insights from worldwide sources and experts. Screen for heightened risk individual and entities globally to help uncover hidden risks in business relationships and human networks. All quotes delayed a minimum of 15 minutes. See here for a complete list of exchanges and delays. © 2022 Reuters. All rights reserved'"
      ]
     },
     "execution_count": 40,
     "metadata": {},
     "output_type": "execute_result"
    }
   ],
   "source": [
    "random.choice(westernDfs['text'].tolist())"
   ]
  },
  {
   "cell_type": "code",
   "execution_count": 45,
   "id": "c312ba46-1a74-4914-846e-ff546fa6f434",
   "metadata": {},
   "outputs": [
    {
     "data": {
      "text/plain": [
       "'Anti-war activists rallied outside the White House in Washington, DC, on Thursday to demand that the Biden administration stop antagonizing Russia, risking war between two nuclear-armed powers. They chanted “no war on Russia” and “disband NATO” and carried banners saying the same as tourists visiting the US capital city gathered around and joined the demonstration, which swelled to several dozen people. The rally was called by some of the United States’ most active antiwar groups, including Code Pink, the Black Alliance for Peace, and the Act Now to Stop War and End Racism (ANSWER) Coalition. \"Negotiate, don\\'t escalate\" pic.twitter.com/eTT3J6IyOB— Morgan Artyukhina (@LavenderNRed) January 27, 2022 “Have we not learned our lesson from Afghanistan and Iraq?” asked Olivia DiNucci, a Code Pink member and one of the organizers of the demonstration. “I was 11 when the US went into Afghanistan, and 20 years later, we’ve spent $21 trillion on war. Destruction of people, the planet, surveillance of other countries and here at home, disproportionately hurting and harming Black, brown, indigenous, poor and low-income communities.” “Just last month, Congress passed a $678 billion military spending bill. Who benefits the most from this? You can’t say it enough: weapons manufacturers, arms dealers, intelligence communities, we can go on and on,” she said. “The Lockheed Martins, financial institutions like Blackrock; Raytheon is already telling its stockholders today, publicly, that this is going to be a ‘banner year.’ Shame!” .@oliviadinucci of @codepink said defense contractors win big from US wars: the Pentagon spent $21 trillion on war since 2000 & missile maker @Raytheon told investors 2022 will be a \"banner year.\" All that is $$ stolen from oppressed communities, to whom the US owes reparations. pic.twitter.com/hWQNXV54u7— Morgan Artyukhina (@LavenderNRed) January 27, 2022 Other groups joined, as well. Michael Bearman of the Party for Socialism and Liberation (PSL) told Sputnik: “We’re demanding that the US pull all of their weapons from Ukraine, to stop the war provocation, but overall, most importantly, we’re calling for the abolishment and disbandment of NATO.” “We say ‘no war with Russia,’ and we say this because we know that Russia’s not the aggressor, and in fact Ukraine is not really the aggressor: it is the US and NATO, which is run by the US and has many junior partners within Europe, who are instigating war with Russia. They do not want Russia to have an independent path of development, they don’t want Russia to have an independent foreign policy,” he said. Michael from @PSLdc: US & NATO don\\'t want Russia to have an independent path of development, so they\\'ve provoked a needless crisis that risks nuclear war. He says these Cold War relics must be disbanded. pic.twitter.com/XytR0d8C3F— Morgan Artyukhina (@LavenderNRed) January 27, 2022 Nearby was another protest in favor of passing the Equal Rights Amendment, which would amend the US Constitution to guarantee equal rights between men and women, which US President Joe Biden on Thursday called on lawmakers to push forward. Several protesters came over and joined the anti-war demonstration, telling Sputnik how the issues were connected. Gavin & Marco were part of an unrelated #ERANow protest nearby but stopped to join this one. I asked them why: they mentioned Mutually Assured Destruction & said, what good are equal rights if there\\'s nobody left to have them? pic.twitter.com/7tuZHGQrkX— Morgan Artyukhina (@LavenderNRed) January 27, 2022 “We saw the Equal Rights Amendment [protest] and we saw the importance of that, but at the same time, we noticed all the ‘no war’ signs,” Gavin, one of the demonstrators, told Sputnik. “Personally, although both are very crucial to American society, we feel like the war on Russia in Ukraine tends to be a more vital threat to our people because it’ll end up leading, like they said, to Mutually Assured Destruction, where both parties are going to end up being destroyed. And you know, without people to give equal rights to, there’s no point in having equal rights,” he noted. Marco, another ERA protester who joined, said: “When I heard the rhetoric about a war with Ukraine is gonna be an excuse, the same way it was with the Iraq War, that really caught my attention, especially now that we’re learning stuff like that in school and it’s so true, that’s just going to be an excuse to not have to give any social services and to be able to fund the military even more and that’s just disgusting to me.” The demonstration comes after US President Joe Biden ordered 8,500 troops to be ready for deployment to Eastern Europe in as few as five days if required, although he has said the troops will not be sent to Ukraine itself. The US has garrisons in several nearby states, including Romania, Poland, Estonia, Latvia, and Lithuania. On Wednesday, NATO and the US sent Moscow separate responses to a security proposal pitched last month that would address Russia’s core concerns in the region, including limiting the further eastward expansion of NATO to include Ukraine and the potential stationing of offensive NATO weapons in Ukraine. The US has claimed that Russian troops deployed to southern Russia for drills are a prelude to an invasion of Ukraine, but both Russian and Ukrainian leaders have dismissed the notion, with Moscow asserting its right to send troops anywhere inside its own borders and Kiev urging its allies and citizens alike not to be swept up in panic. Although NATO chief Jens Stoltenberg suggested establishing or re-establishing several communication lines with Moscow for mutual airing of concerns, Russian Foreign Minister Sergey Lavrov said on Thursday that the alliance’s response failed to address the main question of NATO’s expansion, refusing to acknowledge “the principle that one should not strengthen one\\'s security at the expense of the security of others.” Biden has promised to impose crippling economic sanctions on Russia in the event of an invasion of Ukraine, with Congressional Democrats rushing to pass a bill that would funnel even more weapons shipments to Ukraine, prop up US state-funded media outlets targeting the region, and create a legal imperative to impose the sanctions in question.'"
      ]
     },
     "execution_count": 45,
     "metadata": {},
     "output_type": "execute_result"
    }
   ],
   "source": [
    "random.choice(russianDfs['text'].tolist())"
   ]
  },
  {
   "cell_type": "markdown",
   "id": "67883a45-8252-446b-a8d9-ab2dbd401e56",
   "metadata": {},
   "source": [
    "# Converting to event-based data sample for LIWC"
   ]
  },
  {
   "cell_type": "code",
   "execution_count": 53,
   "id": "826ddd06-5936-4704-8368-6abfb1896cf3",
   "metadata": {},
   "outputs": [
    {
     "name": "stdout",
     "output_type": "stream",
     "text": [
      "412\n",
      "233\n"
     ]
    },
    {
     "data": {
      "text/html": [
       "<div>\n",
       "<style scoped>\n",
       "    .dataframe tbody tr th:only-of-type {\n",
       "        vertical-align: middle;\n",
       "    }\n",
       "\n",
       "    .dataframe tbody tr th {\n",
       "        vertical-align: top;\n",
       "    }\n",
       "\n",
       "    .dataframe thead th {\n",
       "        text-align: right;\n",
       "    }\n",
       "</style>\n",
       "<table border=\"1\" class=\"dataframe\">\n",
       "  <thead>\n",
       "    <tr style=\"text-align: right;\">\n",
       "      <th></th>\n",
       "      <th>newsOutlet</th>\n",
       "      <th>dateSeen</th>\n",
       "      <th>url</th>\n",
       "      <th>title</th>\n",
       "      <th>language</th>\n",
       "      <th>sourceCountry</th>\n",
       "      <th>text</th>\n",
       "      <th>category</th>\n",
       "    </tr>\n",
       "  </thead>\n",
       "  <tbody>\n",
       "    <tr>\n",
       "      <th>9</th>\n",
       "      <td>sputniknews.com</td>\n",
       "      <td>2021-10-15 07:00:00</td>\n",
       "      <td>https://sputniknews.com/20211015/us-asks-russi...</td>\n",
       "      <td>US Asks Russia to  Do More  for EU Energy Secu...</td>\n",
       "      <td>English</td>\n",
       "      <td>Russia</td>\n",
       "      <td>On Wednesday, Russian President Vladimir Putin...</td>\n",
       "      <td>russian</td>\n",
       "    </tr>\n",
       "    <tr>\n",
       "      <th>26</th>\n",
       "      <td>sputniknews.com</td>\n",
       "      <td>2021-10-29 07:00:00</td>\n",
       "      <td>https://sputniknews.com/20211029/kiev-claims-i...</td>\n",
       "      <td>Kiev Claims It Using Turkish - Made Combat Dro...</td>\n",
       "      <td>English</td>\n",
       "      <td>Russia</td>\n",
       "      <td>On Tuesday, the Ukrainian military released a ...</td>\n",
       "      <td>russian</td>\n",
       "    </tr>\n",
       "    <tr>\n",
       "      <th>58</th>\n",
       "      <td>sputniknews.com</td>\n",
       "      <td>2021-11-14 08:00:00</td>\n",
       "      <td>https://sputniknews.com/20211114/charge-of-the...</td>\n",
       "      <td>Charge of the Light Brigade II ? united kingdo...</td>\n",
       "      <td>English</td>\n",
       "      <td>Russia</td>\n",
       "      <td>UK Chief of Defence Staff Nick Carter warned S...</td>\n",
       "      <td>russian</td>\n",
       "    </tr>\n",
       "    <tr>\n",
       "      <th>66</th>\n",
       "      <td>sputniknews.com</td>\n",
       "      <td>2021-11-13 08:00:00</td>\n",
       "      <td>https://sputniknews.com/20211113/what-goals-ar...</td>\n",
       "      <td>What Goals are DC &amp; Kiev Pursuing by Peddling ...</td>\n",
       "      <td>English</td>\n",
       "      <td>Russia</td>\n",
       "      <td>US officials had warned their European counter...</td>\n",
       "      <td>russian</td>\n",
       "    </tr>\n",
       "    <tr>\n",
       "      <th>67</th>\n",
       "      <td>sputniknews.com</td>\n",
       "      <td>2021-11-13 08:00:00</td>\n",
       "      <td>https://sputniknews.com/20211113/putin-recalls...</td>\n",
       "      <td>Putin Recalls How Ukraine Cut Off Gas Supplies...</td>\n",
       "      <td>English</td>\n",
       "      <td>Russia</td>\n",
       "      <td>A gas crisis that left Europe without sufficie...</td>\n",
       "      <td>russian</td>\n",
       "    </tr>\n",
       "  </tbody>\n",
       "</table>\n",
       "</div>"
      ],
      "text/plain": [
       "         newsOutlet            dateSeen  \\\n",
       "9   sputniknews.com 2021-10-15 07:00:00   \n",
       "26  sputniknews.com 2021-10-29 07:00:00   \n",
       "58  sputniknews.com 2021-11-14 08:00:00   \n",
       "66  sputniknews.com 2021-11-13 08:00:00   \n",
       "67  sputniknews.com 2021-11-13 08:00:00   \n",
       "\n",
       "                                                  url  \\\n",
       "9   https://sputniknews.com/20211015/us-asks-russi...   \n",
       "26  https://sputniknews.com/20211029/kiev-claims-i...   \n",
       "58  https://sputniknews.com/20211114/charge-of-the...   \n",
       "66  https://sputniknews.com/20211113/what-goals-ar...   \n",
       "67  https://sputniknews.com/20211113/putin-recalls...   \n",
       "\n",
       "                                                title language sourceCountry  \\\n",
       "9   US Asks Russia to  Do More  for EU Energy Secu...  English        Russia   \n",
       "26  Kiev Claims It Using Turkish - Made Combat Dro...  English        Russia   \n",
       "58  Charge of the Light Brigade II ? united kingdo...  English        Russia   \n",
       "66  What Goals are DC & Kiev Pursuing by Peddling ...  English        Russia   \n",
       "67  Putin Recalls How Ukraine Cut Off Gas Supplies...  English        Russia   \n",
       "\n",
       "                                                 text category  \n",
       "9   On Wednesday, Russian President Vladimir Putin...  russian  \n",
       "26  On Tuesday, the Ukrainian military released a ...  russian  \n",
       "58  UK Chief of Defence Staff Nick Carter warned S...  russian  \n",
       "66  US officials had warned their European counter...  russian  \n",
       "67  A gas crisis that left Europe without sufficie...  russian  "
      ]
     },
     "execution_count": 53,
     "metadata": {},
     "output_type": "execute_result"
    }
   ],
   "source": [
    "belarusWest = westernDfs[westernDfs['text'].apply(lambda x: 'belarus' in x.lower() or 'lukashenko' in x.lower())]\n",
    "print(len(belarusWest))\n",
    "belarusRus = russianDfs[russianDfs['text'].apply(lambda x: 'belarus' in x.lower() or 'lukashenko' in x.lower())]\n",
    "print(len(belarusRus))\n",
    "belarusRus.head()"
   ]
  },
  {
   "cell_type": "code",
   "execution_count": 54,
   "id": "b340a94d-a0da-4a9e-88f1-c5c650b256c8",
   "metadata": {},
   "outputs": [
    {
     "data": {
      "text/html": [
       "<div>\n",
       "<style scoped>\n",
       "    .dataframe tbody tr th:only-of-type {\n",
       "        vertical-align: middle;\n",
       "    }\n",
       "\n",
       "    .dataframe tbody tr th {\n",
       "        vertical-align: top;\n",
       "    }\n",
       "\n",
       "    .dataframe thead th {\n",
       "        text-align: right;\n",
       "    }\n",
       "</style>\n",
       "<table border=\"1\" class=\"dataframe\">\n",
       "  <thead>\n",
       "    <tr style=\"text-align: right;\">\n",
       "      <th></th>\n",
       "      <th>newsOutlet</th>\n",
       "      <th>dateSeen</th>\n",
       "      <th>url</th>\n",
       "      <th>title</th>\n",
       "      <th>language</th>\n",
       "      <th>sourceCountry</th>\n",
       "      <th>text</th>\n",
       "      <th>category</th>\n",
       "    </tr>\n",
       "  </thead>\n",
       "  <tbody>\n",
       "    <tr>\n",
       "      <th>171</th>\n",
       "      <td>reuters.com</td>\n",
       "      <td>2021-11-15 08:00:00</td>\n",
       "      <td>https://www.reuters.com/world/uk/uk-support-uk...</td>\n",
       "      <td>UK support for Ukraine unwavering in face of R...</td>\n",
       "      <td>English</td>\n",
       "      <td>United States</td>\n",
       "      <td>A member of the Ukrainian State Border Guard S...</td>\n",
       "      <td>western</td>\n",
       "    </tr>\n",
       "    <tr>\n",
       "      <th>195</th>\n",
       "      <td>apnews.com</td>\n",
       "      <td>2021-11-24 08:00:00</td>\n",
       "      <td>https://apnews.com/article/business-europe-rus...</td>\n",
       "      <td>EXPLAINER : Is Russia going to invade Ukraine ?</td>\n",
       "      <td>English</td>\n",
       "      <td>United States</td>\n",
       "      <td>MOSCOW (AP) — Ukrainian and Western officials ...</td>\n",
       "      <td>western</td>\n",
       "    </tr>\n",
       "    <tr>\n",
       "      <th>877</th>\n",
       "      <td>apnews.com</td>\n",
       "      <td>2022-02-14 08:00:00</td>\n",
       "      <td>https://apnews.com/article/russia-ukraine-joe-...</td>\n",
       "      <td>Tripwire for real war ? Cyber fuzzy rules of e...</td>\n",
       "      <td>English</td>\n",
       "      <td>United States</td>\n",
       "      <td>BOSTON (AP) — President Joe Biden couldn’t hav...</td>\n",
       "      <td>western</td>\n",
       "    </tr>\n",
       "    <tr>\n",
       "      <th>274</th>\n",
       "      <td>reuters.com</td>\n",
       "      <td>2021-11-23 08:00:00</td>\n",
       "      <td>https://www.reuters.com/world/europe/qa-what-i...</td>\n",
       "      <td>What is the risk of a war between Russia and U...</td>\n",
       "      <td>English</td>\n",
       "      <td>United States</td>\n",
       "      <td>A serviceman of the Ukrainian Armed Forces tak...</td>\n",
       "      <td>western</td>\n",
       "    </tr>\n",
       "    <tr>\n",
       "      <th>180</th>\n",
       "      <td>reuters.com</td>\n",
       "      <td>2021-11-10 08:00:00</td>\n",
       "      <td>https://www.reuters.com/world/europe/ukraine-s...</td>\n",
       "      <td>Ukraine to sanction top Belarus security offic...</td>\n",
       "      <td>English</td>\n",
       "      <td>United States</td>\n",
       "      <td>Belarusian President Alexander Lukashenko deli...</td>\n",
       "      <td>western</td>\n",
       "    </tr>\n",
       "  </tbody>\n",
       "</table>\n",
       "</div>"
      ],
      "text/plain": [
       "      newsOutlet            dateSeen  \\\n",
       "171  reuters.com 2021-11-15 08:00:00   \n",
       "195   apnews.com 2021-11-24 08:00:00   \n",
       "877   apnews.com 2022-02-14 08:00:00   \n",
       "274  reuters.com 2021-11-23 08:00:00   \n",
       "180  reuters.com 2021-11-10 08:00:00   \n",
       "\n",
       "                                                   url  \\\n",
       "171  https://www.reuters.com/world/uk/uk-support-uk...   \n",
       "195  https://apnews.com/article/business-europe-rus...   \n",
       "877  https://apnews.com/article/russia-ukraine-joe-...   \n",
       "274  https://www.reuters.com/world/europe/qa-what-i...   \n",
       "180  https://www.reuters.com/world/europe/ukraine-s...   \n",
       "\n",
       "                                                 title language  \\\n",
       "171  UK support for Ukraine unwavering in face of R...  English   \n",
       "195   EXPLAINER : Is Russia going to invade Ukraine ?   English   \n",
       "877  Tripwire for real war ? Cyber fuzzy rules of e...  English   \n",
       "274  What is the risk of a war between Russia and U...  English   \n",
       "180  Ukraine to sanction top Belarus security offic...  English   \n",
       "\n",
       "     sourceCountry                                               text category  \n",
       "171  United States  A member of the Ukrainian State Border Guard S...  western  \n",
       "195  United States  MOSCOW (AP) — Ukrainian and Western officials ...  western  \n",
       "877  United States  BOSTON (AP) — President Joe Biden couldn’t hav...  western  \n",
       "274  United States  A serviceman of the Ukrainian Armed Forces tak...  western  \n",
       "180  United States  Belarusian President Alexander Lukashenko deli...  western  "
      ]
     },
     "execution_count": 54,
     "metadata": {},
     "output_type": "execute_result"
    }
   ],
   "source": [
    "belarusDf = pd.concat([belarusWest.sample(n=200,random_state=1), belarusRus.sample(n=200,random_state=1)])\n",
    "belarusDf.head()"
   ]
  },
  {
   "cell_type": "code",
   "execution_count": 56,
   "id": "c4fe5acb-eb41-4ac1-843e-4820be3f2522",
   "metadata": {},
   "outputs": [
    {
     "data": {
      "text/plain": [
       "400"
      ]
     },
     "execution_count": 56,
     "metadata": {},
     "output_type": "execute_result"
    }
   ],
   "source": [
    "len(belarusDf)"
   ]
  },
  {
   "cell_type": "code",
   "execution_count": 57,
   "id": "e6f13970-a7f0-4064-9f68-88e1e05923b7",
   "metadata": {},
   "outputs": [
    {
     "name": "stdout",
     "output_type": "stream",
     "text": [
      "western ct newsOutlet       200\n",
      "dateSeen         200\n",
      "url              200\n",
      "title            200\n",
      "language         200\n",
      "sourceCountry    200\n",
      "text             200\n",
      "category         200\n",
      "dtype: int64\n",
      "russian ct newsOutlet       200\n",
      "dateSeen         200\n",
      "url              200\n",
      "title            200\n",
      "language         200\n",
      "sourceCountry     87\n",
      "text             200\n",
      "category         200\n",
      "dtype: int64\n"
     ]
    }
   ],
   "source": [
    "print('western ct', belarusDf[(belarusDf['category'] == 'western')].count())\n",
    "print('russian ct', belarusDf[(belarusDf['category'] == 'russian')].count())"
   ]
  },
  {
   "cell_type": "code",
   "execution_count": 58,
   "id": "29ee6141-4417-46d0-9c49-f9da6718a991",
   "metadata": {},
   "outputs": [],
   "source": [
    "belarusDf.to_excel('LIWC/belarus-sample-for-LIWC.xlsx',index=True)"
   ]
  },
  {
   "cell_type": "code",
   "execution_count": null,
   "id": "ca98f6aa-91a6-41a6-a3e6-95ce560ff98e",
   "metadata": {},
   "outputs": [],
   "source": []
  }
 ],
 "metadata": {
  "kernelspec": {
   "display_name": "Python 3 (ipykernel)",
   "language": "python",
   "name": "python3"
  },
  "language_info": {
   "codemirror_mode": {
    "name": "ipython",
    "version": 3
   },
   "file_extension": ".py",
   "mimetype": "text/x-python",
   "name": "python",
   "nbconvert_exporter": "python",
   "pygments_lexer": "ipython3",
   "version": "3.9.12"
  }
 },
 "nbformat": 4,
 "nbformat_minor": 5
}
