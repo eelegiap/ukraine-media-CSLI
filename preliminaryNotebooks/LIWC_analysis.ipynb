{
 "cells": [
  {
   "cell_type": "code",
   "execution_count": 1,
   "id": "dabcd43d-e59e-48e0-a279-7abd5d8de0b3",
   "metadata": {},
   "outputs": [],
   "source": [
    "import random\n",
    "import numpy as np\n",
    "import pandas as pd\n",
    "import time\n",
    "import re\n",
    "import datetime\n",
    "import os\n",
    "import matplotlib.pyplot as plt\n",
    "import scipy\n",
    "from scipy import stats"
   ]
  },
  {
   "cell_type": "code",
   "execution_count": 2,
   "id": "02578d49-67be-4d31-8571-f37eba311387",
   "metadata": {},
   "outputs": [],
   "source": [
    "def f(p,n=4):\n",
    "    return '{0:.{1}f}'.format(p, n)"
   ]
  },
  {
   "cell_type": "markdown",
   "id": "27ef8368-787c-4272-9d5a-2852f1669c3f",
   "metadata": {},
   "source": [
    "# LIWC Color Coding HTML"
   ]
  },
  {
   "cell_type": "code",
   "execution_count": 38,
   "id": "7acd4047-bbbc-4546-a64e-e683566f3345",
   "metadata": {},
   "outputs": [],
   "source": [
    "from bs4 import BeautifulSoup"
   ]
  },
  {
   "cell_type": "code",
   "execution_count": 35,
   "id": "aeb2b03b-8135-4b3f-a435-9ce45081ceff",
   "metadata": {},
   "outputs": [],
   "source": [
    "with open('LIWCdata/Color Coding Sputnik.html', 'r') as f:\n",
    "    htmlfile = f.read()"
   ]
  },
  {
   "cell_type": "code",
   "execution_count": 39,
   "id": "e04f5dd6-fd9e-4bdf-acdf-fdb62b4a3286",
   "metadata": {
    "tags": []
   },
   "outputs": [],
   "source": [
    "soup = BeautifulSoup(htmlfile, \"html.parser\")\n",
    "body = soup.body"
   ]
  },
  {
   "cell_type": "code",
   "execution_count": 81,
   "id": "a3fcc645-a740-4aa4-8109-9f89e8f0db03",
   "metadata": {},
   "outputs": [],
   "source": [
    "colorDict = {\n",
    "    '#de911dff' : 'cogproc',\n",
    "    '#4c82a3ff' : 'motion',\n",
    "    '#a63d1bff' : 'socbehav',\n",
    "    '#654b81ff' : 'emo_anx',\n",
    "    '#30961eff' : 'tentat'\n",
    "}\n",
    "cat2words = dict()\n",
    "cat2count = dict()\n",
    "spans = body.find_all('span')\n",
    "for span in spans:\n",
    "    match = re.search(r\"#[a-zA-Z0-9]+\", str(span))\n",
    "    start, end = match.span()\n",
    "    color = str(span)[start:end]\n",
    "    cat = colorDict[color]\n",
    "    cat2words.setdefault(cat,set())\n",
    "    cat2count.setdefault(cat, 0)\n",
    "    cat2words[cat].add(span.text.lower())\n",
    "    cat2count[cat] += 1"
   ]
  },
  {
   "cell_type": "code",
   "execution_count": 82,
   "id": "757deeba-d24d-4d63-961f-de10a8983c52",
   "metadata": {},
   "outputs": [
    {
     "data": {
      "text/plain": [
       "{'cogproc': 43235,\n",
       " 'motion': 6878,\n",
       " 'socbehav': 34521,\n",
       " 'tentat': 8155,\n",
       " 'emo_anx': 911}"
      ]
     },
     "execution_count": 82,
     "metadata": {},
     "output_type": "execute_result"
    }
   ],
   "source": [
    "cat2count"
   ]
  },
  {
   "cell_type": "code",
   "execution_count": 80,
   "id": "546d798e-3eb3-4f24-98dd-3fcd5b69f3eb",
   "metadata": {},
   "outputs": [
    {
     "name": "stderr",
     "output_type": "stream",
     "text": [
      "/var/folders/jj/_szc94p56q91q_7c209d1d9w0000gn/T/ipykernel_66820/1169696543.py:1: DeprecationWarning: Sampling from a set deprecated\n",
      "since Python 3.9 and will be removed in a subsequent version.\n",
      "  random.sample(cat2words['tentat'], 20)\n"
     ]
    },
    {
     "data": {
      "text/plain": [
       "['mystery',\n",
       " 'depends',\n",
       " 'something',\n",
       " 'hardly',\n",
       " 'hope',\n",
       " 'indirectly',\n",
       " 'not really',\n",
       " \"don't really\",\n",
       " 'alleged',\n",
       " 'uncertainty',\n",
       " 'may',\n",
       " 'probably',\n",
       " 'undecided',\n",
       " 'marginalising',\n",
       " 'if',\n",
       " 'obscures',\n",
       " 'mysterious',\n",
       " 'doubting',\n",
       " 'almost',\n",
       " 'hopeful']"
      ]
     },
     "execution_count": 80,
     "metadata": {},
     "output_type": "execute_result"
    }
   ],
   "source": [
    "random.sample(cat2words['tentat'], 20)"
   ]
  },
  {
   "cell_type": "markdown",
   "id": "52d70d13-e3a5-4b21-a4c7-5bdb8778f150",
   "metadata": {},
   "source": [
    "# LIWC Analysis CSV"
   ]
  },
  {
   "cell_type": "code",
   "execution_count": 7,
   "id": "1cbc09c3-1547-49ab-80e4-0a3ba27026ca",
   "metadata": {},
   "outputs": [],
   "source": [
    "df = pd.read_csv('LIWCdata/LIWC-22 Results - sputnik_interfax_USA_prewar_07___ - LIWC Analysis.csv', index_col=0)"
   ]
  },
  {
   "cell_type": "code",
   "execution_count": 9,
   "id": "e2ab74f4-a60f-4224-b5dc-5ea5fcfd847a",
   "metadata": {},
   "outputs": [
    {
     "data": {
      "text/html": [
       "<div>\n",
       "<style scoped>\n",
       "    .dataframe tbody tr th:only-of-type {\n",
       "        vertical-align: middle;\n",
       "    }\n",
       "\n",
       "    .dataframe tbody tr th {\n",
       "        vertical-align: top;\n",
       "    }\n",
       "\n",
       "    .dataframe thead th {\n",
       "        text-align: right;\n",
       "    }\n",
       "</style>\n",
       "<table border=\"1\" class=\"dataframe\">\n",
       "  <thead>\n",
       "    <tr style=\"text-align: right;\">\n",
       "      <th></th>\n",
       "      <th>newsOutlet</th>\n",
       "      <th>dateSeen</th>\n",
       "      <th>url</th>\n",
       "      <th>title</th>\n",
       "      <th>language</th>\n",
       "      <th>sourceCountry</th>\n",
       "      <th>text</th>\n",
       "      <th>Segment</th>\n",
       "      <th>WC</th>\n",
       "      <th>Analytic</th>\n",
       "      <th>...</th>\n",
       "      <th>assent</th>\n",
       "      <th>nonflu</th>\n",
       "      <th>filler</th>\n",
       "      <th>AllPunc</th>\n",
       "      <th>Period</th>\n",
       "      <th>Comma</th>\n",
       "      <th>QMark</th>\n",
       "      <th>Exclam</th>\n",
       "      <th>Apostro</th>\n",
       "      <th>OtherP</th>\n",
       "    </tr>\n",
       "  </thead>\n",
       "  <tbody>\n",
       "    <tr>\n",
       "      <th>35</th>\n",
       "      <td>en.interfax.com.ua</td>\n",
       "      <td>2021-11-10 08:00:00</td>\n",
       "      <td>https://en.interfax.com.ua/news/general/778744...</td>\n",
       "      <td>Kuleba arrives in Washington to discuss Ukrain...</td>\n",
       "      <td>English</td>\n",
       "      <td>Ukraine</td>\n",
       "      <td>Ukrainian Foreign Minister Dmytro Kuleba has a...</td>\n",
       "      <td>1</td>\n",
       "      <td>326</td>\n",
       "      <td>99.00</td>\n",
       "      <td>...</td>\n",
       "      <td>0.0</td>\n",
       "      <td>0</td>\n",
       "      <td>0</td>\n",
       "      <td>18.10</td>\n",
       "      <td>7.67</td>\n",
       "      <td>5.21</td>\n",
       "      <td>0.00</td>\n",
       "      <td>0.0</td>\n",
       "      <td>0.61</td>\n",
       "      <td>4.60</td>\n",
       "    </tr>\n",
       "    <tr>\n",
       "      <th>36</th>\n",
       "      <td>en.interfax.com.ua</td>\n",
       "      <td>2021-11-01 07:00:00</td>\n",
       "      <td>https://en.interfax.com.ua/news/general/776826...</td>\n",
       "      <td>Kubilius : EU , US should be present in format...</td>\n",
       "      <td>English</td>\n",
       "      <td>Ukraine</td>\n",
       "      <td>The Normandy format (Ukraine, Germany, France,...</td>\n",
       "      <td>1</td>\n",
       "      <td>477</td>\n",
       "      <td>71.11</td>\n",
       "      <td>...</td>\n",
       "      <td>0.0</td>\n",
       "      <td>0</td>\n",
       "      <td>0</td>\n",
       "      <td>10.48</td>\n",
       "      <td>3.98</td>\n",
       "      <td>3.14</td>\n",
       "      <td>0.00</td>\n",
       "      <td>0.0</td>\n",
       "      <td>0.21</td>\n",
       "      <td>3.14</td>\n",
       "    </tr>\n",
       "    <tr>\n",
       "      <th>37</th>\n",
       "      <td>en.interfax.com.ua</td>\n",
       "      <td>2022-03-14 07:00:00</td>\n",
       "      <td>https://en.interfax.com.ua/news/general/812609...</td>\n",
       "      <td>Podoliak on murder of NYT journalist : how muc...</td>\n",
       "      <td>English</td>\n",
       "      <td>Ukraine</td>\n",
       "      <td>Adviser to the head of the President's Office ...</td>\n",
       "      <td>1</td>\n",
       "      <td>174</td>\n",
       "      <td>95.85</td>\n",
       "      <td>...</td>\n",
       "      <td>0.0</td>\n",
       "      <td>0</td>\n",
       "      <td>0</td>\n",
       "      <td>13.79</td>\n",
       "      <td>4.60</td>\n",
       "      <td>4.02</td>\n",
       "      <td>0.57</td>\n",
       "      <td>0.0</td>\n",
       "      <td>1.72</td>\n",
       "      <td>2.87</td>\n",
       "    </tr>\n",
       "    <tr>\n",
       "      <th>38</th>\n",
       "      <td>en.interfax.com.ua</td>\n",
       "      <td>2021-11-12 08:00:00</td>\n",
       "      <td>https://en.interfax.com.ua/news/general/779213...</td>\n",
       "      <td>US warns Europe that Russia may plan Ukraine i...</td>\n",
       "      <td>English</td>\n",
       "      <td>Ukraine</td>\n",
       "      <td>The U.S. is raising the alarm with European Un...</td>\n",
       "      <td>1</td>\n",
       "      <td>170</td>\n",
       "      <td>94.14</td>\n",
       "      <td>...</td>\n",
       "      <td>0.0</td>\n",
       "      <td>0</td>\n",
       "      <td>0</td>\n",
       "      <td>16.47</td>\n",
       "      <td>7.65</td>\n",
       "      <td>4.12</td>\n",
       "      <td>0.00</td>\n",
       "      <td>0.0</td>\n",
       "      <td>2.94</td>\n",
       "      <td>1.76</td>\n",
       "    </tr>\n",
       "    <tr>\n",
       "      <th>39</th>\n",
       "      <td>en.interfax.com.ua</td>\n",
       "      <td>2022-02-18 08:00:00</td>\n",
       "      <td>https://en.interfax.com.ua/news/general/799328...</td>\n",
       "      <td>US President organizes meeting of EU and NATO ...</td>\n",
       "      <td>English</td>\n",
       "      <td>Ukraine</td>\n",
       "      <td>U.S. President Joe Biden is organizing a meeti...</td>\n",
       "      <td>1</td>\n",
       "      <td>142</td>\n",
       "      <td>99.00</td>\n",
       "      <td>...</td>\n",
       "      <td>0.0</td>\n",
       "      <td>0</td>\n",
       "      <td>0</td>\n",
       "      <td>19.01</td>\n",
       "      <td>4.93</td>\n",
       "      <td>11.27</td>\n",
       "      <td>0.00</td>\n",
       "      <td>0.0</td>\n",
       "      <td>0.00</td>\n",
       "      <td>2.82</td>\n",
       "    </tr>\n",
       "  </tbody>\n",
       "</table>\n",
       "<p>5 rows × 125 columns</p>\n",
       "</div>"
      ],
      "text/plain": [
       "            newsOutlet             dateSeen  \\\n",
       "35  en.interfax.com.ua  2021-11-10 08:00:00   \n",
       "36  en.interfax.com.ua  2021-11-01 07:00:00   \n",
       "37  en.interfax.com.ua  2022-03-14 07:00:00   \n",
       "38  en.interfax.com.ua  2021-11-12 08:00:00   \n",
       "39  en.interfax.com.ua  2022-02-18 08:00:00   \n",
       "\n",
       "                                                  url  \\\n",
       "35  https://en.interfax.com.ua/news/general/778744...   \n",
       "36  https://en.interfax.com.ua/news/general/776826...   \n",
       "37  https://en.interfax.com.ua/news/general/812609...   \n",
       "38  https://en.interfax.com.ua/news/general/779213...   \n",
       "39  https://en.interfax.com.ua/news/general/799328...   \n",
       "\n",
       "                                                title language sourceCountry  \\\n",
       "35  Kuleba arrives in Washington to discuss Ukrain...  English       Ukraine   \n",
       "36  Kubilius : EU , US should be present in format...  English       Ukraine   \n",
       "37  Podoliak on murder of NYT journalist : how muc...  English       Ukraine   \n",
       "38  US warns Europe that Russia may plan Ukraine i...  English       Ukraine   \n",
       "39  US President organizes meeting of EU and NATO ...  English       Ukraine   \n",
       "\n",
       "                                                 text  Segment   WC  Analytic  \\\n",
       "35  Ukrainian Foreign Minister Dmytro Kuleba has a...        1  326     99.00   \n",
       "36  The Normandy format (Ukraine, Germany, France,...        1  477     71.11   \n",
       "37  Adviser to the head of the President's Office ...        1  174     95.85   \n",
       "38  The U.S. is raising the alarm with European Un...        1  170     94.14   \n",
       "39  U.S. President Joe Biden is organizing a meeti...        1  142     99.00   \n",
       "\n",
       "    ...  assent  nonflu  filler  AllPunc  Period  Comma  QMark  Exclam  \\\n",
       "35  ...     0.0       0       0    18.10    7.67   5.21   0.00     0.0   \n",
       "36  ...     0.0       0       0    10.48    3.98   3.14   0.00     0.0   \n",
       "37  ...     0.0       0       0    13.79    4.60   4.02   0.57     0.0   \n",
       "38  ...     0.0       0       0    16.47    7.65   4.12   0.00     0.0   \n",
       "39  ...     0.0       0       0    19.01    4.93  11.27   0.00     0.0   \n",
       "\n",
       "    Apostro  OtherP  \n",
       "35     0.61    4.60  \n",
       "36     0.21    3.14  \n",
       "37     1.72    2.87  \n",
       "38     2.94    1.76  \n",
       "39     0.00    2.82  \n",
       "\n",
       "[5 rows x 125 columns]"
      ]
     },
     "execution_count": 9,
     "metadata": {},
     "output_type": "execute_result"
    }
   ],
   "source": [
    "df.tail()"
   ]
  },
  {
   "cell_type": "markdown",
   "id": "148cbc69-56bf-48b1-b96e-bacb35896f58",
   "metadata": {},
   "source": [
    "### independent t-test"
   ]
  },
  {
   "cell_type": "markdown",
   "id": "5fefca90-c660-4d33-9c80-5393e33a03d2",
   "metadata": {},
   "source": [
    "The indepentent T-test is a parametric test used to test for a statistically significant difference in the means between 2 groups."
   ]
  },
  {
   "cell_type": "code",
   "execution_count": 13,
   "id": "2cca1016-fc04-4ac8-8c1c-2279143786c4",
   "metadata": {},
   "outputs": [],
   "source": [
    "dfIF = df[df['newsOutlet'] == 'en.interfax.com.ua']\n",
    "dfSP = df[df['newsOutlet'] == 'sputniknews.com']"
   ]
  },
  {
   "cell_type": "code",
   "execution_count": 18,
   "id": "1bfdabf0-a2ae-4641-9187-4b770f1bb0c9",
   "metadata": {},
   "outputs": [],
   "source": [
    "LIWCcolumns = dfIF.columns[8:].tolist()"
   ]
  },
  {
   "cell_type": "code",
   "execution_count": 20,
   "id": "e097f8b0-70ae-4310-bcba-f76212c7ca20",
   "metadata": {},
   "outputs": [],
   "source": [
    "allCoeffs = []\n",
    "for category in LIWCcolumns:\n",
    "    ifarray = np.array(dfIF[category])\n",
    "    sparray = np.array(dfSP[category])\n",
    "    coeff = scipy.stats.ttest_ind(ifarray, sparray, axis=0)\n",
    "    allCoeffs.append({\n",
    "        'cat': category,\n",
    "        'interfaxAvg' : dfIF[category].mean(),\n",
    "        'sputnikAvg': dfSP[category].mean(),\n",
    "        'interfaxArray' : ifarray,\n",
    "        'sputnikArray' : sparray,\n",
    "        't_statistic': coeff.statistic,\n",
    "        'pvalue' : coeff.pvalue\n",
    "    })"
   ]
  },
  {
   "cell_type": "code",
   "execution_count": 21,
   "id": "c251c8fc-32a9-49c6-a402-90608d3d3721",
   "metadata": {},
   "outputs": [],
   "source": [
    "df = pd.DataFrame.from_records(allCoeffs)\n",
    "df.to_excel('LIWCdata/sputnik_interax_preanalysis.xlsx')"
   ]
  },
  {
   "cell_type": "markdown",
   "id": "3e1935c7-59a5-485c-975b-bdf6330a0c48",
   "metadata": {},
   "source": [
    "#### Statistically significant LWC Categories"
   ]
  },
  {
   "cell_type": "code",
   "execution_count": 22,
   "id": "9a907f0c-6db2-4cc8-a9ae-a056263ce557",
   "metadata": {},
   "outputs": [
    {
     "name": "stdout",
     "output_type": "stream",
     "text": [
      "Most significant (<= .005): ['WC', 'Authentic', 'Tone', 'Cognition', 'cogproc', 'tentat', 'differ', 'prosocial', 'motion', 'Period']\n",
      "\n",
      "Significant (<= .05): ['quantity', 'tone_pos', 'tone_neg', 'emo_anx', 'Social', 'socbehav', 'moral', 'Culture', 'politic', 'reward', 'feeling']\n",
      "\n"
     ]
    }
   ],
   "source": [
    "mostsig = []\n",
    "for c in allCoeffs:\n",
    "    if c['pvalue'] <= .005:\n",
    "        mostsig.append(c['cat'])\n",
    "print('Most significant (<= .005):', mostsig)\n",
    "\n",
    "sig = []\n",
    "for c in allCoeffs:\n",
    "    if c['pvalue'] > .005 and c['pvalue'] <= .05:\n",
    "        sig.append(c['cat'])\n",
    "print('\\nSignificant (<= .05):', sig)\n",
    "print()"
   ]
  },
  {
   "cell_type": "markdown",
   "id": "4305488b-7a13-46d9-b9f1-b1848b9f91f0",
   "metadata": {},
   "source": [
    "#### Printing news outlet averages of significant LIWC categories"
   ]
  },
  {
   "cell_type": "code",
   "execution_count": 34,
   "id": "0bd65398-023b-4651-af03-04fa631a2ba3",
   "metadata": {},
   "outputs": [
    {
     "name": "stdout",
     "output_type": "stream",
     "text": [
      "MOST SIGNIFICANT\n",
      "\tWC (t-statistic: -3.720310230919176, p-value: 0.0006412816314693797):\n",
      "\t\tAverages: Interfax: 195.2000\tSputnik: 474.9000\n",
      "\n",
      "\tAuthentic (t-statistic: -3.013106906020835, p-value: 0.00458438138040964):\n",
      "\t\tAverages: Interfax: 17.1500\tSputnik: 31.2765\n",
      "\n",
      "\tTone (t-statistic: 3.9185508474936372, p-value: 0.00035930637251162137):\n",
      "\t\tAverages: Interfax: 39.5070\tSputnik: 14.0830\n",
      "\n",
      "\tCognition (t-statistic: -3.1827724701409745, p-value: 0.002906702655174733):\n",
      "\t\tAverages: Interfax: 5.7490\tSputnik: 9.1540\n",
      "\n",
      "\tcogproc (t-statistic: -3.662331659610095, p-value: 0.0007581430805750102):\n",
      "\t\tAverages: Interfax: 5.0650\tSputnik: 8.6720\n",
      "\n",
      "\ttentat (t-statistic: -4.300979513666212, p-value: 0.00011448876221827072):\n",
      "\t\tAverages: Interfax: 0.5795\tSputnik: 1.8205\n",
      "\n",
      "\tdiffer (t-statistic: -3.5582088038644843, p-value: 0.001021507572647197):\n",
      "\t\tAverages: Interfax: 1.2835\tSputnik: 2.5350\n",
      "\n",
      "\tprosocial (t-statistic: 3.1928211510280877, p-value: 0.002828316897639968):\n",
      "\t\tAverages: Interfax: 2.2680\tSputnik: 0.5730\n",
      "\n",
      "\tmotion (t-statistic: -4.5556356029623695, p-value: 5.263625067169887e-05):\n",
      "\t\tAverages: Interfax: 0.5035\tSputnik: 1.3850\n",
      "\n",
      "\tPeriod (t-statistic: 4.1930402094971075, p-value: 0.00015860075660885216):\n",
      "\t\tAverages: Interfax: 7.1170\tSputnik: 3.8935\n",
      "\n",
      "SIGNIFICANT\n",
      "\tquantity (t-statistic: -2.201971033037443, p-value: 0.033809277016063635):\n",
      "\t\tAverages: Interfax: 2.2895\tSputnik: 3.5250\n",
      "\n",
      "\ttone_pos (t-statistic: 2.8144684820859145, p-value: 0.0076979635200193535):\n",
      "\t\tAverages: Interfax: 2.1340\tSputnik: 1.1530\n",
      "\n",
      "\ttone_neg (t-statistic: -2.6632472572869945, p-value: 0.01128753894059553):\n",
      "\t\tAverages: Interfax: 1.0435\tSputnik: 2.0990\n",
      "\n",
      "\temo_anx (t-statistic: -2.933602365645486, p-value: 0.0056527371802773735):\n",
      "\t\tAverages: Interfax: 0.0305\tSputnik: 0.1760\n",
      "\n",
      "\tSocial (t-statistic: 2.2752418033281967, p-value: 0.028618229507187926):\n",
      "\t\tAverages: Interfax: 12.6475\tSputnik: 9.8655\n",
      "\n",
      "\tsocbehav (t-statistic: 2.863489717637252, p-value: 0.006784493043134774):\n",
      "\t\tAverages: Interfax: 8.0580\tSputnik: 5.7215\n",
      "\n",
      "\tmoral (t-statistic: -2.157530400275649, p-value: 0.037351248320848414):\n",
      "\t\tAverages: Interfax: 0.0670\tSputnik: 0.2435\n",
      "\n",
      "\tCulture (t-statistic: 2.182241199931501, p-value: 0.035343194311187785):\n",
      "\t\tAverages: Interfax: 10.1010\tSputnik: 7.6240\n",
      "\n",
      "\tpolitic (t-statistic: 2.376789576855504, p-value: 0.02260436972714594):\n",
      "\t\tAverages: Interfax: 8.4550\tSputnik: 5.7420\n",
      "\n",
      "\treward (t-statistic: -2.310279635399852, p-value: 0.02639783990389828):\n",
      "\t\tAverages: Interfax: 0.0150\tSputnik: 0.1295\n",
      "\n",
      "\tfeeling (t-statistic: -2.578275370374103, p-value: 0.013929327171786278):\n",
      "\t\tAverages: Interfax: 0.1505\tSputnik: 0.4010\n",
      "\n"
     ]
    }
   ],
   "source": [
    "# Average comparisons\n",
    "print('Most significant'.upper())\n",
    "for c in allCoeffs:\n",
    "    if c['pvalue'] <= .005:\n",
    "        print(f\"\\t{c['cat']} (t-statistic: {c['t_statistic']}, p-value: {c['pvalue']}):\")\n",
    "        print(f\"\\t\\tAverages: Interfax: {f(dfIF[c['cat']].mean())}\\tSputnik: {f(dfSP[c['cat']].mean())}\\n\")\n",
    "print('Significant'.upper())\n",
    "for c in allCoeffs:\n",
    "    if c['pvalue'] > .005 and c['pvalue'] <= .05:\n",
    "        print(f\"\\t{c['cat']} (t-statistic: {c['t_statistic']}, p-value: {c['pvalue']}):\")\n",
    "        print(f\"\\t\\tAverages: Interfax: {f(dfIF[c['cat']].mean())}\\tSputnik: {f(dfSP[c['cat']].mean())}\\n\")"
   ]
  },
  {
   "cell_type": "code",
   "execution_count": 26,
   "id": "3f1a4318-4b54-45ed-b8be-d08d68155856",
   "metadata": {},
   "outputs": [
    {
     "data": {
      "text/plain": [
       "Index(['newsOutlet', 'dateSeen', 'url', 'title', 'language', 'sourceCountry',\n",
       "       'text', 'Segment', 'WC', 'Analytic',\n",
       "       ...\n",
       "       'assent', 'nonflu', 'filler', 'AllPunc', 'Period', 'Comma', 'QMark',\n",
       "       'Exclam', 'Apostro', 'OtherP'],\n",
       "      dtype='object', length=125)"
      ]
     },
     "execution_count": 26,
     "metadata": {},
     "output_type": "execute_result"
    }
   ],
   "source": [
    "dfIF.columns"
   ]
  },
  {
   "cell_type": "code",
   "execution_count": 32,
   "id": "97b7db3a-2984-4282-a363-6362758de892",
   "metadata": {},
   "outputs": [
    {
     "name": "stdout",
     "output_type": "stream",
     "text": [
      "The United States intends to support defense reform in Ukraine until it reaches the criteria for NATO membership, U.S. Secretary of Defense Lloyd Austin has said. Austin said at a briefing after the talks with Ukrainian Defense Minister Andriy Taran in Kyiv on Tuesday that following the NATO summit in June 2014, NATO allies pledged support for Ukraine in its intentions to become a full member of NATO. The United States remains unwavering in support of Ukraine's defense reform, which will help achieve the criteria for full NATO membership. He said that during the visit, he had effective negotiations with Taran on a framework agreement signed in Washington in August 2021. \"This agreement provides us with a strategic framework for a defense partnership, and we are going to strengthen our strategic partnership,\" the head of the Ukrainian defense department said. Austin said the United States has a duty to help Ukraine, and U.S. President Joe Biden has noted that on several occasions. Austin also said that he likes Ukraine, the people of Ukraine, and the United States has a responsibility to help them. President Biden has emphasized this on several occasions – about the U.S. commitment to support Ukraine, its territorial integrity and integrity. He said that he is here to reiterate the U.S. serious intentions.\n"
     ]
    }
   ],
   "source": [
    "print(random.choice(dfIF['text'].tolist()))"
   ]
  },
  {
   "cell_type": "code",
   "execution_count": 33,
   "id": "25e1e58a-30f6-430e-994e-756d8defed46",
   "metadata": {},
   "outputs": [
    {
     "name": "stdout",
     "output_type": "stream",
     "text": [
      "WASHINGTON (Sputnik) - The new US sanctions against Russia, imposed in response to Moscow’s recognition of the breakaway Donetsk and Lugansk people’s republics (DPR and LPR), will affect Ukraine and Europe more than Russia itself, US-based Eurasia Center Executive Vice President Earl Rasmussen told Sputnik. The United States and its European allies imposed new sanctions against Russia after President Vladimir Putin signed decrees recognizing the independence of the DPR and LPR. Under new treaties, Moscow pledged to ensure the security of the two Russian-speaking republics. The sanctions target Russia’s Vnesheconombank (VEB) and the Promsvyazbank Public Joint Stock Company (PSB), the country's sovereign debt, its elites and their families. “Will the new sanctions impact Russia? Yes, to some degree, but Russia will recover and is fairly sanctions proof following the multiple rounds of sanctions they had already received,” Rasmussen said. However, the European and Ukrainian economies will face more serious consequences, he said. “Energy costs will skyrocket even more. European industry will be slowed and likely not recover for a while,” Rasmussen said, adding that that outcome may well be one of the US objectives to achieve. Rasmussen did not rule out that the situation in Ukraine will deteriorate even more as the time passes, but he noted that it was possible to avoid such a development if NATO would stop expanding eastward and Ukraine implements the Minsk agreements. At the same time, Rasmussen said the global economy will not suffer as much as the Biden administration thinks it will. “US companies may feel the impact. China will likely meet areas vacated by United States and Europe. Tech companies will likely be displaced by China or Russian technology,” he said. Russia’s decision to recognize the DPR and LPR comes after a significant deterioration of relations along the line of contact amid interference by the United States and its allies. Russia has repeatedly denied having any intention of invading Ukraine.\n"
     ]
    }
   ],
   "source": [
    "print(random.choice(dfSP['text'].tolist()))"
   ]
  },
  {
   "cell_type": "code",
   "execution_count": null,
   "id": "d9737c0a-0f4a-4255-ae17-326ad126c0de",
   "metadata": {},
   "outputs": [],
   "source": []
  }
 ],
 "metadata": {
  "kernelspec": {
   "display_name": "Python 3 (ipykernel)",
   "language": "python",
   "name": "python3"
  },
  "language_info": {
   "codemirror_mode": {
    "name": "ipython",
    "version": 3
   },
   "file_extension": ".py",
   "mimetype": "text/x-python",
   "name": "python",
   "nbconvert_exporter": "python",
   "pygments_lexer": "ipython3",
   "version": "3.9.12"
  }
 },
 "nbformat": 4,
 "nbformat_minor": 5
}
