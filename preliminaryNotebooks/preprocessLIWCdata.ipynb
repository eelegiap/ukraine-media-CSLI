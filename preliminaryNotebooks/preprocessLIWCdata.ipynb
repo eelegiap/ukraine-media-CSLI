{
 "cells": [
  {
   "cell_type": "code",
   "execution_count": 23,
   "id": "e434bf76-31f9-4a7a-86c2-7e36749066a4",
   "metadata": {},
   "outputs": [],
   "source": [
    "import random\n",
    "import numpy as np\n",
    "import pandas as pd\n",
    "import time\n",
    "import re\n",
    "import datetime\n",
    "import os\n",
    "import matplotlib.pyplot as plt"
   ]
  },
  {
   "cell_type": "code",
   "execution_count": 24,
   "id": "2ee4e7c1-c9bc-449d-8593-11c6fbb1df79",
   "metadata": {},
   "outputs": [
    {
     "name": "stdout",
     "output_type": "stream",
     "text": [
      "cnn.com_07-14-2022_trial.xlsx\n",
      "en.interfax.com.ua_07-14-2022_trial.xlsx\n",
      "foxnews.com_07-14-2022_trial.xlsx\n",
      "themoscowtimes.com_07-14-2022_trial.xlsx\n",
      "sputniknews.com_07-14-2022_trial.xlsx\n",
      "bbc.co.uk_07-15-2022_trial.xlsx\n",
      "news.yahoo.com_07-15-2022_trial.xlsx\n",
      "english.pravda.ru_07-14-2022_trial.xlsx\n",
      "tass.com_07-14-2022_trial.xlsx\n",
      "rt.com_07-14-2022_trial.xlsx\n",
      ".ipynb_checkpoints\n"
     ]
    }
   ],
   "source": [
    "recordsDict = dict()\n",
    "for file in os.listdir('preWarData//'):\n",
    "    print(file)"
   ]
  },
  {
   "cell_type": "code",
   "execution_count": 25,
   "id": "865f3e60-404b-4ec3-b15e-fa37befc7bbe",
   "metadata": {},
   "outputs": [],
   "source": [
    "recordsDict = dict()\n",
    "outletsOfInterest = ['sputniknews.com_07-14-2022_trial.xlsx', 'en.interfax.com.ua_07-14-2022_trial.xlsx']\n",
    "for file in outletsOfInterest:\n",
    "    df = pd.read_excel(f'preWarData/{file}', index_col=0)  \n",
    "    df['dateSeen'] = pd.to_datetime(df['dateSeen'], unit='s', utc=True).dt.tz_localize(None)\n",
    "    records = df.to_dict('records')\n",
    "    recordsDict[file] = records"
   ]
  },
  {
   "cell_type": "code",
   "execution_count": 33,
   "id": "9ff3a1c5-400c-4eba-bde8-8a68bbf5fc77",
   "metadata": {},
   "outputs": [],
   "source": [
    "full_text = []\n",
    "for rec in recordsDict['sputniknews.com_07-14-2022_trial.xlsx']:\n",
    "    if isinstance(rec['text'], str):\n",
    "        full_text.append(rec['text'])\n",
    "text_string = '\\n\\n'.join(full_text)\n",
    "with open('sputniktexttest.txt','w') as f:\n",
    "    f.write(text_string)"
   ]
  },
  {
   "cell_type": "code",
   "execution_count": 32,
   "id": "545841bd-5b00-40e2-9aa0-447912377841",
   "metadata": {},
   "outputs": [
    {
     "data": {
      "text/plain": [
       "'/Users/paigelee/Desktop/summer2022/stanford/research/ukraine-media-CSLI'"
      ]
     },
     "execution_count": 32,
     "metadata": {},
     "output_type": "execute_result"
    }
   ],
   "source": [
    "pwd"
   ]
  },
  {
   "cell_type": "code",
   "execution_count": 10,
   "id": "6e423ced-d2c5-4327-a6af-0e99f13a5b8c",
   "metadata": {},
   "outputs": [
    {
     "name": "stdout",
     "output_type": "stream",
     "text": [
      "sputniknews.com_07-14-2022_trial.xlsx had 417 recs\n",
      "sputniknews.com_07-14-2022_trial.xlsx had 1340973 chars\n",
      "en.interfax.com.ua_07-14-2022_trial.xlsx had 97 recs\n",
      "en.interfax.com.ua_07-14-2022_trial.xlsx had 106790 chars\n"
     ]
    }
   ],
   "source": [
    "# get Sputnik and BBC records about Bucha\n",
    "relevantRecs = []\n",
    "titleRecs = dict()\n",
    "for outlet in outletsOfInterest:\n",
    "    titleRecs.setdefault(outlet, [])\n",
    "    outletCt = 0\n",
    "    charCt = 0\n",
    "    for rec in recordsDict[outlet]:\n",
    "        dateSeen = rec['dateSeen'].tz_localize(None)\n",
    "        if type(rec['text']) != str:\n",
    "            continue\n",
    "        if 'United States' in rec['title'] or 'US' in rec['title'] or 'America' in rec['title']:\n",
    "            titleRecs[outlet].append(rec)\n",
    "            outletCt += 1\n",
    "            charCt += len(rec['text'])\n",
    "        # elif 'United States' in rec['text'] or 'US' in rec['text'] or 'text' in rec['text']:\n",
    "        #     # if dateSeen >= pd.Timestamp(2022, 4, 1) and dateSeen <= pd.Timestamp(2022, 4, 30):\n",
    "        #         relevantRecs.append(rec)\n",
    "                \n",
    "        else:\n",
    "            continue\n",
    "    print(outlet, 'had', outletCt, 'recs')\n",
    "    print(outlet, 'had', charCt, 'chars')"
   ]
  },
  {
   "cell_type": "code",
   "execution_count": 11,
   "id": "e5de7224-4826-403c-91a0-ac22e1fbfaba",
   "metadata": {},
   "outputs": [
    {
     "data": {
      "text/plain": [
       "{'newsOutlet': 'en.interfax.com.ua',\n",
       " 'dateSeen': Timestamp('2021-12-08 08:00:00'),\n",
       " 'url': 'https://en.interfax.com.ua/news/general/784605.html',\n",
       " 'title': 'Arakhamia : United States will never agree with Russia requirements , incl on Ukraine - NATO issue',\n",
       " 'language': 'English',\n",
       " 'sourceCountry': 'Ukraine',\n",
       " 'text': 'The United States of America will never agree to the ultimatum demands of the Russian Federation to revise the global agenda, including the issue of Ukraine\\'s Euro-Atlantic integration, leader of the Servant of the People parliamentary faction David Arakhamia has said. \"The American side will never agree to the ultimatum demands to revise the global agenda and established international rules put forward by the Russian side, including on the issue of Ukraine and NATO,\" Arakhamia told Interfax-Ukraine on Wednesday, commenting on the video talks between the presidents the USA and Russian Federation, Joseph Biden and Vladimir Putin. As a result of the Biden-Putin video meeting, it also became clear that \"any actions towards Russia and to defend against Russia will be exclusively joint and coordinated for everyone in Europe, which is the key goal of President Biden - to act together with the allies to be as convincing for Russia as possible,\" added the parliamentarian. According to the MP, Biden clearly stated that he would support the sovereignty and territorial integrity of Ukraine, as well as ensure the strengthening of all states on the eastern flank of NATO. \"We are grateful to the American side for its unyielding support for the sovereignty and territorial integrity of Ukraine, as well as for consistent efforts to ensure de-escalation and long-term stability in our region,\" Arakhamia summed up.'}"
      ]
     },
     "execution_count": 11,
     "metadata": {},
     "output_type": "execute_result"
    }
   ],
   "source": [
    "random.choice(titleRecs['en.interfax.com.ua_07-14-2022_trial.xlsx'])"
   ]
  },
  {
   "cell_type": "code",
   "execution_count": 20,
   "id": "da3b43b8-867d-4eb7-baa7-69929a5874d0",
   "metadata": {},
   "outputs": [
    {
     "name": "stdout",
     "output_type": "stream",
     "text": [
      "LIWCdata/sputnik_interfax_USA_prewar_07-15-2022.xlsx printed\n"
     ]
    }
   ],
   "source": [
    "df = pd.DataFrame.from_records(random.sample(titleRecs['sputniknews.com_07-14-2022_trial.xlsx'],20)+random.sample(titleRecs['en.interfax.com.ua_07-14-2022_trial.xlsx'],20))\n",
    "todaysdate = datetime.datetime.fromtimestamp(time.time()).strftime('%m-%d-%Y')\n",
    "path = f\"LIWCdata/sputnik_interfax_USA_prewar_{todaysdate}.xlsx\"        \n",
    "df.to_excel(path)\n",
    "print(path, 'printed')"
   ]
  },
  {
   "cell_type": "code",
   "execution_count": 22,
   "id": "7d976e1e-e533-4240-a91d-ad25ccdc9ac1",
   "metadata": {},
   "outputs": [
    {
     "data": {
      "text/html": [
       "<div>\n",
       "<style scoped>\n",
       "    .dataframe tbody tr th:only-of-type {\n",
       "        vertical-align: middle;\n",
       "    }\n",
       "\n",
       "    .dataframe tbody tr th {\n",
       "        vertical-align: top;\n",
       "    }\n",
       "\n",
       "    .dataframe thead th {\n",
       "        text-align: right;\n",
       "    }\n",
       "</style>\n",
       "<table border=\"1\" class=\"dataframe\">\n",
       "  <thead>\n",
       "    <tr style=\"text-align: right;\">\n",
       "      <th></th>\n",
       "      <th>newsOutlet</th>\n",
       "      <th>dateSeen</th>\n",
       "      <th>url</th>\n",
       "      <th>title</th>\n",
       "      <th>language</th>\n",
       "      <th>sourceCountry</th>\n",
       "      <th>text</th>\n",
       "    </tr>\n",
       "  </thead>\n",
       "  <tbody>\n",
       "    <tr>\n",
       "      <th>35</th>\n",
       "      <td>en.interfax.com.ua</td>\n",
       "      <td>2021-11-10 08:00:00</td>\n",
       "      <td>https://en.interfax.com.ua/news/general/778744...</td>\n",
       "      <td>Kuleba arrives in Washington to discuss Ukrain...</td>\n",
       "      <td>English</td>\n",
       "      <td>Ukraine</td>\n",
       "      <td>Ukrainian Foreign Minister Dmytro Kuleba has a...</td>\n",
       "    </tr>\n",
       "    <tr>\n",
       "      <th>36</th>\n",
       "      <td>en.interfax.com.ua</td>\n",
       "      <td>2021-11-01 07:00:00</td>\n",
       "      <td>https://en.interfax.com.ua/news/general/776826...</td>\n",
       "      <td>Kubilius : EU , US should be present in format...</td>\n",
       "      <td>English</td>\n",
       "      <td>Ukraine</td>\n",
       "      <td>The Normandy format (Ukraine, Germany, France,...</td>\n",
       "    </tr>\n",
       "    <tr>\n",
       "      <th>37</th>\n",
       "      <td>en.interfax.com.ua</td>\n",
       "      <td>2022-03-14 07:00:00</td>\n",
       "      <td>https://en.interfax.com.ua/news/general/812609...</td>\n",
       "      <td>Podoliak on murder of NYT journalist : how muc...</td>\n",
       "      <td>English</td>\n",
       "      <td>Ukraine</td>\n",
       "      <td>Adviser to the head of the President's Office ...</td>\n",
       "    </tr>\n",
       "    <tr>\n",
       "      <th>38</th>\n",
       "      <td>en.interfax.com.ua</td>\n",
       "      <td>2021-11-12 08:00:00</td>\n",
       "      <td>https://en.interfax.com.ua/news/general/779213...</td>\n",
       "      <td>US warns Europe that Russia may plan Ukraine i...</td>\n",
       "      <td>English</td>\n",
       "      <td>Ukraine</td>\n",
       "      <td>The U.S. is raising the alarm with European Un...</td>\n",
       "    </tr>\n",
       "    <tr>\n",
       "      <th>39</th>\n",
       "      <td>en.interfax.com.ua</td>\n",
       "      <td>2022-02-18 08:00:00</td>\n",
       "      <td>https://en.interfax.com.ua/news/general/799328...</td>\n",
       "      <td>US President organizes meeting of EU and NATO ...</td>\n",
       "      <td>English</td>\n",
       "      <td>Ukraine</td>\n",
       "      <td>U.S. President Joe Biden is organizing a meeti...</td>\n",
       "    </tr>\n",
       "  </tbody>\n",
       "</table>\n",
       "</div>"
      ],
      "text/plain": [
       "            newsOutlet            dateSeen  \\\n",
       "35  en.interfax.com.ua 2021-11-10 08:00:00   \n",
       "36  en.interfax.com.ua 2021-11-01 07:00:00   \n",
       "37  en.interfax.com.ua 2022-03-14 07:00:00   \n",
       "38  en.interfax.com.ua 2021-11-12 08:00:00   \n",
       "39  en.interfax.com.ua 2022-02-18 08:00:00   \n",
       "\n",
       "                                                  url  \\\n",
       "35  https://en.interfax.com.ua/news/general/778744...   \n",
       "36  https://en.interfax.com.ua/news/general/776826...   \n",
       "37  https://en.interfax.com.ua/news/general/812609...   \n",
       "38  https://en.interfax.com.ua/news/general/779213...   \n",
       "39  https://en.interfax.com.ua/news/general/799328...   \n",
       "\n",
       "                                                title language sourceCountry  \\\n",
       "35  Kuleba arrives in Washington to discuss Ukrain...  English       Ukraine   \n",
       "36  Kubilius : EU , US should be present in format...  English       Ukraine   \n",
       "37  Podoliak on murder of NYT journalist : how muc...  English       Ukraine   \n",
       "38  US warns Europe that Russia may plan Ukraine i...  English       Ukraine   \n",
       "39  US President organizes meeting of EU and NATO ...  English       Ukraine   \n",
       "\n",
       "                                                 text  \n",
       "35  Ukrainian Foreign Minister Dmytro Kuleba has a...  \n",
       "36  The Normandy format (Ukraine, Germany, France,...  \n",
       "37  Adviser to the head of the President's Office ...  \n",
       "38  The U.S. is raising the alarm with European Un...  \n",
       "39  U.S. President Joe Biden is organizing a meeti...  "
      ]
     },
     "execution_count": 22,
     "metadata": {},
     "output_type": "execute_result"
    }
   ],
   "source": [
    "df.tail()"
   ]
  },
  {
   "cell_type": "code",
   "execution_count": null,
   "id": "32c66264-ec04-4aee-b6e8-b8eb48990f7a",
   "metadata": {},
   "outputs": [],
   "source": []
  }
 ],
 "metadata": {
  "kernelspec": {
   "display_name": "Python 3 (ipykernel)",
   "language": "python",
   "name": "python3"
  },
  "language_info": {
   "codemirror_mode": {
    "name": "ipython",
    "version": 3
   },
   "file_extension": ".py",
   "mimetype": "text/x-python",
   "name": "python",
   "nbconvert_exporter": "python",
   "pygments_lexer": "ipython3",
   "version": "3.9.7"
  }
 },
 "nbformat": 4,
 "nbformat_minor": 5
}
