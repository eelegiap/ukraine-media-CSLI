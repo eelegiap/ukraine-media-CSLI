{
 "cells": [
  {
   "cell_type": "code",
   "execution_count": 1,
   "id": "864ceefc-11a7-4fff-9833-0cb5d30b6d0d",
   "metadata": {},
   "outputs": [],
   "source": [
    "import random\n",
    "import numpy as np\n",
    "import pandas as pd\n",
    "import time\n",
    "import re\n",
    "import datetime\n",
    "import os\n",
    "import matplotlib.pyplot as plt\n",
    "import gensim"
   ]
  },
  {
   "cell_type": "code",
   "execution_count": null,
   "id": "e6b85222-d80c-40b9-9985-ca03ea3dc1e6",
   "metadata": {},
   "outputs": [],
   "source": [
    "# pip install gensim"
   ]
  },
  {
   "cell_type": "code",
   "execution_count": null,
   "id": "7d9574c1-b607-4655-bb66-d93f97f1dda3",
   "metadata": {},
   "outputs": [],
   "source": [
    "import spacy"
   ]
  },
  {
   "cell_type": "code",
   "execution_count": 2,
   "id": "ce59d38b-918a-418a-884e-b570e09fef3c",
   "metadata": {},
   "outputs": [],
   "source": [
    "from gensim.test.utils import common_texts\n",
    "from gensim.utils import tokenize\n",
    "from gensim.corpora.dictionary import Dictionary\n",
    "from gensim.models import LdaModel\n",
    "from gensim.models import TfidfModel\n",
    "from gensim.models import CoherenceModel"
   ]
  },
  {
   "cell_type": "code",
   "execution_count": 3,
   "id": "8666b536-32f1-4dfa-b236-79bb76b36026",
   "metadata": {},
   "outputs": [],
   "source": [
    "sent = '''Russian Foreign Minister Sergey Lavrov discussed the Geneva and Brussels meetings on guarantees of security during a phone call with his Greek counterpart Nikos Dendias on Wednesday, the Russian Foreign Ministry said in a statement.'''"
   ]
  },
  {
   "cell_type": "code",
   "execution_count": 4,
   "id": "f0704564-aca8-4c6d-8204-5be9f6dbd31a",
   "metadata": {},
   "outputs": [
    {
     "ename": "NameError",
     "evalue": "name 'spacy' is not defined",
     "output_type": "error",
     "traceback": [
      "\u001b[0;31m---------------------------------------------------------------------------\u001b[0m",
      "\u001b[0;31mNameError\u001b[0m                                 Traceback (most recent call last)",
      "\u001b[0;32m/var/folders/jj/_szc94p56q91q_7c209d1d9w0000gn/T/ipykernel_25077/1007731479.py\u001b[0m in \u001b[0;36m<module>\u001b[0;34m\u001b[0m\n\u001b[0;32m----> 1\u001b[0;31m \u001b[0mnlp\u001b[0m \u001b[0;34m=\u001b[0m \u001b[0mspacy\u001b[0m\u001b[0;34m.\u001b[0m\u001b[0mload\u001b[0m\u001b[0;34m(\u001b[0m\u001b[0;34m'en_core_web_sm'\u001b[0m\u001b[0;34m,\u001b[0m \u001b[0mdisable\u001b[0m\u001b[0;34m=\u001b[0m\u001b[0;34m[\u001b[0m\u001b[0;34m'parser'\u001b[0m\u001b[0;34m,\u001b[0m \u001b[0;34m'ner'\u001b[0m\u001b[0;34m]\u001b[0m\u001b[0;34m)\u001b[0m\u001b[0;34m\u001b[0m\u001b[0;34m\u001b[0m\u001b[0m\n\u001b[0m",
      "\u001b[0;31mNameError\u001b[0m: name 'spacy' is not defined"
     ]
    }
   ],
   "source": [
    "nlp = spacy.load('en_core_web_sm', disable=['parser', 'ner'])"
   ]
  },
  {
   "cell_type": "code",
   "execution_count": 203,
   "id": "5f8d899a-f663-4e13-9c91-78377f7f4500",
   "metadata": {},
   "outputs": [
    {
     "name": "stdout",
     "output_type": "stream",
     "text": [
      "0/1 texts processed by Spacy.\n",
      "1/1 texts processed by Spacy.\n"
     ]
    },
    {
     "data": {
      "text/plain": [
       "[['russian',\n",
       "  'foreign',\n",
       "  'minister',\n",
       "  'sergey',\n",
       "  'lavrov',\n",
       "  'geneva',\n",
       "  'brussels',\n",
       "  'meeting',\n",
       "  'guarantee',\n",
       "  'security',\n",
       "  'phone',\n",
       "  'greek',\n",
       "  'counterpart',\n",
       "  'nikos',\n",
       "  'dendias',\n",
       "  'wednesday',\n",
       "  'russian',\n",
       "  'foreign',\n",
       "  'ministry',\n",
       "  'statement']]"
      ]
     },
     "execution_count": 203,
     "metadata": {},
     "output_type": "execute_result"
    }
   ],
   "source": [
    "def customTokenize(doc):\n",
    "    return [t.lemma_.lower() for t in doc if ((t.pos_ in ['NOUN','ADJ','PROPN']) and (t.text not in nlp.Defaults.stop_words))]\n",
    "\n",
    "def preprocess_pipe(texts):\n",
    "    preproc_pipe = []\n",
    "    ct = 0\n",
    "    for doc in nlp.pipe(texts, batch_size=20):\n",
    "        if ct % 100 == 0:\n",
    "            print(f'{ct}/{len(texts)} texts processed by Spacy.')\n",
    "        preproc_pipe.append(customTokenize(doc))\n",
    "        ct += 1\n",
    "    print(f'{len(texts)}/{len(texts)} texts processed by Spacy.')\n",
    "    return preproc_pipe\n",
    "\n",
    "preprocess_pipe([sent])"
   ]
  },
  {
   "cell_type": "code",
   "execution_count": 204,
   "id": "4d87daf0-1948-446a-b768-50691c8be716",
   "metadata": {},
   "outputs": [
    {
     "name": "stdout",
     "output_type": "stream",
     "text": [
      "0/2615 texts processed by Spacy.\n",
      "100/2615 texts processed by Spacy.\n",
      "200/2615 texts processed by Spacy.\n",
      "300/2615 texts processed by Spacy.\n",
      "400/2615 texts processed by Spacy.\n",
      "500/2615 texts processed by Spacy.\n",
      "600/2615 texts processed by Spacy.\n",
      "700/2615 texts processed by Spacy.\n",
      "800/2615 texts processed by Spacy.\n",
      "900/2615 texts processed by Spacy.\n",
      "1000/2615 texts processed by Spacy.\n",
      "1100/2615 texts processed by Spacy.\n",
      "1200/2615 texts processed by Spacy.\n",
      "1300/2615 texts processed by Spacy.\n",
      "1400/2615 texts processed by Spacy.\n",
      "1500/2615 texts processed by Spacy.\n",
      "1600/2615 texts processed by Spacy.\n",
      "1700/2615 texts processed by Spacy.\n",
      "1800/2615 texts processed by Spacy.\n",
      "1900/2615 texts processed by Spacy.\n",
      "2000/2615 texts processed by Spacy.\n",
      "2100/2615 texts processed by Spacy.\n",
      "2200/2615 texts processed by Spacy.\n",
      "2300/2615 texts processed by Spacy.\n",
      "2400/2615 texts processed by Spacy.\n",
      "2500/2615 texts processed by Spacy.\n",
      "2600/2615 texts processed by Spacy.\n",
      "2615/2615 texts processed by Spacy.\n",
      "docs processed successfully in 182.82428097724915s.\n",
      "completed in 187.40168595314026s.\n"
     ]
    }
   ],
   "source": [
    "# tokenize text and create corpus\n",
    "start = time.time()\n",
    "texts = []\n",
    "for outlet in dfDict:\n",
    "    for i, text in enumerate(dfDict[outlet]['text']):\n",
    "        if isinstance(text, str):\n",
    "            texts.append(text)\n",
    "            \n",
    "tokenized_texts = list(preprocess_pipe(texts))\n",
    "middle = time.time()\n",
    "print(f'docs processed successfully in {middle - start}s.')\n",
    "\n",
    "dictionary = Dictionary(tokenized_texts)\n",
    "\n",
    "bow_corpus = [dictionary.doc2bow(text) for text in tokenized_texts]\n",
    "model = TfidfModel(bow_corpus)\n",
    "\n",
    "tfidf_docs = [model[doc] for doc in bow_corpus]\n",
    "end = time.time()\n",
    "print(f'completed in {end-start}s.')"
   ]
  },
  {
   "cell_type": "code",
   "execution_count": 205,
   "id": "92b4a803-b523-4a5a-80a7-e698f719929a",
   "metadata": {},
   "outputs": [],
   "source": [
    "### RUN LDA MODEL\n",
    "n = 12\n",
    "lda = LdaModel(tfidf_docs, num_topics=n, id2word=dictionary, passes=10)"
   ]
  },
  {
   "cell_type": "code",
   "execution_count": 197,
   "id": "e4ebd3c8-477d-4430-aa37-ed6c1fea0ae4",
   "metadata": {
    "collapsed": true,
    "jupyter": {
     "outputs_hidden": true
    },
    "tags": []
   },
   "outputs": [
    {
     "name": "stdout",
     "output_type": "stream",
     "text": [
      "Num_topics: 1\n",
      "\tCoherence Score: 0.40713286945829885\n",
      "Num_topics: 2\n",
      "\tCoherence Score: 0.3175497868299936\n",
      "Num_topics: 3\n",
      "\tCoherence Score: 0.45973383000043283\n",
      "Num_topics: 4\n",
      "\tCoherence Score: 0.5064685049603899\n",
      "Num_topics: 5\n",
      "\tCoherence Score: 0.5008246052694678\n",
      "Num_topics: 6\n",
      "\tCoherence Score: 0.44842460325127426\n",
      "Num_topics: 7\n",
      "\tCoherence Score: 0.4303979681615267\n",
      "Num_topics: 8\n",
      "\tCoherence Score: 0.5290163637409008\n",
      "Num_topics: 9\n",
      "\tCoherence Score: 0.4816387523410458\n",
      "Num_topics: 10\n",
      "\tCoherence Score: 0.5277803594140493\n",
      "Num_topics: 11\n",
      "\tCoherence Score: 0.5399137101379126\n",
      "Num_topics: 12\n",
      "\tCoherence Score: 0.5908341269143892\n",
      "Num_topics: 13\n",
      "\tCoherence Score: 0.5736227665289233\n",
      "Num_topics: 14\n",
      "\tCoherence Score: 0.5306048513639268\n",
      "Num_topics: 15\n",
      "\tCoherence Score: 0.5107157689216794\n",
      "Num_topics: 16\n",
      "\tCoherence Score: 0.5414645740085369\n",
      "Num_topics: 17\n",
      "\tCoherence Score: 0.5343388034448232\n",
      "Num_topics: 18\n",
      "\tCoherence Score: 0.5328256314006701\n",
      "Num_topics: 19\n",
      "\tCoherence Score: 0.5528933407519497\n",
      "Num_topics: 20\n",
      "\tCoherence Score: 0.5419894170596757\n",
      "Num_topics: 21\n",
      "\tCoherence Score: 0.5375763403824185\n",
      "Num_topics: 22\n",
      "\tCoherence Score: 0.49217487326103554\n",
      "Num_topics: 23\n",
      "\tCoherence Score: 0.5226670273613694\n",
      "Num_topics: 24\n",
      "\tCoherence Score: 0.5155840708973028\n",
      "Num_topics: 25\n",
      "\tCoherence Score: 0.5235450052920307\n",
      "Num_topics: 26\n",
      "\tCoherence Score: 0.5188931217826327\n",
      "Num_topics: 27\n",
      "\tCoherence Score: 0.5356469769808216\n",
      "Num_topics: 28\n",
      "\tCoherence Score: 0.5355652558377834\n",
      "Num_topics: 29\n",
      "\tCoherence Score: 0.5171958528548785\n",
      "Num_topics: 30\n",
      "\tCoherence Score: 0.5291432174656218\n",
      "Num_topics: 31\n",
      "\tCoherence Score: 0.5069674606291504\n",
      "Num_topics: 32\n",
      "\tCoherence Score: 0.5186765530608639\n",
      "Num_topics: 33\n",
      "\tCoherence Score: 0.5318148490055751\n",
      "Num_topics: 34\n",
      "\tCoherence Score: 0.5144525667164217\n",
      "Num_topics: 35\n",
      "\tCoherence Score: 0.5178688673818856\n",
      "Num_topics: 36\n",
      "\tCoherence Score: 0.5081736398969809\n",
      "Num_topics: 37\n",
      "\tCoherence Score: 0.5050254986548597\n",
      "Num_topics: 38\n",
      "\tCoherence Score: 0.48801836823512373\n",
      "Num_topics: 39\n",
      "\tCoherence Score: 0.5110302303777086\n",
      "Num_topics: 40\n",
      "\tCoherence Score: 0.5042871505344879\n",
      "Num_topics: 41\n",
      "\tCoherence Score: 0.49615050519983056\n",
      "Num_topics: 42\n",
      "\tCoherence Score: 0.510150482641146\n",
      "Num_topics: 43\n",
      "\tCoherence Score: 0.4999651937669608\n",
      "Num_topics: 44\n",
      "\tCoherence Score: 0.48053010012277664\n",
      "Num_topics: 45\n",
      "\tCoherence Score: 0.49385229635868066\n",
      "Num_topics: 46\n",
      "\tCoherence Score: 0.4920994266769235\n",
      "Num_topics: 47\n",
      "\tCoherence Score: 0.48339456216283566\n",
      "Num_topics: 48\n",
      "\tCoherence Score: 0.48152203576203334\n",
      "Num_topics: 49\n",
      "\tCoherence Score: 0.4811855280697607\n"
     ]
    }
   ],
   "source": [
    "# run coherence test\n",
    "coherences = []\n",
    "for n in range(1,50):\n",
    "    print('Num_topics:', n)\n",
    "    lda = LdaModel(tfidf_docs, num_topics=n, id2word=dictionary, passes=10)\n",
    "    coherence_score_lda = CoherenceModel(model=lda, texts=tokenized_texts, dictionary=dictionary, coherence='c_v')\n",
    "    coherence_score = coherence_score_lda.get_coherence()\n",
    "    print('\\tCoherence Score:', coherence_score)\n",
    "    coherences.append((n,coherence_score))"
   ]
  },
  {
   "cell_type": "code",
   "execution_count": 198,
   "id": "c58e6743-b9c5-424d-a588-3a298f323ea9",
   "metadata": {},
   "outputs": [
    {
     "data": {
      "image/png": "[encoded data removed]",
      "text/plain": [
       "<Figure size 432x288 with 1 Axes>"
      ]
     },
     "metadata": {
      "needs_background": "light"
     },
     "output_type": "display_data"
    }
   ],
   "source": [
    "plt.plot([p[0] for p in coherences],[p[1] for p in coherences])\n",
    "plt.show()"
   ]
  },
  {
   "cell_type": "code",
   "execution_count": 199,
   "id": "7fccabc1-8926-4109-9a6b-406bacdcb2da",
   "metadata": {},
   "outputs": [
    {
     "name": "stdout",
     "output_type": "stream",
     "text": [
      "12 0.5908341269143892\n"
     ]
    }
   ],
   "source": [
    "max_c = 0\n",
    "max_n = 0\n",
    "for n, c in coherences:\n",
    "    if c > max_c:\n",
    "        max_c = c\n",
    "        max_n = n\n",
    "print(max_n, max_c)"
   ]
  },
  {
   "cell_type": "code",
   "execution_count": 189,
   "id": "47f3154b-a313-4ad7-be4e-df7e71361af8",
   "metadata": {
    "collapsed": true,
    "jupyter": {
     "outputs_hidden": true
    },
    "tags": []
   },
   "outputs": [
    {
     "name": "stdout",
     "output_type": "stream",
     "text": [
      "Num_topics: 1\n",
      "\tPerplexity: -9.521011703339461\n",
      "Num_topics: 2\n",
      "\tPerplexity: -9.708974886870806\n",
      "Num_topics: 3\n",
      "\tPerplexity: -9.931628209224712\n",
      "Num_topics: 4\n",
      "\tPerplexity: -9.984254661897982\n",
      "Num_topics: 5\n",
      "\tPerplexity: -10.127315880934846\n",
      "Num_topics: 6\n",
      "\tPerplexity: -10.224369307678256\n",
      "Num_topics: 7\n",
      "\tPerplexity: -10.415322809206307\n",
      "Num_topics: 8\n",
      "\tPerplexity: -10.52973752820481\n",
      "Num_topics: 9\n",
      "\tPerplexity: -10.819255231541607\n",
      "Num_topics: 10\n",
      "\tPerplexity: -11.143517011295668\n",
      "Num_topics: 11\n",
      "\tPerplexity: -11.569674709486723\n",
      "Num_topics: 12\n",
      "\tPerplexity: -11.903499956427174\n",
      "Num_topics: 13\n",
      "\tPerplexity: -12.196172744478451\n",
      "Num_topics: 14\n",
      "\tPerplexity: -12.429856914198316\n",
      "Num_topics: 15\n",
      "\tPerplexity: -12.800939725382523\n",
      "Num_topics: 16\n",
      "\tPerplexity: -13.073610231278344\n",
      "Num_topics: 17\n",
      "\tPerplexity: -13.385786766704879\n",
      "Num_topics: 18\n",
      "\tPerplexity: -13.866945973103668\n",
      "Num_topics: 19\n",
      "\tPerplexity: -14.057219187680557\n",
      "Num_topics: 20\n",
      "\tPerplexity: -14.353491502927582\n",
      "Num_topics: 21\n",
      "\tPerplexity: -14.7874785480847\n",
      "Num_topics: 22\n",
      "\tPerplexity: -15.030900036886239\n",
      "Num_topics: 23\n",
      "\tPerplexity: -15.274089983361248\n",
      "Num_topics: 24\n",
      "\tPerplexity: -15.705468504501644\n",
      "Num_topics: 25\n",
      "\tPerplexity: -16.138550220071885\n",
      "Num_topics: 26\n",
      "\tPerplexity: -16.28503009069244\n",
      "Num_topics: 27\n",
      "\tPerplexity: -16.591098691350776\n",
      "Num_topics: 28\n",
      "\tPerplexity: -17.024399291822746\n",
      "Num_topics: 29\n",
      "\tPerplexity: -17.334710989989038\n",
      "Num_topics: 30\n",
      "\tPerplexity: -17.543358831787348\n",
      "Num_topics: 31\n",
      "\tPerplexity: -17.94324872768464\n",
      "Num_topics: 32\n",
      "\tPerplexity: -18.07096226606346\n",
      "Num_topics: 33\n",
      "\tPerplexity: -18.3883624800783\n",
      "Num_topics: 34\n",
      "\tPerplexity: -18.945451850472825\n",
      "Num_topics: 35\n",
      "\tPerplexity: -19.58013222241852\n",
      "Num_topics: 36\n",
      "\tPerplexity: -19.77095513190926\n",
      "Num_topics: 37\n",
      "\tPerplexity: -20.123797572691057\n",
      "Num_topics: 38\n",
      "\tPerplexity: -20.51349606725279\n",
      "Num_topics: 39\n",
      "\tPerplexity: -20.76670097329737\n",
      "Num_topics: 40\n",
      "\tPerplexity: -21.26707324272723\n",
      "Num_topics: 41\n",
      "\tPerplexity: -21.096477641760686\n",
      "Num_topics: 42\n",
      "\tPerplexity: -21.94739454622642\n",
      "Num_topics: 43\n",
      "\tPerplexity: -22.26531549968281\n",
      "Num_topics: 44\n",
      "\tPerplexity: -22.54616148627301\n",
      "Num_topics: 45\n",
      "\tPerplexity: -23.077714703159298\n",
      "Num_topics: 46\n",
      "\tPerplexity: -23.568460934008268\n",
      "Num_topics: 47\n",
      "\tPerplexity: -24.086332987493286\n",
      "Num_topics: 48\n",
      "\tPerplexity: -24.37538298003014\n",
      "Num_topics: 49\n",
      "\tPerplexity: -24.43163360254849\n",
      "927.2894132137299\n"
     ]
    }
   ],
   "source": [
    "# run perplexity test\n",
    "%%time\n",
    "perplexities = []\n",
    "for n in range(1,50):\n",
    "    print('Num_topics:', n)\n",
    "    lda = LdaModel(tfidf_docs, num_topics=n, id2word=dictionary, passes=10)\n",
    "    perplexity = lda.log_perplexity(tfidf_docs)\n",
    "    print('\\tPerplexity:', perplexity)\n",
    "    perplexities.append((n,perplexity))"
   ]
  },
  {
   "cell_type": "code",
   "execution_count": 196,
   "id": "21c47f77-f654-4165-8d3d-6ca9df0c3192",
   "metadata": {},
   "outputs": [
    {
     "data": {
      "image/png": "[encoded data removed]",
      "text/plain": [
       "<Figure size 432x288 with 1 Axes>"
      ]
     },
     "metadata": {
      "needs_background": "light"
     },
     "output_type": "display_data"
    },
    {
     "name": "stdout",
     "output_type": "stream",
     "text": [
      "CPU times: user 183 ms, sys: 107 ms, total: 290 ms\n",
      "Wall time: 904 ms\n"
     ]
    }
   ],
   "source": [
    "%%time\n",
    "plt.plot([p[0] for p in perplexities],[math.e**p[1] for p in perplexities])\n",
    "plt.show()"
   ]
  },
  {
   "cell_type": "code",
   "execution_count": 214,
   "id": "0c4dc364-6fd7-4cbb-abeb-78ca27e89c06",
   "metadata": {
    "tags": []
   },
   "outputs": [
    {
     "name": "stdout",
     "output_type": "stream",
     "text": [
      "0  eurovision contest song steelwork kalush orchestra band parade ebu turin\n",
      "1  oksana navalny corbyn medvedchuk borough sheeran topolya emma antytila remnant\n",
      "2  bush lysychansk coventry bowen dr. sibley ghost archer slovyansk birth\n",
      "3  iaea pet chernobyl grossi reactor monastery energoatom lgbt radiation exclusion\n",
      "4  javid gould conscription ecclestone chicken sajid endeavour statue mi-24 questionnaire\n",
      "5  simmons fabrication okonjo iweala forecast urdd burak oecd melinda grandchild\n",
      "6  mr uk city nato war bbc putin kyiv us zelensky\n",
      "7  kateryna venediktova sasha hacker orthodox nebenzia fossil georgieva malpass ballet\n",
      "8  cup play hampden stadium ambulance player art uefa szmidt mykolaiv\n",
      "9  israel jewish holocaust jews bennett israeli epic fortnite slovenian xbox\n",
      "10  lysychansk orban serhiy von leyen der gazprom app cup embargo\n",
      "11  wales welsh sponsor cardiff moskva easter sponsorship renault evil housing\n"
     ]
    }
   ],
   "source": [
    "topicKeywords = dict()\n",
    "for topic, wordProbStr in lda.show_topics(num_topics=15):\n",
    "    keyStr = ''\n",
    "    for wordStr in [w.strip() for w in wordProbStr.split('+')]:\n",
    "        prob = wordStr.split('*')[0]\n",
    "        wordID = wordStr.split('*')[1].replace('\"','')\n",
    "        # token = dictionary[int(wordID)]\n",
    "        # keyStr = keyStr + f'+{prob}*{wordID}'\n",
    "        keyStr = keyStr + ' ' + wordID\n",
    "    topicKeywords[topic] = keyStr\n",
    "    print(topic, keyStr)"
   ]
  },
  {
   "cell_type": "code",
   "execution_count": 215,
   "id": "7f4c3591-0768-4340-a429-2a1e8b66e4fc",
   "metadata": {},
   "outputs": [
    {
     "name": "stdout",
     "output_type": "stream",
     "text": [
      " eurovision contest song steelwork kalush orchestra band parade ebu turin\n",
      "MOSCOW (Sputnik) - The Ukrainian band Kalush Orchestra with their song \" Stefania\" won the Eurovision Song Contest 2022, official voting results read. According to final voting results, Ukraine got 631 points. The United Kingdom, represented by Sam Ryder, came second with 466 points, while Spain, represented by Chanel, finished third with 459 points. The European Broadcasting Union (EBU) announced on February 25 that Russia will not participate in the Eurovision Song Contest in 2022 due to Moscow's military operation in Ukraine. Eurovision 2022 was held in the Italian city of Turin on May 10-14.\n",
      "\n",
      " oksana navalny corbyn medvedchuk borough sheeran topolya emma antytila remnant\n",
      "A Ukrainian band turned soldiers have received a message of support from musician Ed Sheeran. Sheeran is performing at a benefit concert for Ukraine in Birmingham next week, and band Antytila reached out to him via TikTok while dressed in combat gear in Kyiv. In their message, the group asked to appear remotely at the show, although it is so far unclear whether that will happen. Sheeran told them he \"can't wait\" to listen to their music, and passed on support for both the band and the Ukrainian people. Concert for Ukraine takes place at the NEC on Tuesday 29 March and will also feature Camila Cabello, Gregory Porter and Snow Patrol. It will be shown on ITV. Proceeds from the concert will go to the Disasters Emergency Committee's Ukraine Humanitarian appeal.\n",
      "\n",
      " bush lysychansk coventry bowen dr. sibley ghost archer slovyansk birth\n",
      "The TV anchor, who like the Ukrainian president is also Jewish, was surprised by how easy it was for him to get all the supplies necessary for Passover rituals during his trip to Ukraine in April. CNN Anchor Jake Tapper has shared details of his trip to Ukraine in April, amid the Russian special operation there, recalling namely that he had a chance to gift a box of matzah, one of the necessary components for celebrating Passover, to Volodymyr Zelensky during an interview with him. The latter presumably welcomed the gift despite being preoccupied with other matters at the time. Talking to Stephen Colbert on his \"The Late Show\", Tapper, who like Zelensky is Jewish, also noted that he had to celebrate Passover alone and away from home during the two-week trip to Ukraine. And, to his great surprise, Tapper managed to find a local orthodox rabbi, who hooked him up on all the supplies necessary for the Passover Seder, including matzah. \"Believe it or not, there is a local Orthodox rabbi. There is one everywhere. When they land on Mars, there’s going to be a [Chabad] Lubavitcher rabbi,\" Tapper confided with Colbert, referring to the Chabad-Lubavitch Hasidic movement that supports and helps Jews, including secularised ones, around the world. Tapper later admitted he was not sure if Zelensky himself observes the traditional Jewish rituals, where he would need matzah, but noted that he nonetheless thanked him for the gift.\n",
      "\n",
      " iaea pet chernobyl grossi reactor monastery energoatom lgbt radiation exclusion\n",
      "Each of the almost four million refugees who have fled Ukraine so far has their own story, the threads of their past lives, their escape routes and their current places of shelter all interwoven. The BBC's Nick Thorpe met a family who found shelter in a Carpathian monastery in north-east Romania – living amongst monks, until one day they can return home to Kharkiv in Ukraine. Produced, filmed and edited by Sira Thierij. Drone filming by Ion Holbein.\n",
      "\n",
      " javid gould conscription ecclestone chicken sajid endeavour statue mi-24 questionnaire\n",
      "It is sometimes impossible to wrap one's mind around the nature of viral trends. While some of them are fun games like Wordle or silly lipsync videos, others are sometimes outright dangerous (remember the crate challenge? Forget it!) or related to serious issues like health and politics... in their own very special way. It looks like it is in bad taste to trust Russia when it says it is not planning to invade neighbouring countries, so the notorious \"war in Ukraine\" narrative is still being pushed. Moscow has already faced different kinds of accusations, but it took an unexpected turn when netizens flooded to different social media platforms... literally asking \"Vladdy Daddy\" not to start a war. It all started on Instagram, with one user deciding to screen-record comments on an unofficial account of Vladimir Putin calling on \"Vladdy Daddy\" not to start a war. Then TikTok skyrocketed it to trends, with the video swiftly reaping over a million views. @astridszarek Vladdy daddy 💀💀💀 #russia #ukraine #vladimirputin #vladdydaddy #war #ww3 #putin ♬ Rasputin (Single Version) - Boney M. Other TikTokers immediately grasped the challenge. Because apparently, this is how Generation Z tries to save the world from \"World War III\". @yourdadspphole i love gen z ❤️ #ww3 #putin #vladdydaddy #instagram ♬ Rasputin (Single Version) - Boney M. Ironically, the TikTok videos on \"Vladdy Daddy\" feature a song by Bonny M called \"Rasputin\" - a popular viral soundtrack for a variety of short videos, not necessarily (if at all) political. One netizen wondered whether the account that the netizens were spamming was \"even his official\" one (the answer is no, because neither Putin nor the Kremlin have official pages on Instagram). However, the Russian government is represented on Twitter - and this is where netizens eventually went, spamming the comment sections of every other tweet. How aptly would the words \"Vladdy Daddy\" look in the comments beneath a press release of a conversation between the Kremlin and the Elysee palace? As if anyone cares. Some of the comments were apparently translated into Russian - which did not make them understandable or any less bizarre. For example, some people pledged to \"be a good kitten\", and others asked \"Vladdy Daddy\" not to \"invade Ukraine\" because they had a \"wife and cats\". Putin stopp🥺🥺🥺🥺🥺this isn’t you🥺🥺🥺❤️💕💕❤️💕💕💗💗look me in the eyes🥺don’t listen to Ukrain 🥺🥺 vladdy daddy don’t let ur emotions take control🥺💗💕💗You’re better than this🥺🥺🥺— Camilo’s girlfriend (@P_ayge) January 28, 2022 vlady daddy please dont attack ukraine and cause war i literally still havent felt real love— di 𝟤.𝟢 (@explicitzzle) January 26, 2022 Hey daddy i left a lil something in the dms🤪❤️ should be enough for a non aggression pact baby!?!!🥰🥺— jjatr (@jjjjjjatr) January 28, 2022 Others were a bit more articulate. Hi!To me I concern for president of Russia. Kindly don't make at war in Ukraine. Make some best diplomatic decisions to stop making a war.— sharvin (@sharvindoblas) January 29, 2022 Some observers have already suggested that this looks more like a targeted media campaign adapted to the meme-loving Internet community rather than just a weird viral movement by Generation Z. Whatever the origin behind the bizarre social media flood is, the Russian president, along with multiple other top government officials in Moscow, has repeatedly stressed that there are no plans to attack Ukraine.\n",
      "\n",
      " simmons fabrication okonjo iweala forecast urdd burak oecd melinda grandchild\n",
      "A friend of the US journalist killed while working in Ukraine has spoken to the BBC about Brent Renaud. Mea Dols de Jong remembered Brent as generous, smart and someone who would always help their colleagues. She told the BBC she last spoke to him four days ago, and that he was excited to work on the documentary in Ukraine.\n",
      "\n",
      " mr uk city nato war bbc putin kyiv us zelensky\n",
      "Watch: Warning shots are fired to disperse crowds trying to flee at Kyiv train station A defiant Ukrainian President Volodymyr Zelensky has urged European countries to do more to help as he urged his citizens to halt Russia's invasion. The second day of fighting saw tanks enter the capital, Kyiv, for the first time. Ukrainian officials said they have handed out 18,000 guns to volunteers, as well as issuing instructions on how to make petrol bombs. Analysts suggest Russia's advance has been slowed by fierce resistance. A senior US official told Reuters news agency that Russia had encountered more resistance than anticipated, robbing the Russian force of momentum. Volunteers with no combat experience have been seen queueing to join the Ukrainian defence, while age restrictions for joining the army have been dropped. The UK's Chief of Defence Intelligence, Sir Jim Hockenhull, said that Russian forces continue to advance towards the capital - but that Ukrainian Armed Forces \"continue to offer strong resistance, focusing on the defence of key cities\". Russia is continuing its assault from the north, south and east. The US, UK and EU have all levied financial punishment on Moscow, but stopped short of removing Russia from the international banking system, Swift. However, Mr Zelensky said Western nations - and nearby Europe in particular - must go further and \"act without delay\". \"Europe has enough strength to stop this aggression,\" he said. \"The columns of tanks and the air strikes are very similar to what Europe saw a long time ago, during WW2 - something about which it said 'never again',\" he said. \"But here it is, again. Now, in 2022. 75 years after World War Two ended.\" He said all counter-measures must be considered - including throwing Russia out of Swift, imposing visa bans and closing airspace to Russia. The Ukrainian president's appeal came as Russia offered talks with Ukraine for the first time since the crisis began, but under restrictive conditions. Mr Zelensky has been seeking talks with Vladimir Putin since before the invasion began. Kremlin spokesman Dmitry Peskov said Russia was prepared for talks with Ukraine, but only in the context of \"demilitarisation\" and about Ukraine's \"neutral status\". Russia has said that Ukraine can never be allowed to join the Nato military alliance, a long-held ambition of Ukraine's. Russia's Foreign Minister, Sergei Lavrov, said earlier that no talks could take place until Ukraine's military laid down its arms. But President Zelensky has given no indication that he would accept talks under those conditions. Addressing the armed forces, Mr Zelensky said: \"Stand strong. You are all that we have. You are all that is protecting our state.\" Nato Secretary General Jens Stoltenberg, meanwhile, said the alliance would continue to supply weapons to Ukraine and would is deploying thousands of troops to Europe to shore up defences of member nations. Vladimir Putin responded with his own speech, suggesting that Ukrainian forces should turn against and overthrow Mr Zelensky's government. Repeating an often-used baseless allegation that Mr Zelensky - a Jewish man - is a \"neo-Nazi\", Mr Putin also labelled the Ukrainian leadership as terrorists and drug dealers. He accused Ukraine of installing missiles and other heavy weaponry in civilian buildings, using residents as human shields, which he said was based on advice from foreign - particularly US - advisers. But global human rights group Amnesty International said it was Russia, not Ukraine, that was showing \"a blatant disregard for civilian lives\". The charity said that Mr Putin's claim of precise strikes on military targets was false, and Russia was \"using ballistic missiles and other explosive weapons with wide area effects in densely populated areas\". Strikes have hit hospitals, among other targets that Amnesty said \"can constitute war crimes\". Nick Beake, BBC News, Kyiv As we head out on to the streets of Kyiv, we find men in trainers and jeans with rifles slung across their backs - manning checkpoints, or hidden in the trees on the side of the road behind anti-tank weapons. As we push on further, we find professional soldiers braced for a last stand. They are accompanied by Ukrainian artillery and tanks facing the Russian position, less than 30km (19 miles) from the heart of the capital. And we soon find signs of the battle drawing even nearer with a truck ablaze in the middle of the road. Around the corner, my colleague Abdujalil Abdurasulov and I find Olena's family, a group of five. They've got a flat tyre at the worst possible time. They frantically try to change it as they bundle a baby into the back seat. \"We're really afraid\", Olena's mother tells us, before another loud bang silences everyone. This video can not be played The BBC’s Nick Beake and his team met one family trying to flee the capital As I ask her what she thinks of President Putin's attack on her country, an even louder blast pierces the air. She lifts her arms up and says: \"You hear that, that was him.\" As we drive on, we spot soldiers lined along wide ridges crossing the river Dnipro. Some Ukrainian snipers are lying on their fronts, looking down their sights. We see the faces of young men, understandably anxious. There is an undoubted fear it could be just a matter of hours before the Russians confront them face to face and try to seize their capital. Tens of thousands are believed to have fled from the major cities. The United Nations refugee agency estimated on Thursday that more than 100,000 people had left their homes, and up to five million could be displaced by the invasion over time. European nations are preparing for an influx of refugees, and a steady stream of people - mainly families - have arrived by car and on foot at the borders of neighbouring EU members Poland and Hungary. The UN's refugee commissioner, Filippo Grandi, said more than 50,000 had left the country in the previous 48 hours - most to Poland and Moldova. The European Union agreed to freeze personal assets belonging to Mr Putin and Mr Lavrov - though it is not clear if either have significant assets inside the EU. The UK said it would also put personal sanctions on both men \"imminently\", but did not provide details. Later in the day, the United States also said it would take similar action against both men. White House Press Secretary Jen Psaki said that precise details would come later, but that a travel ban blocking entry to the US would be a standard part of such sanctions. Russia has also been banned from cultural and sporting events as a result of the invasion. It was excluded from the 2022 Eurovision Song Contest, with organisers saying Russia's presence could being the competition into disrepute. The Formula 1 motor race in Sochi, Russia in September has now been cancelled, and Paris will host the European football Champions League final, not St Petersburg.\n",
      "\n",
      " kateryna venediktova sasha hacker orthodox nebenzia fossil georgieva malpass ballet\n",
      "Desmond Chinaza Muokwudo, a 30-year-old Nigerian student who has recently fled Ukraine, spent 11 years saving up for an education in Europe. He finally enrolled at university last year and had only spent three months in Ukraine when Russia launched its full-scale invasion. Mr Muokwudo is one of the estimated 16,000 African students who were living in the country and are now scrambling to continue their studies. Produced by Soraya Ali\n",
      "\n",
      " cup play hampden stadium ambulance player art uefa szmidt mykolaiv\n",
      "While the world worries about a possible Russian invasion of Ukraine, communities in the east of the country are counting the cost of a conflict that has been dragging on for years. Since 2014, around 14,000 people have been killed, including both soldiers and civilians. The parents of Valery Hierokin, one of those killed on the front line, told the BBC's Orla Guerin how their son may have anticipated his own death. Video produced by Wietske Burema, Abdujalil Abdurasulov Camera: Goktay Koraltan\n",
      "\n",
      " israel jewish holocaust jews bennett israeli epic fortnite slovenian xbox\n",
      "Expat Stuart McKenzie has told the BBC why he is looking to get his children out of Ukraine following new advice from the UK government.\n",
      "\n",
      " lysychansk orban serhiy von leyen der gazprom app cup embargo\n",
      "Russian forces have moved away from Ukraine's capital, but those defending the city remain in place. The fighters have been celebrating Easter, with local bakers sending cakes for them to enjoy. This video has been optimised for mobile viewing on the BBC News app. The BBC News app is available from the Apple App Store for iPhone and Google Play Store for Android.\n",
      "\n",
      " wales welsh sponsor cardiff moskva easter sponsorship renault evil housing\n",
      "This video has been removed for rights reasons. Stephen Graham and Benedict Cumberbatch were seen on the red carpet at the Bafta Awards 2022 wearing badges and ribbons in the national colours of Ukraine. Cumberbatch, who is nominated for best actor for the western film Power of the Dog, told the BBC he was \"standing in solidarity with brothers and sisters in Ukraine\" but said more was needed than \"small gestures\". Stephen Graham added it was \"vital\" to show solidarity for what the people of Ukraine were going through.\n",
      "\n"
     ]
    }
   ],
   "source": [
    "#Create a dictionary, with topic ID as the key, and the value is a list of tuples (docID, probability of this particular topic for the doc) \n",
    "\n",
    "topic_dict = {i: [] for i in range(lda.num_topics)}  # Assuming you have 20 topics. \n",
    "\n",
    "#Loop over all the documents to group the probability of each topic\n",
    "for docID in range(len(tfidf_docs)):\n",
    "    topic_vector = lda[tfidf_docs[docID]]\n",
    "    for topicID, prob in topic_vector:\n",
    "        topic_dict[topicID].append((docID, prob))\n",
    "\n",
    "#Then, you can sort the dictionary to find the top 20 documents\n",
    "for topicID, probs in topic_dict.items():\n",
    "    print(topicKeywords[topicID].replace('+',' + ').replace('*',' * '))\n",
    "    doc_probs = sorted(probs, key = lambda x: x[1], reverse = True)\n",
    "    docs_top_20 = [dp[0] for dp in doc_probs[:20]]\n",
    "    print(texts[docs_top_20[0]])\n",
    "    print()"
   ]
  },
  {
   "cell_type": "code",
   "execution_count": null,
   "id": "04d859dd-5ffa-4aca-8f49-3439088a2a80",
   "metadata": {},
   "outputs": [],
   "source": []
  }
 ],
 "metadata": {
  "kernelspec": {
   "display_name": "Python 3 (ipykernel)",
   "language": "python",
   "name": "python3"
  },
  "language_info": {
   "codemirror_mode": {
    "name": "ipython",
    "version": 3
   },
   "file_extension": ".py",
   "mimetype": "text/x-python",
   "name": "python",
   "nbconvert_exporter": "python",
   "pygments_lexer": "ipython3",
   "version": "3.10.4"
  }
 },
 "nbformat": 4,
 "nbformat_minor": 5
}
