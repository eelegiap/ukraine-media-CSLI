{
 "cells": [
  {
   "cell_type": "code",
   "execution_count": 53,
   "id": "e434bf76-31f9-4a7a-86c2-7e36749066a4",
   "metadata": {},
   "outputs": [],
   "source": [
    "import random\n",
    "import numpy as np\n",
    "import pandas as pd\n",
    "import time\n",
    "import re\n",
    "import datetime\n",
    "import os\n",
    "import matplotlib.pyplot as plt"
   ]
  },
  {
   "cell_type": "code",
   "execution_count": 54,
   "id": "2ee4e7c1-c9bc-449d-8593-11c6fbb1df79",
   "metadata": {},
   "outputs": [
    {
     "name": "stdout",
     "output_type": "stream",
     "text": [
      "foxnews.com_07-12-2022.xlsx\n",
      "aljazeera.com_07-11-2022.xlsx\n",
      "sputniknews.com_07-12-2022.xlsx\n",
      "cnn.com_07-12-2022.xlsx\n",
      "rt.com_07-12-2022.xlsx\n",
      "plenglish.com_07-12-2022.xlsx\n",
      "english.pravda.ru_07-12-2022.xlsx\n",
      "tass.com_07-13-2022.xlsx\n",
      "punchng.com_07-12-2022.xlsx\n",
      ".ipynb_checkpoints\n",
      "en.people.cn_07-11-2022.xlsx\n",
      "bbc.co.uk_07-12-2022.xlsx\n"
     ]
    }
   ],
   "source": [
    "recordsDict = dict()\n",
    "for file in os.listdir('outletSpecificData/upToDateData/'):\n",
    "    print(file)"
   ]
  },
  {
   "cell_type": "code",
   "execution_count": 56,
   "id": "865f3e60-404b-4ec3-b15e-fa37befc7bbe",
   "metadata": {},
   "outputs": [],
   "source": [
    "recordsDict = dict()\n",
    "outletsOfInterest = ['sputniknews.com_07-12-2022.xlsx', 'bbc.co.uk_07-12-2022.xlsx']\n",
    "for file in outletsOfInterest:\n",
    "    df = pd.read_excel(f'outletSpecificData/upToDateData/{file}', index_col=0)  \n",
    "    df['dateSeen'] = pd.to_datetime(df['dateSeen'], unit='s', utc=True).dt.tz_localize(None)\n",
    "    records = df.to_dict('records')\n",
    "    recordsDict[file] = records"
   ]
  },
  {
   "cell_type": "code",
   "execution_count": 57,
   "id": "80ae0450-7677-4f3d-ad94-492f13f7ea23",
   "metadata": {},
   "outputs": [
    {
     "data": {
      "text/plain": [
       "{'newsOutlet': 'sputniknews.com',\n",
       " 'dateSeen': Timestamp('2022-01-23 08:00:00'),\n",
       " 'url': 'https://sputniknews.com/20220123/west-using-ukraine-as-instrument-of-advancing-regional-interests--russian-foreign-ministry-1092472506.html',\n",
       " 'title': 'West Using Ukraine as Instrument of Advancing Regional Interests - Russian Foreign Ministry',\n",
       " 'language': 'English',\n",
       " 'sourceCountry': 'Russia',\n",
       " 'text': 'MOSCOW (Sputnik) - The West is using Kiev as an instrument in order to advance its own interests in the region and influence certain processes, the Russian Foreign Ministry’s spokeswoman Maria Zakharova said. \"Ukraine is perceived by the West as an instrument of influence, of carrying out its interests in the region, destabilizing the situation, endlessly accusing us [Russia],\" Zakharova said in an interview with the Izvestia newspaper. She emphasized that Western countries need reasons to constantly justify anti-Russian sanctions and are using Ukraine in that respect despite the fact that there is no evidence of any plans to Russian \"aggression.\" \"So they took Ukraine as a platform for experiments, the unfortunate Ukrainian people - multinational, by the way,\" Zakharova said. The Russian Foreign Ministry’s spokeswoman reiterated that Moscow is waiting for a response from the US to its proposals on security guarantees. \"We have submitted written proposals to our Western partners, first of all the United States. We have been very open in our actions ... Now we have responded immediately to their desire to hold some kind of clarification meeting. It was held despite the schedule... We are showing absolute cooperation, we are waiting for written answers to each of the points,\" Zakharova told Izvestia. She stressed that the meeting held between Russian Foreign Minister Sergey Lavrov and US Secretary of State Antony Blinken in Geneva on Friday was organized at the initiative of the US. \"When I approached American journalists [in Geneva], they asked me - the State Department pool: what do we expect from the meeting? And I told them that the meeting was requested by the Americans, and for them, American journalists, it was a surprise. They said: they didn\\'t tell us anything…,\" Zakharova recalled. On Friday, Lavrov and Blinken met in Geneva and the US secretary promised to provide a written response to Moscow\\'s proposals on security guarantees next week. Western countries have been accusing Russia of allegedly deploying troops near the Ukrainian border in preparation for \"aggressive action.\" Moscow has repeatedly denied these accusations, pointing to NATO\\'s military activity near the Russian borders, which it deems a threat to its national security. Russia has also affirmed that it has the right to move forces within its own territory.'}"
      ]
     },
     "execution_count": 57,
     "metadata": {},
     "output_type": "execute_result"
    }
   ],
   "source": [
    "random.choice(recordsDict['sputniknews.com_07-12-2022.xlsx'])"
   ]
  },
  {
   "cell_type": "code",
   "execution_count": 62,
   "id": "6e423ced-d2c5-4327-a6af-0e99f13a5b8c",
   "metadata": {},
   "outputs": [
    {
     "name": "stdout",
     "output_type": "stream",
     "text": [
      "sputniknews.com_07-12-2022.xlsx had 28 recs\n",
      "sputniknews.com_07-12-2022.xlsx had 119961 chars\n"
     ]
    }
   ],
   "source": [
    "# get Sputnik and BBC records about Bucha\n",
    "relevantRecs = []\n",
    "titleRecs = []\n",
    "for outlet in ['sputniknews.com_07-12-2022.xlsx']:\n",
    "    outletCt = 0\n",
    "    charCt = 0\n",
    "    for rec in recordsDict[outlet]:\n",
    "        dateSeen = rec['dateSeen'].tz_localize(None)\n",
    "        if type(rec['text']) != str:\n",
    "            continue\n",
    "        if 'Bucha' in rec['title']:\n",
    "            titleRecs.append(rec)\n",
    "        elif 'Bucha' in rec['text']:\n",
    "            # if dateSeen >= pd.Timestamp(2022, 4, 1) and dateSeen <= pd.Timestamp(2022, 4, 30):\n",
    "                relevantRecs.append(rec)\n",
    "                outletCt += 1\n",
    "                charCt += len(rec['text'])\n",
    "        else:\n",
    "            continue\n",
    "    print(outlet, 'had', outletCt, 'recs')\n",
    "    print(outlet, 'had', charCt, 'chars')"
   ]
  },
  {
   "cell_type": "code",
   "execution_count": 64,
   "id": "e5de7224-4826-403c-91a0-ac22e1fbfaba",
   "metadata": {},
   "outputs": [
    {
     "data": {
      "text/plain": [
       "{'newsOutlet': 'sputniknews.com',\n",
       " 'dateSeen': Timestamp('2022-04-05 07:00:00'),\n",
       " 'url': 'https://sputniknews.com/20220405/russia-slams-kievs-bucha-provocation-1094482404.html',\n",
       " 'title': 'Russia Slams Kiev Bucha Provocation',\n",
       " 'language': 'English',\n",
       " 'sourceCountry': 'Russia',\n",
       " 'text': \"On today’s episode of The Backstory, host Lee Stranahan discussed current events including former President Trump endorsing Sarah Palin for Congress, and Ukraine stopping the recruiting of foreign fighters. GUEST Scott Ritter - Former UN Weapons Inspector & WMD Whistleblower | Ukraine Lacks Evidence in Bucha, Ned Price, and The Information War Tyler Nixon - Attorney, Media Relations Specialist | Impeachment for Biden, Kamala Harris, and Sarah Palin in Congress In the first hour, Lee and Carmine Sabia spoke with Scott Ritter about battlefield footage, war crimes in Ukraine, and NATO. Scott discussed the lack of evidence against Russia in the Bucha provocation and the Department of Defense unable to corroborate evidence. Scott spoke about Russian intelligence and Azov battalion videos on social media. In the second hour, Lee and Carmine Sabia spoke with Tyler Nixon about Biden's corruption, President Biden's energy policy, and voter fraud. Tyler talked about election reform and the push for paper ballots. Tyler spoke about the crisis in Ukraine and President Biden using the conflict to distract from his corruption. We'd love to get your feedback at radio@sputniknews.com The views and opinions expressed in this programme are those of the speakers and do not necessarily reflect the position of Sputnik.\"}"
      ]
     },
     "execution_count": 64,
     "metadata": {},
     "output_type": "execute_result"
    }
   ],
   "source": [
    "random.choice(titleRecs)"
   ]
  },
  {
   "cell_type": "code",
   "execution_count": 67,
   "id": "da3b43b8-867d-4eb7-baa7-69929a5874d0",
   "metadata": {},
   "outputs": [],
   "source": [
    "df = pd.DataFrame.from_records(titleRecs + random.sample(relevantRecs,9))\n",
    "todaysdate = datetime.datetime.fromtimestamp(time.time()).strftime('%m-%d-%Y')\n",
    "df.to_excel(f\"LIWCdata/Sputnik_BUCHA_{todaysdate}.xlsx\")"
   ]
  },
  {
   "cell_type": "code",
   "execution_count": null,
   "id": "7428fd51-ecbc-4959-ba59-7bb69ecc5ff1",
   "metadata": {},
   "outputs": [],
   "source": []
  }
 ],
 "metadata": {
  "kernelspec": {
   "display_name": "Python 3 (ipykernel)",
   "language": "python",
   "name": "python3"
  },
  "language_info": {
   "codemirror_mode": {
    "name": "ipython",
    "version": 3
   },
   "file_extension": ".py",
   "mimetype": "text/x-python",
   "name": "python",
   "nbconvert_exporter": "python",
   "pygments_lexer": "ipython3",
   "version": "3.9.7"
  }
 },
 "nbformat": 4,
 "nbformat_minor": 5
}
